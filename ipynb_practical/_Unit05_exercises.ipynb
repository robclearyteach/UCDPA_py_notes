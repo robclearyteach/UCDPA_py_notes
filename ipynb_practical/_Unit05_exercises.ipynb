{
 "cells": [
  {
   "cell_type": "markdown",
   "metadata": {},
   "source": [
    "# Exercises from the [lab doc](https://learn.ucdpa.ie/pluginfile.php/136087/mod_resource/content/1/Unit_5_Lab_Loops.pdf)"
   ]
  },
  {
   "cell_type": "code",
   "execution_count": null,
   "metadata": {},
   "outputs": [],
   "source": [
    "# 1.\n",
    "# Write a Python program that calculates the sum of all \n",
    "# numbers from 1 to a given number(inclusive). \n",
    "# Use a for loop to iterate through the numbers."
   ]
  },
  {
   "cell_type": "code",
   "execution_count": null,
   "metadata": {},
   "outputs": [],
   "source": []
  },
  {
   "cell_type": "code",
   "execution_count": null,
   "metadata": {},
   "outputs": [],
   "source": [
    "# 2.\n",
    "# Write a Python program that prints all even \n",
    "# numbers from 1 to a given number (inclusive).\n",
    "# Use a while loop to iterate through the numbers."
   ]
  },
  {
   "cell_type": "code",
   "execution_count": null,
   "metadata": {},
   "outputs": [],
   "source": []
  },
  {
   "cell_type": "code",
   "execution_count": null,
   "metadata": {},
   "outputs": [],
   "source": [
    "# 3.\n",
    "# Write a Python program that calculates the factorial of a \n",
    "# given number using a for loop."
   ]
  },
  {
   "cell_type": "code",
   "execution_count": null,
   "metadata": {},
   "outputs": [],
   "source": []
  },
  {
   "cell_type": "code",
   "execution_count": null,
   "metadata": {},
   "outputs": [],
   "source": [
    "# 4.\n",
    "# Write a Python program that takes a string as input and \n",
    "# prints the reverse of that string\n",
    "# using a while loop."
   ]
  },
  {
   "cell_type": "code",
   "execution_count": null,
   "metadata": {},
   "outputs": [],
   "source": []
  },
  {
   "cell_type": "code",
   "execution_count": null,
   "metadata": {},
   "outputs": [],
   "source": [
    "# 5.\n",
    "# Write a Python program that prints all prime numbers \n",
    "# from 2 to a given number (inclusive)\n",
    "# using a for loop."
   ]
  },
  {
   "cell_type": "code",
   "execution_count": null,
   "metadata": {},
   "outputs": [],
   "source": []
  },
  {
   "cell_type": "markdown",
   "metadata": {},
   "source": [
    "# Challenges..."
   ]
  },
  {
   "cell_type": "code",
   "execution_count": null,
   "metadata": {},
   "outputs": [],
   "source": [
    "# 1.\n",
    "# (Count positive and negative numbers and compute the average of numbers) \n",
    "# Write a program that reads an unspecified number of integers, \n",
    "# determines how many positive and negative values have been read, \n",
    "# and computes the total and average of the input values (not counting zeros). \n",
    "# Your program ends with the input 0. \n",
    "# Display the average as a floating-point number. Here is a sample run: \n",
    "#See lab doc"
   ]
  },
  {
   "cell_type": "code",
   "execution_count": null,
   "metadata": {},
   "outputs": [],
   "source": []
  },
  {
   "cell_type": "code",
   "execution_count": null,
   "metadata": {},
   "outputs": [],
   "source": [
    "# 2.\n",
    "# (Conversion from kilograms to pounds and pounds to kilograms) \n",
    "# Write a program that displays the following two tables side by side \n",
    "# [Note that 1 kilogram is 2.2 pounds and that 1 pound is .45 kilograms]\n",
    "# Your solution should have 199 rows.\n",
    "#See lab doc"
   ]
  },
  {
   "cell_type": "code",
   "execution_count": null,
   "metadata": {},
   "outputs": [],
   "source": []
  },
  {
   "cell_type": "code",
   "execution_count": null,
   "metadata": {},
   "outputs": [],
   "source": [
    "# 3.\n",
    "# (Display a pyramid) \n",
    "# Write a program that prompts the user to enter \n",
    "# an integer from 1 to 15 and displays a pyramid, \n",
    "# as shown in the following sample run: \n",
    "#See lab doc"
   ]
  }
 ],
 "metadata": {
  "kernelspec": {
   "display_name": "Python 3 (ipykernel)",
   "language": "python",
   "name": "python3"
  },
  "language_info": {
   "codemirror_mode": {
    "name": "ipython",
    "version": 3
   },
   "file_extension": ".py",
   "mimetype": "text/x-python",
   "name": "python",
   "nbconvert_exporter": "python",
   "pygments_lexer": "ipython3",
   "version": "3.9.12"
  }
 },
 "nbformat": 4,
 "nbformat_minor": 4
}
