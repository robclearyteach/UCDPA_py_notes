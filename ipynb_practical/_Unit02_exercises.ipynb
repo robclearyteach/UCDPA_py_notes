{
 "cells": [
  {
   "cell_type": "markdown",
   "metadata": {},
   "source": [
    "# Exercises from the [lab doc](https://learn.ucdpa.ie/pluginfile.php/133814/mod_resource/content/0/Unit_2_Lab_Elementry_Programming.pdf)"
   ]
  },
  {
   "cell_type": "code",
   "execution_count": null,
   "metadata": {},
   "outputs": [],
   "source": [
    "# (Convert Celsius to Fahrenheit) \n",
    "# Write a program that reads a Celsius temperature from the console and \n",
    "# converts it to Fahrenheit and displays the result. \n",
    "# The formula for the conversion is as follows: \n",
    "#       fahrenheit = (9 / 5) * celsius + 32\n",
    "#\n"
   ]
  },
  {
   "cell_type": "code",
   "execution_count": null,
   "metadata": {},
   "outputs": [],
   "source": [
    "# (Compute the volume of a cylinder) \n",
    "# Write a program that reads in the radius and length of a cylinder and \n",
    "# computes the area and volume using the following formulas: \n",
    "#   area = radius x radius x PI\n",
    "#   volume = area x length\n",
    "#\n"
   ]
  },
  {
   "cell_type": "code",
   "execution_count": null,
   "metadata": {},
   "outputs": [],
   "source": [
    "# (Convert feet into meters) \n",
    "# Write a program that reads a number in feet, converts it to meters, and \n",
    "# displays the result. \n",
    "#       One foot is 0.305 meters.  \n",
    "# Sample output:\n",
    "#   Enter a value for feet: 15\n",
    "#   15.0 feet is  4.575 meters\n",
    "#\n"
   ]
  }
 ],
 "metadata": {
  "kernelspec": {
   "display_name": "Python 3 (ipykernel)",
   "language": "python",
   "name": "python3"
  },
  "language_info": {
   "codemirror_mode": {
    "name": "ipython",
    "version": 3
   },
   "file_extension": ".py",
   "mimetype": "text/x-python",
   "name": "python",
   "nbconvert_exporter": "python",
   "pygments_lexer": "ipython3",
   "version": "3.9.12"
  }
 },
 "nbformat": 4,
 "nbformat_minor": 4
}
