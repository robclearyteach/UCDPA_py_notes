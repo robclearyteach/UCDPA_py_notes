{
 "cells": [
  {
   "cell_type": "markdown",
   "id": "2d5e30fa",
   "metadata": {},
   "source": [
    "# Exercises from the [lab doc](https://learn.ucdpa.ie/pluginfile.php/134151/mod_resource/content/0/Unit_3_Lab_Selections.pdf)"
   ]
  },
  {
   "cell_type": "code",
   "execution_count": null,
   "id": "b92bb6e0",
   "metadata": {},
   "outputs": [],
   "source": [
    "# 1.\n",
    "# Write a Python program that asks the user to enter their age.\n",
    "# If the age is greater than or equal to 18, \n",
    "# the program should display \"You are eligible to vote.\"\n",
    "# Otherwise, it should display \"You are not eligible to vote.\"\n"
   ]
  },
  {
   "cell_type": "code",
   "execution_count": null,
   "id": "7673627a",
   "metadata": {},
   "outputs": [],
   "source": []
  },
  {
   "cell_type": "code",
   "execution_count": null,
   "id": "eac5f6cb",
   "metadata": {},
   "outputs": [],
   "source": [
    "# 2.\n",
    "# Write a Python program that asks the user to enter their marks in a subject. \n",
    "# Based on the marks entered, \n",
    "# display the corresponding grade using the following criteria:\n",
    "# • Marks greater than or equal to 90: Grade A\n",
    "# • Marks between 80 and 89: Grade B\n",
    "# • Marks between 70 and 79: Grade C\n",
    "# • Marks between 60 and 69: Grade D\n",
    "# • Marks below 60: Grade F"
   ]
  },
  {
   "cell_type": "code",
   "execution_count": null,
   "id": "e77ba508",
   "metadata": {},
   "outputs": [],
   "source": []
  },
  {
   "cell_type": "code",
   "execution_count": null,
   "id": "7b500884",
   "metadata": {},
   "outputs": [],
   "source": [
    "# 3.\n",
    "# Write a Python program that asks the user to enter a number. \n",
    "# Determine if the number is even or odd, and \n",
    "# display an appropriate message."
   ]
  },
  {
   "cell_type": "code",
   "execution_count": null,
   "id": "509a1891",
   "metadata": {},
   "outputs": [],
   "source": []
  },
  {
   "cell_type": "code",
   "execution_count": null,
   "id": "74b85c6e",
   "metadata": {},
   "outputs": [],
   "source": [
    "# 4\n",
    "# Write a Python program that asks the user to enter a year. \n",
    "# Determine if the year is a leap year or not, and \n",
    "# display an appropriate message. \n",
    "# A leap year can be defined as any year that is\n",
    "# divisible by 4 but not divisible by 100, \n",
    "# except for years that are divisible by 400"
   ]
  },
  {
   "cell_type": "code",
   "execution_count": null,
   "id": "d27ab374",
   "metadata": {},
   "outputs": [],
   "source": []
  },
  {
   "cell_type": "code",
   "execution_count": null,
   "id": "d70675ce",
   "metadata": {},
   "outputs": [],
   "source": [
    "# 5.\n",
    "# Write a Python program that asks the user to enter three numbers. \n",
    "# Using selection statements only:\n",
    "# determine the largest number of the three and display it."
   ]
  },
  {
   "cell_type": "markdown",
   "id": "a075b085-99d8-4b16-8046-49717a4743b1",
   "metadata": {},
   "source": [
    "# Challenges..."
   ]
  },
  {
   "cell_type": "code",
   "execution_count": null,
   "id": "2ff1f876",
   "metadata": {},
   "outputs": [],
   "source": [
    "# 1.\n",
    "# (Game: learn addition) \n",
    "# Write a program that generates two integers under 100 and\n",
    "# prompts the user to enter the sum of these two integers. \n",
    "# The program should then report true if the answer is correct, false otherwise. \n",
    "# Sample output:\n",
    "#     What is 90 + 98? 188\n",
    "#     90 + 98 = 188 is True\n",
    "\n"
   ]
  },
  {
   "cell_type": "code",
   "execution_count": null,
   "id": "33903240",
   "metadata": {},
   "outputs": [],
   "source": []
  },
  {
   "cell_type": "code",
   "execution_count": null,
   "id": "44a11795",
   "metadata": {},
   "outputs": [],
   "source": [
    "# 2.\n",
    "# The US federal personal income tax is calculated based on the filing status and\n",
    "# taxable income. \n",
    "# There are four filing statuses: \n",
    "#     single filers, \n",
    "#     married filing jointly,\n",
    "#     married filing separately, and \n",
    "#     head of household. \n",
    "# Using the taxes.py file on the LMS complete the program based on the following rates.\n",
    "# (See table in lab-doc)"
   ]
  },
  {
   "cell_type": "code",
   "execution_count": null,
   "id": "a5623f36",
   "metadata": {},
   "outputs": [],
   "source": []
  }
 ],
 "metadata": {
  "kernelspec": {
   "display_name": "Python 3 (ipykernel)",
   "language": "python",
   "name": "python3"
  },
  "language_info": {
   "codemirror_mode": {
    "name": "ipython",
    "version": 3
   },
   "file_extension": ".py",
   "mimetype": "text/x-python",
   "name": "python",
   "nbconvert_exporter": "python",
   "pygments_lexer": "ipython3",
   "version": "3.9.12"
  }
 },
 "nbformat": 4,
 "nbformat_minor": 5
}
