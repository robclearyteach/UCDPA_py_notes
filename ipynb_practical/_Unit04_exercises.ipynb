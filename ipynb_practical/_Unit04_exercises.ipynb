{
 "cells": [
  {
   "cell_type": "markdown",
   "metadata": {},
   "source": [
    "# Exercises from the [lab doc](https://learn.ucdpa.ie/pluginfile.php/135408/mod_resource/content/0/Unit_4_Lab_Mathematical_Functions_Strings_Objects.pdf)"
   ]
  },
  {
   "cell_type": "code",
   "execution_count": null,
   "metadata": {},
   "outputs": [],
   "source": [
    "# 1.a\n",
    "# Create a Python function named \"calculate_area_of_circle\" that takes the\n",
    "# radius of a circle as an argument and returns the area of the circle. \n",
    "# Use the formula: \n",
    "#  area = π * radius^2."
   ]
  },
  {
   "cell_type": "code",
   "execution_count": null,
   "metadata": {},
   "outputs": [],
   "source": []
  },
  {
   "cell_type": "code",
   "execution_count": null,
   "metadata": {},
   "outputs": [],
   "source": [
    "# 1.b\n",
    "# Test your function by calling it with a radius of 5 and printing the result."
   ]
  },
  {
   "cell_type": "code",
   "execution_count": null,
   "metadata": {},
   "outputs": [],
   "source": []
  },
  {
   "cell_type": "code",
   "execution_count": null,
   "metadata": {},
   "outputs": [],
   "source": [
    "# 1.c\n",
    "# Create another Python function named \"calculate_hypotenuse\" that takes\n",
    "# the lengths of two sides of a right-angled triangle as arguments and \n",
    "# returns the length of the hypotenuse. \n",
    "# Use the formula: \n",
    "#   hypotenuse = sqrt(side1^2 +# side2^2), \n",
    "#   where sqrt() is the square root function - See 'import math'"
   ]
  },
  {
   "cell_type": "code",
   "execution_count": null,
   "metadata": {},
   "outputs": [],
   "source": []
  },
  {
   "cell_type": "code",
   "execution_count": null,
   "metadata": {},
   "outputs": [],
   "source": [
    "# 1.d\n",
    "# Test your function by calling it with \n",
    "# side1 = 3 and side2 = 4\n",
    "# Print the returned result.\n"
   ]
  },
  {
   "cell_type": "code",
   "execution_count": null,
   "metadata": {},
   "outputs": [],
   "source": []
  },
  {
   "cell_type": "code",
   "execution_count": null,
   "metadata": {},
   "outputs": [],
   "source": [
    "# 2.a\n",
    "# Create a Python string variable named \"sentence\" and \n",
    "# assign it the value \"Hello, World!\"."
   ]
  },
  {
   "cell_type": "code",
   "execution_count": null,
   "metadata": {},
   "outputs": [],
   "source": []
  },
  {
   "cell_type": "code",
   "execution_count": null,
   "metadata": {},
   "outputs": [],
   "source": [
    "# 2.b \n",
    "# Print the length of the string using the len() function.\n"
   ]
  },
  {
   "cell_type": "code",
   "execution_count": null,
   "metadata": {},
   "outputs": [],
   "source": []
  },
  {
   "cell_type": "code",
   "execution_count": null,
   "metadata": {},
   "outputs": [],
   "source": [
    "# 2.c \n",
    "# Print the string in uppercase using the upper() method.\n"
   ]
  },
  {
   "cell_type": "code",
   "execution_count": null,
   "metadata": {},
   "outputs": [],
   "source": []
  },
  {
   "cell_type": "code",
   "execution_count": null,
   "metadata": {},
   "outputs": [],
   "source": [
    "# 2.d\n",
    "# Create a new string variable named \"modified_sentence\" and \n",
    "# assign it the value of \"sentence\" with the \"Hello\" substring\n",
    "# replaced by \"Goodbye\".\n"
   ]
  },
  {
   "cell_type": "code",
   "execution_count": null,
   "metadata": {},
   "outputs": [],
   "source": []
  },
  {
   "cell_type": "code",
   "execution_count": null,
   "metadata": {},
   "outputs": [],
   "source": [
    "# 2.e\n",
    "# Print the modified sentence.\n"
   ]
  },
  {
   "cell_type": "code",
   "execution_count": null,
   "metadata": {},
   "outputs": [],
   "source": []
  },
  {
   "cell_type": "code",
   "execution_count": null,
   "metadata": {},
   "outputs": [],
   "source": [
    "# #2.f\n",
    "# Create a new string variable named \"reversed_sentence\" and \n",
    "# assign it the value of \"sentence\" reversed using slicing."
   ]
  },
  {
   "cell_type": "code",
   "execution_count": null,
   "metadata": {},
   "outputs": [],
   "source": []
  },
  {
   "cell_type": "code",
   "execution_count": null,
   "metadata": {},
   "outputs": [],
   "source": [
    "# 2.g\n",
    "# Print the reversed sentence."
   ]
  },
  {
   "cell_type": "code",
   "execution_count": null,
   "metadata": {},
   "outputs": [],
   "source": []
  },
  {
   "cell_type": "markdown",
   "metadata": {},
   "source": [
    "# Challenges..."
   ]
  },
  {
   "cell_type": "code",
   "execution_count": null,
   "metadata": {},
   "outputs": [],
   "source": [
    "# 1. \n",
    "# (Turtle: paint a smiley face)\n",
    "#  Write a program that paints a smiley face."
   ]
  },
  {
   "cell_type": "code",
   "execution_count": null,
   "metadata": {},
   "outputs": [],
   "source": []
  },
  {
   "cell_type": "code",
   "execution_count": null,
   "metadata": {},
   "outputs": [],
   "source": [
    "# 2.\n",
    "# (Turtle: draw shapes) Write a program that draws \n",
    "#a triangle, square, pentagon, hexagon, and octagon, \n",
    "# as shown below. Note that the bottom edges of these shapes\n",
    "# are parallel to the x-axis. \n",
    "# (Hint: For a triangle with a bottom line parallel to the x-axis,\n",
    "# set the turtle’s heading to 60 degrees.) "
   ]
  },
  {
   "cell_type": "code",
   "execution_count": null,
   "metadata": {},
   "outputs": [],
   "source": []
  },
  {
   "cell_type": "code",
   "execution_count": null,
   "metadata": {},
   "outputs": [],
   "source": [
    "# 3.\n",
    "# (Financial application: payroll) \n",
    "# Write a program that reads the following information\n",
    "# and prints a payroll statement:\n",
    "#   Employee’s name (e.g., Smith)\n",
    "#   Number of hours worked in a week (e.g., 10)\n",
    "#   Hourly pay rate (e.g., 9.75)\n",
    "#   Federal tax withholding rate (e.g., 20%)\n",
    "#   State tax withholding rate (e.g., 9%) "
   ]
  }
 ],
 "metadata": {
  "kernelspec": {
   "display_name": "Python 3 (ipykernel)",
   "language": "python",
   "name": "python3"
  },
  "language_info": {
   "codemirror_mode": {
    "name": "ipython",
    "version": 3
   },
   "file_extension": ".py",
   "mimetype": "text/x-python",
   "name": "python",
   "nbconvert_exporter": "python",
   "pygments_lexer": "ipython3",
   "version": "3.9.12"
  }
 },
 "nbformat": 4,
 "nbformat_minor": 4
}
