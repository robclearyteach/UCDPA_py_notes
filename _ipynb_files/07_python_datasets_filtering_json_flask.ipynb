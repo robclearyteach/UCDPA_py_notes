{
 "cells": [
  {
   "cell_type": "markdown",
   "metadata": {},
   "source": [
    "# Nested data structures\n",
    "We can combine data structures together to compose more nested data structures. We can represent or application data by some combination of tuples, lists, dicts and sets."
   ]
  },
  {
   "cell_type": "code",
   "execution_count": null,
   "metadata": {},
   "outputs": [],
   "source": [
    "# References: GenAI data generated below...\n",
    "#23/09/2023 - chat.openai.com generated google co-ords with this:\n",
    "# https://chat.openai.com/share/9c6071ac-ca5f-47aa-ab2f-d2592f5dad52\n",
    "\n",
    "# 19/03/2024 - chat.openai.com generated a variation of the above\n",
    "#https://chat.openai.com/share/f1e0f2f1-ac9c-446d-863b-d58535e9b884"
   ]
  },
  {
   "cell_type": "code",
   "execution_count": null,
   "metadata": {},
   "outputs": [],
   "source": [
    "# a list of tuples\n",
    "# (latitude, longitude)\n",
    "google_coords = [\n",
    "    (37.7749, -122.4194)    # San Francisco, CA\n",
    "    ,(40.7128,  74.0060)    # New York City, NY\n",
    "    ,(34.0522, -118.2437)   # Los Angeles, CA\n",
    "]\n",
    "\n",
    "#How to get, say, \n",
    "# a) SanFran\n",
    "# b) LA Longitude"
   ]
  },
  {
   "cell_type": "code",
   "execution_count": null,
   "metadata": {},
   "outputs": [],
   "source": [
    "# Or see this version...\n",
    "# ( city:str, (latitude, longitude) )\n",
    "google_coords = [\n",
    "    (\"San Francisco\", (37.7749, -122.4194) )\n",
    "   ,(\"New York\",      (40.7128, -74.0060)  )\n",
    "   ,(\"Los Angeles\",   (34.0522, -118.2437) )\n",
    "]\n",
    "\n",
    "#How to show each on a separate line?\n"
   ]
  },
  {
   "cell_type": "code",
   "execution_count": null,
   "metadata": {},
   "outputs": [],
   "source": [
    "# a list of dicts\n",
    "city_data = [\n",
    "     {\"id\":1, \"name\": \"New York\",   \"latitude\": 40.7128, \"longitude\": 74.0060}\n",
    "    ,{\"id\":2, \"name\": \"Los Angeles\",\"latitude\": 34.0522, \"longitude\": -118.2437}\n",
    "]\n",
    "\n",
    "# want latitude of NewYork?\n"
   ]
  },
  {
   "cell_type": "code",
   "execution_count": null,
   "metadata": {},
   "outputs": [],
   "source": [
    "# a dict of dicts\n",
    "city_data = {\n",
    "     1: {\"name\": \"New York\", \"latitude\": 40.7128, \"longitude\": 74.0060}\n",
    "    ,2: {\"name\": \"Los Angeles\",\"latitude\": 34.0522,\"longitude\": -118.2437}\n",
    "}\n",
    "# want latitude of NewYork?"
   ]
  },
  {
   "cell_type": "code",
   "execution_count": null,
   "metadata": {},
   "outputs": [],
   "source": [
    "# TASK: take this list of tasks (list of dicts)\n",
    "#       & compare/contrast different implementations\n",
    "project_tasks = [\n",
    "    {\"id\": 1, \"name\": \"Design UI\",           \"priority\": \"High\"},\n",
    "    {\"id\": 2, \"name\": \"Implement Backend\",   \"priority\": \"High\"},\n",
    "    {\"id\": 3, \"name\": \"Write Documentation\", \"priority\": \"Medium\"},\n",
    "    {\"id\": 4, \"name\": \"Test Application\",    \"priority\": \"Low\"},\n",
    "]\n",
    "\n",
    "#TASK: Another way to implement?"
   ]
  },
  {
   "cell_type": "code",
   "execution_count": null,
   "metadata": {},
   "outputs": [],
   "source": [
    "#Dict of dicts\n",
    "# Convert above?"
   ]
  },
  {
   "cell_type": "code",
   "execution_count": null,
   "metadata": {},
   "outputs": [],
   "source": [
    "# TASK: Compare these different `user_data` implementations\n",
    "user_data = [\n",
    "     {'name': 'Ann', 'email': 'ann@example.com',   'age':25  }   \n",
    "    ,{'name': 'Bob', 'email': 'bob@example.com',   'age':24  }\n",
    "    ,{'name': 'Sue', 'email': 'sue@example.com',   'age':56  }\n",
    "]\n",
    "\n",
    "user_data = {\n",
    "     'Ann':{'email': 'ann@example.com',   'age':25  }   \n",
    "    ,'Bob':{'email': 'bob@example.com',   'age':24  }\n",
    "    ,'Sue':{'email': 'sue@example.com',   'age':56  }\n",
    "}\n",
    "\n",
    "user_data = {\n",
    "    'ann@example.com': {'name': 'Ann', 'age':25  }   \n",
    "   ,'bob@example.com': {'name': 'Bob', 'age':24  }\n",
    "   ,'sue@example.com': {'name': 'Sue', 'age':56  }\n",
    "}"
   ]
  },
  {
   "cell_type": "markdown",
   "metadata": {},
   "source": [
    "#### A more complex nested data-structure"
   ]
  },
  {
   "cell_type": "code",
   "execution_count": null,
   "metadata": {},
   "outputs": [],
   "source": [
    "# For example, we might use something like the following to manage a collection of users:\n",
    "\n",
    "users = [\n",
    "    {\n",
    "        'name': 'Alice',\n",
    "        'email': 'alice@example.com',\n",
    "        'age': 25,\n",
    "        'favourite_colours': {'red', 'green'}\n",
    "    },\n",
    "    {\n",
    "        'name': 'Bob',\n",
    "        'email': 'bob@bobiverse.com',\n",
    "        'age': 42,\n",
    "        'favourite_colours': {'blue', 'green'}\n",
    "    }\n",
    "]\n",
    "\n",
    "# The above is a list of dicts, where one of the values is a set.\n",
    "# For example, we could get the set of favourite colours for our most recent user as follows:\n",
    "# Don't be afraid of nesting or nested structures like this: it's just practice!\n"
   ]
  },
  {
   "cell_type": "code",
   "execution_count": null,
   "metadata": {},
   "outputs": [],
   "source": []
  },
  {
   "cell_type": "markdown",
   "metadata": {},
   "source": [
    "# Filtering datasets (basics) with Python's built-in `filter(fn, dataset)` and `map(fn, dataset)`"
   ]
  },
  {
   "cell_type": "code",
   "execution_count": null,
   "metadata": {},
   "outputs": [],
   "source": [
    "# Take an example co-ord (latitude, longitude)\n",
    "coord = (37.7749, -122.4194)\n",
    "print( coord[1]) "
   ]
  },
  {
   "cell_type": "markdown",
   "metadata": {},
   "source": [
    "#### Python's built-in `filter(fn, dataset)`"
   ]
  },
  {
   "cell_type": "code",
   "execution_count": null,
   "metadata": {},
   "outputs": [],
   "source": [
    "\n",
    "google_coords = [\n",
    "    (37.7749, -122.4194),  # San Francisco, CA\n",
    "    (40.7128,  74.0060),   # New York City, NY\n",
    "    (34.0522, -118.2437),  # Los Angeles, CA\n",
    "]\n",
    "\n",
    "def is_negative_longitude( co_ord ):\n",
    "    if co_ord[1] < 0 :\n",
    "        return True\n",
    "    else:\n",
    "        return False\n",
    "\n",
    "#filter() >>> [Note: returns a generator]\n",
    "# print(filter(is_negative_longitude, google_coords))  #MIGHT TRY THIS BUT...\n",
    "\n",
    "filtered = filter(is_negative_longitude, google_coords)\n",
    "for coord in filtered:\n",
    "    print(coord)\n"
   ]
  },
  {
   "cell_type": "code",
   "execution_count": null,
   "metadata": {},
   "outputs": [],
   "source": [
    "#See output if changing a longitude value now...\n",
    "google_coords = [\n",
    "    (37.7749,  122.4194)   # E.G. San-fran...>CHANGE to positive\n",
    "    ,(40.7128,  74.0060)   # New York City, NY\n",
    "    ,(34.0522, -118.2437)  # Los Angeles, CA\n",
    "]\n",
    "\n",
    "def is_negative_longitude( co_ord ):\n",
    "    return co_ord[1] < 0\n",
    "\n",
    "filtered = filter(is_negative_longitude, google_coords)\n",
    "for coord in filtered:\n",
    "    print(coord)"
   ]
  },
  {
   "cell_type": "code",
   "execution_count": null,
   "metadata": {},
   "outputs": [],
   "source": []
  },
  {
   "cell_type": "code",
   "execution_count": null,
   "metadata": {},
   "outputs": [],
   "source": [
    "def is_negative_longitude( co_ord ):\n",
    "    return co_ord[1] < 0\n",
    "\n",
    "def print_filtered( filtered_as_generator ):\n",
    "    print( [coord for coord in filtered_as_generator] )\n",
    "    \n",
    "google_coords = [\n",
    "    (37.7749, -122.4194),  # San Francisco, CA\n",
    "    (40.7128,  74.0060),   # New York City, NY\n",
    "    (34.0522, -118.2437),  # Los Angeles, CA\n",
    "]\n",
    "\n",
    "# filtered = filter(is_negative_longitude, google_coords)\n",
    "# print_filtered( filtered )\n",
    "\n",
    "print_filtered ( filter(is_negative_longitude, google_coords) )"
   ]
  },
  {
   "cell_type": "code",
   "execution_count": null,
   "metadata": {},
   "outputs": [],
   "source": [
    "def is_negative_longitude( co_ord ):\n",
    "    return co_ord[1] < 0\n",
    "\n",
    "def filter_negatives( google_coords):\n",
    "    return filter(is_negative_longitude, google_coords)\n",
    "\n",
    "def print_filtered( filtered_as_generator ):\n",
    "    print( [coord for coord in filtered_as_generator] )\n",
    "    \n",
    "google_coords = [\n",
    "    (37.7749, -122.4194),  # San Francisco, CA\n",
    "    (40.7128,  74.0060),   # New York City, NY\n",
    "    (34.0522, -118.2437),  # Los Angeles, CA\n",
    "]\n",
    "\n",
    "#2-step approach\n",
    "filtered_as_generator = filter_negatives( google_coords)\n",
    "print_filtered( filtered_as_generator )\n"
   ]
  },
  {
   "cell_type": "code",
   "execution_count": null,
   "metadata": {},
   "outputs": [],
   "source": [
    "#1-step approach using above cell's fn defs\n",
    "print_filtered( filter_negatives( google_coords) )"
   ]
  },
  {
   "cell_type": "markdown",
   "metadata": {},
   "source": [
    "#### Python's built-in `map(fn, data_set)`"
   ]
  },
  {
   "cell_type": "code",
   "execution_count": null,
   "metadata": {},
   "outputs": [],
   "source": [
    "project_tasks = [\n",
    "    {\"id\": 1, \"name\": \"Design UI\",           \"priority\": \"High\"},\n",
    "    {\"id\": 2, \"name\": \"Implement Backend\",   \"priority\": \"High\"},\n",
    "    {\"id\": 3, \"name\": \"Write Documentation\", \"priority\": \"Medium\"},\n",
    "    {\"id\": 4, \"name\": \"Test Application\",    \"priority\": \"Low\"},\n",
    "]\n",
    "def filter_by_name(task):\n",
    "    return task[\"name\"]\n",
    "\n",
    "filtered = map( filter_by_name, project_tasks)\n",
    "\n",
    "for item in filtered:\n",
    "    print( item )"
   ]
  },
  {
   "cell_type": "markdown",
   "metadata": {},
   "source": [
    "# Tying this into Flask and Jinja"
   ]
  },
  {
   "cell_type": "code",
   "execution_count": null,
   "metadata": {},
   "outputs": [],
   "source": [
    "#list of dict... declared in app.py (say, for example)\n",
    "city_data = [\n",
    "     {\"id\":1, \"name\": \"New York\", \"latitude\": 40.7128, \"longitude\": -74.0060}\n",
    "    ,{\"id\":2, \"name\": \"Los Angeles\",\"latitude\": 34.0522,\"longitude\": -118.2437}\n",
    "]\n",
    "#dummy function to simulate the flask render_template\n",
    "def render_template(html, data=None):\n",
    "    print( f\"html={html}, data={data}\")\n",
    "\n",
    "#@app.route(/select/city_id)\n",
    "def create_cities(city_id):\n",
    "    for item in city_data:\n",
    "        if item[\"id\"] == city_id:\n",
    "            selected = item\n",
    "\n",
    "    return render_template(\"city_creation.html\", data=selected)\n",
    "\n",
    "url_num = int( input(\"number from url: \") )\n",
    "create_cities(url_num)"
   ]
  },
  {
   "cell_type": "code",
   "execution_count": null,
   "metadata": {},
   "outputs": [],
   "source": []
  },
  {
   "cell_type": "code",
   "execution_count": null,
   "metadata": {},
   "outputs": [],
   "source": [
    "jinja_city = {\"id\":1, \"name\": \"New York\", \"latitude\": 40.7128, \"longitude\": -74.0060}\n",
    "\"\"\"\n",
    "{%for key, value in jinja_city.items()%}\n",
    "... {{key}} ...{{value}}\n",
    "\"\"\"\n",
    "for key, value in jinja_city.items():\n",
    "    print(key, value)\n"
   ]
  },
  {
   "cell_type": "code",
   "execution_count": null,
   "metadata": {},
   "outputs": [],
   "source": []
  },
  {
   "cell_type": "code",
   "execution_count": null,
   "metadata": {},
   "outputs": [],
   "source": []
  },
  {
   "cell_type": "code",
   "execution_count": null,
   "metadata": {},
   "outputs": [],
   "source": []
  },
  {
   "cell_type": "code",
   "execution_count": null,
   "metadata": {},
   "outputs": [],
   "source": []
  },
  {
   "cell_type": "markdown",
   "metadata": {},
   "source": [
    "# (JSON) Using `import json` on an example user_data\n",
    "In Python, we have the json module in the standard library to work with JSON data."
   ]
  },
  {
   "cell_type": "code",
   "execution_count": null,
   "metadata": {},
   "outputs": [],
   "source": [
    "import json\n",
    "# We'll use a simplified user datastore to demonstrate this:\n",
    "user_data = [\n",
    "     {'name': 'Alice',   'status': 'online'  }   \n",
    "    ,{'name': 'Bob',     'status': 'offline' }\n",
    "    ,{'name': 'Charlie', 'status': 'online'  }\n",
    "]\n",
    "\n",
    "\n",
    "json_string = json.dumps(user_data)  # dumps stands for \"dump to string\"\n",
    "print(json_string)\n",
    "# print(type(json_string))\n",
    "# print(json_string[0]) # The first character in the string (and not a list item)"
   ]
  },
  {
   "cell_type": "code",
   "execution_count": null,
   "metadata": {},
   "outputs": [],
   "source": [
    "##JSON with booleans and None\n",
    "\n",
    "import json\n",
    "user_data = [\n",
    "     {'name': 'Alice',   'status': 'online',    'available':True  }     #Change to None here\n",
    "    ,{'name': 'Bob',     'status': 'offline',   'available':False  }    #Boolean here\n",
    "    ,{'name': 'Charlie', 'status': 'online',    'available':True  }     #Boolean here\n",
    "]\n",
    "##TASK: also test above after changing a value to `None`\n",
    "\n",
    "json_string = json.dumps(user_data)  # dumps stands for \"dump to string\"\n",
    "print(json_string)"
   ]
  },
  {
   "cell_type": "code",
   "execution_count": null,
   "metadata": {},
   "outputs": [],
   "source": [
    "print(json_string)\n",
    "# Now we'll go in reverse and load a json string into a python dict:\n",
    "new_user_data = json.loads(json_string)\n",
    "print(new_user_data)\n",
    "print(type(new_user_data))\n",
    "print(new_user_data[0]) # Now it is a list item again\n",
    "\n",
    "# We'll see more about JSON in Python and how to use it to move data between Python and JS later on."
   ]
  },
  {
   "cell_type": "code",
   "execution_count": null,
   "metadata": {},
   "outputs": [],
   "source": []
  },
  {
   "cell_type": "code",
   "execution_count": null,
   "metadata": {},
   "outputs": [],
   "source": []
  }
 ],
 "metadata": {
  "kernelspec": {
   "display_name": "Python 3",
   "language": "python",
   "name": "python3"
  },
  "language_info": {
   "codemirror_mode": {
    "name": "ipython",
    "version": 3
   },
   "file_extension": ".py",
   "mimetype": "text/x-python",
   "name": "python",
   "nbconvert_exporter": "python",
   "pygments_lexer": "ipython3",
   "version": "3.11.4"
  }
 },
 "nbformat": 4,
 "nbformat_minor": 2
}
