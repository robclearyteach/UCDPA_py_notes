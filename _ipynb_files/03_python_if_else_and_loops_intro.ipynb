{
 "cells": [
  {
   "cell_type": "code",
   "execution_count": null,
   "id": "b25ff93e",
   "metadata": {},
   "outputs": [],
   "source": []
  },
  {
   "cell_type": "markdown",
   "id": "573a7c60",
   "metadata": {},
   "source": [
    "<img style=\"display: block; margin-left: auto; margin-right: auto;\" src=\"data:image/png;base64,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\">\n",
    "<h1 style=\"margin-top: -5px; margin-left: 40px; text-align: center; font-size: 3em;\"><strong>Module 3 - Python</strong></h1>"
   ]
  },
  {
   "cell_type": "markdown",
   "id": "60833503-ccdc-48ed-a94b-3b187b4c1911",
   "metadata": {},
   "source": [
    "# Conditional Logic and Looping\n",
    "## In this notebook...\n",
    "\n",
    "1. Conditional Execution\n",
    "1. While loops\n",
    "1. For loops\n"
   ]
  },
  {
   "cell_type": "markdown",
   "id": "274fe129-6526-47e5-9325-1bad529038ef",
   "metadata": {
    "jupyter": {
     "source_hidden": true
    },
    "tags": []
   },
   "source": [
    "## Conditional execution\n",
    "In this lesson we'll see how to create \"logic\", to allow for different statements to run based on different inputs"
   ]
  },
  {
   "cell_type": "code",
   "execution_count": 2,
   "id": "8ef9c738-07fd-4568-9fb6-0e37e279805c",
   "metadata": {
    "collapsed": true,
    "jupyter": {
     "outputs_hidden": true,
     "source_hidden": true
    },
    "tags": []
   },
   "outputs": [
    {
     "name": "stdout",
     "output_type": "stream",
     "text": [
      "We're after the condition\n"
     ]
    }
   ],
   "source": [
    "# To utilise conditional execution in Python, we use the `if` statement:\n",
    "test_expression = False\n",
    "if test_expression:  # The indented code below will only run if the test expression is True\n",
    "    print(\"We're in the condition\")\n",
    "print(\"We're after the condition\")"
   ]
  },
  {
   "cell_type": "code",
   "execution_count": 5,
   "id": "86076449-70a2-47f1-a944-2b62a93594d7",
   "metadata": {
    "collapsed": true,
    "jupyter": {
     "outputs_hidden": true,
     "source_hidden": true
    },
    "tags": []
   },
   "outputs": [
    {
     "name": "stdout",
     "output_type": "stream",
     "text": [
      "Before 5\n",
      "Is 5\n",
      "Is Still 5\n",
      "Third 5\n",
      "After 5\n",
      "Before 6\n",
      "Is 6\n",
      "Is Still 6\n",
      "Third 6\n",
      "After 6\n"
     ]
    }
   ],
   "source": [
    "# A longer example - what will be printed?\n",
    "x = 6\n",
    "\n",
    "print('Before 5')\n",
    "if x >= 5 :\n",
    "    print('Is 5')\n",
    "    print('Is Still 5')\n",
    "    print('Third 5')\n",
    "print('After 5')\n",
    "\n",
    "print('Before 6')\n",
    "if x == 6 :\n",
    "    print('Is 6')\n",
    "    print('Is Still 6')\n",
    "    print('Third 6')\n",
    "print('After 6')"
   ]
  },
  {
   "cell_type": "code",
   "execution_count": null,
   "id": "cd0768c4",
   "metadata": {},
   "outputs": [],
   "source": []
  },
  {
   "cell_type": "code",
   "execution_count": null,
   "id": "7fdf85d9",
   "metadata": {},
   "outputs": [],
   "source": []
  },
  {
   "cell_type": "code",
   "execution_count": null,
   "id": "abef751e",
   "metadata": {},
   "outputs": [],
   "source": []
  },
  {
   "cell_type": "markdown",
   "id": "eacef2d1-822f-41c2-9334-766350a236ad",
   "metadata": {
    "jupyter": {
     "source_hidden": true
    },
    "tags": []
   },
   "source": [
    "In the above examples, we had basic conditions, such that we either step into a conditional block, or skip directly forward.\n",
    "\n",
    "Alternatively, we can use two-way conditions, to choose between two alternative paths, like when we see a fork in the road"
   ]
  },
  {
   "cell_type": "code",
   "execution_count": 8,
   "id": "08b85dd0-d4a9-4105-9917-02b146c3a352",
   "metadata": {
    "collapsed": true,
    "jupyter": {
     "outputs_hidden": true,
     "source_hidden": true
    },
    "tags": []
   },
   "outputs": [
    {
     "name": "stdout",
     "output_type": "stream",
     "text": [
      "Finished with the number\n"
     ]
    }
   ],
   "source": [
    "# To create a two-way condition in Python, we follow the `if` statement with an `else` statement, which has its own indented block:\n",
    "num = 10\n",
    "\n",
    "if num >= 10:  # The indented code in this block will only run if the expression is True\n",
    "    print(\"Wow, a two digit number\")\n",
    "else:  # The indented code in this second block will only run if the above expression is False\n",
    "    print(\"Ah, a small number\")\n",
    "\n",
    "print(\"Finished with the number\")"
   ]
  },
  {
   "cell_type": "code",
   "execution_count": 15,
   "id": "87610a44-6600-4dd8-8d0e-8711638fe7c3",
   "metadata": {
    "collapsed": true,
    "jupyter": {
     "outputs_hidden": true,
     "source_hidden": true
    },
    "tags": []
   },
   "outputs": [
    {
     "name": "stdout",
     "output_type": "stream",
     "text": [
      "Welcome\n",
      "program continues...\n"
     ]
    }
   ],
   "source": [
    "# A more realistic example of a two-way condition with user input:\n",
    "age = int(input(\"How old are you? \"))  # Accept input, which comes in as a string, and immediately convert it to int\n",
    "if age >= 18:\n",
    "    print(\"Welcome\")\n",
    "else:\n",
    "    print(\"Sorry, this is only for adults\")\n",
    "\n",
    "print(\"program continues...\")"
   ]
  },
  {
   "cell_type": "markdown",
   "id": "446297aa-b4ba-4084-8f35-654e1d462350",
   "metadata": {
    "jupyter": {
     "source_hidden": true
    },
    "tags": []
   },
   "source": [
    "Sometimes we don't just have a simple fork in the road with two options, but a huge roundabout with many options\n",
    "\n",
    "For these situations, we can add one or more `elif` statements with additional conditions in between the `if` and `else`, to deal with all the alternatives\n",
    "\n",
    "Python will look for the first condition that's true, and execute just that block, before proceeding to the code after the conditions"
   ]
  },
  {
   "cell_type": "code",
   "execution_count": null,
   "id": "d1d4f99d-2c09-4c39-a3ab-fe0daf3c6d3f",
   "metadata": {
    "collapsed": true,
    "jupyter": {
     "outputs_hidden": true,
     "source_hidden": true
    },
    "tags": []
   },
   "outputs": [],
   "source": [
    "name = \"Jack\"\n",
    "\n",
    "if name == \"John\":  # The indented code in this block will only run if the expression is True\n",
    "    print(\"Hi John, welcome in!\")\n",
    "elif name == \"Paul\":  # The indented code in this block will only run if the previous expression was False, but this second one is True\n",
    "    print(\"Paul, you can come in, but remember that you still owe me for last time\")\n",
    "else:  # The indented code in this final block will only run if both the above are False\n",
    "    print(\"I don't know you, and it's a private party, sorry\")\n",
    "\n",
    "print(\"We're done\")"
   ]
  },
  {
   "cell_type": "code",
   "execution_count": 19,
   "id": "d3f6255e-b63a-49c1-bfe6-35d43d298b36",
   "metadata": {
    "collapsed": true,
    "jupyter": {
     "outputs_hidden": true,
     "source_hidden": true
    },
    "tags": []
   },
   "outputs": [
    {
     "name": "stdout",
     "output_type": "stream",
     "text": [
      "The price here is similar to the original, you should probably look for a more distant market\n",
      "program continues...\n"
     ]
    }
   ],
   "source": [
    "# As a slightly more realistic example, let's consider a merchant who bought some stock at a given price and is looking to sell it at a signficantly higher price\n",
    "# WANT: self-documenting code\n",
    "# What's the story?\n",
    "\n",
    "buy_price = 10\n",
    "now_price = 12\n",
    "#.....             <elif><--8   10.....12--> <if cond>\n",
    "if now_price > buy_price * 1.2:\n",
    "    print(f\"Ooh, the price here is {(now_price - buy_price)/buy_price:.0%} higher than what you bought it for!\")\n",
    "    print(\"You should definitely SELL\")\n",
    "elif now_price < buy_price * 0.8:\n",
    "    print(f\"Oh, the price here is {(buy_price - now_price)/buy_price:.0%} lower than what you bought it for!\")\n",
    "    print(\"You should probably BUY more\")\n",
    "else:\n",
    "    print(\"The price here is similar to the original, you should probably look for a more distant market\")\n",
    "\n",
    "print(\"program continues...\")"
   ]
  },
  {
   "cell_type": "code",
   "execution_count": null,
   "id": "6c659222",
   "metadata": {},
   "outputs": [],
   "source": []
  },
  {
   "cell_type": "code",
   "execution_count": null,
   "id": "0139cb5c",
   "metadata": {},
   "outputs": [],
   "source": []
  },
  {
   "cell_type": "code",
   "execution_count": null,
   "id": "35f09be0",
   "metadata": {},
   "outputs": [],
   "source": []
  },
  {
   "cell_type": "code",
   "execution_count": 20,
   "id": "fe4a5c8b-2f20-4ff2-a30a-be1cb0018fa5",
   "metadata": {
    "collapsed": true,
    "jupyter": {
     "outputs_hidden": true,
     "source_hidden": true
    },
    "tags": []
   },
   "outputs": [
    {
     "name": "stdout",
     "output_type": "stream",
     "text": [
      "Medium\n",
      "program continues...\n"
     ]
    }
   ],
   "source": [
    "# We can have as many elif's as we want - the first condition that is True will be executed:\n",
    "x = 2\n",
    "#0...2.....10....20....40...\n",
    "if x < 2 :\n",
    "    print('Small')\n",
    "elif x < 10 :\n",
    "    print('Medium')\n",
    "elif x < 20 : \n",
    "    print('Big')\n",
    "elif x < 40 : \n",
    "    print('Large')\n",
    "elif x < 100:\n",
    "    print('Huge')\n",
    "else:\n",
    "    print('Ginormous')\n",
    "\n",
    "print(\"program continues...\")"
   ]
  },
  {
   "cell_type": "code",
   "execution_count": null,
   "id": "6b2c0fbf",
   "metadata": {},
   "outputs": [],
   "source": []
  },
  {
   "cell_type": "code",
   "execution_count": null,
   "id": "ee227820",
   "metadata": {},
   "outputs": [],
   "source": []
  },
  {
   "cell_type": "code",
   "execution_count": null,
   "id": "965057b4",
   "metadata": {},
   "outputs": [],
   "source": []
  },
  {
   "cell_type": "code",
   "execution_count": null,
   "id": "b2025710",
   "metadata": {},
   "outputs": [],
   "source": []
  },
  {
   "cell_type": "code",
   "execution_count": 22,
   "id": "ce2ab85b-9713-488d-ab02-48e280d6b1fd",
   "metadata": {
    "collapsed": true,
    "jupyter": {
     "outputs_hidden": true,
     "source_hidden": true
    },
    "tags": []
   },
   "outputs": [
    {
     "name": "stdout",
     "output_type": "stream",
     "text": [
      "program continues...\n"
     ]
    }
   ],
   "source": [
    "# The else is optional:\n",
    "x = 12\n",
    "if x < 2 :\n",
    "    print('Small')\n",
    "elif x < 10 :\n",
    "    print('Medium')\n",
    "\n",
    "print(\"program continues...\")"
   ]
  },
  {
   "cell_type": "code",
   "execution_count": null,
   "id": "53f03918",
   "metadata": {},
   "outputs": [],
   "source": []
  },
  {
   "cell_type": "code",
   "execution_count": null,
   "id": "87ce8ff1",
   "metadata": {},
   "outputs": [],
   "source": []
  },
  {
   "cell_type": "code",
   "execution_count": null,
   "id": "dc339aad",
   "metadata": {},
   "outputs": [],
   "source": []
  },
  {
   "cell_type": "code",
   "execution_count": null,
   "id": "2fe03038",
   "metadata": {},
   "outputs": [],
   "source": []
  },
  {
   "cell_type": "code",
   "execution_count": 28,
   "id": "87fce4aa-8703-4d1e-af7a-7f7ead3a551e",
   "metadata": {
    "collapsed": true,
    "jupyter": {
     "outputs_hidden": true,
     "source_hidden": true
    },
    "tags": []
   },
   "outputs": [
    {
     "name": "stdout",
     "output_type": "stream",
     "text": [
      "Something else\n"
     ]
    }
   ],
   "source": [
    "# The order matters!\n",
    "# Quiz - can you get all possible outputs from the below code?\n",
    "x = 21\n",
    "# 0....2....10.......20\n",
    "if x < 2 :\n",
    "    print('Below 2')\n",
    "elif x < 10 : \n",
    "    print('Below 10')  #get this to run??\n",
    "elif x < 20 :\n",
    "    print('Below 20')\n",
    "else :\n",
    "    print('Something else')\n"
   ]
  },
  {
   "cell_type": "code",
   "execution_count": null,
   "id": "c78899d6",
   "metadata": {},
   "outputs": [],
   "source": []
  },
  {
   "cell_type": "code",
   "execution_count": null,
   "id": "ea63749f",
   "metadata": {},
   "outputs": [],
   "source": []
  },
  {
   "cell_type": "code",
   "execution_count": null,
   "id": "ee299a88",
   "metadata": {},
   "outputs": [],
   "source": []
  },
  {
   "cell_type": "code",
   "execution_count": null,
   "id": "b687afab",
   "metadata": {},
   "outputs": [],
   "source": []
  },
  {
   "cell_type": "code",
   "execution_count": 30,
   "id": "722879c5",
   "metadata": {},
   "outputs": [
    {
     "name": "stdout",
     "output_type": "stream",
     "text": [
      "Between 2 and 10\n",
      "program continues...\n"
     ]
    }
   ],
   "source": [
    "x = 10\n",
    "#...2....10....20....30\n",
    "if 2 < x <= 10 :                      #between 2 and 10 ==equiv==> if x>2 and x<10\n",
    "    print('Between 2 and 10')\n",
    "elif 10 < x <= 20 :                   #between 10 and 20           elif x>10 and x<20\n",
    "    print('Between 10 and 20')  \n",
    "elif 20 < x < 30 :\n",
    "    print('Between 20 and 30')       #between 20 and 30           elif x>20 and x<30\n",
    "     #get this to run??\n",
    "else :                          #for all else\n",
    "    print('Something else')\n",
    "\n",
    "print( \"program continues...\")"
   ]
  },
  {
   "cell_type": "code",
   "execution_count": null,
   "id": "62b63fc0",
   "metadata": {},
   "outputs": [],
   "source": []
  },
  {
   "cell_type": "code",
   "execution_count": null,
   "id": "4daaa787",
   "metadata": {},
   "outputs": [],
   "source": []
  },
  {
   "cell_type": "code",
   "execution_count": null,
   "id": "22dec3d4",
   "metadata": {},
   "outputs": [],
   "source": []
  },
  {
   "cell_type": "code",
   "execution_count": null,
   "id": "4ca977c1",
   "metadata": {},
   "outputs": [],
   "source": [
    "# OR THIS EQUIVALENT:\n",
    "x = 25\n",
    "if x>2 and x<10 :                       \n",
    "    print('Between 2 and 10')\n",
    "elif x>10 and x<20 :               \n",
    "    print('Between 10 and 20')  \n",
    "elif x>20 and x<30 :\n",
    "    print('Between 20 and 30')     \n",
    "     #get this to run??\n",
    "else :                          #for all else\n",
    "    print('Something else')\n",
    "\n",
    "print( \"program continues...\")"
   ]
  },
  {
   "cell_type": "code",
   "execution_count": null,
   "id": "4051d5d8",
   "metadata": {},
   "outputs": [],
   "source": []
  },
  {
   "cell_type": "markdown",
   "id": "ea15fc3c",
   "metadata": {},
   "source": [
    "##### Compare the following examples...\n"
   ]
  },
  {
   "cell_type": "code",
   "execution_count": 2,
   "id": "4360db6f",
   "metadata": {},
   "outputs": [
    {
     "name": "stdout",
     "output_type": "stream",
     "text": [
      "Small\n",
      "program continues...\n"
     ]
    }
   ],
   "source": [
    "# if-elif\n",
    "x = 4\n",
    "if x < 5 :\n",
    "    print('Small')\n",
    "elif x < 10 :\n",
    "    print('Medium')\n",
    "\n",
    "print(\"program continues...\")"
   ]
  },
  {
   "cell_type": "code",
   "execution_count": 1,
   "id": "20e319af",
   "metadata": {},
   "outputs": [
    {
     "name": "stdout",
     "output_type": "stream",
     "text": [
      "Small\n",
      "Medium\n",
      "program continues...\n"
     ]
    }
   ],
   "source": [
    "# if...if (stacked)\n",
    "x = 4\n",
    "if x < 5 :\n",
    "    print('Small')\n",
    "if x < 10 :\n",
    "    print('Medium')\n",
    "\n",
    "print(\"program continues...\")"
   ]
  },
  {
   "cell_type": "markdown",
   "id": "324bd192-2cbd-4fcb-bca1-7ee5b2d54958",
   "metadata": {
    "jupyter": {
     "source_hidden": true
    },
    "tags": []
   },
   "source": [
    "# Nested conditions\n",
    "Conditions can be placed wherever we could put a statement, which means that we can put a condition within a conditional block - this is called nesting"
   ]
  },
  {
   "cell_type": "code",
   "execution_count": 45,
   "id": "67da9902-e014-40b5-af8c-0230d5e3b11d",
   "metadata": {
    "collapsed": true,
    "jupyter": {
     "outputs_hidden": true,
     "source_hidden": true
    },
    "tags": []
   },
   "outputs": [
    {
     "name": "stdout",
     "output_type": "stream",
     "text": [
      "More than one\n",
      "Less than 100\n",
      "All done\n"
     ]
    }
   ],
   "source": [
    "# When we have a nested condition, we need to be mindful of the indentation, such that each condition is indented further:\n",
    "x = 99\n",
    "if x > 1:\n",
    "    print('More than one')\n",
    "    if x < 100: \n",
    "        print('Less than 100') \n",
    "print('All done')"
   ]
  },
  {
   "cell_type": "code",
   "execution_count": 46,
   "id": "4199ddf1",
   "metadata": {},
   "outputs": [
    {
     "name": "stdout",
     "output_type": "stream",
     "text": [
      "More than one\n",
      "Less than 100\n",
      "More than one\n",
      "All done\n"
     ]
    }
   ],
   "source": [
    "# no nested if below but equivalant logic\n",
    "x = 99\n",
    "\n",
    "if x > 1 and x < 100: \n",
    "    print('More than one')\n",
    "    print('Less than 100') \n",
    "if x > 1:\n",
    "    print('More than one')\n",
    "print('All done')"
   ]
  },
  {
   "cell_type": "code",
   "execution_count": 38,
   "id": "6d01aa0b-4139-4c66-8793-38383f5becfb",
   "metadata": {
    "collapsed": true,
    "jupyter": {
     "outputs_hidden": true,
     "source_hidden": true
    },
    "tags": []
   },
   "outputs": [
    {
     "data": {
      "text/plain": [
       "'Watch TV'"
      ]
     },
     "execution_count": 38,
     "metadata": {},
     "output_type": "execute_result"
    }
   ],
   "source": [
    "# A slightly more realistic example, with a function that has two nested if-else conditions, for branching based on two aspects\n",
    "# Note that the function itself adds another level of nesting\n",
    "\n",
    "def what_should_I_do_today(day, have_energy):\n",
    "    if day == \"Saturday\" or day == \"Sunday\":\n",
    "        if have_energy:\n",
    "            return \"Go on a trip\"\n",
    "        else:\n",
    "            return \"Watch TV\"\n",
    "    else:  # It's a weekday\n",
    "        if have_energy:\n",
    "            return \"Go to work\"\n",
    "        else:\n",
    "            return \"Take a sick day and stay in bed\"\n",
    "\n",
    "what_should_I_do_today(\"Saturday\", False)"
   ]
  },
  {
   "cell_type": "code",
   "execution_count": 49,
   "id": "3b0fbcbf",
   "metadata": {},
   "outputs": [
    {
     "name": "stdout",
     "output_type": "stream",
     "text": [
      "fine thanks.\n"
     ]
    },
    {
     "name": "stderr",
     "output_type": "stream",
     "text": [
      "<>:3: SyntaxWarning: \"is not\" with a literal. Did you mean \"!=\"?\n",
      "<>:3: SyntaxWarning: \"is not\" with a literal. Did you mean \"!=\"?\n",
      "C:\\Users\\R\\AppData\\Local\\Temp\\ipykernel_6652\\3836138767.py:3: SyntaxWarning: \"is not\" with a literal. Did you mean \"!=\"?\n",
      "  if condition is not \"thristy\":\n"
     ]
    }
   ],
   "source": [
    "\n",
    "condition = \"fine\"\n",
    "\n",
    "if condition != \"thristy\":\n",
    "    print(\"fine thanks.\")\n",
    "else:\n",
    "    print(\"I'll have a drink, please.\")"
   ]
  },
  {
   "cell_type": "code",
   "execution_count": 54,
   "id": "d0adb204",
   "metadata": {},
   "outputs": [
    {
     "data": {
      "text/plain": [
       "'Take a sick day and stay in bed'"
      ]
     },
     "execution_count": 54,
     "metadata": {},
     "output_type": "execute_result"
    }
   ],
   "source": [
    "#remove nesting\n",
    "def what_should_I_do_today(day, have_energy):\n",
    "    if (day == \"Saturday\" or day == \"Sunday\") and have_energy:\n",
    "        return \"Go on a trip\"\n",
    "    if (day == \"Saturday\" or day == \"Sunday\"):\n",
    "        return \"Watch TV\"\n",
    "    #don'r recommend \"is not 'Saturday'\" but it works in this case\n",
    "    if (day != \"Saturday\" or day != \"Sunday\") and have_energy:\n",
    "        return \"Go to work\"\n",
    "    if (day != \"Saturday\" or day  != \"Sunday\"):\n",
    "        return \"Take a sick day and stay in bed\"\n",
    "\n",
    "what_should_I_do_today(\"Monday\", False)"
   ]
  },
  {
   "cell_type": "code",
   "execution_count": null,
   "id": "bbe21e40",
   "metadata": {},
   "outputs": [],
   "source": []
  },
  {
   "cell_type": "code",
   "execution_count": null,
   "id": "b3c5236c",
   "metadata": {},
   "outputs": [],
   "source": []
  },
  {
   "cell_type": "code",
   "execution_count": null,
   "id": "98ca8338",
   "metadata": {},
   "outputs": [],
   "source": []
  },
  {
   "cell_type": "code",
   "execution_count": null,
   "id": "bc5b13f2",
   "metadata": {},
   "outputs": [],
   "source": []
  },
  {
   "cell_type": "markdown",
   "id": "397ba026",
   "metadata": {},
   "source": [
    "## The `is` keyword"
   ]
  },
  {
   "cell_type": "code",
   "execution_count": 56,
   "id": "04f88718",
   "metadata": {},
   "outputs": [
    {
     "name": "stdout",
     "output_type": "stream",
     "text": [
      "2653392695536 2653392695536\n"
     ]
    }
   ],
   "source": [
    "day = \"Saturday\"\n",
    "\n",
    "print( id(day), id(\"Saturday\") )"
   ]
  },
  {
   "cell_type": "code",
   "execution_count": 57,
   "id": "030c09fb",
   "metadata": {},
   "outputs": [
    {
     "name": "stdout",
     "output_type": "stream",
     "text": [
      "True\n",
      "False\n"
     ]
    }
   ],
   "source": [
    "##BETTER: use == or != for comparisons\n",
    "day = \"Saturday\"\n",
    "print( day == \"Saturday\" )\n",
    "print( day != \"Saturday\" ) "
   ]
  },
  {
   "cell_type": "code",
   "execution_count": null,
   "id": "4d7eacc5",
   "metadata": {},
   "outputs": [],
   "source": []
  },
  {
   "cell_type": "code",
   "execution_count": null,
   "id": "8e903fd1",
   "metadata": {},
   "outputs": [],
   "source": []
  },
  {
   "cell_type": "code",
   "execution_count": null,
   "id": "6bf302f2",
   "metadata": {},
   "outputs": [],
   "source": []
  },
  {
   "cell_type": "markdown",
   "id": "5d77e9f4-ef88-4238-993a-a9c317dc5872",
   "metadata": {
    "jupyter": {
     "source_hidden": true
    },
    "tags": []
   },
   "source": [
    "# While loops"
   ]
  },
  {
   "cell_type": "code",
   "execution_count": 64,
   "id": "7bbcb1a6",
   "metadata": {},
   "outputs": [
    {
     "name": "stdout",
     "output_type": "stream",
     "text": [
      "you're fruit: pear\n",
      "you're fruit: xxx\n",
      "you're fruit: rrr\n",
      "program continues...\n"
     ]
    }
   ],
   "source": [
    "#indefinite repetition\n",
    "typed_in = input(\"give me a fruit or say 'quit' to end\")  #'quit' ==>\"sentinel\"\n",
    "\n",
    "while typed_in != 'quit' :\n",
    "    print(f\"you're fruit: {typed_in}\")\n",
    "    typed_in = input(\"give me a fruit or say 'quit' to end\")\n",
    "\n",
    "print(\"program continues...\")"
   ]
  },
  {
   "cell_type": "code",
   "execution_count": 67,
   "id": "c1de5f71",
   "metadata": {},
   "outputs": [
    {
     "name": "stdout",
     "output_type": "stream",
     "text": [
      "the count: 1\n",
      "the count: 2\n",
      "the count: 3\n",
      "the count: 4\n",
      "the count: 5\n",
      "program continues...\n",
      "at end: count is 6\n"
     ]
    }
   ],
   "source": [
    "#can be used for definite repetition\n",
    "#care (infinite-loop)\n",
    "count = 1\n",
    "while count <= 5:\n",
    "    print(f\"the count: {count}\")     #be careful!....infinite!\n",
    "    count = count + 1\n",
    "\n",
    "print(\"program continues...\")\n",
    "print(f\"at end: count is {count}\") #what prints here?"
   ]
  },
  {
   "cell_type": "code",
   "execution_count": null,
   "id": "b8d0e98e",
   "metadata": {},
   "outputs": [],
   "source": []
  },
  {
   "cell_type": "code",
   "execution_count": null,
   "id": "2dc63e3c",
   "metadata": {},
   "outputs": [],
   "source": []
  },
  {
   "cell_type": "code",
   "execution_count": null,
   "id": "cb077213",
   "metadata": {},
   "outputs": [],
   "source": []
  },
  {
   "cell_type": "code",
   "execution_count": null,
   "id": "a1d65daf",
   "metadata": {},
   "outputs": [],
   "source": []
  },
  {
   "cell_type": "code",
   "execution_count": null,
   "id": "a6d4cc9b",
   "metadata": {},
   "outputs": [],
   "source": []
  },
  {
   "cell_type": "code",
   "execution_count": 68,
   "id": "1c15027c-7279-4241-9804-7bfd94fc1d53",
   "metadata": {
    "collapsed": true,
    "jupyter": {
     "outputs_hidden": true,
     "source_hidden": true
    },
    "tags": []
   },
   "outputs": [
    {
     "name": "stdout",
     "output_type": "stream",
     "text": [
      "Thank you, I believe you\n"
     ]
    }
   ],
   "source": [
    "response = False\n",
    "while response != \"I promise\":\n",
    "    response = input(\"You must promise me!\")\n",
    "print(\"Thank you, I believe you\")"
   ]
  },
  {
   "cell_type": "code",
   "execution_count": 72,
   "id": "e73aa960-6148-404c-933b-20d3bc89f7e6",
   "metadata": {
    "collapsed": true,
    "jupyter": {
     "outputs_hidden": true,
     "source_hidden": true
    },
    "tags": []
   },
   "outputs": [
    {
     "name": "stdout",
     "output_type": "stream",
     "text": [
      "T minus 5\n",
      "T minus 4\n",
      "T minus 3\n",
      "T minus 2\n",
      "T minus 1\n",
      "Lift off!\n",
      "after: seconds is: 0\n"
     ]
    }
   ],
   "source": [
    "# A while loop only really makes sense if there's something that changes every time we come back to the loop's condition\n",
    "# We typically use a so-called `iteration variable` that changes every time we go through the loop. For example, this could be a number:\n",
    "seconds_until_launch = 5\n",
    "while seconds_until_launch > 0:\n",
    "    print(f\"T minus {seconds_until_launch}\")\n",
    "    seconds_until_launch -=  1\n",
    "print(f\"Lift off!\")\n",
    "print(f\"after: seconds is: {seconds_until_launch}\")"
   ]
  },
  {
   "cell_type": "code",
   "execution_count": null,
   "id": "255b4c55",
   "metadata": {},
   "outputs": [],
   "source": []
  },
  {
   "cell_type": "code",
   "execution_count": null,
   "id": "744ce92c",
   "metadata": {},
   "outputs": [],
   "source": []
  },
  {
   "cell_type": "code",
   "execution_count": null,
   "id": "595e1e98",
   "metadata": {},
   "outputs": [],
   "source": []
  },
  {
   "cell_type": "code",
   "execution_count": null,
   "id": "09c1d888-ec1d-4ce3-a6d7-33a3505b5acd",
   "metadata": {
    "jupyter": {
     "source_hidden": true
    },
    "tags": []
   },
   "outputs": [],
   "source": [
    "# By the way, instead of the long:\n",
    "seconds_until_launch = seconds_until_launch - 1\n",
    "# We can combine the arithmetic operator with the assignment to write the more concise:\n",
    "seconds_until_launch -= 1  # subtract 1 from seconds_until_launch\n",
    "\n",
    "# These combined assignment operators are available for all the arithmetical operations you saw in lesson 1"
   ]
  },
  {
   "cell_type": "markdown",
   "id": "4be5758f-9409-4613-b63e-4eb4fb934a30",
   "metadata": {
    "tags": []
   },
   "source": [
    "# Infinite loops\n",
    "If we forget to change the iteration variable, or change it in the wrong manner, the loop will keep running forever, until we stop the kernel - try to avoid this\n",
    "\n",
    "*\"The definition of insanity is doing the same thing over and over and expecting different results.\"* - People keep falsely attributing this to Einstein, even after being told it's not something he said"
   ]
  },
  {
   "cell_type": "markdown",
   "id": "2e2cbd42-0534-40e2-9aec-0c60aa088a87",
   "metadata": {
    "jupyter": {
     "source_hidden": true
    },
    "tags": []
   },
   "source": [
    "# Quiz - what's wrong with this one?\n",
    "\n",
    "    seconds_until_launch = 5\n",
    "    while seconds_until_launch > 0:\n",
    "        print(f\"T minus {seconds_until_launch}\")\n",
    "        seconds_until_launch += 1\n",
    "    print(\"Lift off!\")"
   ]
  },
  {
   "cell_type": "markdown",
   "id": "a8cdafed",
   "metadata": {},
   "source": [
    "### The `break` and `continue` statements"
   ]
  },
  {
   "cell_type": "code",
   "execution_count": 73,
   "id": "ac9c0419-87a8-4f48-975f-3e714694b47c",
   "metadata": {
    "collapsed": true,
    "jupyter": {
     "outputs_hidden": true,
     "source_hidden": true
    },
    "tags": []
   },
   "outputs": [
    {
     "name": "stdout",
     "output_type": "stream",
     "text": [
      "Thank you, I believe you\n"
     ]
    }
   ],
   "source": [
    "# In some cases though, we will intentionally create an infinite loop, knowing that we will separately deal with stopping it\n",
    "# To utilise this approach, we will use the `break` keyword, which immediately stops the loop - usually within a condition inside the loop\n",
    "while True:\n",
    "    response = input(\"You must promise me!\")\n",
    "    if response == \"I promise\":\n",
    "        break\n",
    "    \n",
    "print(\"Thank you, I believe you\")\n",
    "\n",
    "# This approach is particularly useful when you know you will always want to run the loop at least once"
   ]
  },
  {
   "cell_type": "code",
   "execution_count": 74,
   "id": "9ae34722-b90d-46a2-8227-7c7fa9806ecc",
   "metadata": {
    "collapsed": true,
    "jupyter": {
     "outputs_hidden": true,
     "source_hidden": true
    },
    "tags": []
   },
   "outputs": [
    {
     "name": "stdout",
     "output_type": "stream",
     "text": [
      "hello\n",
      "you\n",
      "test\n",
      "Done!\n"
     ]
    }
   ],
   "source": [
    "# The related `continue` statement stops the current iteration of the loop, and jumps back to the condition at the top of the loop (which in this case is always True)\n",
    "while True:\n",
    "    line = input('> ')\n",
    "    if line.startswith('#'):\n",
    "        continue\n",
    "    if line == '':\n",
    "        break\n",
    "    print(line)\n",
    "\n",
    "print('Done!')\n"
   ]
  },
  {
   "cell_type": "markdown",
   "id": "1de10ccd-d0cf-48b3-b809-38e57783c1d7",
   "metadata": {
    "jupyter": {
     "source_hidden": true
    },
    "tags": []
   },
   "source": [
    "# For loops\n",
    "\n",
    "Until now we saw while loops, which are also called \"Indefinite loops\", since it's unclear how many times they will run. Python also offers \"Definite loops\", which are nicer to work with when we know how many times the loop should run.\n",
    "These loops, called \"For loops\", because they use the `for  ... in` statement, are used mainly when we want to iterate over some collection of objects, like a tuple.\n",
    "\n",
    "Unlike indefinite loops, where we had to define an iteration variable manually, in a definite loop, the iteration variable is defined as part of the loop, and is used to refer to each item in the collection.\n"
   ]
  },
  {
   "cell_type": "code",
   "execution_count": null,
   "id": "e76beddb",
   "metadata": {},
   "outputs": [],
   "source": []
  },
  {
   "cell_type": "code",
   "execution_count": 76,
   "id": "b20b2c33",
   "metadata": {},
   "outputs": [
    {
     "name": "stdout",
     "output_type": "stream",
     "text": [
      "1\n",
      "2\n",
      "3\n",
      "4\n",
      "5\n"
     ]
    }
   ],
   "source": [
    "numbers = [1,2,3,4,5]\n",
    "\n",
    "for number in numbers:\n",
    "    print(number)"
   ]
  },
  {
   "cell_type": "code",
   "execution_count": null,
   "id": "26a4cb40-4a1c-4f20-85b1-72344a4105b1",
   "metadata": {
    "collapsed": true,
    "jupyter": {
     "outputs_hidden": true,
     "source_hidden": true
    },
    "tags": []
   },
   "outputs": [],
   "source": [
    "seconds_before_launch = (5, 4, 3, 2, 1)  # The round brackets denote that we're combining the values into a tuple\n",
    "for second in seconds_before_launch: # `seconds` here denotes the for-loop's iteration variable, which will refer to each subsequent item in the collection. We can choose any name we want for this variable\n",
    "    print(f\"T minus {second}\")\n",
    "print('Blastoff!')"
   ]
  }
 ],
 "metadata": {
  "colab": {
   "name": "Welcome to DataCamp Workspaces.ipynb",
   "provenance": []
  },
  "kernelspec": {
   "display_name": "Python 3 (ipykernel)",
   "language": "python",
   "name": "python3"
  },
  "language_info": {
   "codemirror_mode": {
    "name": "ipython",
    "version": 3
   },
   "file_extension": ".py",
   "mimetype": "text/x-python",
   "name": "python",
   "nbconvert_exporter": "python",
   "pygments_lexer": "ipython3",
   "version": "3.11.4"
  }
 },
 "nbformat": 4,
 "nbformat_minor": 5
}
