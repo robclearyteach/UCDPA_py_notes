{
 "cells": [
  {
   "cell_type": "code",
   "execution_count": null,
   "id": "ab126689",
   "metadata": {},
   "outputs": [],
   "source": [
    "msg = \"test\"\n",
    "print( id(msg) )\n",
    "msg2 = \"test2\"\n",
    "print( id(msg2) )\n",
    "\n"
   ]
  },
  {
   "cell_type": "code",
   "execution_count": null,
   "id": "5d174cff",
   "metadata": {},
   "outputs": [],
   "source": [
    "class Bid:\n",
    "    def __init__(self, amount):\n",
    "        self.amount = amount\n",
    "\n",
    "bid1 = Bid(24)\n",
    "bid2 = Bid(26)\n",
    "\n",
    "print( bid1.amount, bid2.amount )"
   ]
  },
  {
   "cell_type": "code",
   "execution_count": null,
   "id": "2404291e",
   "metadata": {},
   "outputs": [],
   "source": [
    "class Bid:\n",
    "    def __init__(self, amount, for_item):\n",
    "        self.amount = amount\n",
    "        self.for_item = for_item\n",
    "\n",
    "bid1 = Bid(24, \"table\")\n",
    "bid2 = Bid(26, \"chair\")\n",
    "\n",
    "print( bid1.amount, bid1.for_item )\n",
    "print( bid2.amount, bid2.for_item )"
   ]
  },
  {
   "cell_type": "code",
   "execution_count": null,
   "id": "ff02fc13",
   "metadata": {},
   "outputs": [],
   "source": [
    "class Bid:\n",
    "    def __init__(self, amount, for_item):\n",
    "        self.amount = amount\n",
    "        self.for_item = for_item\n",
    "\n",
    "    def __repr__(self):\n",
    "        return f\"({self.amount}, {self.for_item})\"\n",
    "\n",
    "    def __str__(self):\n",
    "        return f\"Bid: eur{self.amount} for: {self.for_item}\"\n",
    "\n",
    "bid1 = Bid(24, \"table\")\n",
    "bid2 = Bid(26, \"chair\")\n",
    "\n",
    "print( bid1.__repr__() )\n",
    "print( repr(bid2) )"
   ]
  },
  {
   "cell_type": "code",
   "execution_count": null,
   "id": "72ac918d",
   "metadata": {},
   "outputs": [],
   "source": [
    "class Bid:\n",
    "    #Bid()\n",
    "    # __init__( self = obj@23d48c58fd0 )\n",
    "    def __init__(self):\n",
    "        print( f\"init-->{ hex( id( self ) )}\" )\n",
    " \n",
    "bid = Bid()\n",
    "print( bid )"
   ]
  },
  {
   "cell_type": "code",
   "execution_count": null,
   "id": "fe1286d9",
   "metadata": {},
   "outputs": [],
   "source": [
    "class Bid():\n",
    "    def __init__(self):\n",
    "        print( f\"init-->{ hex( id( self ) )}\" )\n",
    "        \n",
    "        \n",
    "    def do_something(self):\n",
    "        print( \"in do_something\" )\n",
    "        \n",
    "bid = Bid()\n",
    "bid.do_something()"
   ]
  },
  {
   "cell_type": "code",
   "execution_count": null,
   "id": "97d4506d",
   "metadata": {},
   "outputs": [],
   "source": [
    "class Task:\n",
    "    def __init__(self):\n",
    "        self.description = \"\"\n",
    "        \n",
    "\n",
    "t1 = Task()\n",
    "t2 = Task()\n",
    "\n",
    "t1.__dict__ , t2.__dict__"
   ]
  },
  {
   "cell_type": "code",
   "execution_count": null,
   "id": "9038fbab",
   "metadata": {},
   "outputs": [],
   "source": []
  },
  {
   "cell_type": "code",
   "execution_count": null,
   "id": "d0b4a488",
   "metadata": {},
   "outputs": [],
   "source": []
  },
  {
   "cell_type": "code",
   "execution_count": null,
   "id": "949df6d0",
   "metadata": {},
   "outputs": [],
   "source": [
    "class Task:\n",
    "    description = \"\"\n",
    "\n",
    "    def __init__(self):\n",
    "        print(\"init runs\")\n",
    "        self.number = 4     #each object gets this\n",
    "        \n",
    "\n",
    "t1 = Task()\n",
    "t2 = Task()\n",
    "\n",
    "print(\"t1 dict: \", t1.__dict__)\n",
    "print(\"t2 dict: \", t2.__dict__)"
   ]
  },
  {
   "cell_type": "code",
   "execution_count": null,
   "id": "f68a2f46",
   "metadata": {},
   "outputs": [],
   "source": [
    "class Task:\n",
    "    description = \"xxxx\"     #class variable: only one in the cls object\n",
    "\n",
    "    def __init__(self):\n",
    "        print(\"init runs\")\n",
    "        self.number = 4        #instance variable: each object\n",
    "\n",
    "# print( Task.__dict__ )\n",
    "t1 = Task()\n",
    "t2 = Task()\n",
    "\n",
    "# print(t1.__dict__ )\n",
    "# print(t1.__dict__ )\n",
    "\n",
    "#use and instance variable to access the _single_ cls (:Task) variable\n",
    "print( Task.__dict__[\"description\"] )"
   ]
  },
  {
   "cell_type": "code",
   "execution_count": null,
   "id": "decd2bab",
   "metadata": {},
   "outputs": [],
   "source": []
  },
  {
   "cell_type": "code",
   "execution_count": null,
   "id": "b24322ba",
   "metadata": {},
   "outputs": [],
   "source": [
    "class Task:\n",
    "    pass\n",
    "\n",
    "t1 = Task()\n",
    "t2 = Task()\n",
    "# help(t1)\n",
    "\n",
    "print( t1.__dict__ )\n",
    "t1.description = \"wash the dishes\"\n",
    "print(\"after: \", t1.__dict__)\n",
    "print( \"t2 dict: \", t2.__dict__)"
   ]
  },
  {
   "cell_type": "code",
   "execution_count": null,
   "id": "a689a8fa",
   "metadata": {},
   "outputs": [],
   "source": [
    "class Task:\n",
    "    print_icon = \"**-**: \"     \n",
    "\n",
    "    def __init__(self, id_, owner, desc ):\n",
    "        self.id    = id_\n",
    "        self.owner = owner\n",
    "        self.desc  = desc\n",
    "\n",
    "    def add_task_field(self, field, field_value): \n",
    "        self.__setattr__(field, field_value)   #can add an instance attribute inside a method also\n",
    "        \n",
    "    def __repr__(self):\n",
    "        return f\"{Task.print_icon}{self.id}:{self.owner}:{self.desc}\"\n",
    "        \n",
    "t1 = Task(1, \"rob\", \"get to @staticmethod and @classmethod\")\n",
    "t2 = Task(2, \"tim\", \"don't forget python venv\")\n",
    "\n",
    "t1.add_task_field(\"status\", \"important\")\n",
    "t2.add_task_field(\"status\", \"important\")\n",
    "\n",
    "print(t1)\n",
    "print(t1.__dict__)\n",
    "print(t2)\n"
   ]
  },
  {
   "cell_type": "code",
   "execution_count": null,
   "id": "de9c138e",
   "metadata": {},
   "outputs": [],
   "source": [
    "class Task:\n",
    "    print_icon = \"**-**: \"   #class attribute    \n",
    "\n",
    "    def __init__(self, id_, owner, desc ):\n",
    "        self.id    = id_     #instance attribute\n",
    "        self.owner = owner\n",
    "        self.desc  = desc\n",
    "       \n",
    "    @classmethod        #class method based on the cls\n",
    "    def change_print_icon(cls, new_icon=\"xx-xx: \" ):\n",
    "        #inside 'cls' will be 'Task' from 'Task.change_print_icon...'\n",
    "        cls.print_icon = new_icon\n",
    "        \n",
    "    def __repr__(self):  #instance method: self\n",
    "        return f\"{Task.print_icon}{self.id}:{self.owner}:{self.desc}\"\n",
    "            \n",
    "t1 = Task(1, \"rob\", \"Don't forget venv\")\n",
    "print(t1)\n",
    "Task.change_print_icon()\n",
    "print(t2)"
   ]
  },
  {
   "cell_type": "code",
   "execution_count": null,
   "id": "3303088b",
   "metadata": {},
   "outputs": [],
   "source": [
    "class Task:\n",
    "    print_icon = \"**-**: \"   #class attribute    \n",
    "\n",
    "    def __init__(self, id_, owner, desc ):\n",
    "        self.id    = id_     #instance attribute\n",
    "        self.owner = owner\n",
    "        self.desc  = desc\n",
    "        \n",
    "    @staticmethod\n",
    "    def filter_evens_in_list( a_list ): #nothing to do with a Task\n",
    "        def even( n ):\n",
    "            return n%2==0\n",
    "        return filter(even, a_list)\n",
    "\n",
    "filtered_evens = Task.filter_evens_in_list( [1,2,3,4,5] ) #want to be able to do this\n",
    "print( [n for n in filtered_evens] )"
   ]
  },
  {
   "cell_type": "code",
   "execution_count": null,
   "id": "50a4047b",
   "metadata": {},
   "outputs": [],
   "source": []
  },
  {
   "cell_type": "code",
   "execution_count": null,
   "id": "e0320eb4",
   "metadata": {},
   "outputs": [],
   "source": [
    "## Dynamically accessing an instance's \n",
    "## class-name\n",
    "class Person:\n",
    "    pass\n",
    "\n",
    "class Dog:\n",
    "    pass\n",
    "\n",
    "p1 = Person()\n",
    "d1 = Dog()\n",
    "\n",
    "print( p1.__class__.__name__ )\n",
    "print( d1.__class__.__name__ )"
   ]
  },
  {
   "cell_type": "code",
   "execution_count": null,
   "id": "ee6a51f6",
   "metadata": {},
   "outputs": [],
   "source": []
  },
  {
   "cell_type": "code",
   "execution_count": null,
   "id": "f9021af5",
   "metadata": {},
   "outputs": [],
   "source": []
  },
  {
   "cell_type": "code",
   "execution_count": null,
   "id": "7bd31f4a",
   "metadata": {},
   "outputs": [],
   "source": [
    "class Person:\n",
    "    \"\"\"Represents some data for a Person\"\"\"\n",
    "    def __init__(self, first_name, last_name, an_age):\n",
    "        print(\"the __init__ is executing\")\n",
    "        self.first_name = first_name\n",
    "        self.last_name = last_name\n",
    "        self.age = an_age\n",
    "    \n",
    "    def __repr__(self):\n",
    "        # print(\"the __repr__ is executing\")\n",
    "        return f\"Person({self.first_name}, {self.last_name}, {self.age})\"\n",
    "    \n",
    "    def __str__(self):\n",
    "        # print(\"the __str__ is executing\")\n",
    "        return f\"A human-readable repr of Person {self.first_name} with age: ({self.age})\"\n",
    "\n",
    "    \"\"\"A method to return first_name<space>last_name for this person\"\"\"\n",
    "    def full_name(self):    \n",
    "        return self.first_name+\" \"+self.last_name\n",
    "    \n",
    "p = Person(\"Jane\", \"Doe\",  4)   #causes the __init__ to execute \n",
    "print( p )                      #causes __str__ to run\n",
    "print( repr(p) )                #causes __repr__ to run\n",
    "print( p.__repr__() )           #also cause __repr__ to run\n",
    "\n",
    "#other method:\n",
    "print( \"calling other method: \"+p.full_name() )"
   ]
  },
  {
   "cell_type": "code",
   "execution_count": null,
   "id": "4071463d",
   "metadata": {},
   "outputs": [],
   "source": [
    "# Example Person:\n",
    "\n",
    "class Person:\n",
    "    def __init__(self, age=18, hair_colour=\"brown\"):\n",
    "        self.age = age\n",
    "        self.hair_colour = hair_colour\n",
    "\n",
    "    def __repr__(self):\n",
    "        return f\"Person(age={self.age}, hair_colour={self.hair_colour})\"\n",
    "        \n",
    "    def __str__(self):\n",
    "        return f\"Person Aged {self.age}, with {self.hair_colour} hair\"\n",
    "    \n",
    "    def dye_hair(self, new_colour):\n",
    "        print(f\"Dyeing to {new_colour}\")\n",
    "        self.hair_colour = new_colour\n",
    "\n",
    "\n",
    "alice = Person(34)\n",
    "print(alice)  # Now we don't need to call a method to get a nice description anymore\n",
    "print(\"repr explicit: \", repr(alice) )\n",
    "print(\"str explicit: \", str(alice) )"
   ]
  },
  {
   "cell_type": "code",
   "execution_count": null,
   "id": "e23e7955",
   "metadata": {},
   "outputs": [],
   "source": [
    "# Let's look at a few more special methods\n",
    "# For example, how about equality\n",
    "\n",
    "alice = Person()\n",
    "bob = Person()\n",
    "\n",
    "# do you expect them to be equal?\n",
    "alice == bob\n",
    "# id( alice ), id( bob)     #uncomment and run this line\n"
   ]
  },
  {
   "cell_type": "code",
   "execution_count": null,
   "id": "77339c7f",
   "metadata": {},
   "outputs": [],
   "source": [
    "# No, they're not, by default any two objects are different, even if they have the same values, which probably works well for people\n",
    "alice == alice\n",
    "# print( id(alice), id(alice) )"
   ]
  },
  {
   "cell_type": "code",
   "execution_count": null,
   "id": "55293d1f",
   "metadata": {},
   "outputs": [],
   "source": [
    "# But note that this holds true even if we give the same object two names: (A rose by any other name would smell as sweet)\n",
    "alice2 = alice\n",
    "alice == alice2\n",
    "print( id(alice2), id(alice) )\n",
    "alice.name = \"lucy\"\n",
    "print(\"after set: alice\", alice.name)\n",
    "print(\"after set: alice2\",alice2.name)"
   ]
  },
  {
   "cell_type": "code",
   "execution_count": null,
   "id": "439f556d",
   "metadata": {},
   "outputs": [],
   "source": [
    "#inheritance basics"
   ]
  },
  {
   "cell_type": "code",
   "execution_count": null,
   "id": "f8b2029e",
   "metadata": {},
   "outputs": [],
   "source": [
    "# Well, both Rectangle and Circle are shapes, so let's define a Shape class\n",
    "from math import pi\n",
    "class Shape:\n",
    "    def __str__(self):\n",
    "        class_name = self.__class__.__name__  # It's not the most elegant, but this gives us the class name\n",
    "        return f\"A {class_name} with a perimeter of {self.get_perimeter():0.2f}\"\n",
    "\n",
    "\n",
    "class Rectangle(Shape):\n",
    "\n",
    "    def __init__(self, width, height):\n",
    "        self.width = width\n",
    "        self.height = height\n",
    "\n",
    "    def __repr__(self):\n",
    "        return f\"Rectangle(width={self.width}, height={self.height})\"\n",
    "    \n",
    "    def __mul__(self, factor):\n",
    "        return Rectangle(self.width * factor, self.height * factor)\n",
    "    \n",
    "    def get_perimeter(self):\n",
    "        return 2 * (self.width + self.height)\n",
    "\n",
    "    \n",
    "class Circle(Shape):\n",
    "\n",
    "    def __init__(self, radius):\n",
    "        self.radius = radius\n",
    "\n",
    "    def __repr__(self):\n",
    "        return f\"Circle(radius={self.radius})\"\n",
    "\n",
    "    def __mul__(self, factor):\n",
    "        return Circle(self.radius * factor)\n",
    "    \n",
    "    def get_perimeter(self):\n",
    "        return 2 * pi * self.radius\n",
    "    \n",
    "rect1 = Rectangle(10, 20)\n",
    "print(rect1)\n",
    "\n",
    "circle1 = Circle(10)\n",
    "print(circle1)"
   ]
  },
  {
   "cell_type": "code",
   "execution_count": null,
   "id": "35f1182e",
   "metadata": {},
   "outputs": [],
   "source": [
    "# Note that we can \"override\" an inherited method by implementing it in the child class\n",
    "\n",
    "class Circle(Shape):\n",
    "    def __init__(self, radius):\n",
    "        self.radius = radius\n",
    "\n",
    "    def __repr__(self):\n",
    "        return f\"Circle(radius={self.radius})\"\n",
    "    \n",
    "    ## Here re-defining the inherited __str__() \"over-rides\" the inherited\n",
    "    def __str__(self):  \n",
    "        return f\"I am a pretty circle\"\n",
    "\n",
    "    def __mul__(self, factor):\n",
    "        return Circle(self.radius * factor)\n",
    "    \n",
    "    def get_perimeter(self):\n",
    "        return 2 * pi * self.radius\n",
    "    \n",
    "\n",
    "circle1 = Circle(10)\n",
    "print(circle1)"
   ]
  },
  {
   "cell_type": "code",
   "execution_count": null,
   "id": "4594ed3c",
   "metadata": {},
   "outputs": [],
   "source": []
  },
  {
   "cell_type": "code",
   "execution_count": null,
   "id": "e6bdd6b4",
   "metadata": {},
   "outputs": [],
   "source": [
    "class Point:\n",
    "    def __init__(self, x_val, y_val):\n",
    "        self.x = x_val\n",
    "        self.y = y_val\n",
    "    \n",
    "    def __str__(self):\n",
    "        print_as = f\"A Point with x: {self.x}, and y:{self.y}\"\n",
    "        return print_as\n",
    "    \n",
    "    \n",
    "p1 = Point(2,3)"
   ]
  },
  {
   "cell_type": "code",
   "execution_count": null,
   "id": "2a48c6e5",
   "metadata": {},
   "outputs": [],
   "source": [
    "class Point:\n",
    "    def __init__(self, x_val, y_val):\n",
    "        self.x = x_val\n",
    "        self.y = y_val\n",
    "    \n",
    "    #define an equals method here\n",
    "    # so p1==p2 below returns True \n",
    "\n",
    "        \n",
    "p1 = Point(2, 3)\n",
    "p2 = Point(2, 3)\n",
    "\n",
    "p1 == p2"
   ]
  },
  {
   "cell_type": "code",
   "execution_count": null,
   "id": "dad5d856",
   "metadata": {},
   "outputs": [],
   "source": []
  },
  {
   "cell_type": "code",
   "execution_count": null,
   "id": "4a1f4ee9",
   "metadata": {},
   "outputs": [],
   "source": []
  },
  {
   "cell_type": "code",
   "execution_count": null,
   "id": "9c106d5a",
   "metadata": {},
   "outputs": [],
   "source": []
  },
  {
   "cell_type": "code",
   "execution_count": null,
   "id": "115d47e9",
   "metadata": {},
   "outputs": [],
   "source": [
    "# Let's look at an other example\n",
    "#  looking into Object equality\n",
    "class Person:\n",
    "    pass"
   ]
  },
  {
   "cell_type": "code",
   "execution_count": null,
   "id": "1a53b876",
   "metadata": {},
   "outputs": [],
   "source": [
    "alice = Person()\n",
    "bob = Person()\n",
    "\n",
    "# do you expect them to be equal?\n",
    "alice == bob\n",
    "id( alice ), id( bob)\n"
   ]
  },
  {
   "cell_type": "code",
   "execution_count": null,
   "id": "1dd1ee34",
   "metadata": {},
   "outputs": [],
   "source": [
    "# No, they're not, by default any two objects are different, even if they have the same values, which probably works well for people\n",
    "alice == alice\n",
    "print( id(alice), id(alice) )"
   ]
  },
  {
   "cell_type": "code",
   "execution_count": null,
   "id": "28687997",
   "metadata": {},
   "outputs": [],
   "source": [
    "# But note that this holds true even if we give the same object two names: (A rose by any other name would smell as sweet)\n",
    "alice2 = alice\n",
    "alice == alice2\n",
    "print( id(alice2), id(alice) )\n",
    "alice.name = \"lucy\"\n",
    "print(\"after set: alice\", alice.name)\n",
    "print(\"after set: alice2\",alice2.name)"
   ]
  },
  {
   "cell_type": "code",
   "execution_count": null,
   "id": "89c7b65d",
   "metadata": {},
   "outputs": [],
   "source": [
    "p = Person()\n",
    "p_copy = p\n",
    "p.age = 4\n",
    "\n",
    "\n",
    "print(p.age, p_copy.age)\n",
    "id(p), id(p_copy)"
   ]
  },
  {
   "cell_type": "code",
   "execution_count": null,
   "id": "91a964b2",
   "metadata": {},
   "outputs": [],
   "source": []
  }
 ],
 "metadata": {
  "kernelspec": {
   "display_name": "Python 3 (ipykernel)",
   "language": "python",
   "name": "python3"
  },
  "language_info": {
   "codemirror_mode": {
    "name": "ipython",
    "version": 3
   },
   "file_extension": ".py",
   "mimetype": "text/x-python",
   "name": "python",
   "nbconvert_exporter": "python",
   "pygments_lexer": "ipython3",
   "version": "3.11.4"
  }
 },
 "nbformat": 4,
 "nbformat_minor": 5
}
