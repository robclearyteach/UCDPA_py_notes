{
 "cells": [
  {
   "cell_type": "markdown",
   "id": "8cdc3437-452c-4eb9-9111-0e51b3b480ee",
   "metadata": {
    "id": "bA5ajAmk7XH6"
   },
   "source": [
    "<img style=\"display: block; margin-left: auto; margin-right: auto;\" src=\"data:image/png;base64,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\">\n",
    "<h1 style=\"margin-top: -5px; margin-left: 40px; text-align: center; font-size: 3em;\"><strong>Module 3 - Python</strong></h1>"
   ]
  },
  {
   "cell_type": "markdown",
   "id": "a7d61c8a-06cd-4d30-b9ae-9cc3444c0761",
   "metadata": {},
   "source": [
    "# Using Loops, Iterating and Slicing\n",
    "\n",
    "## In this notebook...\n",
    "\n",
    "\n",
    "1. Introduction to sequences\n",
    "1. Tuples\n",
    "1. For loops for iterating over Lists/Tuples (/Sequences)\n",
    "1. Basic loop idioms\n",
    "1. Iterating to extract a summary \n",
    "1. Built-in functions that save us writing looping code\n",
    "1. Strings\n",
    "1. Lists\n",
    "1. `range()` function (built-in)\n",
    "1. Slicing\n",
    "1. List(/Sequence) processing with enumerate and zip\n"
   ]
  },
  {
   "cell_type": "markdown",
   "id": "8faeaace",
   "metadata": {},
   "source": [
    "### Up-front example of the in-built `list()` function"
   ]
  },
  {
   "cell_type": "code",
   "execution_count": null,
   "id": "88f20140",
   "metadata": {},
   "outputs": [],
   "source": [
    "# up front example of the\n",
    "# list() function\n",
    "\n",
    "chars_in_string = list(\"bananna\")  #['b', 'a'...'n', 'a']\n",
    "print(chars_in_string)"
   ]
  },
  {
   "cell_type": "markdown",
   "id": "fbdd4765-6068-45f8-9502-36ff0d4c466a",
   "metadata": {
    "tags": []
   },
   "source": [
    "# Tuple\n",
    "\n",
    "Tuples are the simplest data structure in Python, allowing us to collect together as many values as we'd like, in a particular order, but they are immutable (cannot be changed).\n",
    "\n",
    "Tuples are created by putting multiple values in round brackets, separated with commas, e.g. (\"apple\", \"fruit\"). In many cases (when there's no ambiguity with other Python elements), the brackets can be omitted, and it's the commas that imply that we're using a tuple."
   ]
  },
  {
   "cell_type": "code",
   "execution_count": null,
   "id": "49f1fab8",
   "metadata": {},
   "outputs": [],
   "source": [
    "bus = (14, \"dundrum\")              #tuple is immutable (can't change it's elements)\n",
    "print(bus )\n",
    "\n"
   ]
  },
  {
   "cell_type": "code",
   "execution_count": null,
   "id": "1266376c",
   "metadata": {},
   "outputs": [],
   "source": []
  },
  {
   "cell_type": "code",
   "execution_count": null,
   "id": "2cd610d9",
   "metadata": {},
   "outputs": [],
   "source": []
  },
  {
   "cell_type": "code",
   "execution_count": null,
   "id": "05a41bdd",
   "metadata": {},
   "outputs": [],
   "source": []
  },
  {
   "cell_type": "code",
   "execution_count": null,
   "id": "c860348c",
   "metadata": {},
   "outputs": [],
   "source": [
    "#Indexing\n",
    "bus = (14, \"dundrum\")              #tuple is immutable (can't change it's elements)\n",
    "#      [0],  [1]\n",
    "\n"
   ]
  },
  {
   "cell_type": "markdown",
   "id": "1451906b",
   "metadata": {},
   "source": [
    "# Indexing a tuple (and other sequences)\n",
    "\n",
    "Indexing means accessing a particular item within a data structure based on its position.\n",
    "\n",
    "There are many data structure that we can index, which include tuples, lists and several others; the common name for these is \"_sequence_\".\n",
    "\n",
    "We can easily index each element by its numeric position starting with zero (same as in JS and most programming languages).\n",
    "\n",
    "| Index |  Item  |\n",
    "|:-----:|:------:|\n",
    "| 0     | apple  |\n",
    "| 1     | orange |\n",
    "| 2     | tomato |\n",
    "| 3     | banana |"
   ]
  },
  {
   "cell_type": "code",
   "execution_count": null,
   "id": "393ee77e",
   "metadata": {},
   "outputs": [],
   "source": [
    "# In Python we index a list by putting the index (an integer) in square brackets\n",
    "# after the sequence, e.g.:\n",
    "\n",
    "fruits = (\"apple\", \"orange\", \"tomato\", \"banana\")  # a tuple of strings\n",
    "fruits[2]  # Quiz - what will we get?"
   ]
  },
  {
   "cell_type": "code",
   "execution_count": null,
   "id": "9709393d",
   "metadata": {},
   "outputs": [],
   "source": [
    "# We can also use negative indexes to go from the end of the list, e.g. -1 for the last element:\n",
    "fruits[-1]"
   ]
  },
  {
   "cell_type": "code",
   "execution_count": null,
   "id": "b086d30c",
   "metadata": {},
   "outputs": [],
   "source": [
    "fruits[4]  # Quiz - what will we get now?"
   ]
  },
  {
   "cell_type": "code",
   "execution_count": null,
   "id": "4fae9a6c",
   "metadata": {},
   "outputs": [],
   "source": []
  },
  {
   "cell_type": "code",
   "execution_count": null,
   "id": "b2aa68bf",
   "metadata": {},
   "outputs": [],
   "source": []
  },
  {
   "cell_type": "code",
   "execution_count": null,
   "id": "5b8536ba",
   "metadata": {},
   "outputs": [],
   "source": []
  },
  {
   "cell_type": "code",
   "execution_count": null,
   "id": "bc21d5da",
   "metadata": {},
   "outputs": [],
   "source": []
  },
  {
   "cell_type": "code",
   "execution_count": null,
   "id": "b56e2e8c",
   "metadata": {},
   "outputs": [],
   "source": [
    "#re-visit tuple immutability now\n",
    "#recall this example...\n",
    "bus = (14, \"dundrum\")              #tuple os immutable (can't change it's elements)\n",
    "print(bus, id(bus) )\n",
    "\n",
    "#want to change 'dundrum' but can't: it's a tuple\n",
    "bus[1] = \"cabinteely\"         #it's immutable"
   ]
  },
  {
   "cell_type": "code",
   "execution_count": null,
   "id": "7ec00ea7",
   "metadata": {},
   "outputs": [],
   "source": []
  },
  {
   "cell_type": "code",
   "execution_count": null,
   "id": "afa4b99b",
   "metadata": {},
   "outputs": [],
   "source": []
  },
  {
   "cell_type": "code",
   "execution_count": null,
   "id": "f489deec",
   "metadata": {},
   "outputs": [],
   "source": []
  },
  {
   "cell_type": "code",
   "execution_count": null,
   "id": "7e87e6f0",
   "metadata": {},
   "outputs": [],
   "source": []
  },
  {
   "cell_type": "code",
   "execution_count": null,
   "id": "1c277042",
   "metadata": {},
   "outputs": [],
   "source": []
  },
  {
   "cell_type": "code",
   "execution_count": null,
   "id": "db9d3c13",
   "metadata": {},
   "outputs": [],
   "source": [
    "#getting around tuple immutability\n",
    "bus = (14, \"dundrum\")              \n",
    "print(bus, id(bus), type(bus) )\n",
    "\n",
    "#want to change 'dundrum' but can't: it's a tuple\n",
    "bus_list = list( bus )             #convert to list\n",
    "print(bus_list, id(bus_list), type(bus_list))\n",
    "print(\"changeing list now...\")\n",
    "bus_list[1] = \"cabinteely\"         #list is mutable: change list\n",
    "print(bus_list, id(bus_list), type(bus_list))\n",
    "\n",
    "bus = tuple( bus_list ) #convert back to tuple\n",
    "\n",
    "print(bus, id(bus) )"
   ]
  },
  {
   "cell_type": "code",
   "execution_count": null,
   "id": "4d6c0859",
   "metadata": {},
   "outputs": [],
   "source": []
  },
  {
   "cell_type": "code",
   "execution_count": null,
   "id": "688d7a0b",
   "metadata": {},
   "outputs": [],
   "source": []
  },
  {
   "cell_type": "code",
   "execution_count": null,
   "id": "b3b59312",
   "metadata": {},
   "outputs": [],
   "source": []
  },
  {
   "cell_type": "code",
   "execution_count": null,
   "id": "b712df7d",
   "metadata": {},
   "outputs": [],
   "source": []
  },
  {
   "cell_type": "code",
   "execution_count": null,
   "id": "567ac5d5",
   "metadata": {
    "tags": []
   },
   "outputs": [],
   "source": [
    "# Creating tuples....\n",
    "# We define a tuple by placing comma-separated values in parentheses, e.g.:\n",
    "fruits = (\"apple\", \"orange\", \"tomato\", \"banana\")  # a tuple of strings\n",
    "print(type(fruits))\n",
    "print(fruits)"
   ]
  },
  {
   "cell_type": "code",
   "execution_count": null,
   "id": "3c3ae01c",
   "metadata": {
    "tags": []
   },
   "outputs": [],
   "source": [
    "# When there's no risk of ambiguity, parentheses can be omitted, e.g.:\n",
    "other_fruits = \"pear\", \"grape\", \"pineapple\", \"watermelon\"\n",
    "print(type(other_fruits))\n",
    "print(other_fruits)"
   ]
  },
  {
   "cell_type": "code",
   "execution_count": null,
   "id": "db61d654",
   "metadata": {
    "tags": []
   },
   "outputs": [],
   "source": [
    "# Although tuples are immutable, we can use the + operator to concatenate them:\n",
    "combined_fruits = fruits + other_fruits\n",
    "print(combined_fruits)"
   ]
  },
  {
   "cell_type": "code",
   "execution_count": null,
   "id": "d6c7304e",
   "metadata": {
    "tags": []
   },
   "outputs": [],
   "source": [
    "# and the * operator to repeat them:\n",
    "repeated_fruits = fruits * 2\n",
    "print(repeated_fruits)"
   ]
  },
  {
   "cell_type": "code",
   "execution_count": null,
   "id": "64032fbd",
   "metadata": {},
   "outputs": [],
   "source": []
  },
  {
   "cell_type": "code",
   "execution_count": null,
   "id": "606875bc",
   "metadata": {},
   "outputs": [],
   "source": []
  },
  {
   "cell_type": "code",
   "execution_count": null,
   "id": "fad2cbb2",
   "metadata": {},
   "outputs": [],
   "source": [
    "# Can have more than one name referring to the same  tuple:\n",
    "fruits     = (\"apple\", \"orange\", \"tomato\", \"banana\")\n",
    "ref_fruits = fruits                     # \"aliasing\" - creating another reference to the same object in memory\n",
    "\n",
    "print( id(fruits), id(ref_fruits) )"
   ]
  },
  {
   "cell_type": "code",
   "execution_count": null,
   "id": "01a01e07",
   "metadata": {},
   "outputs": [],
   "source": [
    "other_fruits = (\"pear\", \"grape\", \"pineapple\", \"watermelon\")"
   ]
  },
  {
   "cell_type": "code",
   "execution_count": null,
   "id": "8f856bfb",
   "metadata": {},
   "outputs": [],
   "source": [
    "# We can even use the assignment operators, such as +=, but they create a new tuple:\n",
    "other_fruits = (\"pear\", \"grape\", \"pineapple\", \"watermelon\")\n",
    "fruits       = (\"apple\", \"orange\", \"tomato\", \"banana\")\n",
    "ref_fruits = fruits                     # \"aliasing\" - creating another reference to the same object in memory\n",
    "\n",
    "# fruits += other_fruits\n",
    "fruits = fruits+other_fruits          #compare output to this line used\n",
    "print(fruits)\n",
    "print(ref_fruits)"
   ]
  },
  {
   "cell_type": "code",
   "execution_count": null,
   "id": "298ca3a8",
   "metadata": {},
   "outputs": [],
   "source": []
  },
  {
   "cell_type": "code",
   "execution_count": null,
   "id": "1bff39dd",
   "metadata": {},
   "outputs": [],
   "source": []
  },
  {
   "cell_type": "code",
   "execution_count": null,
   "id": "c4dde630",
   "metadata": {},
   "outputs": [],
   "source": []
  },
  {
   "cell_type": "markdown",
   "id": "c2aeccbb",
   "metadata": {},
   "source": [
    "### f-string `{name=}` (with `=` after the name)"
   ]
  },
  {
   "cell_type": "code",
   "execution_count": null,
   "id": "bb4295c2",
   "metadata": {},
   "outputs": [],
   "source": [
    "name = \"bob\"\n",
    "age = 14\n",
    "# print( f\"{name}\")   #prints actual value of `name`\n",
    "\n",
    "print( f\"{name=}, {age=}\")  #pre-pends 'name=' to the actual value of `name`"
   ]
  },
  {
   "cell_type": "code",
   "execution_count": null,
   "id": "67c05d9b",
   "metadata": {
    "tags": []
   },
   "outputs": [],
   "source": [
    "# Using f-string `{name=}` to help see what happens in the previous cell\n",
    "other_fruits = (\"pear\", \"grape\", \"pineapple\", \"watermelon\")\n",
    "fruits       = (\"apple\", \"orange\", \"tomato\", \"banana\")\n",
    "ref_fruits = fruits  # \"aliasing\" - creating another reference to the same object in memory\n",
    "print(\"before\")\n",
    "print( f\"{id(fruits)=}, {fruits=}\")\n",
    "print( f\"{id(ref_fruits)=}, {ref_fruits=}\")\n",
    "\n",
    "fruits += other_fruits                  #compare output with this line used\n",
    "# fruits = fruits+other_fruits          #compare output to this line used\n",
    "\n",
    "print(\"after\")\n",
    "print( f\"{id(fruits)=}, {fruits=}\")\n",
    "print( f\"{id(ref_fruits)=}, {ref_fruits=}\")\n",
    "#\n",
    "#[NOTE: see difference at comparable example using lists below!]"
   ]
  },
  {
   "cell_type": "code",
   "execution_count": null,
   "id": "ddcbf380",
   "metadata": {},
   "outputs": [],
   "source": []
  },
  {
   "cell_type": "code",
   "execution_count": null,
   "id": "88c5924e",
   "metadata": {},
   "outputs": [],
   "source": []
  },
  {
   "cell_type": "code",
   "execution_count": null,
   "id": "5306d050",
   "metadata": {},
   "outputs": [],
   "source": []
  },
  {
   "cell_type": "code",
   "execution_count": null,
   "id": "b96c96d6",
   "metadata": {},
   "outputs": [],
   "source": []
  },
  {
   "cell_type": "code",
   "execution_count": null,
   "id": "15621d24",
   "metadata": {},
   "outputs": [],
   "source": [
    "#E.g. passing to a function\n",
    "letters = list(\"abcd\")\n",
    "print(letters, type(letters))"
   ]
  },
  {
   "cell_type": "code",
   "execution_count": null,
   "id": "3505ded3",
   "metadata": {},
   "outputs": [],
   "source": [
    "def change_letter( letters ):\n",
    "    #copy of the list passed in first\n",
    "    # letters = letters[:]                #create a copy of letters: new obect\n",
    "    print(f\"inside: {id(letters)=}\")\n",
    "    letters[1] = 'x'                    #changeing the copy not the outside object\n",
    "\n",
    "letters = list(\"abcd\")          # ['a', 'x', 'c', 'd']@504704\n",
    "print(f\"before: {letters=}, id: {id(letters)=}\")\n",
    "change_letter(letters)          #change_letters(@504704)\n",
    "print(f\" after: {letters=}, id: {id(letters)=}\")"
   ]
  },
  {
   "cell_type": "code",
   "execution_count": null,
   "id": "7a357302",
   "metadata": {},
   "outputs": [],
   "source": []
  },
  {
   "cell_type": "code",
   "execution_count": null,
   "id": "2c776d02",
   "metadata": {},
   "outputs": [],
   "source": []
  },
  {
   "cell_type": "code",
   "execution_count": null,
   "id": "20e85f96",
   "metadata": {},
   "outputs": [],
   "source": []
  },
  {
   "cell_type": "code",
   "execution_count": null,
   "id": "6ca24c8b",
   "metadata": {
    "tags": []
   },
   "outputs": [],
   "source": [
    "# We can use this multiplication to easily create a long tuple, e.g. with zeros:\n",
    "(0,) * 20  # Note that we need a comma after the zero to create a single-element tuple"
   ]
  },
  {
   "cell_type": "code",
   "execution_count": null,
   "id": "8d2fc706",
   "metadata": {},
   "outputs": [],
   "source": [
    "#tuple un-packing\n",
    "bus = (14, \"dundrum\")\n",
    "number, destination = bus       #un-pack\n",
    "(number, destination) = bus\n",
    "\n",
    "print(number)\n",
    "print(destination)"
   ]
  },
  {
   "cell_type": "markdown",
   "id": "5af0be39",
   "metadata": {
    "tags": []
   },
   "source": [
    "## For loops for iterating over Lists/Tuples (/Sequences)\n",
    "\n",
    "\"For\" loops often used mainly when we want to iterate over some collection of objects, like a tuple/ list, characters in a String etc.\n",
    "\n",
    "This type of looping is sometimes referred to as 'definite' repetition."
   ]
  },
  {
   "cell_type": "code",
   "execution_count": null,
   "id": "8cc49983",
   "metadata": {
    "tags": []
   },
   "outputs": [],
   "source": [
    "from time import sleep\n",
    "\n",
    "seconds_until_launch = 5\n",
    "while seconds_until_launch:\n",
    "    print(f\"T minus {seconds_until_launch}\")\n",
    "    sleep(1)\n",
    "    seconds_until_launch -= 1\n",
    "print(\"Lift off!\")\n"
   ]
  },
  {
   "cell_type": "code",
   "execution_count": null,
   "id": "a6da019d",
   "metadata": {
    "tags": []
   },
   "outputs": [],
   "source": [
    "# Using a for loop: compare:\n",
    "for seconds_until_launch in 5, 4, 3, 2, 1:\n",
    "    print(f\"T minus {seconds_until_launch}\")\n",
    "    sleep(1)\n",
    "print(\"Lift off!\")\n",
    "\n",
    "# `seconds_until_launch` here denotes the for-loop's iteration variable,\n",
    "# Python automatically updates it to refer to each subsequent item in the collection.\n",
    "# We can choose any name we want for this variable\n",
    "\n",
    "# Yes, writing 5, 4, 3, 2, 1 is a bit tedious - we'll automate that in a bit."
   ]
  },
  {
   "cell_type": "markdown",
   "id": "a0b8b5b9",
   "metadata": {},
   "source": [
    "Note: in terms of comparing to JS, while Python's loops use the `for ... in` keywords, they are actually closer to JS's `for ... of` loops."
   ]
  },
  {
   "cell_type": "code",
   "execution_count": null,
   "id": "9b405066",
   "metadata": {
    "tags": []
   },
   "outputs": [],
   "source": [
    "for friend in 'Joseph', 'Glenn', 'Sally': \n",
    "    print(f'Happy New Year {friend}')"
   ]
  },
  {
   "cell_type": "code",
   "execution_count": null,
   "id": "a2a74b6c",
   "metadata": {
    "tags": []
   },
   "outputs": [],
   "source": [
    "# Note that tuples (and other sequences) can contain different types of values:\n",
    "mixed = (3, \"Two\", True, None)\n",
    "\n",
    "for x in mixed:\n",
    "    print(f\"{x} is a {type(x)}\")\n",
    "\n",
    " # But this can be a subtle source of bugs, so be careful!"
   ]
  },
  {
   "cell_type": "markdown",
   "id": "7514df68",
   "metadata": {
    "tags": []
   },
   "source": [
    "# Loop Idioms\n",
    "\n",
    "There are common idioms, or patterns, that we use when iterating over a sequence, and we'll go over the most popular ones during these lectures, starting with some basic ones now.\n",
    "\n",
    "These next few ones examples here are particularly simple, and while you'll later see easier ways to achieve the same effect, these are useful to learn how to utilise for loops for more advanced problems."
   ]
  },
  {
   "cell_type": "code",
   "execution_count": null,
   "id": "c017a7ea",
   "metadata": {
    "tags": []
   },
   "outputs": [],
   "source": [
    "# We'll use the following tuple of numbers for all these examples, and perform different things on them\n",
    "numbers = (9, 41, 12, 3, 74, 15)"
   ]
  },
  {
   "cell_type": "code",
   "execution_count": null,
   "id": "c8ce3d79",
   "metadata": {
    "tags": []
   },
   "outputs": [],
   "source": [
    "# Pattern 1 - do something with each item (e.g. print it)\n",
    "numbers = (9, 41, 12, 3, 74, 15)\n",
    "for num in numbers:\n",
    "    print(f\"{num} squared is {num**2}\")"
   ]
  },
  {
   "cell_type": "code",
   "execution_count": null,
   "id": "eeff05be",
   "metadata": {
    "tags": []
   },
   "outputs": [],
   "source": [
    "# Pattern 2 - Apply a filter, to only act on some of the values (e.g. odd ones)\n",
    "numbers = (9, 41, 12, 3, 74, 15)\n",
    "for num in numbers:\n",
    "    if num % 2 == 1:\n",
    "        print(f\"{num} is odd\")"
   ]
  },
  {
   "cell_type": "markdown",
   "id": "428c4f74",
   "metadata": {
    "tags": []
   },
   "source": [
    "# Calculating a summary value (i.e. a \"statistic\")\n",
    "\n",
    "We oftentimes need to go over a collection and extract some value that summarises the collection.\n",
    "\n",
    "To do so, the typical strategy is to break-down the problem about a collection into something we do on each item separately.\n",
    "\n",
    "In general, we will apply the following steps:\n",
    "\n",
    "1. Define one or more variables with initial values\n",
    "1. Iterate over a collection and modify our variable(s) based on each item\n",
    "1. After the loop is done, retrieve the output we want out of our variables"
   ]
  },
  {
   "cell_type": "code",
   "execution_count": null,
   "id": "0b845ce7",
   "metadata": {
    "tags": []
   },
   "outputs": [],
   "source": [
    "# Pattern 3 - Count number of elements in the collection\n",
    "numbers = (9, 41, 12, 3, 74, 15)\n",
    "\n",
    "count = 0\n",
    "for _ in numbers:  # we use the underscore as a convention to indicate that we don't care about the value (it's a \"whatever\")\n",
    "    count += 1\n",
    "print(count)"
   ]
  },
  {
   "cell_type": "code",
   "execution_count": null,
   "id": "4454b7b6",
   "metadata": {
    "tags": []
   },
   "outputs": [],
   "source": [
    "# Pattern 4 - Summing the elements of a collection\n",
    "numbers = (9, 41, 12, 3, 74, 15)\n",
    "total = 0\n",
    "for num in numbers:\n",
    "    total += num\n",
    "print(total)"
   ]
  },
  {
   "cell_type": "code",
   "execution_count": null,
   "id": "9fb2f856",
   "metadata": {
    "tags": []
   },
   "outputs": [],
   "source": [
    "# Pattern 5 - Find the largest value\n",
    "numbers = (9, 41, 12, 3, 74, 15)\n",
    "largest = float(\"-inf\")  # Negative infinity - smaller than any real number\n",
    "for num in numbers:\n",
    "    if num > largest:\n",
    "        print(f\"Found new largest number: {num}\")\n",
    "        largest = num\n",
    "print(largest)"
   ]
  },
  {
   "cell_type": "code",
   "execution_count": null,
   "id": "7824ace6",
   "metadata": {
    "tags": []
   },
   "outputs": [],
   "source": [
    "# Pattern 6 - Find the mean\n",
    "numbers = (9, 41, 12, 3, 74, 15)\n",
    "# How would you do this?\n",
    "count = 0\n",
    "total = 0\n",
    "for num in numbers:\n",
    "    count += 1\n",
    "    total += num\n",
    "mean = total / count\n",
    "print(mean)"
   ]
  },
  {
   "cell_type": "markdown",
   "id": "a6592f38",
   "metadata": {
    "tags": []
   },
   "source": [
    "# Built-in functions that save us writing looping code\n",
    "Python offers a range of built-in functions that let us easily \n",
    "summarise sequences without a loop, here are just a few\n"
   ]
  },
  {
   "cell_type": "code",
   "execution_count": null,
   "id": "711f2744",
   "metadata": {
    "tags": []
   },
   "outputs": [],
   "source": [
    "numbers = (9, 41, 12, 3, 74, 15)"
   ]
  },
  {
   "cell_type": "code",
   "execution_count": null,
   "id": "92d95100",
   "metadata": {
    "tags": []
   },
   "outputs": [],
   "source": [
    "# Instead of:\n",
    "count = 0\n",
    "for num in numbers:\n",
    "    count += 1\n",
    "print(count)\n",
    "\n",
    "# we can use:\n",
    "print(len(numbers))"
   ]
  },
  {
   "cell_type": "code",
   "execution_count": null,
   "id": "97a1da74",
   "metadata": {
    "tags": []
   },
   "outputs": [],
   "source": [
    "# Instead of:\n",
    "total = 0\n",
    "for num in numbers:\n",
    "    total += num\n",
    "print(total)\n",
    "\n",
    "# we can use:\n",
    "print(sum(numbers))"
   ]
  },
  {
   "cell_type": "code",
   "execution_count": null,
   "id": "58181920",
   "metadata": {
    "tags": []
   },
   "outputs": [],
   "source": [
    "# And instead of:\n",
    "largest = float(\"-inf\")\n",
    "for num in numbers:\n",
    "    if num > largest:\n",
    "        # print(f\"Found new largest number: {num}\")\n",
    "        largest = num\n",
    "print(largest)\n",
    "\n",
    "# we can use:\n",
    "print(max(numbers))"
   ]
  },
  {
   "cell_type": "code",
   "execution_count": null,
   "id": "217c01ce",
   "metadata": {
    "tags": []
   },
   "outputs": [],
   "source": [
    "# Note that as mentioned last week, max() and min() can also be used on individual arguments, e.g.:\n",
    "print(max(9, 41, 12, 3, 74, 15))\n",
    "\n",
    "# Is the same as passing them in as a tuple:\n",
    "print(max((9, 41, 12, 3, 74, 15)))"
   ]
  },
  {
   "cell_type": "code",
   "execution_count": null,
   "id": "04163a17",
   "metadata": {
    "tags": []
   },
   "outputs": [],
   "source": [
    "# Note the two forms mentioned in the documentation:\n",
    "# help(max)"
   ]
  },
  {
   "cell_type": "code",
   "execution_count": null,
   "id": "8f8d82ee",
   "metadata": {
    "tags": []
   },
   "outputs": [],
   "source": [
    "# Easy challenge - use the functions above to calculate the mean of the numbers tuple\n",
    "\n",
    "sum(numbers) / len(numbers)"
   ]
  },
  {
   "cell_type": "code",
   "execution_count": null,
   "id": "77661874",
   "metadata": {
    "tags": []
   },
   "outputs": [],
   "source": [
    "# Btw, seeing how all batteries are included you could alternatively, use an import\n",
    "from statistics import mean\n",
    "print(mean(numbers))"
   ]
  },
  {
   "cell_type": "markdown",
   "id": "8d3db78b",
   "metadata": {
    "tags": []
   },
   "source": [
    "# Looping on Strings\n",
    "\n",
    "`len()` works on strings. This is not a coincidence - can you guess why?"
   ]
  },
  {
   "cell_type": "code",
   "execution_count": null,
   "id": "52bc5d52",
   "metadata": {
    "tags": []
   },
   "outputs": [],
   "source": [
    "# While strings are considered a basic data type, they are actually sequences of characters.\n",
    "# And we can iterate over them with a for loop, e.g.:\n",
    "\n",
    "s = \"Hello, world!\"\n",
    "for char in s:\n",
    "    print(char)"
   ]
  },
  {
   "cell_type": "code",
   "execution_count": null,
   "id": "86091c91",
   "metadata": {
    "tags": []
   },
   "outputs": [],
   "source": [
    "# Strings are immutable and are the same as tuples in most regards.\n",
    "# The main difference is what happens when we index them.\n",
    "# Unlike other languages, Python doesn't have a separate character type.\n",
    "# So when we index a string, we get a string of length 1, which we can index repeatedly\n",
    "\n",
    "print(s, type(s))\n",
    "print(s[0], type(s))\n",
    "print(s[0][0], type(s))\n",
    "print(s[0][0][0], type(s))"
   ]
  },
  {
   "cell_type": "markdown",
   "id": "227a50d0",
   "metadata": {
    "tags": []
   },
   "source": [
    "# Lists\n",
    "\n",
    "The most popular data type in Python.\n",
    "\n",
    "Similar to tuple, used to collect multiple values in a sequence, when the order matters.\n",
    "\n",
    "We can define lists similarly to tuples, but using square brackets rather than round brackets. Here the brackets are mandatory (otherwise we get a tuple).\n",
    "\n",
    "Unlike tuples, lists are dynamic, allowing us to add, remove and modify elements as we go."
   ]
  },
  {
   "cell_type": "code",
   "execution_count": null,
   "id": "17e77e2d",
   "metadata": {
    "tags": []
   },
   "outputs": [],
   "source": [
    "fruits = [\"apple\", \"orange\", \"tomato\", \"banana\"]  # a list of strings\n",
    "print(type(fruits))\n",
    "print(fruits)"
   ]
  },
  {
   "cell_type": "code",
   "execution_count": null,
   "id": "1f565a85",
   "metadata": {},
   "outputs": [],
   "source": []
  },
  {
   "cell_type": "markdown",
   "id": "76392ebc",
   "metadata": {},
   "source": [
    "### Indexing a list\n",
    "\n",
    "Indexing means accessing a particular item within a data structure.\n",
    "\n",
    "In the case of a list, we can easily index each element by its numeric position, but we have to be mindful that the indexes (aka indices) in python start with zero.\n",
    "\n",
    "| Index |  Item  |\n",
    "|:-----:|:------:|\n",
    "| 0     | apple  |\n",
    "| 1     | orange |\n",
    "| 2     | tomato |\n",
    "| 3     | banana |"
   ]
  },
  {
   "cell_type": "code",
   "execution_count": null,
   "id": "925063c8",
   "metadata": {},
   "outputs": [],
   "source": [
    "# In Python we index a list by putting the index (an integer) in square brackets after the list, e.g.:\n",
    "\n",
    "fruits = [\"apple\", \"orange\", \"tomato\", \"banana\"]\n",
    "\n",
    "fruits[2]  # Quiz - what will we get?"
   ]
  },
  {
   "cell_type": "code",
   "execution_count": null,
   "id": "9009cf67",
   "metadata": {},
   "outputs": [],
   "source": [
    "\"\"\"\n",
    "    [\"apple\", \"orange\", \"tomato\", \"banana\"]\n",
    "        [0]     [1]      [2]       [3]\n",
    "        [-4]    [-3]     [-2]      [-1]\n",
    "\"\"\"\n",
    "print( fruits )\n",
    "# We can also use negative indexes to go from the end of the list, e.g. -1 for the last element:\n",
    "fruits[-3]"
   ]
  },
  {
   "cell_type": "markdown",
   "id": "5741b4c2-f09b-4cd6-a0f2-56bca4a62467",
   "metadata": {
    "tags": []
   },
   "source": [
    "### Adding and removing items\n",
    "\n",
    "As mentioned, unlike tuples, which are immutable, lists are dynamic.\n",
    "\n",
    "This means we can hold a list in a variable and modify it in our programme to process it into what we want.\n",
    "\n",
    "The main way to do so will be with the `.append()`, `.extend()`, `.insert()`, `.remove()` and `.pop()` methods."
   ]
  },
  {
   "cell_type": "code",
   "execution_count": null,
   "id": "0ddee0fa-6e17-41a2-ba8e-131db8ca8040",
   "metadata": {
    "tags": []
   },
   "outputs": [],
   "source": [
    "# We can add a single item with `.append()`\n",
    "fruits = [\"apple\", \"orange\", \"lime\", \"banana\"]\n",
    "fruits.append(\"apricot\")\n",
    "fruits"
   ]
  },
  {
   "cell_type": "code",
   "execution_count": null,
   "id": "bc132af5-87d5-4396-9e60-98801118b492",
   "metadata": {
    "tags": []
   },
   "outputs": [],
   "source": [
    "# Or add a whole list, by using `.extend()`\n",
    "fruits = [\"apple\", \"orange\", \"lime\", \"banana\"]\n",
    "more_fruits = [\"grape\", \"blueberry\", \"raspberry\"]\n",
    "fruits.extend(more_fruits)\n",
    "print(fruits)"
   ]
  },
  {
   "cell_type": "code",
   "execution_count": null,
   "id": "da347ef9-cd0b-41b8-893b-5a266d8454f0",
   "metadata": {
    "tags": []
   },
   "outputs": [],
   "source": [
    "# The above only changed `fruits`, but didn't affect `more_fruits`\n",
    "print(more_fruits)"
   ]
  },
  {
   "cell_type": "code",
   "execution_count": null,
   "id": "919d749a-5840-4264-b9d1-98f6ffd33edf",
   "metadata": {},
   "outputs": [],
   "source": [
    "# append would have added the list as a single item\n",
    "fruits = [\"apple\", \"orange\", \"lime\", \"banana\"]\n",
    "more_fruits = [\"grape\", \"blueberry\", \"raspberry\"]\n",
    "fruits.append(more_fruits)\n",
    "print(fruits)"
   ]
  },
  {
   "cell_type": "code",
   "execution_count": null,
   "id": "0b34518e-ed21-4e3b-a6eb-e557a16df814",
   "metadata": {},
   "outputs": [],
   "source": [
    "# Quiz, what would happen, if I run this?\n",
    "fruits = [\"apple\", \"orange\", \"lime\", \"banana\"]\n",
    "fruits.extend(\"apricot\")\n",
    "fruits"
   ]
  },
  {
   "cell_type": "code",
   "execution_count": null,
   "id": "a24e9a25",
   "metadata": {},
   "outputs": [],
   "source": []
  },
  {
   "cell_type": "code",
   "execution_count": null,
   "id": "141243de",
   "metadata": {},
   "outputs": [],
   "source": []
  },
  {
   "cell_type": "code",
   "execution_count": null,
   "id": "4db0cfd2",
   "metadata": {},
   "outputs": [],
   "source": [
    "text = \"bananna\"\n",
    "#want to get ['b', 'a', 'n',...'a']\n",
    "\n",
    "char_list = []\n",
    "char_list.extend(\"bananna\")\n",
    "print( char_list )\n",
    "\n",
    "#note: this is easier:\n",
    "print( list(\"bananna\") )"
   ]
  },
  {
   "cell_type": "code",
   "execution_count": null,
   "id": "d4335ea5",
   "metadata": {},
   "outputs": [],
   "source": []
  },
  {
   "cell_type": "code",
   "execution_count": null,
   "id": "0c02f21b",
   "metadata": {},
   "outputs": [],
   "source": []
  },
  {
   "cell_type": "code",
   "execution_count": null,
   "id": "7ebc3e3f-839d-4612-abaa-83a7e28a5834",
   "metadata": {
    "tags": []
   },
   "outputs": [],
   "source": [
    "# insert allows us to add into a specific position\n",
    "fruits = [\"apple\", \"orange\", \"tomato\", \"banana\"]\n",
    "fruits.insert(2, \"lime\")\n",
    "fruits"
   ]
  },
  {
   "cell_type": "code",
   "execution_count": null,
   "id": "fde006d2-2ff4-488b-a85e-41cdc33f0c6f",
   "metadata": {
    "tags": []
   },
   "outputs": [],
   "source": [
    "# Are tomatos really a fruit?\n",
    "\n",
    "# Well, technically they are, but they don't belong in a fruit salad, so let's remove them:\n",
    "fruits.remove(\"tomato\")  # Remove the first occurrence of that value (and raise error, if there aren't any)\n",
    "fruits"
   ]
  },
  {
   "cell_type": "code",
   "execution_count": null,
   "id": "d9ff15c4-db20-4325-bb87-1d098d9bb5dd",
   "metadata": {
    "tags": []
   },
   "outputs": [],
   "source": [
    "# If we know the index, we can change an item in-place \n",
    "fruits = [\"apple\", \"orange\", \"tomato\", \"banana\"]\n",
    "fruits[2] = \"lime\"\n",
    "fruits"
   ]
  },
  {
   "cell_type": "code",
   "execution_count": null,
   "id": "79728f0c",
   "metadata": {
    "tags": []
   },
   "outputs": [],
   "source": [
    "# Or, we can remove an item by its index via .pop()\n",
    "fruits = [\"apple\", \"orange\", \"tomato\", \"banana\"]\n",
    "popped_fruit = fruits.pop(2)\n",
    "print(f\"pop(2) returned: {popped_fruit}\")\n",
    "print(fruits)\n",
    "\n",
    "fruits.pop() # it defaults to the last item\n",
    "print(fruits)"
   ]
  },
  {
   "cell_type": "code",
   "execution_count": null,
   "id": "174e4dcd-c087-47f0-8d3b-3dda766629cb",
   "metadata": {
    "tags": []
   },
   "outputs": [],
   "source": [
    "# Just like strings and tuples, lists support the concatenation and repeat operations with + and *\n",
    "words = [\"One\"] + [\"Another\", \"and another\"] * 3\n",
    "words  # Quiz - what will this show?"
   ]
  },
  {
   "cell_type": "code",
   "execution_count": null,
   "id": "b5d56914",
   "metadata": {},
   "outputs": [],
   "source": []
  },
  {
   "cell_type": "code",
   "execution_count": null,
   "id": "4157f968",
   "metadata": {},
   "outputs": [],
   "source": []
  },
  {
   "cell_type": "code",
   "execution_count": null,
   "id": "580e68b4",
   "metadata": {},
   "outputs": [],
   "source": [
    "other_fruits = [\"pear\", \"grape\", \"pineapple\", \"watermelon\"]\n",
    "fruits       = [\"apple\", \"orange\", \"tomato\", \"banana\"]\n",
    "ref_fruits = fruits\n",
    "fruits = fruits + other_fruits\n",
    "\n",
    "print(fruits)\n",
    "print(ref_fruits)\n",
    "#Explain: look up \"in-place\""
   ]
  },
  {
   "cell_type": "code",
   "execution_count": null,
   "id": "6a734ddb",
   "metadata": {},
   "outputs": [],
   "source": []
  },
  {
   "cell_type": "code",
   "execution_count": null,
   "id": "d91b8d33",
   "metadata": {},
   "outputs": [],
   "source": []
  },
  {
   "cell_type": "code",
   "execution_count": null,
   "id": "95af7b39",
   "metadata": {},
   "outputs": [],
   "source": [
    "# What about this?\n",
    "other_fruits = [\"pear\", \"grape\", \"pineapple\", \"watermelon\"]\n",
    "fruits       = [\"apple\", \"orange\", \"tomato\", \"banana\"]\n",
    "ref_fruits = fruits\n",
    "print( f\"{id(fruits)=}, {fruits=}\")\n",
    "print( f\"{id(ref_fruits)=}, {ref_fruits=}\")\n",
    "fruits = fruits + other_fruits\n",
    "print( f\"{id(fruits)=}, {fruits=}\")\n",
    "print( f\"{id(ref_fruits)=}, {ref_fruits=}\") "
   ]
  },
  {
   "cell_type": "code",
   "execution_count": null,
   "id": "c889235c",
   "metadata": {},
   "outputs": [],
   "source": []
  },
  {
   "cell_type": "code",
   "execution_count": null,
   "id": "8bf957a9",
   "metadata": {},
   "outputs": [],
   "source": []
  },
  {
   "cell_type": "code",
   "execution_count": null,
   "id": "1e122a07",
   "metadata": {},
   "outputs": [],
   "source": []
  },
  {
   "cell_type": "code",
   "execution_count": null,
   "id": "a95dcd63",
   "metadata": {},
   "outputs": [],
   "source": []
  },
  {
   "cell_type": "code",
   "execution_count": null,
   "id": "d0ec3b6d",
   "metadata": {},
   "outputs": [],
   "source": [
    "# NOTE: a difference\n",
    "# While .append/.extend change the list in-place, +, * create a new list\n",
    "# But unlike strings and tuples which are immutable, lists are mutable:\n",
    "list1 = [1, 2, 3]\n",
    "list2 = [4, 5, 6]\n",
    "print( f\"{id(list1)=}, {list1=}\")\n",
    "list1.append(list2)\n",
    "print( f\"{id(list1)=}, {list1=}\")"
   ]
  },
  {
   "cell_type": "code",
   "execution_count": null,
   "id": "569f5e84",
   "metadata": {},
   "outputs": [],
   "source": [
    "list1 = [1, 2, 3]\n",
    "list2 = [4, 5, 6]\n",
    "print( f\"{id(list1)=}, {list1=}\")\n",
    "list1.extend( list2 )\n",
    "print( f\"{id(list1)=}, {list1=}\")"
   ]
  },
  {
   "cell_type": "code",
   "execution_count": null,
   "id": "d82faa96",
   "metadata": {},
   "outputs": [],
   "source": [
    "list1 = [1, 2, 3]\n",
    "list2 = [4, 5, 6]\n",
    "print( f\"{id(list1)=}, {list1=}\")\n",
    "list1 = list1 + list2\n",
    "print( f\"{id(list1)=}, {list1=}\")"
   ]
  },
  {
   "cell_type": "code",
   "execution_count": null,
   "id": "217f9c76",
   "metadata": {},
   "outputs": [],
   "source": [
    "#CAUTION: with += (\"compound\" operator)\n",
    "#   behaves like extend(): in-place, no new object.\n",
    "list1 = [1, 2, 3]\n",
    "list2 = [4, 5, 6]\n",
    "print( f\"{id(list1)=}, {list1=}\")\n",
    "list1 += list2      \n",
    "print( f\"{id(list1)=}, {list1=}\")"
   ]
  },
  {
   "cell_type": "markdown",
   "id": "677cd15a",
   "metadata": {
    "tags": []
   },
   "source": [
    "### Iterating over a list"
   ]
  },
  {
   "cell_type": "code",
   "execution_count": null,
   "id": "8bec7f80-77c3-452a-8d97-77fb872d1e38",
   "metadata": {
    "tags": []
   },
   "outputs": [],
   "source": [
    "# Challenge - Write a while loop to collect input from a user into a list, until they say 'done'\n",
    "# Enter next value (or 'done' to finish): 4\n",
    "# Enter next value (or 'done' to finish): 7\n",
    "# Enter next value (or 'done' to finish): done"
   ]
  },
  {
   "cell_type": "code",
   "execution_count": null,
   "id": "8549ea58",
   "metadata": {},
   "outputs": [],
   "source": [
    "#input from a user\n",
    "typed_in = input(\"Please enter a number\")\n",
    "print(typed_in)"
   ]
  },
  {
   "cell_type": "code",
   "execution_count": null,
   "id": "211f7955",
   "metadata": {},
   "outputs": [],
   "source": [
    "#a while loop?\n",
    "count = 0\n",
    "while True:\n",
    "    print(\"inside\")\n",
    "    count += 1\n",
    "    if count >= 2:\n",
    "        break"
   ]
  },
  {
   "cell_type": "code",
   "execution_count": null,
   "id": "d6696b33",
   "metadata": {},
   "outputs": [],
   "source": [
    "#NOW Merge the above two codes so a loop\n",
    "# stops if I typed_in \"done\" (as a `sentinel`)\n",
    "typed_in = input(\"Please enter a number\")\n",
    "print( typed_in )\n",
    "while True:\n",
    "    if typed_in == \"done\":\n",
    "        print(\"you typed: done, breaking\")\n",
    "        break\n",
    "    typed_in = input(\"Please enter a number\")\n",
    "\n",
    "print(\"program continues...\")"
   ]
  },
  {
   "cell_type": "code",
   "execution_count": null,
   "id": "545a22f3",
   "metadata": {},
   "outputs": [],
   "source": []
  },
  {
   "cell_type": "code",
   "execution_count": null,
   "id": "24ed5246",
   "metadata": {},
   "outputs": [],
   "source": []
  },
  {
   "cell_type": "code",
   "execution_count": null,
   "id": "4dfcc3de",
   "metadata": {},
   "outputs": [],
   "source": []
  },
  {
   "cell_type": "code",
   "execution_count": null,
   "id": "7f2e3b51",
   "metadata": {},
   "outputs": [],
   "source": [
    "# solution variant 1\n",
    "inputs = []\n",
    "response = input(\"Enter next value (or 'done' to finish): \")\n",
    "while response != 'done':\n",
    "    inputs.append(response)\n",
    "    response = input(\"Enter next value (or 'done' to finish): \")\n",
    "\n",
    "print(inputs)"
   ]
  },
  {
   "cell_type": "code",
   "execution_count": null,
   "id": "1ee367d8",
   "metadata": {},
   "outputs": [],
   "source": []
  },
  {
   "cell_type": "code",
   "execution_count": null,
   "id": "7a19f280",
   "metadata": {},
   "outputs": [],
   "source": []
  },
  {
   "cell_type": "code",
   "execution_count": null,
   "id": "0896b8aa",
   "metadata": {},
   "outputs": [],
   "source": []
  },
  {
   "cell_type": "code",
   "execution_count": null,
   "id": "b21766ad-e917-43b3-941d-e317052341fd",
   "metadata": {
    "tags": []
   },
   "outputs": [],
   "source": [
    "# Same as above, just with an infinite loop, avoiding the repetition\n",
    "inputs = []\n",
    "while True:\n",
    "    response = input(\"Please provide the next value \")\n",
    "    if response == \"done\":\n",
    "        break\n",
    "    inputs.append(response)\n",
    "        \n",
    "print(inputs)"
   ]
  },
  {
   "cell_type": "code",
   "execution_count": null,
   "id": "3eed585b",
   "metadata": {},
   "outputs": [],
   "source": []
  },
  {
   "cell_type": "code",
   "execution_count": null,
   "id": "0087a0b0",
   "metadata": {},
   "outputs": [],
   "source": []
  },
  {
   "cell_type": "code",
   "execution_count": null,
   "id": "1e779214",
   "metadata": {},
   "outputs": [],
   "source": []
  },
  {
   "cell_type": "code",
   "execution_count": null,
   "id": "13a8f70b",
   "metadata": {},
   "outputs": [],
   "source": [
    "# And if we populated the list with strings representing numbers, we can iterate over them like this:\n",
    "inputs = list(\"123456\")\n",
    "print(inputs)\n",
    "for item in inputs:\n",
    "    print(int(item) + 1)"
   ]
  },
  {
   "cell_type": "markdown",
   "id": "4a5e29f0",
   "metadata": {},
   "source": [
    "## print() function arguments: `end=` and `sep=`\n"
   ]
  },
  {
   "cell_type": "code",
   "execution_count": null,
   "id": "96295d5d",
   "metadata": {},
   "outputs": [],
   "source": [
    "#print( x, end=\",\") - use the `end=` to change the output\n",
    "inputs = list(\"123456\")\n",
    "\n",
    "for item in inputs:\n",
    "    print(int(item) + 1, end=\", \")  #no longer on separate ('\\n') lines now"
   ]
  },
  {
   "cell_type": "code",
   "execution_count": null,
   "id": "ddf9d07b",
   "metadata": {},
   "outputs": [],
   "source": []
  },
  {
   "cell_type": "code",
   "execution_count": null,
   "id": "96a1c788",
   "metadata": {},
   "outputs": [],
   "source": []
  },
  {
   "cell_type": "code",
   "execution_count": null,
   "id": "39d1a3aa",
   "metadata": {},
   "outputs": [],
   "source": []
  },
  {
   "cell_type": "code",
   "execution_count": null,
   "id": "a35b0a9e",
   "metadata": {},
   "outputs": [],
   "source": [
    "print(\"Age:\", 25)\n",
    "print(\"Age:\", 25, sep=\"\") \n",
    "print(\"Age:\", 25, sep=\" = \")        #See output\n",
    "\n",
    "print(\"Value:\", 3.14)\n",
    "print(\"Value:\", 3.14, sep=\" -> \")   #See output\n",
    "# Output: Value -> 3.14\n",
    "  #see output"
   ]
  },
  {
   "cell_type": "code",
   "execution_count": null,
   "id": "63cb462a",
   "metadata": {},
   "outputs": [],
   "source": []
  },
  {
   "cell_type": "code",
   "execution_count": null,
   "id": "b2a749a6",
   "metadata": {},
   "outputs": [],
   "source": []
  },
  {
   "cell_type": "code",
   "execution_count": null,
   "id": "e274b1b7",
   "metadata": {},
   "outputs": [],
   "source": []
  },
  {
   "cell_type": "code",
   "execution_count": null,
   "id": "ecd8ec9c",
   "metadata": {},
   "outputs": [],
   "source": [
    "#combined use of `sep` and `end`\n",
    "print(\"print()\", \"`sep=`\", \"and\", \"`end`=\", end=\" are powerful.\\n\", sep=\"--\")\n",
    "print(\"-\"*30)\n",
    "print(\"One\", \"Two\", \"Three\", sep=\" | \", end=\" - End of line.\\n\")"
   ]
  },
  {
   "cell_type": "code",
   "execution_count": null,
   "id": "791941b9",
   "metadata": {},
   "outputs": [],
   "source": []
  },
  {
   "cell_type": "code",
   "execution_count": null,
   "id": "4702e962",
   "metadata": {},
   "outputs": [],
   "source": []
  },
  {
   "cell_type": "code",
   "execution_count": null,
   "id": "e9499b3d",
   "metadata": {},
   "outputs": [],
   "source": []
  },
  {
   "cell_type": "code",
   "execution_count": null,
   "id": "ed47afc8",
   "metadata": {},
   "outputs": [],
   "source": []
  },
  {
   "cell_type": "markdown",
   "id": "8a3b5d9d",
   "metadata": {},
   "source": [
    "## Python 3.8 + \"walrus\" operator: `:=`"
   ]
  },
  {
   "cell_type": "code",
   "execution_count": null,
   "id": "aab0146b",
   "metadata": {},
   "outputs": [],
   "source": [
    "# Example 1: Without walrus operator\n",
    "n = 10          #1. assign\n",
    "if n > 5:       #2. test value assigned\n",
    "    print(n)"
   ]
  },
  {
   "cell_type": "code",
   "execution_count": null,
   "id": "b15b0138",
   "metadata": {},
   "outputs": [],
   "source": []
  },
  {
   "cell_type": "code",
   "execution_count": null,
   "id": "03e9e48d",
   "metadata": {},
   "outputs": [],
   "source": [
    "\n",
    "# Example 1: With walrus operator\n",
    "if (n := 10) > 5:       #allows test of assigned value\n",
    "    print(n)"
   ]
  },
  {
   "cell_type": "code",
   "execution_count": null,
   "id": "621cdf38",
   "metadata": {},
   "outputs": [],
   "source": []
  },
  {
   "cell_type": "code",
   "execution_count": null,
   "id": "0a276080",
   "metadata": {},
   "outputs": [],
   "source": []
  },
  {
   "cell_type": "code",
   "execution_count": null,
   "id": "4a399837",
   "metadata": {},
   "outputs": [],
   "source": []
  },
  {
   "cell_type": "code",
   "execution_count": null,
   "id": "4b14c89e",
   "metadata": {},
   "outputs": [],
   "source": [
    "# Example 2: Without walrus operator\n",
    "line = input()\n",
    "while line != \"stop\":\n",
    "    print(line)\n",
    "    line = input()"
   ]
  },
  {
   "cell_type": "code",
   "execution_count": null,
   "id": "6dd3eda5",
   "metadata": {},
   "outputs": [],
   "source": [
    "# Example 2:  With walrus operator\n",
    "while (line := input(\"Enter a val\")) != \"stop\":\n",
    "    print(line)"
   ]
  },
  {
   "cell_type": "code",
   "execution_count": null,
   "metadata": {},
   "outputs": [],
   "source": []
  },
  {
   "cell_type": "code",
   "execution_count": null,
   "id": "ec2984d0",
   "metadata": {},
   "outputs": [],
   "source": []
  },
  {
   "cell_type": "code",
   "execution_count": null,
   "metadata": {},
   "outputs": [],
   "source": [
    "inputs = []\n",
    "response = input(\"Enter next value (or 'done' to finish): \")\n",
    "while response != 'done':\n",
    "    inputs.append(response)\n",
    "    response = input(\"Enter next value (or 'done' to finish): \")\n",
    "\n",
    "print(inputs)"
   ]
  },
  {
   "cell_type": "code",
   "execution_count": null,
   "id": "74f7986e",
   "metadata": {},
   "outputs": [],
   "source": [
    "# Walrus Operator: applied-example\n",
    "inputs = []\n",
    "while (response := input(\"Please provide the next value \")) != \"done\":\n",
    "    inputs.append(response)\n",
    "\n",
    "print(inputs)"
   ]
  },
  {
   "cell_type": "markdown",
   "id": "6da206ad-515d-4273-9a49-f3b0d41c67c6",
   "metadata": {
    "tags": []
   },
   "source": [
    "## `range()` function (built-in)\n",
    "\n",
    "`range()` is a special built-in function that generates a sequence of numbers in arithmetic progression.\n",
    "It is very useful when you want to create a list of numbers, or when you want to directly iterate over numbers in a for loop.\n",
    "\n",
    "`range()` actually creates a special immutable data structure, so we will often want to convert it to a list, using the `list()` function\n"
   ]
  },
  {
   "cell_type": "code",
   "execution_count": null,
   "id": "833be6c7-26b4-464d-9d0f-6fd8d0bc03ab",
   "metadata": {
    "tags": []
   },
   "outputs": [],
   "source": [
    "# The most basic use of range() is when we pass just one argument\n",
    "# Doing so we get the sequence of numbers from 0 up to that input (exclusive), e.g.:\n",
    "for num in range(5):\n",
    "    print(num)"
   ]
  },
  {
   "cell_type": "code",
   "execution_count": null,
   "id": "a0e36ca0-2f67-4f31-9550-48e13214401c",
   "metadata": {
    "tags": []
   },
   "outputs": [],
   "source": [
    "# If we look at its representation, we see it's lazy, not showing us the full values\n",
    "range(5)"
   ]
  },
  {
   "cell_type": "code",
   "execution_count": null,
   "id": "37471292",
   "metadata": {
    "tags": []
   },
   "outputs": [],
   "source": [
    "# Because it's lazy, we can use it to generate enormous ranges, without taking up space, e.g.:\n",
    "huge_range = range(1000000000000000000000000000)\n",
    "print(huge_range)\n",
    "\n",
    "# Although it will still take an inordinate time to iterate over it"
   ]
  },
  {
   "cell_type": "code",
   "execution_count": null,
   "id": "6822aef4-4392-4205-b054-b768567df11c",
   "metadata": {
    "tags": []
   },
   "outputs": [],
   "source": [
    "# If we want a list of the values in a range, we will use the `list()` function, e.g.:\n",
    "nums = list(range(5))\n",
    "nums"
   ]
  },
  {
   "cell_type": "code",
   "execution_count": null,
   "id": "e2628ced-8ee0-4201-9161-647d84dba743",
   "metadata": {
    "tags": []
   },
   "outputs": [],
   "source": [
    "# You might find it surprising that range(5) only goes up to 4, but it's because everything in Python starts with 0\n",
    "# Having the range end at 5 means that the number we pass in will be the length of the range:\n",
    "len(range(5))"
   ]
  },
  {
   "cell_type": "code",
   "execution_count": null,
   "id": "4d6ab77d-fc83-4731-bd45-2f3425c94713",
   "metadata": {
    "tags": []
   },
   "outputs": [],
   "source": [
    "# We can have more control over the list by passing 2 arguments:\n",
    "list(range(3, 6))  # The first parameter becomes the start (inclusive), and the second is the end (exclusive)"
   ]
  },
  {
   "cell_type": "code",
   "execution_count": null,
   "id": "dc89b0a3-6e24-4220-9a71-8413c9892b11",
   "metadata": {},
   "outputs": [],
   "source": [
    "len(range(3, 16))"
   ]
  },
  {
   "cell_type": "code",
   "execution_count": null,
   "id": "5fa8d188-cc4b-4c02-bb6e-50b113f079d0",
   "metadata": {
    "tags": []
   },
   "outputs": [],
   "source": [
    "# challenge - how would I get the numbers from -10 up to 10, inclusive?\n",
    "list(range(-10, 11))"
   ]
  },
  {
   "cell_type": "code",
   "execution_count": null,
   "id": "9cf0593a-fb9e-4738-b0e1-16d4252b0b0f",
   "metadata": {
    "tags": []
   },
   "outputs": [],
   "source": [
    "# Or 3 arguments:\n",
    "list(range(3, 11, 2))  # The additional third parameter is for the size of a jump, in this case, jump +2 every time"
   ]
  },
  {
   "cell_type": "code",
   "execution_count": null,
   "id": "97f26bc9-ea78-4c03-a4fb-d8162a8df796",
   "metadata": {
    "tags": []
   },
   "outputs": [],
   "source": [
    "#to-do: fix explanation...\n",
    "# -3, -2, -1, 0, 1, 2, 3, 4, 5, 6\n",
    "#   [] []  []  []  [] [] [6]\n",
    "#   [-10]  []  []  [] [] [] [] [-3] [-2] [-1]\n",
    "# Quiz, what will this generate?\n",
    "list(range(6, -3, -1))"
   ]
  },
  {
   "cell_type": "code",
   "execution_count": null,
   "id": "9d0ca5ef-9cae-4013-b730-4d6ac42d85af",
   "metadata": {
    "tags": []
   },
   "outputs": [],
   "source": [
    "# Challenge - let's do a launch countdown from 5 to 1 with a range\n",
    "from time import sleep\n",
    "for seconds in range(5, 0, -1):\n",
    "    sleep(1)\n",
    "    print(f\"T minus {seconds}\")\n",
    "print(\"Lift off\")"
   ]
  },
  {
   "cell_type": "code",
   "execution_count": null,
   "id": "e879c74e",
   "metadata": {},
   "outputs": [],
   "source": []
  },
  {
   "cell_type": "markdown",
   "id": "19c1acae",
   "metadata": {},
   "source": [
    "# Slicing lists\n",
    "\n",
    "Similar to how we can index a list with a single number, we *slice* a list to obtain a sub-list.\n",
    "\n",
    "For slicing, we also use square brackets, but with multiple numbers separated with colons (:)\n",
    "\n",
    "The inputs of slices are the same as with `range()`"
   ]
  },
  {
   "cell_type": "code",
   "execution_count": null,
   "id": "745bbb16",
   "metadata": {},
   "outputs": [],
   "source": [
    "simple = \"0 1 2 3 4 5 6 7 8 9\".split() #create list with individual elements\n",
    "simple"
   ]
  },
  {
   "cell_type": "code",
   "execution_count": null,
   "id": "ab7dbf92",
   "metadata": {},
   "outputs": [],
   "source": [
    "# list_name[<start> : <stop> : <step> ]\n",
    "simple[ :  : -1 ]                    #-1=> right-to-left traversal"
   ]
  },
  {
   "cell_type": "code",
   "execution_count": null,
   "id": "75d16613",
   "metadata": {},
   "outputs": [],
   "source": [
    "original = [1,2,3]\n",
    "print( id(original ) )\n",
    "copied = original[::1]\n",
    "print( id(copied))\n",
    "\n",
    "print(original, copied)"
   ]
  },
  {
   "cell_type": "code",
   "execution_count": null,
   "id": "c0238b87",
   "metadata": {},
   "outputs": [],
   "source": []
  },
  {
   "cell_type": "code",
   "execution_count": null,
   "id": "625b6e38-f948-498b-8f6d-db9e859e6a35",
   "metadata": {
    "tags": []
   },
   "outputs": [],
   "source": [
    "fruits = [\"apple\", \"orange\", \"lime\", \"banana\", \"grape\", \"blueberry\", \"raspberry\"]\n",
    "\n",
    "print(fruits[0:2])"
   ]
  },
  {
   "cell_type": "code",
   "execution_count": null,
   "id": "3cc6e2ca",
   "metadata": {
    "tags": []
   },
   "outputs": [],
   "source": [
    "print(fruits[:3])  # The first slice input defaults to zero and can be omitted"
   ]
  },
  {
   "cell_type": "code",
   "execution_count": null,
   "id": "d833e3dc-552f-474e-84c7-c81862bae097",
   "metadata": {
    "tags": []
   },
   "outputs": [],
   "source": [
    "print(fruits[2:7])"
   ]
  },
  {
   "cell_type": "code",
   "execution_count": null,
   "id": "dea98b95",
   "metadata": {
    "tags": []
   },
   "outputs": [],
   "source": [
    "fruits = [\"apple\", \"orange\", \"lime\", \"banana\", \"grape\", \"blueberry\", \"raspberry\"]\n",
    "print(fruits[2:])  # The second slice input defaults to the last element and can be omitted"
   ]
  },
  {
   "cell_type": "code",
   "execution_count": null,
   "id": "d8c7dabc-537a-4bc0-9dfa-cb99e3285de3",
   "metadata": {
    "tags": []
   },
   "outputs": [],
   "source": [
    "# Note that because the second input (the end) is exclusive, we have this invariant:\n",
    "index = 3\n",
    "first_part = fruits[:index] # everything up to that index\n",
    "second_part = fruits[index:] # everything from that index\n",
    "print(f\"First part: {first_part}\")\n",
    "print(f\"Second part: {second_part}\") # everything from that index\n",
    "print(first_part + second_part == fruits)  # combined, these two always make up the original"
   ]
  },
  {
   "cell_type": "code",
   "execution_count": null,
   "id": "741538b9-ae82-42d4-9cb3-1d551b187d77",
   "metadata": {
    "tags": []
   },
   "outputs": [],
   "source": [
    "# Just like with range, we can add a third input (after another colon) to define the size of the jump (which defaults to 1)\n",
    "fruits = [\"apple\", \"orange\", \"lime\", \"banana\", \"grape\", \"blueberry\", \"raspberry\"]\n",
    "\n",
    "print(fruits[1:6:2])"
   ]
  },
  {
   "cell_type": "code",
   "execution_count": null,
   "id": "da201b83",
   "metadata": {
    "tags": []
   },
   "outputs": [],
   "source": [
    "# This also gives us a compact way to reverse a list:\n",
    "print(fruits[::-1])"
   ]
  },
  {
   "cell_type": "markdown",
   "id": "27116b02-4322-4e52-9341-232bfd857345",
   "metadata": {
    "tags": []
   },
   "source": [
    "### Slicing challenge, how to get every evenly-positioned elements?"
   ]
  },
  {
   "cell_type": "code",
   "execution_count": null,
   "id": "5d7a719c",
   "metadata": {},
   "outputs": [],
   "source": [
    "fruits = [\"apple\", \"orange\", \"lime\", \"banana\", \"grape\", \"blueberry\", \"raspberry\"]\n",
    "even_positioned_fruits = fruits[::2]\n",
    "print(even_positioned_fruits)\n"
   ]
  },
  {
   "cell_type": "code",
   "execution_count": null,
   "id": "cdddda14",
   "metadata": {},
   "outputs": [],
   "source": [
    "text = \"supercalifragalisticexpalidocious\"\n",
    "print( text[0:len(text):2] )\n",
    "print( text[0::2] )\n",
    "print( text[:len(text):2] )\n",
    "print( text[::2] )"
   ]
  },
  {
   "cell_type": "code",
   "execution_count": null,
   "id": "1822658f",
   "metadata": {},
   "outputs": [],
   "source": [
    "text = \"supercalifragalisticexpalidocious\"\n",
    "print( text[::-2] )"
   ]
  },
  {
   "cell_type": "code",
   "execution_count": null,
   "id": "e7800298",
   "metadata": {},
   "outputs": [],
   "source": [
    "num = 4\n",
    "assert num == 5\n",
    "print(\"program continues\")"
   ]
  },
  {
   "cell_type": "code",
   "execution_count": null,
   "id": "320dd0d6-2eb3-4d28-9c14-d81aa5437de4",
   "metadata": {
    "tags": []
   },
   "outputs": [],
   "source": [
    "def every_second_of(sequence):\n",
    "    \"\"\"Return a slice of all the evenly-positioned items in the input sequence\"\"\"\n",
    "    return sequence[::2]\n",
    "\n",
    "# First test case - every second item of a list\n",
    "fruits = ['raspberry', 'blueberry', 'grape', 'banana', 'lime', 'orange', 'apple']\n",
    "assert every_second_of(fruits) == ['raspberry', 'grape', 'lime', 'apple']\n",
    "\n",
    "# Second test case - every second item of a string\n",
    "assert every_second_of('hello') == 'hlo'\n",
    "\n",
    "# Third test case - every second item of a tuple\n",
    "assert every_second_of((1, 12, 23, 34, 45, 56)) == (1, 23, 45)"
   ]
  },
  {
   "cell_type": "markdown",
   "id": "aeda541f",
   "metadata": {},
   "source": [
    "#### Slicing - each of the following slice operations \n",
    "####          ...write examples to demonstrate some meaningful sequence processing:\n",
    "    # slice l[<start>:<stop>]\n",
    "    # slice l[<start>:<stop>:step] #e.g. step\n",
    "    # slice l[<start>:<stop>:-1]   #e.g. -1\n",
    "    # slice l[:<stop>]             #e.g. start not specified\n",
    "    # slice l[<start>:]            #e.g. stop  not specified\n",
    "    # slice l[::-1]                #e.g. for reverse "
   ]
  },
  {
   "cell_type": "code",
   "execution_count": null,
   "id": "346675e2",
   "metadata": {},
   "outputs": [],
   "source": [
    "my_list = fruits = ['raspberry', 'blueberry', 'grape', 'banana', 'lime', 'orange', 'apple']\n",
    "print(my_list)"
   ]
  },
  {
   "cell_type": "code",
   "execution_count": null,
   "id": "b1e04aef",
   "metadata": {},
   "outputs": [],
   "source": []
  },
  {
   "cell_type": "code",
   "execution_count": null,
   "id": "d7ce77ad",
   "metadata": {},
   "outputs": [],
   "source": []
  },
  {
   "cell_type": "code",
   "execution_count": null,
   "id": "71da7725",
   "metadata": {},
   "outputs": [],
   "source": []
  },
  {
   "cell_type": "markdown",
   "id": "d40f46e6",
   "metadata": {},
   "source": [
    "#### List `reverse()` and `sort()`"
   ]
  },
  {
   "cell_type": "code",
   "execution_count": null,
   "id": "c4e8559c-b0da-422a-9577-72a17e9476e9",
   "metadata": {
    "tags": []
   },
   "outputs": [],
   "source": [
    "# lists have additional useful methods - remember you can use `dir()`\n",
    "\n",
    "# Of particular use are .reverse() and .sort():\n",
    "nums = [3, 1, 6]\n",
    "nums.reverse()\n",
    "print(nums)\n",
    "nums.sort()\n",
    "print(nums)\n",
    "nums.reverse()\n",
    "print(nums)"
   ]
  },
  {
   "cell_type": "code",
   "execution_count": null,
   "id": "09a0540a",
   "metadata": {
    "tags": []
   },
   "outputs": [],
   "source": [
    "# The last one can actually be performed on a single line:\n",
    "nums = [3, 1, 6]\n",
    "nums.sort(reverse=True)\n",
    "print(nums)"
   ]
  },
  {
   "cell_type": "code",
   "execution_count": null,
   "id": "8987e1d9-94b0-4b49-b400-69f683c2e4a9",
   "metadata": {},
   "outputs": [],
   "source": [
    "# There is also a non-in-place alternative\n",
    "nums = 3, 1, 6\n",
    "print(sorted(nums))  # sorted always returns a list regardless of the input type\n",
    "print(nums)"
   ]
  },
  {
   "cell_type": "markdown",
   "id": "010c251e",
   "metadata": {
    "tags": []
   },
   "source": [
    "### List (/sequence) processing with `enumerate()` and `zip()`\n",
    "\n",
    "There are two other particularly useful functions that work on sequences"
   ]
  },
  {
   "cell_type": "code",
   "execution_count": null,
   "id": "0cdcd280",
   "metadata": {
    "tags": []
   },
   "outputs": [],
   "source": [
    "# enumerate() is a useful function that returns a tuple of the index and the value at that index\n",
    "fruits = [\"apple\", \"orange\", \"lime\", \"banana\"]\n",
    "print(list(enumerate(fruits)))  # Note that we need to wrap it in a list() to see the values, as it's lazy"
   ]
  },
  {
   "cell_type": "code",
   "execution_count": null,
   "id": "77b5b6df-91e3-48c8-8b2d-15fd8a0350f9",
   "metadata": {},
   "outputs": [],
   "source": [
    "enumerate(fruits)"
   ]
  },
  {
   "cell_type": "code",
   "execution_count": null,
   "id": "d2b02081",
   "metadata": {
    "tags": []
   },
   "outputs": [],
   "source": [
    "# We often use enumerate() in a for loop (which doesn't require the list() wrapper)\n",
    "# to get a friendly presentation of list items, e.g.:\n",
    "for i, fruit in enumerate(fruits):\n",
    "    print(f\"Fruit {i}: {fruit}\")"
   ]
  },
  {
   "cell_type": "code",
   "execution_count": null,
   "id": "e1b1523b",
   "metadata": {
    "tags": []
   },
   "outputs": [],
   "source": [
    "# Or, for users who aren't used to zero-based indexing, we can start the index at any other number:\n",
    "for i, fruit in enumerate(fruits, 1):\n",
    "    print(f\"Fruit {i}: {fruit}\")"
   ]
  },
  {
   "cell_type": "code",
   "execution_count": null,
   "id": "d4358312",
   "metadata": {
    "tags": []
   },
   "outputs": [],
   "source": [
    "# The zip() function is useful for combining two lists into a list of tuples\n",
    "\n",
    "fruits = [\"apple\", \"orange\", \"lime\", \"banana\"]\n",
    "friends = [\"Bob\", \"Alice\", \"John\", \"Jane\"]\n",
    "\n",
    "print(list(zip(fruits, friends)))  # (zip is also lazy)"
   ]
  },
  {
   "cell_type": "code",
   "execution_count": null,
   "id": "2bbecc73",
   "metadata": {
    "tags": []
   },
   "outputs": [],
   "source": [
    "# We can use zip() to iterate over two lists at the same time, e.g.:\n",
    "for fruit, friend in zip(fruits, friends):\n",
    "    print(f\"{friend} likes {fruit}s\")"
   ]
  },
  {
   "cell_type": "code",
   "execution_count": null,
   "id": "6f277c61",
   "metadata": {
    "tags": []
   },
   "outputs": [],
   "source": [
    "# zip will stop when the shortest list is exhausted\n",
    "# It is commonly used in this idiom to iterate over pairs of items in a list, e.g.:\n",
    "days = [\"Monday\", \"Tuesday\", \"Wednesday\", \"Thursday\", \"Friday\", \"Saturday\", \"Sunday\"]\n",
    "for day1, day2 in zip(days, days[1:]):\n",
    "    print(f\"{day1} is followed by {day2}\")\n",
    "\n",
    "# Note that weekdays[1:] only has 6 elements, so we get 6 pairs"
   ]
  }
 ],
 "metadata": {
  "colab": {
   "name": "Welcome to DataCamp Workspaces.ipynb",
   "provenance": []
  },
  "kernelspec": {
   "display_name": "Python 3 (ipykernel)",
   "language": "python",
   "name": "python3"
  },
  "language_info": {
   "codemirror_mode": {
    "name": "ipython",
    "version": 3
   },
   "file_extension": ".py",
   "mimetype": "text/x-python",
   "name": "python",
   "nbconvert_exporter": "python",
   "pygments_lexer": "ipython3",
   "version": "3.11.4"
  },
  "vscode": {
   "interpreter": {
    "hash": "c261aea317cc0286b3b3261fbba9abdec21eaa57589985bb7a274bf54d6cc0a7"
   }
  }
 },
 "nbformat": 4,
 "nbformat_minor": 5
}
