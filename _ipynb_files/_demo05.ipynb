{
 "cells": [
  {
   "cell_type": "code",
   "execution_count": null,
   "metadata": {},
   "outputs": [],
   "source": []
  },
  {
   "cell_type": "markdown",
   "metadata": {},
   "source": [
    "#### List Comprehensions\n",
    "```Python\n",
    "new_list = [expression for item in iterable if condition]\n",
    "```\n"
   ]
  },
  {
   "cell_type": "code",
   "execution_count": null,
   "metadata": {},
   "outputs": [],
   "source": [
    "# Generate a list of even numbers from 0 to 19\n",
    "even_numbers = [x for x in range(21) if x % 2 == 0]\n",
    "print(even_numbers)"
   ]
  },
  {
   "cell_type": "code",
   "execution_count": null,
   "metadata": {},
   "outputs": [],
   "source": []
  },
  {
   "cell_type": "code",
   "execution_count": null,
   "metadata": {},
   "outputs": [],
   "source": [
    "# Generate: the squares of all the even numbers from 0 to 9\n",
    "even_squares = [x**2 for x in range(10) if x % 2 == 0]\n",
    "print(even_squares)"
   ]
  },
  {
   "cell_type": "code",
   "execution_count": null,
   "metadata": {},
   "outputs": [],
   "source": [
    "\n"
   ]
  },
  {
   "cell_type": "code",
   "execution_count": null,
   "metadata": {},
   "outputs": [],
   "source": [
    "original_list = [1, 2, 3, 4, 5]\n",
    "doubled_list = [x * 2 for x in original_list]\n",
    "\n",
    "print(doubled_list)\n"
   ]
  },
  {
   "cell_type": "code",
   "execution_count": null,
   "metadata": {},
   "outputs": [],
   "source": []
  },
  {
   "cell_type": "code",
   "execution_count": null,
   "metadata": {},
   "outputs": [],
   "source": [
    "numbers = [1, 2, 3, 4, 5, 6, 7, 8, 9]\n",
    "# odd_numbers = [x for x in numbers if x % 2 != 0]\n",
    "\n",
    "print( [x for x in numbers if x%2!=0] )\n",
    "#equivalent code below...\n",
    "odd_numbers = []\n",
    "for x in numbers:\n",
    "    if x%2!=0:\n",
    "        odd_numbers.append(x)\n",
    "        \n",
    "print(odd_numbers)\n"
   ]
  },
  {
   "cell_type": "code",
   "execution_count": null,
   "metadata": {},
   "outputs": [],
   "source": []
  },
  {
   "cell_type": "code",
   "execution_count": null,
   "metadata": {},
   "outputs": [],
   "source": [
    "positive_numbers = [2, -4, 6, -8, 10]\n",
    "squared_positive = [x**2 for x in positive_numbers if x > 0]\n",
    "\n",
    "print(squared_positive)\n"
   ]
  },
  {
   "cell_type": "code",
   "execution_count": null,
   "metadata": {},
   "outputs": [],
   "source": []
  },
  {
   "cell_type": "code",
   "execution_count": null,
   "metadata": {},
   "outputs": [],
   "source": [
    "words = [\"apple\", \"banana\", \"orange\"]\n",
    "uppercase_words = [word.upper() for word in words]\n",
    "\n",
    "print(uppercase_words)\n"
   ]
  },
  {
   "cell_type": "code",
   "execution_count": null,
   "metadata": {},
   "outputs": [],
   "source": []
  },
  {
   "cell_type": "code",
   "execution_count": null,
   "metadata": {},
   "outputs": [],
   "source": []
  },
  {
   "cell_type": "code",
   "execution_count": null,
   "metadata": {},
   "outputs": [],
   "source": []
  },
  {
   "cell_type": "code",
   "execution_count": null,
   "metadata": {},
   "outputs": [],
   "source": [
    "fruits = [\"apple\", \"banana\", \"kiwi\", \"orange\", \"grape\"]\n",
    "short_fruits = [fruit for fruit in fruits if len(fruit) <= 5]\n",
    "\n",
    "print(short_fruits)\n"
   ]
  },
  {
   "cell_type": "code",
   "execution_count": null,
   "metadata": {},
   "outputs": [],
   "source": []
  },
  {
   "cell_type": "code",
   "execution_count": null,
   "metadata": {},
   "outputs": [],
   "source": []
  },
  {
   "cell_type": "code",
   "execution_count": null,
   "metadata": {},
   "outputs": [],
   "source": []
  },
  {
   "cell_type": "markdown",
   "metadata": {},
   "source": [
    "#### Practical example: Using list comprehension to remove punctuation"
   ]
  },
  {
   "cell_type": "code",
   "execution_count": null,
   "metadata": {},
   "outputs": [],
   "source": [
    "import string\n",
    "print( string.punctuation )"
   ]
  },
  {
   "cell_type": "code",
   "execution_count": null,
   "metadata": {},
   "outputs": [],
   "source": [
    "text = \"hello\"\n",
    "text = \"-\".join(text)\n",
    "print(text)"
   ]
  },
  {
   "cell_type": "code",
   "execution_count": null,
   "metadata": {},
   "outputs": [],
   "source": [
    "print( list(\"hello\") )  #convert string to list"
   ]
  },
  {
   "cell_type": "code",
   "execution_count": null,
   "metadata": {},
   "outputs": [],
   "source": [
    "text_list = ['h', 'e', 'l', 'l', 'o']\n",
    "print(text_list)\n",
    "\n",
    "text = ''.join(text_list)  #list to string conversion idiom\n",
    "print(text)"
   ]
  },
  {
   "cell_type": "code",
   "execution_count": null,
   "metadata": {},
   "outputs": [],
   "source": [
    "# Using list comprehension to remove punctuation\n",
    "import string\n",
    "\n",
    "sentence = \"This is a sample sentence, with some punctuation!\"\n",
    "sentence_without_punctuation = ''.join([char for char in sentence if char not in string.punctuation])\n",
    "print(sentence_without_punctuation)\n",
    "#What does this code do?\n"
   ]
  },
  {
   "cell_type": "code",
   "execution_count": null,
   "metadata": {},
   "outputs": [],
   "source": [
    "import string\n",
    "print(string.punctuation)"
   ]
  },
  {
   "cell_type": "code",
   "execution_count": null,
   "metadata": {},
   "outputs": [],
   "source": [
    "import string\n",
    "\n",
    "sentence = \"This is a sample sentence? {} with! < >some punctuation!\"\n",
    "print( ''.join( [char for char in sentence if char not in string.punctuation] ))"
   ]
  },
  {
   "cell_type": "code",
   "execution_count": null,
   "metadata": {},
   "outputs": [],
   "source": []
  },
  {
   "cell_type": "markdown",
   "metadata": {},
   "source": [
    "#### quick test of list comprehension \"comprehension\" "
   ]
  },
  {
   "cell_type": "code",
   "execution_count": null,
   "metadata": {},
   "outputs": [],
   "source": [
    "#TASK: What does each of these achieve:\n",
    "list1 = [x for x in range(0, 5)] \n",
    "print(list1) \n",
    "\n",
    " \n",
    "list2 = [0.5 * x for x in list1] \n",
    "print(list2)\n",
    "\n",
    "\n",
    "list3 = [x for x in list2 if x < 1.5]\n",
    "print(list3)\n"
   ]
  },
  {
   "cell_type": "code",
   "execution_count": null,
   "metadata": {},
   "outputs": [],
   "source": [
    "#TASK: For any two from the above cell\n",
    "#   write a traditional loop to achieve the same\n"
   ]
  },
  {
   "cell_type": "code",
   "execution_count": null,
   "metadata": {},
   "outputs": [],
   "source": []
  },
  {
   "cell_type": "markdown",
   "metadata": {},
   "source": [
    "## Thinking about storing and processing data"
   ]
  },
  {
   "cell_type": "code",
   "execution_count": null,
   "metadata": {},
   "outputs": [],
   "source": [
    "#ChatGPT: https://chat.openai.com/share/4e24e302-dddb-48db-80fb-af25bfd9eb3b\n",
    "#produced...\n",
    "products = [\n",
    "    {\n",
    "        \"description\": \"Jeans\",\n",
    "        \"price\": 10.99,\n",
    "        \"amount\": 5,\n",
    "        \"image_url\": \"https://example.com/product1.jpg\"\n",
    "    },\n",
    "    {\n",
    "        \"description\": \"Stylish Jeans\",\n",
    "        \"price\": 19.99,\n",
    "        \"amount\": 10,\n",
    "        \"image_url\": \"https://example.com/product2.jpg\"\n",
    "    },\n",
    "    {\n",
    "        \"description\": \"Dress\",\n",
    "        \"price\": 15.50,\n",
    "        \"amount\": 3,\n",
    "        \"image_url\": \"https://example.com/product3.jpg\"\n",
    "    }\n",
    "]"
   ]
  },
  {
   "cell_type": "code",
   "execution_count": null,
   "metadata": {},
   "outputs": [],
   "source": [
    "#simplified for play:\n",
    "products = [\n",
    "    {\n",
    "        \"name\": \"Flask\",\n",
    "        \"description\": \"1L outdoor survival durable\",\n",
    "        \"price\": 20.99,\n",
    "    }\n",
    "    ,\n",
    "    {\n",
    "        \"name\": \"Flask\",\n",
    "        \"description\": \"0.75L outdoor survival durable\",\n",
    "        \"price\": 20.99,\n",
    "    }\n",
    "        ,\n",
    "    {\n",
    "        \"name\": \"Flask\",\n",
    "        \"description\": \"1L light picnic\",\n",
    "        \"price\": 20.99,\n",
    "    }\n",
    "]\n",
    "\n",
    "#TASK: how to get 1L flasks\n",
    "search_term = \"1L\"\n",
    "for product in products:\n",
    "    if search_term in product[\"description\"]:\n",
    "        print(product)\n",
    "    print(\"*\" * 50)"
   ]
  },
  {
   "cell_type": "code",
   "execution_count": null,
   "metadata": {},
   "outputs": [],
   "source": [
    "for product in products:\n",
    "    print(product)"
   ]
  },
  {
   "cell_type": "code",
   "execution_count": null,
   "metadata": {},
   "outputs": [],
   "source": [
    "#See products defined above\n",
    "#Another way\n",
    "search_results = []\n",
    "\n",
    "# fill search-results\n",
    "for product in products:\n",
    "    if \"1L\" in product[\"description\"]:\n",
    "        search_results.append(product)\n",
    "\n",
    "# print search-results\n",
    "for result in search_results:\n",
    "    print(result)\n"
   ]
  },
  {
   "cell_type": "code",
   "execution_count": null,
   "metadata": {},
   "outputs": [],
   "source": [
    "#See products defined above\n",
    "#using list comprehension\n",
    "search_results =  [ product for product in products if \"1L\" in product[\"description\"] ]\n",
    "\n",
    "for product in search_results:\n",
    "    print(product)\n",
    "    print(\"*\"*50)\n",
    "\n"
   ]
  },
  {
   "cell_type": "code",
   "execution_count": null,
   "metadata": {},
   "outputs": [],
   "source": [
    "#See products defined above\n",
    "#using adapted list comprehension: producing an f-string\n",
    "search_results =  [ f\"Term '1L' found in: {product}\" for product in products if \"1L\" in product[\"description\"] ]  #TASK: complete the comprehension\n",
    "\n",
    "for product in search_results:\n",
    "    print(product)\n",
    "    print(\"*\"*50)\n",
    "\n"
   ]
  },
  {
   "cell_type": "code",
   "execution_count": null,
   "metadata": {},
   "outputs": [],
   "source": [
    "#See products defined above\n",
    "#using further adapted list comprehension with else clause\n",
    "search_results =  [ f\"Term '1L' found in: {product}\" if \"1L\" in product[\"description\"] else \"** not found **\" for product in products  ] #TASK: complete the comprehension\n",
    "for product in search_results:\n",
    "    print(product)\n",
    "    print(\"*\"*50)"
   ]
  },
  {
   "cell_type": "code",
   "execution_count": null,
   "metadata": {},
   "outputs": [],
   "source": []
  },
  {
   "cell_type": "code",
   "execution_count": null,
   "metadata": {},
   "outputs": [],
   "source": [
    "#TASK: define a shop() function to return products matching the search_term\n",
    "def shop(search_term=\"\"):\n",
    "    found_products = []\n",
    "    for product in products:\n",
    "        if search_term in product[\"description\"]:\n",
    "            found_products.append(product)\n",
    "    \n",
    "    return found_products\n",
    "\n",
    "# print( shop(\"1L\") )\n",
    "for found in shop(\"1L\"):\n",
    "    print(found)"
   ]
  },
  {
   "cell_type": "code",
   "execution_count": null,
   "metadata": {},
   "outputs": [],
   "source": [
    "#TASK: a shop() function that\n",
    "#       caters for search-term correct but in wrong case...\n",
    "def shop(search_term=\"\"):\n",
    "    found_products = []\n",
    "    search_term = search_term.lower()                       #lower search_term\n",
    "\n",
    "    for product in products:\n",
    "        if search_term in product[\"description\"].lower():   #lower searched\n",
    "            found_products.append(product)\n",
    "    \n",
    "    return found_products\n",
    "    \n",
    "\n",
    "# print( shop(\"1L\") )\n",
    "for found in shop(\"sUrVivAl\"):\n",
    "    print(found) #lower-case 'l' doesn't match product description exactly"
   ]
  },
  {
   "cell_type": "code",
   "execution_count": null,
   "metadata": {},
   "outputs": [],
   "source": [
    "#Example of a Python filter() fn approach with a lambda\n",
    "# Begin... a filtering function...\n",
    "#\n",
    "def in_description(term, product):\n",
    "    if term in product[\"description\"]:\n",
    "        return True\n",
    "    else:\n",
    "        return False\n",
    "\n",
    "in_description(\"1L\", products[1]) #test products[0]... [1] "
   ]
  },
  {
   "cell_type": "code",
   "execution_count": null,
   "metadata": {},
   "outputs": [],
   "source": [
    "#alternative using in-built filter()\n",
    "def in_description(search_term, product):\n",
    "    return search_term in product[\"description\"]\n",
    "\n",
    "filtered = filter(lambda product: in_description(\"1L\", product), products ) \n",
    "for item in filtered:\n",
    "    print(item) "
   ]
  },
  {
   "cell_type": "code",
   "execution_count": null,
   "metadata": {},
   "outputs": [],
   "source": [
    "#Change 'representation' of products...\n",
    "#Adding an id to each product\n",
    "products = [\n",
    "    {   \"id\": 1,\n",
    "        \"name\": \"Flask\",\n",
    "        \"description\": \"1L outdoor survival durable\",\n",
    "        \"price\": 20.99,\n",
    "    }\n",
    "    ,\n",
    "    {\n",
    "        \"id\": 2,\n",
    "        \"name\": \"Flask\",\n",
    "        \"description\": \"0.75L outdoor survival durable\",\n",
    "        \"price\": 20.99,\n",
    "    }\n",
    "    ,\n",
    "    {\n",
    "        \"id\": 3,\n",
    "        \"name\": \"Flask\",\n",
    "        \"description\": \"1L light picnic\",\n",
    "        \"price\": 20.99,\n",
    "    }\n",
    "]\n",
    "\n",
    "def get_product(id):\n",
    "    return [product for product in products if product[\"id\"]==id]\n",
    "\n",
    "print( get_product(1) )"
   ]
  },
  {
   "cell_type": "code",
   "execution_count": null,
   "metadata": {},
   "outputs": [],
   "source": [
    "#TASK: compare above to this implementation\n",
    "products = {\n",
    "    1: {   \n",
    "        \"name\": \"Flask\",\n",
    "        \"description\": \"1L outdoor survival durable\",\n",
    "        \"price\": 20.99,\n",
    "    }\n",
    "    ,\n",
    "    2: {\n",
    "        \"name\": \"Flask\",\n",
    "        \"description\": \"0.75L outdoor survival durable\",\n",
    "        \"price\": 20.99,\n",
    "    }\n",
    "        ,\n",
    "    3: {\n",
    "        \"name\": \"Flask\",\n",
    "        \"description\": \"1L light picnic\",\n",
    "        \"price\": 20.99,\n",
    "    }\n",
    "}\n",
    "\n",
    "def get_product(id):\n",
    "    return products[id]\n",
    "\n",
    "print( get_product(3) )"
   ]
  },
  {
   "cell_type": "code",
   "execution_count": null,
   "metadata": {},
   "outputs": [],
   "source": [
    "#BUT now, the shop(search_term) is different\n",
    "# e.g. to loop over products...\n",
    "# way1\n",
    "for id, product in products.items():\n",
    "    print(f\"{id}: {product}\")"
   ]
  },
  {
   "cell_type": "code",
   "execution_count": null,
   "metadata": {},
   "outputs": [],
   "source": [
    "# e.g. to loop over products...\n",
    "# way2\n",
    "for product in products.values():\n",
    "    print(product)\n",
    "\n",
    "for id, product in products.items():\n",
    "    print(f\"{id}: {product}\")"
   ]
  },
  {
   "cell_type": "code",
   "execution_count": null,
   "metadata": {},
   "outputs": [],
   "source": [
    "# a re-write for shop(search_term)\n",
    "def shop(search_term=\"\"):\n",
    "    search_term = search_term.lower()\n",
    "    found_products = []\n",
    "    for product in products.values():\n",
    "        if search_term in product[\"description\"].lower():\n",
    "            found_products.append(product)\n",
    "    return found_products\n",
    "\n",
    "search_results = shop(\"sUrVivAl\")\n",
    "for result in search_results:\n",
    "    print(result)"
   ]
  },
  {
   "cell_type": "code",
   "execution_count": null,
   "metadata": {},
   "outputs": [],
   "source": []
  },
  {
   "cell_type": "code",
   "execution_count": null,
   "metadata": {},
   "outputs": [],
   "source": [
    "#Consider `order product by id` use-case\n",
    "#   'order/2' logic on server side\n",
    "\n",
    "# Need amount in the products now\n",
    "# E.g. use-case: can only order if in stock (amount > 0)\n",
    "products = {\n",
    "    1: {\n",
    "        \"amount\": 2,                             #ADDED\n",
    "        \"name\": \"Flask\",\n",
    "        \"description\": \"1L outdoor survival durable\",\n",
    "        \"price\": 20.99,\n",
    "    }\n",
    "    ,\n",
    "    2: {\n",
    "        \"amount\": 5,                             #ADDED\n",
    "        \"name\": \"Flask\",\n",
    "        \"description\": \"0.75L outdoor survival durable\",\n",
    "        \"price\": 20.99,\n",
    "    }\n",
    "        ,\n",
    "    3: {\n",
    "        \"amount\": 3,                             #ADDED\n",
    "        \"name\": \"Flask\",\n",
    "        \"description\": \"1L light picnic\",\n",
    "        \"price\": 20.99,\n",
    "    }\n",
    "}\n",
    "\n",
    "#start-point...\n",
    "def order(id):\n",
    "    product = products[id]\n",
    "    if product[\"amount\"]> 0:\n",
    "        product[\"amount\"]-=1\n",
    "        return product\n",
    "    else:\n",
    "        return \"Out of Stock\"\n",
    "\n",
    "order(3)\n",
    "order(3)\n",
    "order(3)\n",
    "order(3)"
   ]
  },
  {
   "cell_type": "code",
   "execution_count": null,
   "metadata": {},
   "outputs": [],
   "source": [
    "# Taking just one product to play with...\n",
    "products = {                    \n",
    "    1: {\n",
    "        \"amount\": -1,                             \n",
    "        \"name\": \"Flask\",\n",
    "        \"description\": \"1L outdoor survival durable\",\n",
    "        \"price\": 20.99,\n",
    "    }\n",
    "}\n",
    "def order(id):\n",
    "    product = products[id]\n",
    "    if product[\"amount\"] > 0:\n",
    "        product[\"amount\"] -= 1\n",
    "        return product\n",
    "    else:\n",
    "        return \"Out of Stock\"\n",
    "\n",
    "print(\"before:\\n\", products[1] )\n",
    "print(\"ordering...\")   \n",
    "print( order(1) )\n",
    "print( order(1) )\n",
    "print( order(1) )\n",
    "\n",
    "#Should work on server - so move to app.py "
   ]
  },
  {
   "cell_type": "code",
   "execution_count": null,
   "metadata": {},
   "outputs": [],
   "source": [
    "#More reaslistic product data"
   ]
  },
  {
   "cell_type": "code",
   "execution_count": null,
   "metadata": {},
   "outputs": [],
   "source": [
    "products = {\n",
    "    1:{\n",
    "        \"description\": \"Jeans\",\n",
    "        \"price\": 10.99,\n",
    "        \"amount\": 5,\n",
    "        \"image_url\": \"https://example.com/product1.jpg\"\n",
    "    },\n",
    "    2:{\n",
    "        \"description\": \"Stylish Jeans\",\n",
    "        \"price\": 19.99,\n",
    "        \"amount\": 10,\n",
    "        \"image_url\": \"https://example.com/product2.jpg\"\n",
    "    },\n",
    "    3:{\n",
    "        \"description\": \"Dress\",\n",
    "        \"price\": 15.50,\n",
    "        \"amount\": 3,\n",
    "        \"image_url\": \"https://example.com/product3.jpg\"\n",
    "    }\n",
    "}\n",
    "\n",
    "print( len(products) )\n",
    "# TASK: use len to add a new product (with new id) to the dict\n",
    "\n",
    "new_product = {\"name\": \"Test product\"}      #ADD this to the dict\n",
    "index = len(products)+1                   #Added\n",
    "products[index] = new_product               #Added\n",
    "index = len(products)+1                   #Added\n",
    "products[index] = new_product               #Added\n",
    "for product in products.values():\n",
    "    print(product)\n",
    "\n",
    "\n",
    "\n"
   ]
  }
 ],
 "metadata": {
  "kernelspec": {
   "display_name": "Python 3",
   "language": "python",
   "name": "python3"
  },
  "language_info": {
   "codemirror_mode": {
    "name": "ipython",
    "version": 3
   },
   "file_extension": ".py",
   "mimetype": "text/x-python",
   "name": "python",
   "nbconvert_exporter": "python",
   "pygments_lexer": "ipython3",
   "version": "3.11.4"
  }
 },
 "nbformat": 4,
 "nbformat_minor": 2
}
