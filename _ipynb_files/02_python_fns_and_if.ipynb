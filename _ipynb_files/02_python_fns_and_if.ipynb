{
 "cells": [
  {
   "cell_type": "markdown",
   "id": "0bdfd39e",
   "metadata": {
    "jupyter": {
     "source_hidden": true
    },
    "tags": []
   },
   "source": [
    "# Functions"
   ]
  },
  {
   "cell_type": "code",
   "execution_count": 3,
   "id": "86d1d187",
   "metadata": {},
   "outputs": [
    {
     "name": "stdout",
     "output_type": "stream",
     "text": [
      "Help on method_descriptor:\n",
      "\n",
      "lstrip(self, chars=None, /)\n",
      "    Return a copy of the string with leading whitespace removed.\n",
      "    \n",
      "    If chars is given and not None, remove characters in chars instead.\n",
      "\n"
     ]
    }
   ],
   "source": [
    "# dir(str)\n",
    "help(str.lstrip)"
   ]
  },
  {
   "cell_type": "code",
   "execution_count": 7,
   "id": "d2478c13",
   "metadata": {},
   "outputs": [
    {
     "data": {
      "text/plain": [
       "' -- this-content'"
      ]
     },
     "execution_count": 7,
     "metadata": {},
     "output_type": "execute_result"
    }
   ],
   "source": [
    "### lstrip() and rstrip()\n",
    "# suppose a file with lines: \n",
    "the_data = \" -- this-content ## \"\n",
    "\n",
    "the_data.lstrip(\" -- \")\n",
    "the_data.rstrip(\" ## \")"
   ]
  },
  {
   "cell_type": "code",
   "execution_count": 17,
   "id": "84120bba",
   "metadata": {},
   "outputs": [
    {
     "name": "stdout",
     "output_type": "stream",
     "text": [
      "this-content\n"
     ]
    }
   ],
   "source": [
    "def get_content(data):                  #write the fn\n",
    "    result = \"\"\n",
    "    result = data.lstrip(\" -- \")\n",
    "    result = result.rstrip(\" ## \")\n",
    "    return result\n",
    "\n",
    "#code using functions below\n",
    "the_data = \" -- this-content ## \"\n",
    "returned = get_content(the_data)                  #'call' for current data\n",
    "print(returned)"
   ]
  },
  {
   "cell_type": "code",
   "execution_count": 20,
   "id": "c38eda44",
   "metadata": {},
   "outputs": [
    {
     "name": "stdout",
     "output_type": "stream",
     "text": [
      "this-content\n"
     ]
    }
   ],
   "source": [
    "def get_content(data):                  #write the fn\n",
    "    result = data.lstrip(\" -- \")\n",
    "    result = result.rstrip(\" ## \")\n",
    "    return result\n",
    "\n",
    "#code using functions below\n",
    "the_data = \" -- this-content ## \"\n",
    "returned = get_content(the_data)                  #'call' for current data\n",
    "print(returned)"
   ]
  },
  {
   "cell_type": "code",
   "execution_count": null,
   "id": "b55ed404",
   "metadata": {},
   "outputs": [],
   "source": []
  },
  {
   "cell_type": "code",
   "execution_count": null,
   "id": "c70a387b",
   "metadata": {},
   "outputs": [],
   "source": []
  },
  {
   "cell_type": "code",
   "execution_count": 21,
   "id": "96a6c49b",
   "metadata": {},
   "outputs": [
    {
     "data": {
      "text/plain": [
       "'abcdefg'"
      ]
     },
     "execution_count": 21,
     "metadata": {},
     "output_type": "execute_result"
    }
   ],
   "source": [
    "# --insert the function here --\n",
    "def get_content(data):                  #write the fn\n",
    "    result = data.lstrip(\" -- \")\n",
    "    result = result.rstrip(\" ## \")\n",
    "    return result\n",
    "\n",
    "\n",
    "other_data = \" -- abcdefg ## \"          # use on (or)\n",
    "get_content(other_data)                 #'call' for other data\n"
   ]
  },
  {
   "cell_type": "code",
   "execution_count": 26,
   "id": "6a1c8f70",
   "metadata": {},
   "outputs": [
    {
     "name": "stdout",
     "output_type": "stream",
     "text": [
      "begin\n",
      "Hello\n",
      "end\n"
     ]
    }
   ],
   "source": [
    "def greet():\n",
    "    print(\"Hello\")\n",
    "\n",
    "print( \"begin\" )\n",
    "greet()\n",
    "print( \"end\" )"
   ]
  },
  {
   "cell_type": "code",
   "execution_count": 27,
   "id": "ea9cfe3a",
   "metadata": {},
   "outputs": [
    {
     "name": "stdout",
     "output_type": "stream",
     "text": [
      "a\n",
      "inside test() function\n",
      "b\n",
      "c\n"
     ]
    }
   ],
   "source": [
    "def test():\n",
    "    print(\"inside test() function\")\n",
    "    print(\"b\")\n",
    "\n",
    "print(\"a\")\n",
    "test()              #redirect\n",
    "print(\"c\")"
   ]
  },
  {
   "cell_type": "code",
   "execution_count": null,
   "id": "2fe113c2",
   "metadata": {},
   "outputs": [],
   "source": []
  },
  {
   "cell_type": "code",
   "execution_count": null,
   "id": "8f778dd5",
   "metadata": {},
   "outputs": [],
   "source": []
  },
  {
   "cell_type": "code",
   "execution_count": null,
   "id": "c617bd68",
   "metadata": {},
   "outputs": [],
   "source": []
  },
  {
   "cell_type": "code",
   "execution_count": null,
   "id": "844859da",
   "metadata": {},
   "outputs": [],
   "source": [
    "#function definitions\n",
    "def greet():                                        #note the full-colon\n",
    "    print(\"hello world!\")                           #note the indent\n",
    "\n",
    "#BELOW\n",
    "#code that uses the above functions\n",
    "\n",
    "print(\"begin program\")\n",
    "greet()                  #function call\n"
   ]
  },
  {
   "cell_type": "code",
   "execution_count": null,
   "id": "6cfb0e09",
   "metadata": {},
   "outputs": [],
   "source": [
    "# Sequence of execution \n",
    "def test():\n",
    "    print(\"inside test() function\")\n",
    "    print(\"b\")\n",
    "\n",
    "print(\"a\")\n",
    "test()\n",
    "print(\"c\")"
   ]
  },
  {
   "cell_type": "code",
   "execution_count": null,
   "id": "02ff350e",
   "metadata": {},
   "outputs": [],
   "source": []
  },
  {
   "cell_type": "code",
   "execution_count": null,
   "id": "cd9f0c52",
   "metadata": {},
   "outputs": [],
   "source": []
  },
  {
   "cell_type": "code",
   "execution_count": null,
   "id": "47d01693",
   "metadata": {},
   "outputs": [],
   "source": []
  },
  {
   "cell_type": "code",
   "execution_count": 30,
   "id": "221ec0e4",
   "metadata": {},
   "outputs": [
    {
     "name": "stdout",
     "output_type": "stream",
     "text": [
      "Hey Rob\n",
      "Hey Bill\n",
      "Hey Sue\n"
     ]
    }
   ],
   "source": [
    "#Adapt greet() to 'parameterise' it\n",
    "# TASK 1: write the print() to produce\n",
    "#          \"Hey Rob\" using the 'name' below\n",
    "name = 'Rob'\n",
    "print( f\"Hey {name}\" )\n",
    "# TASK 2: set name to 'Bill' and repeat\n",
    "name = \"Bill\"\n",
    "print( f\"Hey {name}\" )\n",
    "# TASK 3: set name to 'Bill' and repeat\n",
    "name = \"Sue\"\n",
    "print( f\"Hey {name}\" )\n",
    "# TASK 3: What do you notice?"
   ]
  },
  {
   "cell_type": "code",
   "execution_count": null,
   "id": "a98d0616",
   "metadata": {},
   "outputs": [],
   "source": []
  },
  {
   "cell_type": "code",
   "execution_count": null,
   "id": "2b18cb4f",
   "metadata": {},
   "outputs": [],
   "source": []
  },
  {
   "cell_type": "code",
   "execution_count": null,
   "id": "8eddc8ae",
   "metadata": {},
   "outputs": [],
   "source": []
  },
  {
   "cell_type": "code",
   "execution_count": null,
   "id": "2a168abb",
   "metadata": {},
   "outputs": [],
   "source": [
    "#CONCEPT: DRY - Don't Repeat Yourself"
   ]
  },
  {
   "cell_type": "code",
   "execution_count": null,
   "id": "42fece57",
   "metadata": {},
   "outputs": [],
   "source": []
  },
  {
   "cell_type": "code",
   "execution_count": null,
   "id": "a711c8cf",
   "metadata": {},
   "outputs": [],
   "source": []
  },
  {
   "cell_type": "code",
   "execution_count": null,
   "id": "58faf6e2",
   "metadata": {},
   "outputs": [],
   "source": []
  },
  {
   "cell_type": "code",
   "execution_count": 32,
   "id": "0b2fbd73",
   "metadata": {},
   "outputs": [
    {
     "name": "stdout",
     "output_type": "stream",
     "text": [
      "Hey there Sue\n",
      "Hey there Rob\n",
      "Hey there Bill\n"
     ]
    }
   ],
   "source": [
    "# Common issue in Jupyter Notebook\n",
    "#   Examine the output here: what's happening?\n",
    "#   Fix it\n",
    "def greet( a_name ):                \n",
    "    print(F\"Hey there {a_name}\")      \n",
    "\n",
    "greet(\"Sue\")                        \n",
    "greet(\"Rob\")\n",
    "greet(\"Bill\")\n"
   ]
  },
  {
   "cell_type": "code",
   "execution_count": null,
   "id": "8c3570ef",
   "metadata": {},
   "outputs": [],
   "source": []
  },
  {
   "cell_type": "code",
   "execution_count": null,
   "id": "373166ff",
   "metadata": {},
   "outputs": [],
   "source": []
  },
  {
   "cell_type": "code",
   "execution_count": null,
   "id": "6eeef946",
   "metadata": {},
   "outputs": [],
   "source": []
  },
  {
   "cell_type": "code",
   "execution_count": 33,
   "id": "179616d7",
   "metadata": {},
   "outputs": [
    {
     "name": "stdout",
     "output_type": "stream",
     "text": [
      "<class 'str'>\n"
     ]
    }
   ],
   "source": [
    "word = \"tExT\"\n",
    "print( type(word) )"
   ]
  },
  {
   "cell_type": "code",
   "execution_count": 35,
   "id": "c45edca1",
   "metadata": {},
   "outputs": [
    {
     "name": "stdout",
     "output_type": "stream",
     "text": [
      "Help on method_descriptor:\n",
      "\n",
      "lower(self, /)\n",
      "    Return a copy of the string converted to lowercase.\n",
      "\n",
      "Help on method_descriptor:\n",
      "\n",
      "casefold(self, /)\n",
      "    Return a version of the string suitable for caseless comparisons.\n",
      "\n"
     ]
    }
   ],
   "source": [
    "# dir(str)\n",
    "# help(str.lower)\n",
    "# help(str.casefold)"
   ]
  },
  {
   "cell_type": "code",
   "execution_count": 37,
   "id": "c484d0ae",
   "metadata": {},
   "outputs": [],
   "source": [
    "# Showing 'pass' and \"\"\"docstring \"\"\"\n",
    "def make_lower_case(word): \n",
    "    pass\n",
    "\n",
    "make_lower_case(\"tExT\")"
   ]
  },
  {
   "cell_type": "code",
   "execution_count": null,
   "id": "0bc71cdd",
   "metadata": {},
   "outputs": [],
   "source": [
    "def make_lower_case(word): \n",
    "    \"\"\"ToDo: write the logic\"\"\"\n",
    "\n",
    "make_lower_case(\"tExT\")"
   ]
  },
  {
   "cell_type": "code",
   "execution_count": 39,
   "id": "ffb5667a",
   "metadata": {},
   "outputs": [
    {
     "name": "stdout",
     "output_type": "stream",
     "text": [
      "text\n"
     ]
    }
   ],
   "source": [
    "def make_lower_case(word): \n",
    "\tchanged = word.lower()\n",
    "\treturn changed       \n",
    "\n",
    "returned = make_lower_case(\"tExT\")\n",
    "print(returned)\n"
   ]
  },
  {
   "cell_type": "code",
   "execution_count": 40,
   "id": "89799ea8",
   "metadata": {},
   "outputs": [
    {
     "name": "stdout",
     "output_type": "stream",
     "text": [
      "text\n"
     ]
    }
   ],
   "source": [
    "#shorten the call\n",
    "print( make_lower_case(\"tExT\") )"
   ]
  },
  {
   "cell_type": "code",
   "execution_count": 41,
   "id": "66c3dc3e",
   "metadata": {},
   "outputs": [
    {
     "name": "stdout",
     "output_type": "stream",
     "text": [
      "text\n"
     ]
    }
   ],
   "source": [
    "#shorten the fn\n",
    "def make_lower_case(word): \n",
    "    return word.lower()\n",
    "\n",
    "print( make_lower_case(\"tExT\") )"
   ]
  },
  {
   "cell_type": "code",
   "execution_count": 42,
   "id": "0fd532d9",
   "metadata": {},
   "outputs": [
    {
     "name": "stdout",
     "output_type": "stream",
     "text": [
      "i am a fish\n"
     ]
    }
   ],
   "source": [
    "#consider\n",
    "print( \"I am A FiSh\".lower() )"
   ]
  },
  {
   "cell_type": "code",
   "execution_count": 55,
   "id": "6677d7fe",
   "metadata": {},
   "outputs": [
    {
     "name": "stdout",
     "output_type": "stream",
     "text": [
      "word entered: bABY\n",
      "awwe cute!: Baby\n",
      "program continues...\n"
     ]
    }
   ],
   "source": [
    "#casefold\n",
    "# string comparisons\n",
    "entered = input(\"Enter a word: \")\n",
    "print(f\"word entered: {entered}\")\n",
    "\n",
    "if entered.casefold() == \"baby\":\n",
    "    print(f\"awwe cute!: {entered.lower().capitalize()}\")\n",
    "else:\n",
    "    print( \"no match\")\n",
    "\n",
    "print(\"program continues...\")\n"
   ]
  },
  {
   "cell_type": "code",
   "execution_count": 54,
   "id": "b8dcfc81",
   "metadata": {},
   "outputs": [
    {
     "data": {
      "text/plain": [
       "'strasse'"
      ]
     },
     "execution_count": 54,
     "metadata": {},
     "output_type": "execute_result"
    }
   ],
   "source": [
    "#casefold for robust comparison\n",
    "street = \"Straße\"\n",
    "street.casefold()"
   ]
  },
  {
   "cell_type": "code",
   "execution_count": null,
   "id": "4ad5a9f9",
   "metadata": {},
   "outputs": [],
   "source": []
  },
  {
   "cell_type": "code",
   "execution_count": null,
   "id": "01ee038d",
   "metadata": {},
   "outputs": [],
   "source": []
  },
  {
   "cell_type": "code",
   "execution_count": null,
   "id": "1ea4889f",
   "metadata": {},
   "outputs": [],
   "source": []
  },
  {
   "cell_type": "code",
   "execution_count": null,
   "id": "3d1508a6",
   "metadata": {},
   "outputs": [],
   "source": []
  },
  {
   "cell_type": "code",
   "execution_count": 57,
   "id": "2d410519",
   "metadata": {},
   "outputs": [
    {
     "name": "stdout",
     "output_type": "stream",
     "text": [
      "Help on method randint in module random:\n",
      "\n",
      "randint(a, b) method of random.Random instance\n",
      "    Return random integer in range [a, b], including both end points.\n",
      "\n"
     ]
    }
   ],
   "source": [
    "import random\n",
    "help(random.randint)"
   ]
  },
  {
   "cell_type": "code",
   "execution_count": 64,
   "id": "53674e58",
   "metadata": {},
   "outputs": [
    {
     "name": "stdout",
     "output_type": "stream",
     "text": [
      "3\n"
     ]
    }
   ],
   "source": [
    "#Generating random numbers\n",
    "import random                               #import whole module\n",
    "a_random_number = random.randint(0, 10)\n",
    "\n",
    "print( a_random_number )"
   ]
  },
  {
   "cell_type": "code",
   "execution_count": 68,
   "id": "96197e4b",
   "metadata": {},
   "outputs": [
    {
     "name": "stdout",
     "output_type": "stream",
     "text": [
      "4\n"
     ]
    }
   ],
   "source": [
    "from random import randint                  #import just the randint() function from the random module\n",
    "a_random_number = randint(0,10)\n",
    "\n",
    "print( a_random_number )"
   ]
  },
  {
   "cell_type": "code",
   "execution_count": 70,
   "id": "7bb5b8ec",
   "metadata": {},
   "outputs": [
    {
     "name": "stdout",
     "output_type": "stream",
     "text": [
      "53.732982861004395\n",
      "53.73\n"
     ]
    }
   ],
   "source": [
    "# help() and dir() for learning\n",
    "import random\n",
    "# dir(random)\n",
    "# help(random.uniform) #just fn name - no round brackets\n",
    "\n",
    "x = random.uniform(0, 100)\n",
    "print(x)\n",
    "print( F\"{x:.2F}\" )"
   ]
  },
  {
   "cell_type": "code",
   "execution_count": null,
   "id": "9154fb4b",
   "metadata": {},
   "outputs": [],
   "source": []
  },
  {
   "cell_type": "code",
   "execution_count": null,
   "id": "b54d1447",
   "metadata": {},
   "outputs": [],
   "source": []
  },
  {
   "cell_type": "code",
   "execution_count": null,
   "id": "c7080a58",
   "metadata": {},
   "outputs": [],
   "source": []
  },
  {
   "cell_type": "code",
   "execution_count": 71,
   "id": "caa867d0",
   "metadata": {},
   "outputs": [
    {
     "name": "stdout",
     "output_type": "stream",
     "text": [
      "age is four\n"
     ]
    }
   ],
   "source": [
    "#if-statements in Python\n",
    "# an 'if' solo (on it's one)\n",
    "age = 4\n",
    "\n",
    "if age == 4 :         # 'if (age == 4):'  not so Pythonic with round brakets\n",
    "    print( \"age is four\")\n",
    "          "
   ]
  },
  {
   "cell_type": "code",
   "execution_count": 72,
   "id": "99e3d935",
   "metadata": {},
   "outputs": [],
   "source": [
    "#an if-else: See 'pass' and \"\"\"doc-string\"\"\" use again\n",
    "if age == 4:\n",
    "    \"\"\"to-do: write logic\"\"\"            #doc-string instead of pass\n",
    "else:\n",
    "    pass                                #'pass' keyword"
   ]
  },
  {
   "cell_type": "code",
   "execution_count": null,
   "id": "40a08cc2",
   "metadata": {},
   "outputs": [],
   "source": [
    "#an if-elif\n",
    "#   and\n",
    "#an if-elif-else\n",
    "\n",
    "if age==4:\n",
    "    pass\n",
    "elif age == 5:\n",
    "    pass\n",
    "\n",
    "\n",
    "if age == 4:\n",
    "    pass\n",
    "elif age == 5:\n",
    "    pass\n",
    "else:                       #catch-all clause\n",
    "    print(\"for all else\")"
   ]
  },
  {
   "cell_type": "code",
   "execution_count": null,
   "id": "56d157cd",
   "metadata": {},
   "outputs": [],
   "source": []
  },
  {
   "cell_type": "code",
   "execution_count": null,
   "id": "8387a80f",
   "metadata": {},
   "outputs": [],
   "source": []
  },
  {
   "cell_type": "code",
   "execution_count": 74,
   "id": "27e31b55",
   "metadata": {},
   "outputs": [
    {
     "name": "stdout",
     "output_type": "stream",
     "text": [
      "less than B\n"
     ]
    }
   ],
   "source": [
    "grade = 1\n",
    "\n",
    "# ...0.....     70    80     90.....100\n",
    "\n",
    "if 90 < grade <= 100:  # grade > 90 and grade <= 100\n",
    "    print(\"A\")\n",
    "elif grade > 80:\n",
    "    print(\"B\")\n",
    "else:                       #catch-all clause\n",
    "    print(\"less than B\")"
   ]
  },
  {
   "cell_type": "code",
   "execution_count": null,
   "id": "f6633ea1",
   "metadata": {},
   "outputs": [],
   "source": []
  },
  {
   "cell_type": "code",
   "execution_count": null,
   "id": "6cc3c3bb",
   "metadata": {},
   "outputs": [],
   "source": []
  },
  {
   "cell_type": "code",
   "execution_count": null,
   "id": "e607a0db",
   "metadata": {},
   "outputs": [],
   "source": []
  },
  {
   "cell_type": "code",
   "execution_count": null,
   "id": "b352842f",
   "metadata": {},
   "outputs": [],
   "source": []
  },
  {
   "cell_type": "code",
   "execution_count": null,
   "id": "030e471d",
   "metadata": {},
   "outputs": [],
   "source": [
    "#General WAY of writing a python script/program: see PEP08\n",
    "#import(s) at the top\n",
    "import random\n",
    "\n",
    "#function definitions\n",
    "def do_this():\n",
    "    print(\"do this\")\n",
    "    \n",
    "def do_that():\n",
    "    print(\"do that\")\n",
    "\n",
    "\n",
    "#code that uses the function definitions\n",
    "num = random.randint(0, 10)\n",
    "print(f\"random generated: {num}\" )\n",
    "\n",
    "if num > 5:\n",
    "    do_this()\n",
    "else:\n",
    "    do_that()\n",
    "\n",
    "print(\"program continues\")   \n",
    "    "
   ]
  },
  {
   "cell_type": "code",
   "execution_count": null,
   "id": "ca4db530",
   "metadata": {},
   "outputs": [],
   "source": []
  },
  {
   "cell_type": "code",
   "execution_count": null,
   "id": "9da91578",
   "metadata": {},
   "outputs": [],
   "source": []
  },
  {
   "cell_type": "code",
   "execution_count": null,
   "id": "09e99b45",
   "metadata": {},
   "outputs": [],
   "source": []
  },
  {
   "cell_type": "code",
   "execution_count": null,
   "id": "e183129b",
   "metadata": {},
   "outputs": [],
   "source": [
    "#BELOW: what varies? what stays the same?\n",
    "\n",
    "# get <food>\n",
    "# fill <vessel> with <liquid>\n",
    "# put <food> in <vessel>\n",
    "# turn on heat\n",
    "\n",
    "# get <food>\n",
    "# fill <vessel> with <liquid>\n",
    "# put <food> in <vessel>\n",
    "# turn on heat\n",
    "\n",
    "# get <food>\n",
    "# fill <vessel> with <liquid>\n",
    "# put <food> in <vessel>\n",
    "# turn on heat"
   ]
  },
  {
   "cell_type": "code",
   "execution_count": null,
   "id": "1cba9e8d",
   "metadata": {},
   "outputs": [],
   "source": []
  },
  {
   "cell_type": "code",
   "execution_count": null,
   "id": "8b5cf554",
   "metadata": {},
   "outputs": [],
   "source": []
  },
  {
   "cell_type": "code",
   "execution_count": null,
   "id": "6016b0ea",
   "metadata": {},
   "outputs": [],
   "source": []
  },
  {
   "cell_type": "code",
   "execution_count": null,
   "id": "f54ce270",
   "metadata": {},
   "outputs": [],
   "source": []
  },
  {
   "cell_type": "code",
   "execution_count": null,
   "id": "e9611edf",
   "metadata": {},
   "outputs": [],
   "source": []
  },
  {
   "cell_type": "code",
   "execution_count": null,
   "id": "4174db0c",
   "metadata": {},
   "outputs": [],
   "source": []
  },
  {
   "cell_type": "code",
   "execution_count": null,
   "id": "df8d16ac",
   "metadata": {},
   "outputs": [],
   "source": []
  },
  {
   "cell_type": "code",
   "execution_count": 76,
   "id": "ed6250b8",
   "metadata": {},
   "outputs": [
    {
     "name": "stdout",
     "output_type": "stream",
     "text": [
      "get rice\n",
      "fill pot with water\n",
      "put rice in pot\n",
      "turn on heat\n",
      "**************************************************\n",
      "get rissotto\n",
      "fill pan with wine\n",
      "put rissotto in pan\n",
      "turn on heat\n"
     ]
    }
   ],
   "source": [
    "# Separate what varies from what stays the same...\n",
    "def cook(food, vessel, liquid):                     #\"parameters\"\n",
    "    print( f\"get {food}\" )\n",
    "    print( f\"fill {vessel} with {liquid}\" )\n",
    "    print( f\"put {food} in {vessel}\" )\n",
    "    print( f\"turn on heat\" )\n",
    "\n",
    "cook(\"rice\", \"pot\", \"water\") #\"passing in  'rice', 'pot' and 'water' as argument\"\n",
    "print( \"*\"*50)\n",
    "cook(\"rissotto\", \"pan\", \"wine\")"
   ]
  },
  {
   "cell_type": "code",
   "execution_count": null,
   "id": "d9d37ede",
   "metadata": {},
   "outputs": [],
   "source": []
  },
  {
   "cell_type": "code",
   "execution_count": null,
   "id": "e9143442",
   "metadata": {},
   "outputs": [],
   "source": []
  },
  {
   "cell_type": "code",
   "execution_count": null,
   "id": "082559f6",
   "metadata": {},
   "outputs": [],
   "source": []
  },
  {
   "cell_type": "code",
   "execution_count": null,
   "id": "823e40ef",
   "metadata": {},
   "outputs": [],
   "source": []
  },
  {
   "cell_type": "code",
   "execution_count": null,
   "id": "c77e357a",
   "metadata": {},
   "outputs": [],
   "source": []
  },
  {
   "cell_type": "code",
   "execution_count": null,
   "id": "ef143d67",
   "metadata": {},
   "outputs": [],
   "source": []
  },
  {
   "cell_type": "code",
   "execution_count": 82,
   "id": "1c61c004",
   "metadata": {},
   "outputs": [
    {
     "name": "stdout",
     "output_type": "stream",
     "text": [
      "Help on function cook in module __main__:\n",
      "\n",
      "cook(food, liquid, vessel)\n",
      "    simulates cooking food in a liquid in a vessel\n",
      "\n"
     ]
    }
   ],
   "source": [
    "#imports at the top\n",
    "import random\n",
    "\n",
    "#function definitions section\n",
    "def message():\n",
    "    \"\"\"prints a message to the screen\"\"\"\n",
    "    print(\"\\nmake some food...\")\n",
    "    \n",
    "def cook( food, liquid, vessel):\n",
    "    \"\"\"simulates cooking food in a liquid in a vessel\"\"\"\n",
    "    print(\"\\tget\", food)                 #food 'varies'\n",
    "    print(\"\\tfill a pot with\", liquid)   #liquid can vary\n",
    "    print(\"\\tput\", food, \"in the\", vessel )\n",
    "    print(\"\\tturn on the heat\")\n",
    "\n",
    "def decide():\n",
    "    \"\"\"\n",
    "        simulates a decision of whether or not to eat\n",
    "    \"\"\"\n",
    "    num = random.randint(0, 10)\n",
    "    print(f\"random generated: {num}\" )\n",
    "\n",
    "    if num > 5:\n",
    "        cook(\"carrots\", \"beer\", \"frying-pan\")  #calling another function from within another\n",
    "    else:\n",
    "        print(\"go hungry\")\n",
    "\n",
    "    return \"that's life!\"\n",
    "\n",
    "#code that uses the above functions\n",
    "# message()\n",
    "# print( decide() )\n",
    "# message()\n",
    "# print( decide() )\n",
    "help(cook)"
   ]
  },
  {
   "cell_type": "code",
   "execution_count": null,
   "id": "3c8fba45",
   "metadata": {},
   "outputs": [],
   "source": [
    "#test importing from a module of our own creation"
   ]
  },
  {
   "cell_type": "code",
   "execution_count": null,
   "id": "a279a056",
   "metadata": {},
   "outputs": [],
   "source": [
    "import my_module #DO NOT PUT .py\n",
    "my_module.test_fn()\n",
    "my_module.message()"
   ]
  },
  {
   "cell_type": "code",
   "execution_count": null,
   "id": "7c78bdde",
   "metadata": {},
   "outputs": [],
   "source": []
  },
  {
   "cell_type": "code",
   "execution_count": null,
   "id": "092284e4",
   "metadata": {},
   "outputs": [],
   "source": []
  },
  {
   "cell_type": "code",
   "execution_count": null,
   "id": "50403b2b",
   "metadata": {},
   "outputs": [],
   "source": []
  },
  {
   "cell_type": "code",
   "execution_count": null,
   "id": "d6a57104",
   "metadata": {},
   "outputs": [],
   "source": []
  },
  {
   "cell_type": "code",
   "execution_count": null,
   "id": "57c08517",
   "metadata": {},
   "outputs": [],
   "source": []
  },
  {
   "cell_type": "code",
   "execution_count": null,
   "id": "84233167",
   "metadata": {},
   "outputs": [],
   "source": []
  },
  {
   "cell_type": "markdown",
   "id": "ce756563",
   "metadata": {
    "jupyter": {
     "source_hidden": true
    },
    "tags": []
   },
   "source": [
    "# A basic example - a function that calculates the double of its input"
   ]
  },
  {
   "cell_type": "code",
   "execution_count": null,
   "id": "b3f5399e",
   "metadata": {},
   "outputs": [],
   "source": [
    "#Care: 'None' appears if printing a fn that doesn't return anything\n",
    "def function_with_no_return():\n",
    "    print(\"function with no return\")\n",
    "\n",
    "\n",
    "def a_return_fn():\n",
    "    return 7\n",
    "\n",
    "print( function_with_no_return() )\n",
    "\n"
   ]
  },
  {
   "cell_type": "code",
   "execution_count": null,
   "id": "299d1955",
   "metadata": {
    "jupyter": {
     "outputs_hidden": true,
     "source_hidden": true
    },
    "tags": []
   },
   "outputs": [],
   "source": [
    "def double(x):\n",
    "    \"\"\"Return twice the value of x.\"\"\"\n",
    "    my_double = x * 2\n",
    "    return my_double\n",
    "\n",
    "double_of_21 = double(21)\n",
    "print(double_of_21)  # should print 42"
   ]
  },
  {
   "cell_type": "code",
   "execution_count": null,
   "id": "dabd5774",
   "metadata": {
    "collapsed": true,
    "jupyter": {
     "outputs_hidden": true,
     "source_hidden": true
    },
    "tags": []
   },
   "outputs": [],
   "source": [
    "help(double)  # will print the docstring of our function"
   ]
  },
  {
   "cell_type": "markdown",
   "id": "30a34576",
   "metadata": {
    "jupyter": {
     "source_hidden": true
    },
    "tags": []
   },
   "source": [
    "# An example of a two-parameter function - calculating the average"
   ]
  },
  {
   "cell_type": "code",
   "execution_count": null,
   "id": "ee61cebd",
   "metadata": {
    "collapsed": true,
    "jupyter": {
     "outputs_hidden": true,
     "source_hidden": true
    },
    "tags": []
   },
   "outputs": [],
   "source": [
    "def average(a, b):\n",
    "    \"\"\"Calculate the arithmetic average of numbers a and b.\"\"\"\n",
    "    return (a + b) / 2\n",
    "\n",
    "print(average(1, 9))  # should print 5.0"
   ]
  },
  {
   "cell_type": "markdown",
   "id": "bf00ced8",
   "metadata": {
    "jupyter": {
     "source_hidden": true
    },
    "tags": []
   },
   "source": [
    "# Both parameters and return values are optional"
   ]
  },
  {
   "cell_type": "code",
   "execution_count": null,
   "id": "6122882b",
   "metadata": {
    "collapsed": true,
    "jupyter": {
     "outputs_hidden": true,
     "source_hidden": true
    },
    "tags": []
   },
   "outputs": [],
   "source": [
    "def recite_poem():\n",
    "    \"\"\"Recite the poem Always Bloom by Alexandra Vasiliu\"\"\"\n",
    "    print(\"If you root yourself\")\n",
    "    print(\"in love\")\n",
    "    print(\"and kindness,\")\n",
    "    print(\"your hear will always bloom.\")\n",
    "\n",
    "recite_poem()"
   ]
  },
  {
   "cell_type": "markdown",
   "id": "d5e0172c",
   "metadata": {
    "jupyter": {
     "source_hidden": true
    },
    "tags": []
   },
   "source": [
    "# We can have multiple return values, using tuples"
   ]
  },
  {
   "cell_type": "code",
   "execution_count": null,
   "id": "53500240",
   "metadata": {},
   "outputs": [],
   "source": [
    "#Tuples and tuple-unpacking to return two things from a function\n",
    "def name_and_age():\n",
    "    name = \"bill\"\n",
    "    age = 14\n",
    "    #want to return both name and age\n",
    "    return (name,age)\n",
    "\n",
    "# result = name_and_age()\n",
    "# print( result[0] )\n",
    "# print( result[1] )\n",
    "\n",
    "#\"tuple un-packing\"\n",
    "\n",
    "the_name, the_age = name_and_age()\n",
    "print(f\"the name returned is: {the_name}, and the age returned is: {the_age}\")"
   ]
  },
  {
   "cell_type": "markdown",
   "id": "fa807df9",
   "metadata": {
    "jupyter": {
     "source_hidden": true
    },
    "tags": []
   },
   "source": [
    "# Positional Parameters and Default Values"
   ]
  },
  {
   "cell_type": "code",
   "execution_count": null,
   "id": "5a090c5e",
   "metadata": {},
   "outputs": [],
   "source": [
    "def average(a, b):\n",
    "    \"\"\"Calculate the arithmetic average of numbers a and b.\"\"\"\n",
    "    print(\"inside: b is: \", b)\n",
    "    print(\"inside: a is: \", a)\n",
    "    return (a + b) / 2\n",
    "\n",
    "\"\"\"result = average( 2, 10 )        #positional argument matching\"\"\"\n",
    "\"\"\"result = average( a=2, b=10 )    #named argument matching\"\"\" \n",
    "result = average( b=10, a=2 )       #named argument matching (without matching position)\n",
    "\n",
    "print(result)"
   ]
  },
  {
   "cell_type": "code",
   "execution_count": null,
   "id": "e5c11ec6",
   "metadata": {},
   "outputs": [],
   "source": []
  },
  {
   "cell_type": "markdown",
   "id": "6d420739",
   "metadata": {
    "jupyter": {
     "source_hidden": true
    },
    "tags": []
   },
   "source": [
    "# Functions can be passed as values"
   ]
  },
  {
   "cell_type": "code",
   "execution_count": null,
   "id": "e991df7e",
   "metadata": {
    "collapsed": true,
    "jupyter": {
     "outputs_hidden": true,
     "source_hidden": true
    },
    "tags": []
   },
   "outputs": [],
   "source": [
    "def rose():\n",
    "    \"\"\"Print a line from Romeo and Juliet.\"\"\"\n",
    "    print(\"What's in a name? That which we call a rose\\nBy any other name would smell as sweet\")\n",
    "\n",
    "rose()\n",
    "any_other_name = rose  # Note the lack of brackets\n",
    "any_other_name()"
   ]
  },
  {
   "cell_type": "code",
   "execution_count": null,
   "id": "d0c7b6a0",
   "metadata": {},
   "outputs": [],
   "source": [
    "def rose():\n",
    "    \"\"\"Print a line from Romeo and Juliet.\"\"\"\n",
    "    print(\"rose\")\n",
    "\n",
    "def call_rose_inside( a_fn ):\n",
    "    a_fn()  #at runtime: as if 'rose()'\n",
    "\n",
    "call_rose_inside( rose ) #a function being passed as argument to another function"
   ]
  },
  {
   "cell_type": "code",
   "execution_count": null,
   "id": "ad7d6818",
   "metadata": {},
   "outputs": [],
   "source": []
  },
  {
   "cell_type": "code",
   "execution_count": null,
   "id": "0409c14e",
   "metadata": {},
   "outputs": [],
   "source": []
  },
  {
   "cell_type": "code",
   "execution_count": null,
   "id": "13da2f94",
   "metadata": {},
   "outputs": [],
   "source": []
  },
  {
   "cell_type": "markdown",
   "id": "9a9a9d8b",
   "metadata": {
    "jupyter": {
     "source_hidden": true
    },
    "tags": []
   },
   "source": [
    "# Everything in Python is an object, and objects have methods"
   ]
  },
  {
   "cell_type": "code",
   "execution_count": null,
   "id": "0c0c3674",
   "metadata": {
    "collapsed": true,
    "jupyter": {
     "outputs_hidden": true,
     "source_hidden": true
    },
    "tags": []
   },
   "outputs": [],
   "source": [
    "# Methods are functions attached to an object\n",
    "# We can use the built-in `dir` function to learn what methods an object has\n",
    "s = \"Hello world\"\n",
    "dir(s)  # Will print all the methods and attributes that are available on a string (for now ignore the ones with underscores)"
   ]
  },
  {
   "cell_type": "code",
   "execution_count": null,
   "id": "f4dcf9df",
   "metadata": {
    "collapsed": true,
    "jupyter": {
     "outputs_hidden": true,
     "source_hidden": true
    },
    "tags": []
   },
   "outputs": [],
   "source": [
    "# We can then use `help` to get any methods \n",
    "help(s.upper)\n",
    "# Python also has great documentation for all of these - https://docs.python.org/3/library/stdtypes.html#string-methods"
   ]
  },
  {
   "cell_type": "markdown",
   "id": "2d8dd0a3",
   "metadata": {
    "jupyter": {
     "source_hidden": true
    },
    "tags": []
   },
   "source": [
    "# Some particularly useful string methods\n",
    "\n",
    "Count appearance of substrings: `s.count(sub [, start[, end]])`\n",
    "Begins/ends with a substring? `s.startswith(sub[, start[, end]])` , `s.endswith(sub[, start[, end]])`\n",
    "All capital/lowercase letters: `s.upper()` , `s.lower()`\n",
    "Remove whitespace: `s.strip([chars])`\n",
    "Find position of substring: `s.index(sub[, start[, end]])`\n",
    "Replace a substring: `.replace(old, new[, count])`\n",
    "\n",
    "Many more exist - the documentation, Google and Stack Overflow are your friends"
   ]
  },
  {
   "cell_type": "markdown",
   "id": "0c701773",
   "metadata": {
    "jupyter": {
     "source_hidden": true
    },
    "tags": []
   },
   "source": [
    "# Modules\n",
    "\n",
    "Functions thematically belonging together can be stored in a separate Python file. (Same for all other objects)\n",
    "\n",
    "Such a file is called a module and can be loaded in any Python script.\n",
    "\n",
    "There are dozens of modules are available directly in the Python Standard Library, included in any Python installation, and hundred of thousands of others can be easily installed. See https://docs.python.org/3/library/index.html"
   ]
  },
  {
   "cell_type": "code",
   "execution_count": null,
   "id": "a476040c",
   "metadata": {
    "collapsed": true,
    "jupyter": {
     "outputs_hidden": true,
     "source_hidden": true
    },
    "tags": []
   },
   "outputs": [],
   "source": [
    "# To make use of a module, we need to import it, by referring to it by name, without the \".py\" extension:\n",
    "\n",
    "import math\n",
    "print(math.gcd(18, 12))  # The greatest common divisor of these is 6"
   ]
  },
  {
   "cell_type": "code",
   "execution_count": null,
   "id": "67bf3331",
   "metadata": {
    "collapsed": true,
    "jupyter": {
     "outputs_hidden": true,
     "source_hidden": true
    },
    "tags": []
   },
   "outputs": [],
   "source": [
    "# We can also import one or more particular objects from a module by using `from ... import ...`:\n",
    "from math import gcd, pi\n",
    "print(gcd(18, 12))\n",
    "print(pi)"
   ]
  },
  {
   "cell_type": "code",
   "execution_count": null,
   "id": "6fd01461",
   "metadata": {
    "jupyter": {
     "source_hidden": true
    },
    "tags": []
   },
   "outputs": [],
   "source": [
    "# Again: in-built wisdom here...\n",
    "# The zen of Python:\n",
    "# import this"
   ]
  }
 ],
 "metadata": {
  "colab": {
   "name": "Welcome to DataCamp Workspaces.ipynb",
   "provenance": []
  },
  "kernelspec": {
   "display_name": "Python 3 (ipykernel)",
   "language": "python",
   "name": "python3"
  },
  "language_info": {
   "codemirror_mode": {
    "name": "ipython",
    "version": 3
   },
   "file_extension": ".py",
   "mimetype": "text/x-python",
   "name": "python",
   "nbconvert_exporter": "python",
   "pygments_lexer": "ipython3",
   "version": "3.11.4"
  }
 },
 "nbformat": 4,
 "nbformat_minor": 5
}
