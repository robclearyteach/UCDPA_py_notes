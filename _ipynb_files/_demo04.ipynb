{
 "cells": [
  {
   "cell_type": "code",
   "execution_count": null,
   "metadata": {},
   "outputs": [],
   "source": [
    "##Recap one concept from the last time\n",
    "##\n",
    "\n",
    "time = 144\n",
    "\n",
    "min = time//60\n",
    "print( type(min), min)"
   ]
  },
  {
   "cell_type": "code",
   "execution_count": null,
   "metadata": {},
   "outputs": [],
   "source": [
    "#TASK: See below: why was the int() needed?\n",
    "amount = 2.94\n",
    "cents = amount * 100\n",
    "\n",
    "#euro coin\n",
    "euro_coin = int(cents // 100)  #why the int() needed?\n",
    "left_over = cents % 100\n"
   ]
  },
  {
   "cell_type": "code",
   "execution_count": null,
   "metadata": {},
   "outputs": [],
   "source": []
  },
  {
   "cell_type": "code",
   "execution_count": null,
   "metadata": {},
   "outputs": [],
   "source": []
  },
  {
   "cell_type": "code",
   "execution_count": null,
   "metadata": {},
   "outputs": [],
   "source": []
  },
  {
   "cell_type": "code",
   "execution_count": null,
   "metadata": {},
   "outputs": [],
   "source": []
  },
  {
   "cell_type": "code",
   "execution_count": null,
   "metadata": {},
   "outputs": [],
   "source": []
  },
  {
   "cell_type": "code",
   "execution_count": null,
   "metadata": {},
   "outputs": [],
   "source": []
  },
  {
   "cell_type": "code",
   "execution_count": null,
   "metadata": {},
   "outputs": [],
   "source": [
    "#Improved version:\n",
    "amount = 2.94\n",
    "cents = amount * 100\n",
    "cents = int(cents)      # cast to int() early\n",
    "#euro coin\n",
    "euro_coin = cents // 100\n",
    "left_over = cents % 100"
   ]
  },
  {
   "cell_type": "code",
   "execution_count": null,
   "metadata": {},
   "outputs": [],
   "source": []
  },
  {
   "cell_type": "code",
   "execution_count": null,
   "metadata": {},
   "outputs": [],
   "source": []
  },
  {
   "cell_type": "code",
   "execution_count": null,
   "metadata": {},
   "outputs": [],
   "source": []
  },
  {
   "cell_type": "code",
   "execution_count": null,
   "metadata": {},
   "outputs": [],
   "source": []
  },
  {
   "cell_type": "code",
   "execution_count": null,
   "metadata": {},
   "outputs": [],
   "source": []
  },
  {
   "cell_type": "code",
   "execution_count": null,
   "metadata": {},
   "outputs": [],
   "source": [
    "## developing looping logic\n",
    "## from the ground up...."
   ]
  },
  {
   "cell_type": "code",
   "execution_count": null,
   "metadata": {},
   "outputs": [],
   "source": [
    "## recall...\n",
    "## how many thou's, hun's, tens, units?\n",
    "four_digit_number = 3234\n",
    "\n",
    "thous = four_digit_number // 1000\n",
    "left  = four_digit_number  % 1000\n",
    "\n",
    "hunds = left // 100\n",
    "left  = left  % 100\n",
    "\n",
    "tens  = left // 10\n",
    "left  = left  % 10\n",
    "\n",
    "units = left\n",
    "print(f\"in {four_digit_number} there are {thous} thousands, {hunds} hundreds, {tens} tens and {units} units\")"
   ]
  },
  {
   "cell_type": "code",
   "execution_count": null,
   "metadata": {},
   "outputs": [],
   "source": [
    "## consider further refinement...\n",
    "\n",
    "number = 3234\n",
    "parts = []\n",
    "part  = number // 1000\n",
    "left  = number  % 1000\n",
    "\n",
    "print(part, left)\n",
    "\n",
    "##TASK: write 2/3 lines similar to above\n",
    "##      to cary out the next step..."
   ]
  },
  {
   "cell_type": "code",
   "execution_count": null,
   "metadata": {},
   "outputs": [],
   "source": [
    "# CHALLENGE: Can you write a loop for this?\n",
    "# CHALLENGE+: Could you write it for any number of any length (say up as far as 10-digits to begin with) ?         "
   ]
  },
  {
   "cell_type": "code",
   "execution_count": null,
   "metadata": {},
   "outputs": [],
   "source": []
  },
  {
   "cell_type": "code",
   "execution_count": null,
   "metadata": {},
   "outputs": [],
   "source": []
  },
  {
   "cell_type": "code",
   "execution_count": null,
   "metadata": {},
   "outputs": [],
   "source": []
  },
  {
   "cell_type": "markdown",
   "metadata": {},
   "source": [
    "#### Using `%` to repeatedly index each element of a sequence"
   ]
  },
  {
   "cell_type": "code",
   "execution_count": null,
   "metadata": {},
   "outputs": [],
   "source": [
    "# Suppose:\n",
    "slides = [\"slide1\", \"slide2\", \"slide3\"]\n",
    "\n",
    "#want:\n",
    "# slide1, slide2, slide3,... slide1, slide2, slide3... and so on repeatedly\n",
    "\n"
   ]
  },
  {
   "cell_type": "code",
   "execution_count": null,
   "metadata": {},
   "outputs": [],
   "source": [
    "# How to do sequentially without using a loop?\n",
    "# test principle\n",
    "num = 1                     #change value to 2...3...4...\n",
    "num_mod_3 = num % 3\n",
    "print(num_mod_3)            #what prints?"
   ]
  },
  {
   "cell_type": "code",
   "execution_count": null,
   "metadata": {},
   "outputs": [],
   "source": [
    "print( 1 % 3 )\n",
    "print( 2 % 3 )\n",
    "print( 3 % 3 )  #what prints here\n",
    "print( 4 % 3 )\n",
    "print( 5 % 3 )\n",
    "print( 6 % 3 )  #what prints here"
   ]
  },
  {
   "cell_type": "code",
   "execution_count": null,
   "metadata": {},
   "outputs": [],
   "source": [
    "#What does this give?\n",
    "print( 0 % 3 )"
   ]
  },
  {
   "cell_type": "code",
   "execution_count": null,
   "metadata": {},
   "outputs": [],
   "source": []
  },
  {
   "cell_type": "code",
   "execution_count": null,
   "metadata": {},
   "outputs": [],
   "source": []
  },
  {
   "cell_type": "code",
   "execution_count": null,
   "metadata": {},
   "outputs": [],
   "source": []
  },
  {
   "cell_type": "code",
   "execution_count": null,
   "metadata": {},
   "outputs": [],
   "source": []
  },
  {
   "cell_type": "code",
   "execution_count": null,
   "metadata": {},
   "outputs": [],
   "source": []
  },
  {
   "cell_type": "code",
   "execution_count": null,
   "metadata": {},
   "outputs": [],
   "source": []
  },
  {
   "cell_type": "code",
   "execution_count": null,
   "metadata": {},
   "outputs": [],
   "source": [
    "#TASK: adjust the print()'s from the above cell\n",
    "#       to get 0,1,2...0,1,2...repeatedly\n",
    "print( 0 % 3 )  #what prints here\n",
    "print( 1 % 3 )\n",
    "print( 2 % 3 )\n",
    "print( 3 % 3 )  #what prints here\n",
    "print( 4 % 3 )  \n",
    "print( 5 % 3 )"
   ]
  },
  {
   "cell_type": "code",
   "execution_count": null,
   "metadata": {},
   "outputs": [],
   "source": [
    "slides = [\"slide1\", \"slide2\", \"slide3\"]\n",
    "#Any application for this...?"
   ]
  },
  {
   "cell_type": "code",
   "execution_count": null,
   "metadata": {},
   "outputs": [],
   "source": [
    "print( len(slides) )"
   ]
  },
  {
   "cell_type": "code",
   "execution_count": null,
   "metadata": {},
   "outputs": [],
   "source": [
    "slides = [\"slide1\", \"slide2\", \"slide3\"]\n",
    "\n",
    "count = len(slides)\n",
    "#TASK:\n",
    "#write a while-loop to loop 10 times\n",
    "# printing count and len(slides) each time\n",
    "\n",
    "print(f\"program continues: count is {count}\") #Also: print count at the end."
   ]
  },
  {
   "cell_type": "code",
   "execution_count": null,
   "metadata": {},
   "outputs": [],
   "source": []
  },
  {
   "cell_type": "code",
   "execution_count": null,
   "metadata": {},
   "outputs": [],
   "source": []
  },
  {
   "cell_type": "code",
   "execution_count": null,
   "metadata": {},
   "outputs": [],
   "source": []
  },
  {
   "cell_type": "code",
   "execution_count": null,
   "metadata": {},
   "outputs": [],
   "source": []
  },
  {
   "cell_type": "code",
   "execution_count": null,
   "metadata": {},
   "outputs": [],
   "source": [
    "#Application...\n",
    "slides = [\"slide1\", \"slide2\", \"slide3\"]\n",
    "#want to get slide1, slide2, slide3, slid1... this time\n",
    "count = len(slides)\n",
    "while count <= 12:\n",
    "    #TASK: \n",
    "    # Adapt this to use `%` to \n",
    "    # cycle through the `slides` list\n",
    "    index = 0                               #`0`: dummy value for now\n",
    "    print(slides[index])\n",
    "    count +=1\n",
    "\n",
    "print(f\"program continues: count is {count}\")"
   ]
  },
  {
   "cell_type": "code",
   "execution_count": null,
   "metadata": {},
   "outputs": [],
   "source": []
  },
  {
   "cell_type": "code",
   "execution_count": null,
   "metadata": {},
   "outputs": [],
   "source": []
  },
  {
   "cell_type": "code",
   "execution_count": null,
   "metadata": {},
   "outputs": [],
   "source": []
  },
  {
   "cell_type": "code",
   "execution_count": null,
   "metadata": {},
   "outputs": [],
   "source": []
  },
  {
   "cell_type": "code",
   "execution_count": null,
   "metadata": {},
   "outputs": [],
   "source": []
  },
  {
   "cell_type": "code",
   "execution_count": null,
   "metadata": {},
   "outputs": [],
   "source": [
    "# Further application...\n",
    "# TASK: Fix the code below...\n",
    "slides = [\"slide1\", \"slide2\", \"slide3\"]\n",
    "def print_slide(n):\n",
    "    \"\"\"A function to print slide `n`\"\"\"\n",
    "    \n",
    "count = len(slides)\n",
    "while count < 20:\n",
    "    slide_index = 0\n",
    "    print_slide(slide_index)            #call function here instead\n",
    "    count+=1\n",
    "\n",
    "#TASK: what is count goint to be at the end?\n",
    "print(f\"program continues: count is: ... {count}\")"
   ]
  },
  {
   "cell_type": "code",
   "execution_count": null,
   "metadata": {},
   "outputs": [],
   "source": []
  },
  {
   "cell_type": "code",
   "execution_count": null,
   "metadata": {},
   "outputs": [],
   "source": []
  },
  {
   "cell_type": "code",
   "execution_count": null,
   "metadata": {},
   "outputs": [],
   "source": []
  },
  {
   "cell_type": "code",
   "execution_count": null,
   "metadata": {},
   "outputs": [],
   "source": []
  },
  {
   "cell_type": "markdown",
   "metadata": {},
   "source": [
    "#### Python ternary expression: \n",
    "```python\n",
    "    result_if_true if condition else result_if_false\n",
    "```"
   ]
  },
  {
   "cell_type": "code",
   "execution_count": null,
   "metadata": {},
   "outputs": [],
   "source": [
    "chatty = True\n",
    "print( \"TASK: print 'hello' if chatty or  '...silence...' otherwise\")"
   ]
  },
  {
   "cell_type": "code",
   "execution_count": null,
   "metadata": {},
   "outputs": [],
   "source": []
  },
  {
   "cell_type": "code",
   "execution_count": null,
   "metadata": {},
   "outputs": [],
   "source": []
  },
  {
   "cell_type": "code",
   "execution_count": null,
   "metadata": {},
   "outputs": [],
   "source": []
  },
  {
   "cell_type": "code",
   "execution_count": null,
   "metadata": {},
   "outputs": [],
   "source": []
  },
  {
   "cell_type": "code",
   "execution_count": null,
   "metadata": {},
   "outputs": [],
   "source": [
    "#See below use of \"ternary expression\" used on right hand side of an assignment\n",
    "# What's it going to print?\n",
    "#AND: What is the point of this?\n",
    "slides = [\"slide1\", \"slide2\", \"slide3\"]                 #Hint: see `slides`\n",
    "\n",
    "count = 0\n",
    "count = count+1 if count<3 else count % len(slides)\n",
    "print(count) \n",
    "\n",
    "\n",
    "#THINKING TASK: try to reduce the complexity of the above\n",
    "#               (maybe some unnecessary work being done)"
   ]
  },
  {
   "cell_type": "code",
   "execution_count": null,
   "metadata": {},
   "outputs": [],
   "source": []
  },
  {
   "cell_type": "code",
   "execution_count": null,
   "metadata": {},
   "outputs": [],
   "source": []
  },
  {
   "cell_type": "code",
   "execution_count": null,
   "metadata": {},
   "outputs": [],
   "source": []
  },
  {
   "cell_type": "code",
   "execution_count": null,
   "metadata": {},
   "outputs": [],
   "source": [
    "#TASK: can you spot a problem with this code?\n",
    "#       TRY to predict the output before running\n",
    "slides = [\"slide1\", \"slide2\", \"slide3\"]\n",
    "count = 0\n",
    "while count < 20:\n",
    "    print( count )\n",
    "    count = count+1 if count<2 else 0\n",
    "\n",
    "print(f\"program continues: count is: ... {count}\")"
   ]
  },
  {
   "cell_type": "code",
   "execution_count": null,
   "metadata": {},
   "outputs": [],
   "source": []
  },
  {
   "cell_type": "code",
   "execution_count": null,
   "metadata": {},
   "outputs": [],
   "source": []
  },
  {
   "cell_type": "code",
   "execution_count": null,
   "metadata": {},
   "outputs": [],
   "source": []
  },
  {
   "cell_type": "code",
   "execution_count": null,
   "metadata": {},
   "outputs": [],
   "source": [
    "# Imagine a `number` taken-in as input:\n",
    "\n",
    "\"\"\"\n",
    "#e.g.\n",
    "number = int( input(\"Enter a num: \") )\n",
    "\"\"\"\n",
    "number = 4                                  #`4`: test-value for now\n",
    "\n",
    "#replace `True` with code to test for even/odd\n",
    "is_even = True                              # stub-value for now\n",
    "print(f\"Number: {number} - is even: {is_even}\")\n"
   ]
  },
  {
   "cell_type": "code",
   "execution_count": null,
   "metadata": {},
   "outputs": [],
   "source": [
    "#TASK1of3:\n",
    "# 1. write if-else code to check is_even\n",
    "number = 5\n",
    "\n",
    "is_even = True  #stub=value `True` for now...\n",
    "print(f\"Number: {number} - is even: {is_even}\")"
   ]
  },
  {
   "cell_type": "code",
   "execution_count": null,
   "metadata": {},
   "outputs": [],
   "source": []
  },
  {
   "cell_type": "code",
   "execution_count": null,
   "metadata": {},
   "outputs": [],
   "source": []
  },
  {
   "cell_type": "code",
   "execution_count": null,
   "metadata": {},
   "outputs": [],
   "source": []
  },
  {
   "cell_type": "code",
   "execution_count": null,
   "metadata": {},
   "outputs": [],
   "source": []
  },
  {
   "cell_type": "code",
   "execution_count": null,
   "metadata": {},
   "outputs": [],
   "source": [
    "#TASK2of3:\n",
    "# 2. Write a ternery-expression to check is_even\n",
    "number = 5\n",
    "\n",
    "is_even = True                                      #`value-if-true` if `cond` else `value-if-false`\n",
    "print(f\"Number: {number} - is even: {is_even}\")"
   ]
  },
  {
   "cell_type": "code",
   "execution_count": null,
   "metadata": {},
   "outputs": [],
   "source": []
  },
  {
   "cell_type": "code",
   "execution_count": null,
   "metadata": {},
   "outputs": [],
   "source": []
  },
  {
   "cell_type": "code",
   "execution_count": null,
   "metadata": {},
   "outputs": [],
   "source": []
  },
  {
   "cell_type": "code",
   "execution_count": null,
   "metadata": {},
   "outputs": [],
   "source": []
  },
  {
   "cell_type": "code",
   "execution_count": null,
   "metadata": {},
   "outputs": [],
   "source": []
  },
  {
   "cell_type": "code",
   "execution_count": null,
   "metadata": {},
   "outputs": [],
   "source": [
    "#TASK3of3:\n",
    "# 3. Alter the `is_even` function to\n",
    "#    return a ternery-expression to check is_even\n",
    "def is_even( number ):\n",
    "    return True                     #stub-value for now\n",
    "\n",
    "for number in range(5):\n",
    "    print(f\"Number: {number} - is even: ...{is_even(number)}\" )  #TASK: update to print True/False"
   ]
  },
  {
   "cell_type": "code",
   "execution_count": null,
   "metadata": {},
   "outputs": [],
   "source": []
  },
  {
   "cell_type": "code",
   "execution_count": null,
   "metadata": {},
   "outputs": [],
   "source": []
  },
  {
   "cell_type": "code",
   "execution_count": null,
   "metadata": {},
   "outputs": [],
   "source": []
  },
  {
   "cell_type": "code",
   "execution_count": null,
   "metadata": {},
   "outputs": [],
   "source": []
  },
  {
   "cell_type": "code",
   "execution_count": null,
   "metadata": {},
   "outputs": [],
   "source": [
    "# Challenge: \n",
    "# Consider if a ternery-expression could be used for:\n",
    "# max(num1, num2)\n",
    "# min(num1, num2)\n",
    "# order(num1, num2, asc=True)\n",
    "# abs(num)\n",
    "# square(num)\n",
    "# ...\n",
    "def max(num1, num2):\n",
    "    #return num1 if it's bigger otherwise num2\n",
    "    pass\n",
    "\n",
    "def min(num1, num2):\n",
    "    #return num1 if it's bigger otherwise num2\n",
    "    pass\n",
    "\n",
    "print( min(5, 3) )\n",
    "print( min(6, 9) )"
   ]
  },
  {
   "cell_type": "code",
   "execution_count": null,
   "metadata": {},
   "outputs": [],
   "source": []
  },
  {
   "cell_type": "code",
   "execution_count": null,
   "metadata": {},
   "outputs": [],
   "source": [
    "#TASK: Use a ternery first\n",
    "#      and then a nested ternary to cater for asc=False...\n",
    "\n",
    "def order(num1, num2, asc=True):            #default value for 'asc' parameter\n",
    "    pass\n",
    "\n",
    "\n",
    "\n",
    "\n",
    "print( order( 5, 3 ) )   #return tuple: (3,5)           \n",
    "print( order( 2, 3 ) )   #return tuple: (2,3)\n",
    "\n",
    "\n",
    "\"\"\"\n",
    "## Part 2: asc=False\n",
    "print( order( 5, 3, asc=False) )   #return tuple: (5,3)           \n",
    "print( order( 2, 3, asc=False) )   #return tuple: (3,2)\n",
    "\"\"\""
   ]
  },
  {
   "cell_type": "code",
   "execution_count": null,
   "metadata": {},
   "outputs": [],
   "source": []
  },
  {
   "cell_type": "code",
   "execution_count": null,
   "metadata": {},
   "outputs": [],
   "source": []
  },
  {
   "cell_type": "code",
   "execution_count": null,
   "metadata": {},
   "outputs": [],
   "source": []
  },
  {
   "cell_type": "code",
   "execution_count": null,
   "metadata": {},
   "outputs": [],
   "source": []
  },
  {
   "cell_type": "markdown",
   "metadata": {},
   "source": [
    "# 2. Floating point pitfalls\n",
    "Show that `0.1 + 0.2 == 0.3`"
   ]
  },
  {
   "cell_type": "code",
   "execution_count": null,
   "metadata": {},
   "outputs": [],
   "source": [
    "# Your solution here\n",
    "result =  0.1 + 0.2 == 0.3\n",
    "print(result)\n",
    "# This won't work:\n",
    "# assert 0.1 + 0.2 == 0.3"
   ]
  },
  {
   "cell_type": "code",
   "execution_count": null,
   "metadata": {},
   "outputs": [],
   "source": [
    "_0pt33 = 0.33\n",
    "print(_0pt33) #what prints?"
   ]
  },
  {
   "cell_type": "code",
   "execution_count": null,
   "metadata": {},
   "outputs": [],
   "source": []
  },
  {
   "cell_type": "code",
   "execution_count": null,
   "metadata": {},
   "outputs": [],
   "source": []
  },
  {
   "cell_type": "code",
   "execution_count": null,
   "metadata": {},
   "outputs": [],
   "source": []
  },
  {
   "cell_type": "code",
   "execution_count": null,
   "metadata": {},
   "outputs": [],
   "source": []
  },
  {
   "cell_type": "code",
   "execution_count": null,
   "metadata": {},
   "outputs": [],
   "source": [
    "_0pt33 = 0.33\n",
    "print(_0pt33)\n",
    "print(f\"{_0pt33} actually {_0pt33:.25f}\") #note the ':' to mark the \"format-specifier\"\n",
    "format(_0pt33, \".25f\")"
   ]
  },
  {
   "cell_type": "code",
   "execution_count": null,
   "metadata": {},
   "outputs": [],
   "source": []
  },
  {
   "cell_type": "code",
   "execution_count": null,
   "metadata": {},
   "outputs": [],
   "source": []
  },
  {
   "cell_type": "code",
   "execution_count": null,
   "metadata": {},
   "outputs": [],
   "source": []
  },
  {
   "cell_type": "code",
   "execution_count": null,
   "metadata": {},
   "outputs": [],
   "source": []
  },
  {
   "cell_type": "code",
   "execution_count": null,
   "metadata": {},
   "outputs": [],
   "source": [
    "# 0.3 == 0.1 + 0.2\n",
    "print( format(0.3, \".25f\") )\n",
    "print( format(0.2, \".25f\") )\n",
    "print( format(0.1, \".25f\") )\n",
    "print( format(0.1+0.2, \".25f\") )\n",
    "print( format(10/3, \".23f\") )"
   ]
  },
  {
   "cell_type": "markdown",
   "metadata": {},
   "source": [
    "#### Formatting with `format()` and \"format-specifiers\" (e.g. '10.2f')"
   ]
  },
  {
   "cell_type": "code",
   "execution_count": null,
   "metadata": {},
   "outputs": [],
   "source": [
    "number = 4.21111783456\n",
    "print( number )\n",
    "print(f\"The number nicely formatted is: --{number:10.2f}--\")  \n",
    "#NOTE: @f-string -> the ':' to denote the \"format-specifier\""
   ]
  },
  {
   "cell_type": "code",
   "execution_count": null,
   "metadata": {},
   "outputs": [],
   "source": [
    "print(\"--\", format(57.467657, '10.2f'))\n",
    "print(\"--\", format(0.0033923, '10.2f'))\n",
    "print(\"--\", format(57.4, '10.2f'))\n",
    "print(\"--\", format(57, '10.2f'))"
   ]
  },
  {
   "cell_type": "code",
   "execution_count": null,
   "metadata": {},
   "outputs": [],
   "source": [
    "#The effect of changing the 'conversion-code' \n",
    "#   from f (floating-point)\n",
    "#   to   e (scientific)\n",
    "print(\"--\", format(57.467657, '10.2e'))\n",
    "print(\"--\", format(0.0033923, '10.2e'))\n",
    "print(\"--\", format(57.4, '10.2e'))\n",
    "print(\"--\", format(57, '10.2e'))\n"
   ]
  },
  {
   "cell_type": "code",
   "execution_count": null,
   "metadata": {},
   "outputs": [],
   "source": [
    "#The effect of changing the 'conversion-code' to `%`\n",
    "print(\"--\", format(57.467657, '10.2%'))\n",
    "print(\"--\", format(0.0033923, '10.2%'))\n",
    "print(\"--\", format(57.4, '10.2%'))\n",
    "print(\"--\", format(57, '10.2%'))\n",
    " \n"
   ]
  },
  {
   "cell_type": "code",
   "execution_count": null,
   "metadata": {},
   "outputs": [],
   "source": [
    "# `<`, `>` to justify the presented number\n",
    "print(\"--\", format(57.467657, '10.2%'))\n",
    "print(\"--\", format(57.467657, '<10.2%'), \"--\")\n",
    "print(\"--\", format(57.467657, '>10.2%'))"
   ]
  },
  {
   "cell_type": "code",
   "execution_count": null,
   "metadata": {},
   "outputs": [],
   "source": [
    "# Formatting whole-numbers (\"integers\")\n",
    "print(\"--\", format(59832, '10d'))\n",
    "print(\"--\", format(59832, '<10d'))\n"
   ]
  },
  {
   "cell_type": "code",
   "execution_count": null,
   "metadata": {},
   "outputs": [],
   "source": [
    "print(\"--\", format(59832, '10x'))\n",
    "print(\"--\", format(59832, '<10x')) "
   ]
  },
  {
   "cell_type": "code",
   "execution_count": null,
   "metadata": {},
   "outputs": [],
   "source": [
    "\n",
    "print(\"--\", format(59832, '10o'))\n",
    "print(\"--\", format(59832, '<10o')) \n",
    "print(\"--\", format(59832, '10b'))\n",
    "print(\"--\", format(59832, '<10b')) "
   ]
  },
  {
   "cell_type": "code",
   "execution_count": null,
   "metadata": {},
   "outputs": [],
   "source": [
    "#formatting Strings\n",
    "print(\"--\", format(\"Python\", '20s') ,\"--\")\n",
    "print(\"--\", format(\"Python\", '<20s'),\"--\")\n",
    "print(\"--\", format(\"Python\", '>20s'),\"--\")\n"
   ]
  },
  {
   "cell_type": "code",
   "execution_count": null,
   "metadata": {},
   "outputs": [],
   "source": []
  },
  {
   "cell_type": "markdown",
   "metadata": {},
   "source": [
    "#### Using `round()` to round up/down numbers/floats"
   ]
  },
  {
   "cell_type": "code",
   "execution_count": null,
   "metadata": {},
   "outputs": [],
   "source": [
    "round(0.76) #default round to nearest 'unit'-->1"
   ]
  },
  {
   "cell_type": "code",
   "execution_count": null,
   "metadata": {},
   "outputs": [],
   "source": [
    "round(0.4724) #default round to nearest 'unit'-->0"
   ]
  },
  {
   "cell_type": "code",
   "execution_count": null,
   "metadata": {},
   "outputs": [],
   "source": [
    "round(2.8)"
   ]
  },
  {
   "cell_type": "code",
   "execution_count": null,
   "metadata": {},
   "outputs": [],
   "source": [
    "#When: .5 values\n",
    "#\n",
    "round(1.5) #round to nearest _even_ number when .5"
   ]
  },
  {
   "cell_type": "code",
   "execution_count": null,
   "metadata": {},
   "outputs": [],
   "source": [
    "round(2.50) #round to nearest _even_ number when .5"
   ]
  },
  {
   "cell_type": "code",
   "execution_count": null,
   "metadata": {},
   "outputs": [],
   "source": [
    "round(1.28,1) #the '1' refers to the nearest 1/10: e.g. 1.58--> 1.6\n",
    "              # rather than rounding to '2'"
   ]
  },
  {
   "cell_type": "code",
   "execution_count": null,
   "metadata": {},
   "outputs": [],
   "source": [
    "round(1.28)"
   ]
  },
  {
   "cell_type": "code",
   "execution_count": null,
   "metadata": {},
   "outputs": [],
   "source": [
    "round(1.286, 2) #here the '2' rounds to 100th's: so 1.59 (or 1.59_0_)"
   ]
  },
  {
   "cell_type": "code",
   "execution_count": null,
   "metadata": {},
   "outputs": [],
   "source": [
    "round( 17.58, -1 )#negative1 rounds to nearest 10 (not 1/10th) -->20 and zero's the bit after the decimal point"
   ]
  },
  {
   "cell_type": "code",
   "execution_count": null,
   "metadata": {},
   "outputs": [],
   "source": [
    "round( 122.159, -2) #-->100.0 (e.g. ''-2' rounds to nearest 100, not 1/100ths)"
   ]
  },
  {
   "cell_type": "code",
   "execution_count": null,
   "metadata": {},
   "outputs": [],
   "source": [
    "#CARE:\n",
    "round(0.325, 2) #looks like -->0.32 ('2' nearest even 100th)"
   ]
  },
  {
   "cell_type": "code",
   "execution_count": null,
   "metadata": {},
   "outputs": [],
   "source": [
    "#reason: \n",
    "# one: not verified: beind the sceens 0.325 'float', not 0.3250000000000\n",
    "0.32500001123221 #etc. so greater than .5 behind the scenes"
   ]
  },
  {
   "cell_type": "code",
   "execution_count": null,
   "metadata": {},
   "outputs": [],
   "source": [
    "round(0.225,2)"
   ]
  },
  {
   "cell_type": "code",
   "execution_count": null,
   "metadata": {},
   "outputs": [],
   "source": [
    "print( format(0.125, '.50f') )\n",
    "print( format(0.225, '.20f') )\n",
    "print( format(0.325, '.20f') )\n",
    "print( format(0.425, '.20f') )"
   ]
  },
  {
   "cell_type": "code",
   "execution_count": null,
   "metadata": {},
   "outputs": [],
   "source": [
    "x = 0.225\n",
    "print( format(x, '.20f') )\n",
    "round(x, 2)"
   ]
  },
  {
   "cell_type": "code",
   "execution_count": null,
   "metadata": {},
   "outputs": [],
   "source": []
  },
  {
   "cell_type": "code",
   "execution_count": null,
   "metadata": {},
   "outputs": [],
   "source": []
  },
  {
   "cell_type": "code",
   "execution_count": null,
   "metadata": {},
   "outputs": [],
   "source": []
  },
  {
   "cell_type": "code",
   "execution_count": null,
   "metadata": {},
   "outputs": [],
   "source": [
    "hex_code_point = '1F602'  # Unicode code point for the face with tears of joy emoji 😂 in hexadecimal\n",
    "unicode_code_point = ord(chr(int(hex_code_point, 16)))\n",
    "print(f\"The Unicode code point of the emoji is {unicode_code_point}\")\n",
    "print( f\"{chr(int(hex_code_point, 16))}\" )\n"
   ]
  },
  {
   "cell_type": "code",
   "execution_count": null,
   "metadata": {},
   "outputs": [],
   "source": []
  },
  {
   "cell_type": "code",
   "execution_count": null,
   "metadata": {},
   "outputs": [],
   "source": []
  },
  {
   "cell_type": "code",
   "execution_count": null,
   "metadata": {},
   "outputs": [],
   "source": []
  },
  {
   "cell_type": "code",
   "execution_count": null,
   "metadata": {},
   "outputs": [],
   "source": []
  },
  {
   "cell_type": "markdown",
   "metadata": {},
   "source": [
    "#### Python List (\"in-place\" operation concept)"
   ]
  },
  {
   "cell_type": "code",
   "execution_count": null,
   "metadata": {},
   "outputs": [],
   "source": [
    "list = [1,2,3,4,5]"
   ]
  },
  {
   "cell_type": "code",
   "execution_count": null,
   "metadata": {},
   "outputs": [],
   "source": [
    "import random\n",
    "list = [1,2,3,4,]\n",
    "print( id(list))\n",
    "# help(random.shuffle)        #\"in-place\" concept\n",
    "random.shuffle(list)\n",
    "print(list)\n",
    "print(id(list))\n"
   ]
  },
  {
   "cell_type": "code",
   "execution_count": null,
   "metadata": {},
   "outputs": [],
   "source": [
    "# dir(list)\n",
    "# help(list.sort)\n",
    "list = [2, 4, 1, 3]\n",
    "print(list)\n",
    "list.sort()\n",
    "print(list)\n"
   ]
  },
  {
   "cell_type": "code",
   "execution_count": null,
   "metadata": {},
   "outputs": [],
   "source": [
    "#Demo sort() and reverse()\n",
    "list = [1, 2, 3, 4]\n",
    "print(list, id(list))\n",
    "list.reverse()\n",
    "print(list, id(list))"
   ]
  }
 ],
 "metadata": {
  "kernelspec": {
   "display_name": "Python 3",
   "language": "python",
   "name": "python3"
  },
  "language_info": {
   "codemirror_mode": {
    "name": "ipython",
    "version": 3
   },
   "file_extension": ".py",
   "mimetype": "text/x-python",
   "name": "python",
   "nbconvert_exporter": "python",
   "pygments_lexer": "ipython3",
   "version": "3.11.4"
  }
 },
 "nbformat": 4,
 "nbformat_minor": 2
}
