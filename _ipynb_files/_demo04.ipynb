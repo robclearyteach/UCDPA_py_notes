{
 "cells": [
  {
   "cell_type": "code",
   "execution_count": 24,
   "metadata": {},
   "outputs": [
    {
     "name": "stdout",
     "output_type": "stream",
     "text": [
      "<class 'int'> 2\n"
     ]
    }
   ],
   "source": [
    "##Recap one concept from the last time\n",
    "##\n",
    "\n",
    "time = 144\n",
    "\n",
    "min = time//60\n",
    "print( type(min), min)"
   ]
  },
  {
   "cell_type": "code",
   "execution_count": 28,
   "metadata": {},
   "outputs": [
    {
     "name": "stdout",
     "output_type": "stream",
     "text": [
      "294.0 <class 'float'>\n",
      "2 94.0\n"
     ]
    }
   ],
   "source": [
    "#TASK: See below: why was the int() needed?\n",
    "amount = 2.94\n",
    "cents = amount * 100\n",
    "\n",
    "print(cents, type(cents))\n",
    "\n",
    "#euro coin\n",
    "euro_coin = int(cents // 100)  #why the int() needed?\n",
    "left_over = cents % 100\n",
    "\n",
    "print( euro_coin, left_over)"
   ]
  },
  {
   "cell_type": "code",
   "execution_count": null,
   "metadata": {},
   "outputs": [],
   "source": []
  },
  {
   "cell_type": "code",
   "execution_count": null,
   "metadata": {},
   "outputs": [],
   "source": []
  },
  {
   "cell_type": "code",
   "execution_count": null,
   "metadata": {},
   "outputs": [],
   "source": []
  },
  {
   "cell_type": "code",
   "execution_count": null,
   "metadata": {},
   "outputs": [],
   "source": []
  },
  {
   "cell_type": "code",
   "execution_count": null,
   "metadata": {},
   "outputs": [],
   "source": []
  },
  {
   "cell_type": "code",
   "execution_count": null,
   "metadata": {},
   "outputs": [],
   "source": []
  },
  {
   "cell_type": "code",
   "execution_count": 29,
   "metadata": {},
   "outputs": [
    {
     "name": "stdout",
     "output_type": "stream",
     "text": [
      "€2.94: change is: 2 euros, 1 fifties and 4 tens.\n"
     ]
    }
   ],
   "source": [
    "#Improved version:\n",
    "amount = 2.94\n",
    "cents = amount * 100\n",
    "cents = int(cents)\n",
    "#euro coin\n",
    "euro_coin = cents // 100\n",
    "left_over = cents % 100\n",
    "#fifty_cent\n",
    "fifty_cent = left_over // 50\n",
    "left_over2 = left_over %  50\n",
    "\n",
    "#remainder\n",
    "ten_cent   = left_over2 // 10 \n",
    "left_over3 = left_over %  10 \n",
    "\n",
    "\n",
    "print(f\"€{amount}: change is: {euro_coin} euros, {fifty_cent} fifties and {ten_cent} tens.\")"
   ]
  },
  {
   "cell_type": "code",
   "execution_count": null,
   "metadata": {},
   "outputs": [],
   "source": []
  },
  {
   "cell_type": "code",
   "execution_count": null,
   "metadata": {},
   "outputs": [],
   "source": []
  },
  {
   "cell_type": "code",
   "execution_count": null,
   "metadata": {},
   "outputs": [],
   "source": []
  },
  {
   "cell_type": "code",
   "execution_count": null,
   "metadata": {},
   "outputs": [],
   "source": []
  },
  {
   "cell_type": "code",
   "execution_count": null,
   "metadata": {},
   "outputs": [],
   "source": []
  },
  {
   "cell_type": "code",
   "execution_count": null,
   "metadata": {},
   "outputs": [],
   "source": [
    "## developing looping logic\n",
    "## from the ground up...."
   ]
  },
  {
   "cell_type": "code",
   "execution_count": null,
   "metadata": {},
   "outputs": [],
   "source": [
    "## recall...\n",
    "## how many thou's, hun's, tens, units?\n",
    "four_digit_number = 3234\n",
    "\n",
    "thous = four_digit_number // 1000\n",
    "left  = four_digit_number  % 1000\n",
    "\n",
    "hunds = left // 100\n",
    "left  = left  % 100\n",
    "\n",
    "tens  = left // 10\n",
    "left  = left  % 10\n",
    "\n",
    "units = left\n",
    "print(f\"in {four_digit_number} there are {thous} thousands, {hunds} hundreds, {tens} tens and {units} units\")"
   ]
  },
  {
   "cell_type": "code",
   "execution_count": 34,
   "metadata": {},
   "outputs": [
    {
     "name": "stdout",
     "output_type": "stream",
     "text": [
      "1 234 [1]\n",
      "2 34 [1, 2]\n",
      "3 4 [1, 2, 3]\n"
     ]
    }
   ],
   "source": [
    "## consider further refinement...\n",
    "\n",
    "number = 1234\n",
    "digits = []\n",
    "\n",
    "digit  = number // 1000    #3\n",
    "left   = number  % 1000    #234\n",
    "digits.append(digit)\n",
    "print(digit, left, digits)\n",
    "\n",
    "##TASK: write 2/3 lines similar to above\n",
    "##      to cary out the next step...\n",
    "digit  = left // 100\n",
    "left   = left  % 100\n",
    "digits.append(digit)\n",
    "\n",
    "print(digit, left, digits)\n",
    "\n",
    "digit  = left // 10\n",
    "left   = left  % 10\n",
    "digits.append(digit)\n",
    "\n",
    "print(digit, left, digits)"
   ]
  },
  {
   "cell_type": "code",
   "execution_count": null,
   "metadata": {},
   "outputs": [],
   "source": [
    "# CHALLENGE: Can you write a loop for this?\n",
    "# CHALLENGE+: Could you write it for any number of any length (say up as far as 10-digits to begin with) ?         "
   ]
  },
  {
   "cell_type": "code",
   "execution_count": null,
   "metadata": {},
   "outputs": [],
   "source": []
  },
  {
   "cell_type": "code",
   "execution_count": null,
   "metadata": {},
   "outputs": [],
   "source": []
  },
  {
   "cell_type": "code",
   "execution_count": null,
   "metadata": {},
   "outputs": [],
   "source": []
  },
  {
   "cell_type": "markdown",
   "metadata": {},
   "source": [
    "#### Using `%` to repeatedly index each element of a sequence"
   ]
  },
  {
   "cell_type": "code",
   "execution_count": null,
   "metadata": {},
   "outputs": [],
   "source": [
    "# Suppose:\n",
    "slides = [\"slide1\", \"slide2\", \"slide3\"]\n",
    "\n",
    "#want:\n",
    "# slide1, slide2, slide3,... slide1, slide2, slide3... and so on repeatedly\n",
    "\n"
   ]
  },
  {
   "cell_type": "code",
   "execution_count": 37,
   "metadata": {},
   "outputs": [
    {
     "name": "stdout",
     "output_type": "stream",
     "text": [
      "0\n"
     ]
    }
   ],
   "source": [
    "# How to do sequentially without using a loop?\n",
    "# test principle\n",
    "num = 3                     #change value to 2...3...4...\n",
    "num_mod_3 = num % 3\n",
    "print(num_mod_3)            #what prints?"
   ]
  },
  {
   "cell_type": "code",
   "execution_count": 44,
   "metadata": {},
   "outputs": [
    {
     "name": "stdout",
     "output_type": "stream",
     "text": [
      "0\n",
      "1\n",
      "2\n",
      "0\n",
      "1\n",
      "2\n",
      "0\n"
     ]
    }
   ],
   "source": [
    "print( 1 % 3 )\n",
    "print( 2 % 3 )\n",
    "print( 3 % 3 )  #what prints here\n",
    "print( 4 % 3 )\n",
    "print( 5 % 3 )\n",
    "print( 6 % 3 )  #what prints here"
   ]
  },
  {
   "cell_type": "code",
   "execution_count": 42,
   "metadata": {},
   "outputs": [
    {
     "name": "stdout",
     "output_type": "stream",
     "text": [
      "slide3\n"
     ]
    }
   ],
   "source": [
    "slides = [\"slide1\", \"slide2\", \"slide3\"]\n",
    "slide_index = 2\n",
    "print( slides[slide_index] )"
   ]
  },
  {
   "cell_type": "code",
   "execution_count": 43,
   "metadata": {},
   "outputs": [
    {
     "name": "stdout",
     "output_type": "stream",
     "text": [
      "0\n"
     ]
    }
   ],
   "source": [
    "#What does this give?\n",
    "print( 0 % 3 )"
   ]
  },
  {
   "cell_type": "code",
   "execution_count": null,
   "metadata": {},
   "outputs": [],
   "source": []
  },
  {
   "cell_type": "code",
   "execution_count": null,
   "metadata": {},
   "outputs": [],
   "source": []
  },
  {
   "cell_type": "code",
   "execution_count": null,
   "metadata": {},
   "outputs": [],
   "source": []
  },
  {
   "cell_type": "code",
   "execution_count": null,
   "metadata": {},
   "outputs": [],
   "source": []
  },
  {
   "cell_type": "code",
   "execution_count": null,
   "metadata": {},
   "outputs": [],
   "source": []
  },
  {
   "cell_type": "code",
   "execution_count": null,
   "metadata": {},
   "outputs": [],
   "source": []
  },
  {
   "cell_type": "code",
   "execution_count": 45,
   "metadata": {},
   "outputs": [
    {
     "name": "stdout",
     "output_type": "stream",
     "text": [
      "0\n",
      "1\n",
      "2\n",
      "0\n",
      "1\n",
      "2\n"
     ]
    }
   ],
   "source": [
    "#TASK: adjust the print()'s from the above cell\n",
    "#       to get 0,1,2...0,1,2...repeatedly\n",
    "print( 0 % 3 )  #what prints here\n",
    "print( 1 % 3 )\n",
    "print( 2 % 3 )\n",
    "print( 3 % 3 )  #what prints here\n",
    "print( 4 % 3 )  \n",
    "print( 5 % 3 )"
   ]
  },
  {
   "cell_type": "code",
   "execution_count": null,
   "metadata": {},
   "outputs": [],
   "source": [
    "slides = [\"slide1\", \"slide2\", \"slide3\"]\n",
    "#Any application for this...?"
   ]
  },
  {
   "cell_type": "code",
   "execution_count": 46,
   "metadata": {},
   "outputs": [
    {
     "name": "stdout",
     "output_type": "stream",
     "text": [
      "3\n"
     ]
    }
   ],
   "source": [
    "print( len(slides) )"
   ]
  },
  {
   "cell_type": "code",
   "execution_count": 47,
   "metadata": {},
   "outputs": [
    {
     "name": "stdout",
     "output_type": "stream",
     "text": [
      "slide1\n",
      "slide2\n",
      "slide3\n"
     ]
    },
    {
     "ename": "IndexError",
     "evalue": "list index out of range",
     "output_type": "error",
     "traceback": [
      "\u001b[1;31m---------------------------------------------------------------------------\u001b[0m",
      "\u001b[1;31mIndexError\u001b[0m                                Traceback (most recent call last)",
      "Cell \u001b[1;32mIn[47], line 6\u001b[0m\n\u001b[0;32m      4\u001b[0m counter \u001b[38;5;241m=\u001b[39m \u001b[38;5;241m4\u001b[39m\n\u001b[0;32m      5\u001b[0m \u001b[38;5;28;01mwhile\u001b[39;00m starter \u001b[38;5;241m<\u001b[39m counter:\n\u001b[1;32m----> 6\u001b[0m     \u001b[38;5;28mprint\u001b[39m( \u001b[43mslides\u001b[49m\u001b[43m[\u001b[49m\u001b[43mstarter\u001b[49m\u001b[43m]\u001b[49m )\n\u001b[0;32m      7\u001b[0m     starter \u001b[38;5;241m+\u001b[39m\u001b[38;5;241m=\u001b[39m\u001b[38;5;241m1\u001b[39m\n",
      "\u001b[1;31mIndexError\u001b[0m: list index out of range"
     ]
    }
   ],
   "source": [
    "slides = [\"slide1\", \"slide2\", \"slide3\"]\n",
    "\n",
    "starter = 0\n",
    "counter = 4\n",
    "while starter < counter:\n",
    "    print( slides[starter] )\n",
    "    starter +=1\n",
    "    "
   ]
  },
  {
   "cell_type": "code",
   "execution_count": null,
   "metadata": {},
   "outputs": [],
   "source": [
    "slides = [\"slide1\", \"slide2\", \"slide3\"]\n",
    "\n",
    "count = 0\n",
    "#TASK:\n",
    "#write a while-loop to loop 10 times\n",
    "# printing count and len(slides) each time\n",
    "while True:\n",
    "    index = count % 3\n",
    "    print( slides[index] )\n",
    "    count+=1\n",
    "\n",
    "\n",
    "\n",
    "print(f\"program continues: count is {count}\") #Also: print count at the end."
   ]
  },
  {
   "cell_type": "code",
   "execution_count": null,
   "metadata": {},
   "outputs": [],
   "source": []
  },
  {
   "cell_type": "code",
   "execution_count": null,
   "metadata": {},
   "outputs": [],
   "source": []
  },
  {
   "cell_type": "code",
   "execution_count": null,
   "metadata": {},
   "outputs": [],
   "source": []
  },
  {
   "cell_type": "code",
   "execution_count": null,
   "metadata": {},
   "outputs": [],
   "source": []
  },
  {
   "cell_type": "code",
   "execution_count": 49,
   "metadata": {},
   "outputs": [
    {
     "name": "stdout",
     "output_type": "stream",
     "text": [
      "slide1\n",
      "slide2\n",
      "slide3\n",
      "slide4\n",
      "slide1\n",
      "slide2\n",
      "slide3\n",
      "slide4\n",
      "slide1\n",
      "program continues: count is 13\n"
     ]
    }
   ],
   "source": [
    "#Application...\n",
    "slides = [\"slide1\", \"slide2\", \"slide3\", \"slide4\"]\n",
    "#want to get slide1, slide2, slide3, slid1... this time\n",
    "count = len(slides)\n",
    "while count <= 12:\n",
    "    #TASK: \n",
    "    # Adapt this to use `%` to \n",
    "    # cycle through the `slides` list\n",
    "    index = count % len(slides)            #`0`: dummy value for now\n",
    "    print(slides[index])\n",
    "    count +=1\n",
    "\n",
    "print(f\"program continues: count is {count}\")"
   ]
  },
  {
   "cell_type": "code",
   "execution_count": null,
   "metadata": {},
   "outputs": [],
   "source": []
  },
  {
   "cell_type": "code",
   "execution_count": null,
   "metadata": {},
   "outputs": [],
   "source": []
  },
  {
   "cell_type": "code",
   "execution_count": null,
   "metadata": {},
   "outputs": [],
   "source": []
  },
  {
   "cell_type": "code",
   "execution_count": null,
   "metadata": {},
   "outputs": [],
   "source": []
  },
  {
   "cell_type": "code",
   "execution_count": null,
   "metadata": {},
   "outputs": [],
   "source": []
  },
  {
   "cell_type": "code",
   "execution_count": 51,
   "metadata": {},
   "outputs": [
    {
     "name": "stdout",
     "output_type": "stream",
     "text": [
      "slide1\n",
      "slide2\n",
      "slide3\n",
      "slide1\n",
      "slide2\n",
      "slide3\n",
      "slide1\n",
      "program continues: count is: ... 10\n"
     ]
    }
   ],
   "source": [
    "# Further application...\n",
    "# TASK: Fix the code below...\n",
    "slides = [\"slide1\", \"slide2\", \"slide3\"]\n",
    "def print_slide(slide_index):\n",
    "    \"\"\"A function to print slide `n`\"\"\"\n",
    "    print( slides[slide_index] )\n",
    "    \n",
    "count = len(slides)\n",
    "while count < 10:\n",
    "    slide_index = count % len(slides)\n",
    "    print_slide(slide_index)            #call function here instead\n",
    "    count+=1\n",
    "\n",
    "#TASK: what is count goint to be at the end?\n",
    "print(f\"program continues: count is: ... {count}\")"
   ]
  },
  {
   "cell_type": "code",
   "execution_count": null,
   "metadata": {},
   "outputs": [],
   "source": []
  },
  {
   "cell_type": "code",
   "execution_count": null,
   "metadata": {},
   "outputs": [],
   "source": []
  },
  {
   "cell_type": "code",
   "execution_count": null,
   "metadata": {},
   "outputs": [],
   "source": []
  },
  {
   "cell_type": "code",
   "execution_count": null,
   "metadata": {},
   "outputs": [],
   "source": []
  },
  {
   "cell_type": "markdown",
   "metadata": {},
   "source": [
    "#### Python ternary expression: \n",
    "```python\n",
    "    result_if_true if condition else result_if_false\n",
    "```"
   ]
  },
  {
   "cell_type": "code",
   "execution_count": 53,
   "metadata": {},
   "outputs": [
    {
     "name": "stdout",
     "output_type": "stream",
     "text": [
      "TASK: print 'hello' if chatty or  '...silence...' otherwise\n"
     ]
    }
   ],
   "source": [
    "chatty = False\n",
    "print( \"TASK: print 'hello' if chatty or  '...silence...' otherwise\")"
   ]
  },
  {
   "cell_type": "code",
   "execution_count": 55,
   "metadata": {},
   "outputs": [
    {
     "name": "stdout",
     "output_type": "stream",
     "text": [
      "...silence...\n"
     ]
    }
   ],
   "source": [
    "chatty = False\n",
    "if chatty:                #cond\n",
    "    print(\"hello\")        #result-if-true\n",
    "else:\n",
    "    print(\"...silence...\") #result-if-false"
   ]
  },
  {
   "cell_type": "code",
   "execution_count": 58,
   "metadata": {},
   "outputs": [
    {
     "name": "stdout",
     "output_type": "stream",
     "text": [
      "...silence...\n"
     ]
    }
   ],
   "source": [
    "##    result_if_true if condition else result_if_false\n",
    "\n",
    "chatty = True\n",
    "print( \"hello\" if not chatty else \"...silence...\" )"
   ]
  },
  {
   "cell_type": "code",
   "execution_count": null,
   "metadata": {},
   "outputs": [],
   "source": []
  },
  {
   "cell_type": "code",
   "execution_count": 64,
   "metadata": {},
   "outputs": [
    {
     "name": "stdout",
     "output_type": "stream",
     "text": [
      "2\n"
     ]
    }
   ],
   "source": [
    "slides = [\"slide1\", \"slide2\", \"slide3\"]                 #Hint: see `slides`\n",
    "\n",
    "count = 1\n",
    "#...loop condition...\n",
    "if count < 3:\n",
    "    count += 1\n",
    "else:\n",
    "    count = count % len(slides)\n",
    "\n",
    "print(count) "
   ]
  },
  {
   "cell_type": "code",
   "execution_count": 68,
   "metadata": {},
   "outputs": [
    {
     "name": "stdout",
     "output_type": "stream",
     "text": [
      "0\n"
     ]
    }
   ],
   "source": [
    "#See below use of \"ternary expression\" used on right hand side of an assignment\n",
    "# What's it going to print?\n",
    "#AND: What is the point of this?\n",
    "slides = [\"slide1\", \"slide2\", \"slide3\"]                 #Hint: see `slides`\n",
    "\n",
    "count = 3\n",
    "count = count+1 if count<3 else count % len(slides)\n",
    "print(count) \n",
    "\n",
    "\n",
    "#THINKING TASK: try to reduce the complexity of the above\n",
    "#               (maybe some unnecessary work being done)"
   ]
  },
  {
   "cell_type": "code",
   "execution_count": null,
   "metadata": {},
   "outputs": [],
   "source": []
  },
  {
   "cell_type": "code",
   "execution_count": null,
   "metadata": {},
   "outputs": [],
   "source": []
  },
  {
   "cell_type": "code",
   "execution_count": null,
   "metadata": {},
   "outputs": [],
   "source": []
  },
  {
   "cell_type": "code",
   "execution_count": 73,
   "metadata": {},
   "outputs": [
    {
     "name": "stdout",
     "output_type": "stream",
     "text": [
      "0\n",
      "1\n",
      "2\n",
      "0\n",
      "1\n",
      "2\n",
      "0\n",
      "1\n",
      "2\n",
      "0\n",
      "1\n",
      "program continues: count is: ... 2\n"
     ]
    }
   ],
   "source": [
    "#TASK: can you spot a problem with this code?\n",
    "#       TRY to predict the output before running\n",
    "slides = [\"slide1\", \"slide2\", \"slide3\"]\n",
    "count = 0\n",
    "times = 1\n",
    "while True:\n",
    "    print( count )\n",
    "    count = count+1 if count<2 else 0\n",
    "    \n",
    "    times += 1              #control amount of times it runs\n",
    "    if times >= 12:\n",
    "        break\n",
    "\n",
    "print(f\"program continues: count is: ... {count}\")"
   ]
  },
  {
   "cell_type": "code",
   "execution_count": null,
   "metadata": {},
   "outputs": [],
   "source": []
  },
  {
   "cell_type": "code",
   "execution_count": null,
   "metadata": {},
   "outputs": [],
   "source": []
  },
  {
   "cell_type": "code",
   "execution_count": null,
   "metadata": {},
   "outputs": [],
   "source": []
  },
  {
   "cell_type": "code",
   "execution_count": 79,
   "metadata": {},
   "outputs": [
    {
     "name": "stdout",
     "output_type": "stream",
     "text": [
      "Number: 7 - is even: False\n"
     ]
    }
   ],
   "source": [
    "# Imagine a `number` taken-in as input:\n",
    "#           value-if-true if cond else value-if-false\n",
    "\"\"\"\n",
    "#e.g.\n",
    "number = int( input(\"Enter a num: \") )\n",
    "\"\"\"\n",
    "number = 7                                  #`4`: test-value for now\n",
    "\n",
    "#replace `True` with code to test for even/odd\n",
    "is_even = True if (number % 2 == 0) else False                         # stub-value for now\n",
    "print(f\"Number: {number} - is even: {is_even}\")\n"
   ]
  },
  {
   "cell_type": "code",
   "execution_count": 80,
   "metadata": {},
   "outputs": [
    {
     "name": "stdout",
     "output_type": "stream",
     "text": [
      "Number: 5 - is even: False\n"
     ]
    }
   ],
   "source": [
    "#TASK1of3:\n",
    "# 1. write **if-else code** to check is_even\n",
    "number = 5\n",
    "\n",
    "if number%2==0:\n",
    "    is_even = True\n",
    "else:\n",
    "    is_even = False\n",
    "\n",
    "print(f\"Number: {number} - is even: {is_even}\")"
   ]
  },
  {
   "cell_type": "code",
   "execution_count": null,
   "metadata": {},
   "outputs": [],
   "source": []
  },
  {
   "cell_type": "code",
   "execution_count": null,
   "metadata": {},
   "outputs": [],
   "source": []
  },
  {
   "cell_type": "code",
   "execution_count": null,
   "metadata": {},
   "outputs": [],
   "source": []
  },
  {
   "cell_type": "code",
   "execution_count": null,
   "metadata": {},
   "outputs": [],
   "source": []
  },
  {
   "cell_type": "code",
   "execution_count": null,
   "metadata": {},
   "outputs": [],
   "source": [
    "#TASK2of3:\n",
    "# 2. Write a ternery-expression to check is_even\n",
    "number = 5\n",
    "\n",
    "is_even = True if number%2==0 else False            #`value-if-true` if `cond` else `value-if-false`\n",
    "print(f\"Number: {number} - is even: {is_even}\")"
   ]
  },
  {
   "cell_type": "code",
   "execution_count": 82,
   "metadata": {},
   "outputs": [],
   "source": [
    "# import this"
   ]
  },
  {
   "cell_type": "code",
   "execution_count": null,
   "metadata": {},
   "outputs": [],
   "source": []
  },
  {
   "cell_type": "code",
   "execution_count": null,
   "metadata": {},
   "outputs": [],
   "source": []
  },
  {
   "cell_type": "code",
   "execution_count": null,
   "metadata": {},
   "outputs": [],
   "source": []
  },
  {
   "cell_type": "code",
   "execution_count": null,
   "metadata": {},
   "outputs": [],
   "source": []
  },
  {
   "cell_type": "code",
   "execution_count": 86,
   "metadata": {},
   "outputs": [
    {
     "name": "stdout",
     "output_type": "stream",
     "text": [
      "Number: 0 - is even: ...True\n",
      "Number: 1 - is even: ...False\n",
      "Number: 2 - is even: ...True\n",
      "Number: 3 - is even: ...False\n",
      "Number: 4 - is even: ...True\n"
     ]
    }
   ],
   "source": [
    "#TASK3of3:\n",
    "# 3. Alter the `is_even` function to\n",
    "#    return a ternery-expression to check is_even\n",
    "def is_even( number ):\n",
    "    return True if number%2==0 else False\n",
    "\n",
    "for number in range(5):\n",
    "    print(f\"Number: {number} - is even: ...{is_even(number)}\" )  #TASK: update to print True/False"
   ]
  },
  {
   "cell_type": "code",
   "execution_count": null,
   "metadata": {},
   "outputs": [],
   "source": []
  },
  {
   "cell_type": "code",
   "execution_count": null,
   "metadata": {},
   "outputs": [],
   "source": []
  },
  {
   "cell_type": "code",
   "execution_count": null,
   "metadata": {},
   "outputs": [],
   "source": []
  },
  {
   "cell_type": "code",
   "execution_count": null,
   "metadata": {},
   "outputs": [],
   "source": []
  },
  {
   "cell_type": "code",
   "execution_count": 87,
   "metadata": {},
   "outputs": [
    {
     "name": "stdout",
     "output_type": "stream",
     "text": [
      "3\n",
      "6\n"
     ]
    }
   ],
   "source": [
    "# Challenge: \n",
    "# Consider if a ternery-expression could be used for:\n",
    "# max(num1, num2)\n",
    "# min(num1, num2)\n",
    "# order(num1, num2, asc=True)\n",
    "# abs(num)\n",
    "# square(num)\n",
    "# ...\n",
    "def max(num1, num2):\n",
    "    return num1 if num1>num2 else num2\n",
    "\n",
    "def min(num1, num2):\n",
    "    return num1 if num1<num2 else num2\n",
    "    #return num2 if num1>num2 else num1  #alt\n",
    "\n",
    "print( min(5, 3) )\n",
    "print( min(6, 9) )"
   ]
  },
  {
   "cell_type": "code",
   "execution_count": null,
   "metadata": {},
   "outputs": [],
   "source": []
  },
  {
   "cell_type": "code",
   "execution_count": null,
   "metadata": {},
   "outputs": [],
   "source": [
    "#TASK: Use a ternery first\n",
    "#      and then a nested ternary to cater for asc=False...\n",
    "\n",
    "def order(num1, num2, asc=True):            #default value for 'asc' parameter\n",
    "    return (num1, num2) if num1 < num2 else (num2, num1)\n",
    "\n",
    "\n",
    "print( order( 5, 3 ) )   #return tuple: (3,5)           \n",
    "print( order( 2, 3 ) )   #return tuple: (2,3)\n",
    "\n",
    "\n",
    "\"\"\"\n",
    "## Part 2: asc=False\n",
    "print( order( 5, 3, asc=False) )   #return tuple: (5,3)           \n",
    "print( order( 2, 3, asc=False) )   #return tuple: (3,2)\n",
    "\"\"\""
   ]
  },
  {
   "cell_type": "code",
   "execution_count": 89,
   "metadata": {},
   "outputs": [
    {
     "name": "stdout",
     "output_type": "stream",
     "text": [
      "(5, 3)\n",
      "(3, 2)\n"
     ]
    }
   ],
   "source": [
    "#TASK: Use a ternery first\n",
    "#      and then a nested ternary to cater for asc=False...\n",
    "\n",
    "def order(num1, num2, asc=True):            #default value for 'asc' parameter\n",
    "    return ( (num1, num2) if num1<num2 else (num2, num1) ) if asc else ((num2, num1) if num2>num1 else (num1, num2))\n",
    "\"\"\" \n",
    "if asc:\n",
    "    if num1 < num2:\n",
    "        return (num1, num2)\n",
    "    else:\n",
    "        return (num2, num1)\n",
    "else:\n",
    "    if num1 > num2:\n",
    "        return (num1, num2)  #desc order\n",
    "    else:\n",
    "        return (num2, num1)  #desc order\n",
    "\"\"\"\n",
    "\n",
    "## Part 2: asc=False\n",
    "print( order( 3, 5, asc=False) )   #return tuple: (5,3)           \n",
    "print( order( 2, 3, asc=False) )   #return tuple: (3,2)\n"
   ]
  },
  {
   "cell_type": "code",
   "execution_count": null,
   "metadata": {},
   "outputs": [],
   "source": []
  },
  {
   "cell_type": "code",
   "execution_count": null,
   "metadata": {},
   "outputs": [],
   "source": []
  },
  {
   "cell_type": "code",
   "execution_count": null,
   "metadata": {},
   "outputs": [],
   "source": []
  },
  {
   "cell_type": "markdown",
   "metadata": {},
   "source": [
    "# 2. Floating point pitfalls\n",
    "Show that `0.1 + 0.2 == 0.3`"
   ]
  },
  {
   "cell_type": "code",
   "execution_count": 90,
   "metadata": {},
   "outputs": [
    {
     "name": "stdout",
     "output_type": "stream",
     "text": [
      "False\n"
     ]
    }
   ],
   "source": [
    "# Your solution here\n",
    "result =  0.1 + 0.2 == 0.3\n",
    "print(result)\n",
    "# This won't work:\n",
    "# assert 0.1 + 0.2 == 0.3"
   ]
  },
  {
   "cell_type": "code",
   "execution_count": 92,
   "metadata": {},
   "outputs": [
    {
     "name": "stdout",
     "output_type": "stream",
     "text": [
      "0.33000000000000001554\n"
     ]
    }
   ],
   "source": [
    "_0pt33 = 0.33\n",
    "print(f\"{_0pt33:.20f}\") #what prints?"
   ]
  },
  {
   "cell_type": "code",
   "execution_count": 93,
   "metadata": {},
   "outputs": [],
   "source": [
    "import decimal   #for more precise calc's"
   ]
  },
  {
   "cell_type": "code",
   "execution_count": null,
   "metadata": {},
   "outputs": [],
   "source": []
  },
  {
   "cell_type": "code",
   "execution_count": null,
   "metadata": {},
   "outputs": [],
   "source": []
  },
  {
   "cell_type": "code",
   "execution_count": null,
   "metadata": {},
   "outputs": [],
   "source": []
  },
  {
   "cell_type": "code",
   "execution_count": 94,
   "metadata": {},
   "outputs": [
    {
     "name": "stdout",
     "output_type": "stream",
     "text": [
      "0.33\n",
      "0.33 actually 0.3300000000000000155431223\n"
     ]
    },
    {
     "data": {
      "text/plain": [
       "'0.3300000000000000155431223'"
      ]
     },
     "execution_count": 94,
     "metadata": {},
     "output_type": "execute_result"
    }
   ],
   "source": [
    "_0pt33 = 0.33\n",
    "print(_0pt33)\n",
    "print(f\"{_0pt33} actually {_0pt33:.25f}\") #note the ':' to mark the \"format-specifier\"\n",
    "format(_0pt33, \".25f\")"
   ]
  },
  {
   "cell_type": "code",
   "execution_count": null,
   "metadata": {},
   "outputs": [],
   "source": []
  },
  {
   "cell_type": "code",
   "execution_count": null,
   "metadata": {},
   "outputs": [],
   "source": []
  },
  {
   "cell_type": "code",
   "execution_count": null,
   "metadata": {},
   "outputs": [],
   "source": []
  },
  {
   "cell_type": "code",
   "execution_count": null,
   "metadata": {},
   "outputs": [],
   "source": []
  },
  {
   "cell_type": "code",
   "execution_count": 95,
   "metadata": {},
   "outputs": [
    {
     "name": "stdout",
     "output_type": "stream",
     "text": [
      "0.2999999999999999888977698\n",
      "0.2000000000000000111022302\n",
      "0.1000000000000000055511151\n",
      "0.3000000000000000444089210\n",
      "3.33333333333333348136307\n"
     ]
    }
   ],
   "source": [
    "# 0.3 == 0.1 + 0.2\n",
    "print( format(0.3, \".25f\") )\n",
    "print( format(0.2, \".25f\") )\n",
    "print( format(0.1, \".25f\") )\n",
    "print( format(0.1+0.2, \".25f\") )\n",
    "print( format(10/3, \".23f\") )"
   ]
  },
  {
   "cell_type": "markdown",
   "metadata": {},
   "source": [
    "#### Formatting with `format()` and \"format-specifiers\" (e.g. '10.2f')"
   ]
  },
  {
   "cell_type": "code",
   "execution_count": 96,
   "metadata": {},
   "outputs": [
    {
     "name": "stdout",
     "output_type": "stream",
     "text": [
      "4.21111783456\n",
      "The number nicely formatted is: --      4.21--\n"
     ]
    }
   ],
   "source": [
    "number = 4.21111783456\n",
    "print( number )\n",
    "print(f\"The number nicely formatted is: --{number:10.2f}--\")  \n",
    "#NOTE: @f-string -> the ':' to denote the \"format-specifier\""
   ]
  },
  {
   "cell_type": "code",
   "execution_count": 97,
   "metadata": {},
   "outputs": [
    {
     "name": "stdout",
     "output_type": "stream",
     "text": [
      "--      57.47\n",
      "--       0.00\n",
      "--      57.40\n",
      "--      57.00\n"
     ]
    }
   ],
   "source": [
    "print(\"--\", format(57.467657, '10.2f'))\n",
    "print(\"--\", format(0.0033923, '10.2f'))\n",
    "print(\"--\", format(57.4, '10.2f'))\n",
    "print(\"--\", format(57, '10.2f'))"
   ]
  },
  {
   "cell_type": "code",
   "execution_count": 98,
   "metadata": {},
   "outputs": [
    {
     "name": "stdout",
     "output_type": "stream",
     "text": [
      "--   5.75e+01\n",
      "--   3.39e-03\n",
      "--   5.74e+01\n",
      "--   5.70e+01\n"
     ]
    }
   ],
   "source": [
    "#The effect of changing the 'conversion-code' \n",
    "#   from f (floating-point)\n",
    "#   to   e (scientific)\n",
    "print(\"--\", format(57.467657, '10.2e'))\n",
    "print(\"--\", format(0.0033923, '10.2e'))\n",
    "print(\"--\", format(57.4, '10.2e'))\n",
    "print(\"--\", format(57, '10.2e'))\n"
   ]
  },
  {
   "cell_type": "code",
   "execution_count": 99,
   "metadata": {},
   "outputs": [
    {
     "name": "stdout",
     "output_type": "stream",
     "text": [
      "--   5746.77%\n",
      "--      0.34%\n",
      "--   5740.00%\n",
      "--   5700.00%\n"
     ]
    }
   ],
   "source": [
    "#The effect of changing the 'conversion-code' to `%`\n",
    "print(\"--\", format(57.467657, '10.2%'))\n",
    "print(\"--\", format(0.0033923, '10.2%'))\n",
    "print(\"--\", format(57.4, '10.2%'))\n",
    "print(\"--\", format(57, '10.2%'))\n",
    " \n"
   ]
  },
  {
   "cell_type": "code",
   "execution_count": 103,
   "metadata": {},
   "outputs": [
    {
     "name": "stdout",
     "output_type": "stream",
     "text": [
      "--     57.47%\n",
      "--57.47%    --\n",
      "--   5746.77%\n"
     ]
    }
   ],
   "source": [
    "# `<`, `>` to justify the presented number\n",
    "print(\"--\", format(.57467657, '10.2%'))\n",
    "print(\"--\", format(.57467657, '<10.2%'), \"--\", sep='')\n",
    "print(\"--\", format(57.467657, '>10.2%'))"
   ]
  },
  {
   "cell_type": "code",
   "execution_count": 112,
   "metadata": {},
   "outputs": [
    {
     "name": "stdout",
     "output_type": "stream",
     "text": [
      "--      59832\n",
      "-- 59832     \n"
     ]
    }
   ],
   "source": [
    "# Formatting whole-numbers (\"integers\")\n",
    "print(\"--\", format(59832, '10d'))\n",
    "print(\"--\", format(59832, '<10d'))\n"
   ]
  },
  {
   "cell_type": "code",
   "execution_count": 106,
   "metadata": {},
   "outputs": [
    {
     "name": "stdout",
     "output_type": "stream",
     "text": [
      "--       E9B8\n",
      "-- e9b8      \n"
     ]
    }
   ],
   "source": [
    "print(\"--\", format(59832, '10X'))\n",
    "print(\"--\", format(59832, '<10x')) "
   ]
  },
  {
   "cell_type": "code",
   "execution_count": 110,
   "metadata": {},
   "outputs": [
    {
     "name": "stdout",
     "output_type": "stream",
     "text": [
      "--     164670\n",
      "-- 164670    \n",
      "-- 1110100110111000\n",
      "-- 1110100110111000\n"
     ]
    }
   ],
   "source": [
    "\n",
    "print(\"--\", format(59832, '10o'))\n",
    "print(\"--\", format(59832, '<10o')) \n",
    "print(\"--\", format(59832, '10b'))\n",
    "print(\"--\", format(59832, '<10b')) "
   ]
  },
  {
   "cell_type": "code",
   "execution_count": 111,
   "metadata": {},
   "outputs": [
    {
     "name": "stdout",
     "output_type": "stream",
     "text": [
      "-- Python               --\n",
      "-- Python               --\n",
      "--               Python --\n"
     ]
    }
   ],
   "source": [
    "#formatting Strings\n",
    "print(\"--\", format(\"Python\", '20s') ,\"--\")\n",
    "print(\"--\", format(\"Python\", '<20s'),\"--\")\n",
    "print(\"--\", format(\"Python\", '>20s'),\"--\")\n"
   ]
  },
  {
   "cell_type": "code",
   "execution_count": null,
   "metadata": {},
   "outputs": [],
   "source": []
  },
  {
   "cell_type": "markdown",
   "metadata": {},
   "source": [
    "#### Using `round()` to round up/down numbers/floats"
   ]
  },
  {
   "cell_type": "code",
   "execution_count": null,
   "metadata": {},
   "outputs": [],
   "source": [
    "round(0.76) #default round to nearest 'unit'-->1"
   ]
  },
  {
   "cell_type": "code",
   "execution_count": null,
   "metadata": {},
   "outputs": [],
   "source": [
    "round(0.4724) #default round to nearest 'unit'-->0"
   ]
  },
  {
   "cell_type": "code",
   "execution_count": null,
   "metadata": {},
   "outputs": [],
   "source": [
    "round(2.8)"
   ]
  },
  {
   "cell_type": "code",
   "execution_count": null,
   "metadata": {},
   "outputs": [],
   "source": [
    "#When: .5 values\n",
    "#\n",
    "round(1.5) #round to nearest _even_ number when .5"
   ]
  },
  {
   "cell_type": "code",
   "execution_count": null,
   "metadata": {},
   "outputs": [],
   "source": [
    "round(2.50) #round to nearest _even_ number when .5"
   ]
  },
  {
   "cell_type": "code",
   "execution_count": null,
   "metadata": {},
   "outputs": [],
   "source": [
    "round(1.28,1) #the '1' refers to the nearest 1/10: e.g. 1.58--> 1.6\n",
    "              # rather than rounding to '2'"
   ]
  },
  {
   "cell_type": "code",
   "execution_count": null,
   "metadata": {},
   "outputs": [],
   "source": [
    "round(1.28)"
   ]
  },
  {
   "cell_type": "code",
   "execution_count": 113,
   "metadata": {},
   "outputs": [
    {
     "data": {
      "text/plain": [
       "1.29"
      ]
     },
     "execution_count": 113,
     "metadata": {},
     "output_type": "execute_result"
    }
   ],
   "source": [
    "round(1.286, 2) #here the '2' rounds to 100th's: so 1.59 (or 1.59_0_)"
   ]
  },
  {
   "cell_type": "code",
   "execution_count": null,
   "metadata": {},
   "outputs": [],
   "source": [
    "round( 17.58, -1 )#negative1 rounds to nearest 10 (not 1/10th) -->20 and zero's the bit after the decimal point"
   ]
  },
  {
   "cell_type": "code",
   "execution_count": null,
   "metadata": {},
   "outputs": [],
   "source": [
    "round( 122.159, -2) #-->100.0 (e.g. ''-2' rounds to nearest 100, not 1/100ths)"
   ]
  },
  {
   "cell_type": "code",
   "execution_count": null,
   "metadata": {},
   "outputs": [],
   "source": [
    "#CARE:\n",
    "round(0.325, 2) #looks like -->0.32 ('2' nearest even 100th)"
   ]
  },
  {
   "cell_type": "code",
   "execution_count": null,
   "metadata": {},
   "outputs": [],
   "source": [
    "#reason: \n",
    "# one: not verified: beind the sceens 0.325 'float', not 0.3250000000000\n",
    "0.32500001123221 #etc. so greater than .5 behind the scenes"
   ]
  },
  {
   "cell_type": "code",
   "execution_count": null,
   "metadata": {},
   "outputs": [],
   "source": [
    "round(0.225,2)"
   ]
  },
  {
   "cell_type": "code",
   "execution_count": null,
   "metadata": {},
   "outputs": [],
   "source": [
    "print( format(0.125, '.50f') )\n",
    "print( format(0.225, '.20f') )\n",
    "print( format(0.325, '.20f') )\n",
    "print( format(0.425, '.20f') )"
   ]
  },
  {
   "cell_type": "code",
   "execution_count": null,
   "metadata": {},
   "outputs": [],
   "source": [
    "x = 0.225\n",
    "print( format(x, '.20f') )\n",
    "round(x, 2)"
   ]
  },
  {
   "cell_type": "code",
   "execution_count": null,
   "metadata": {},
   "outputs": [],
   "source": []
  },
  {
   "cell_type": "code",
   "execution_count": null,
   "metadata": {},
   "outputs": [],
   "source": []
  },
  {
   "cell_type": "code",
   "execution_count": null,
   "metadata": {},
   "outputs": [],
   "source": []
  },
  {
   "cell_type": "code",
   "execution_count": null,
   "metadata": {},
   "outputs": [],
   "source": [
    "hex_code_point = '1F602'  # Unicode code point for the face with tears of joy emoji 😂 in hexadecimal\n",
    "unicode_code_point = ord(chr(int(hex_code_point, 16)))\n",
    "print(f\"The Unicode code point of the emoji is {unicode_code_point}\")\n",
    "print( f\"{chr(int(hex_code_point, 16))}\" )\n"
   ]
  },
  {
   "cell_type": "code",
   "execution_count": null,
   "metadata": {},
   "outputs": [],
   "source": []
  },
  {
   "cell_type": "code",
   "execution_count": null,
   "metadata": {},
   "outputs": [],
   "source": []
  },
  {
   "cell_type": "code",
   "execution_count": null,
   "metadata": {},
   "outputs": [],
   "source": []
  },
  {
   "cell_type": "code",
   "execution_count": null,
   "metadata": {},
   "outputs": [],
   "source": []
  },
  {
   "cell_type": "markdown",
   "metadata": {},
   "source": [
    "#### Python List (\"in-place\" operation concept)"
   ]
  },
  {
   "cell_type": "code",
   "execution_count": 114,
   "metadata": {},
   "outputs": [],
   "source": [
    "list = [1,2,3,4,5]"
   ]
  },
  {
   "cell_type": "code",
   "execution_count": 116,
   "metadata": {},
   "outputs": [
    {
     "name": "stdout",
     "output_type": "stream",
     "text": [
      "2460400430336\n",
      "[2, 3, 1, 4]\n",
      "2460400430336\n"
     ]
    }
   ],
   "source": [
    "import random\n",
    "list = [1,2,3,4,]\n",
    "print( id(list))\n",
    "# help(random.shuffle)        #\"in-place\" concept\n",
    "random.shuffle(list)\n",
    "print(list)\n",
    "print(id(list))\n"
   ]
  },
  {
   "cell_type": "code",
   "execution_count": 121,
   "metadata": {},
   "outputs": [
    {
     "name": "stdout",
     "output_type": "stream",
     "text": [
      "[2, 4, 1, 3]\n",
      "[4, 3, 2, 1]\n"
     ]
    }
   ],
   "source": [
    "# dir(list)\n",
    "# help(list.sort)\n",
    "list = [2, 4, 1, 3]\n",
    "print(list)\n",
    "list.sort(reverse=True)\n",
    "print(list)\n"
   ]
  },
  {
   "cell_type": "code",
   "execution_count": 123,
   "metadata": {},
   "outputs": [
    {
     "name": "stdout",
     "output_type": "stream",
     "text": [
      "[1, 2, 3, 4] 2460403455616\n",
      "[4, 3, 2, 1] 2460403455616\n",
      "2460403455616\n",
      "2460403449920\n"
     ]
    }
   ],
   "source": [
    "#Demo sort() and reverse()\n",
    "list = [1, 2, 3, 4]\n",
    "print(list, id(list))\n",
    "list.reverse()\n",
    "print(list, id(list))\n",
    "\n",
    "list_sorted = list[::-1]\n",
    "print( id(list) )\n",
    "print( id(list_sorted) )"
   ]
  },
  {
   "cell_type": "code",
   "execution_count": 133,
   "metadata": {},
   "outputs": [
    {
     "name": "stdout",
     "output_type": "stream",
     "text": [
      "[3, 7, 1, 4] 2460401176064\n",
      "[1, 3, 4, 7] 2460400728768\n"
     ]
    }
   ],
   "source": [
    "list = [3, 7, 1, 4]\n",
    "list_s = sorted(list)  #not in-place\n",
    "\n",
    "print( list, id(list) )\n",
    "print( list_s, id(list_s) )"
   ]
  },
  {
   "cell_type": "code",
   "execution_count": 132,
   "metadata": {},
   "outputs": [
    {
     "name": "stdout",
     "output_type": "stream",
     "text": [
      "[3, 7, 1, 4] 2460401166976\n",
      "<list_reverseiterator object at 0x0000023CDB0F6350> 2460396512080\n"
     ]
    }
   ],
   "source": [
    "list = [3, 7, 1, 4]\n",
    "list_s = reversed(list)  #not in-place\n",
    "\n",
    "print( list, id(list) )\n",
    "print( list_s, id(list_s) )"
   ]
  }
 ],
 "metadata": {
  "kernelspec": {
   "display_name": "Python 3",
   "language": "python",
   "name": "python3"
  },
  "language_info": {
   "codemirror_mode": {
    "name": "ipython",
    "version": 3
   },
   "file_extension": ".py",
   "mimetype": "text/x-python",
   "name": "python",
   "nbconvert_exporter": "python",
   "pygments_lexer": "ipython3",
   "version": "3.11.4"
  }
 },
 "nbformat": 4,
 "nbformat_minor": 2
}
