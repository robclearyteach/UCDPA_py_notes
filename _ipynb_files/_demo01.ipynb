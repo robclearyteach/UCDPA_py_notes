{
 "cells": [
  {
   "cell_type": "code",
   "execution_count": null,
   "id": "48ae32f8",
   "metadata": {},
   "outputs": [],
   "source": [
    "# Cell Mode ->Edit [press Enter or click into the cell]\n",
    "# Edit Mode ->Cell [press Esc or click on the margin]\n",
    "\n",
    "#CellMode\n",
    "# A -> new cell above\n",
    "# B -> new cell below\n",
    "# DD-> deletes a cell\n",
    "\n",
    "#ArrowKeys up/down\n",
    "# Shift+up+up.... or Shift+down/down to highligt multiple cells\n"
   ]
  },
  {
   "cell_type": "code",
   "execution_count": 14,
   "id": "99041052",
   "metadata": {},
   "outputs": [
    {
     "name": "stdout",
     "output_type": "stream",
     "text": [
      "Enjoy! agh!\n"
     ]
    }
   ],
   "source": [
    "age = 18\n",
    "age = int(age)\n",
    "legal_age = 18\n",
    "# go_for_a_pint = age > legal_age   #condition: logic-error\n",
    "pass_ = age >= legal_age    #fix\n",
    "\n",
    "if pass_:\n",
    "    print(\"Enjoy! agh!\")\n",
    "else:\n",
    "    print(\"Sorry you're too young\")\n",
    "\n"
   ]
  },
  {
   "cell_type": "code",
   "execution_count": 17,
   "id": "0ed7eaad",
   "metadata": {},
   "outputs": [],
   "source": [
    "###types of data\n",
    "age_     = 18                #whole numbers\n",
    "name     = \"bob\"            #text\n",
    "pay_rate = 12.50            #decimal-point(\"float\") numbers\n",
    "can_have_a_pint = True      # true/false (bool)\n",
    "pension  = None             # None: 'absense of a value'"
   ]
  },
  {
   "cell_type": "code",
   "execution_count": 21,
   "id": "fe97b756",
   "metadata": {},
   "outputs": [
    {
     "name": "stdout",
     "output_type": "stream",
     "text": [
      "<class 'float'>\n"
     ]
    }
   ],
   "source": [
    "print( type(pay_rate) ) #? will this work?"
   ]
  },
  {
   "cell_type": "code",
   "execution_count": 29,
   "id": "a47a6f5f",
   "metadata": {},
   "outputs": [
    {
     "name": "stdout",
     "output_type": "stream",
     "text": [
      "<class 'str'> 7\n"
     ]
    }
   ],
   "source": [
    "age = \"17\"\n",
    "character = age[-1]                 #negative index goes backwards\n",
    "\n",
    "print( type(first), character )"
   ]
  },
  {
   "cell_type": "code",
   "execution_count": 31,
   "id": "6ace3c8b",
   "metadata": {},
   "outputs": [
    {
     "name": "stdout",
     "output_type": "stream",
     "text": [
      "172\n"
     ]
    }
   ],
   "source": [
    "age = \"17\"\n",
    "new_age = age + str(2)      #what happens\n",
    "\n",
    "print( new_age )"
   ]
  },
  {
   "cell_type": "code",
   "execution_count": 32,
   "id": "7d5b9899",
   "metadata": {},
   "outputs": [
    {
     "name": "stdout",
     "output_type": "stream",
     "text": [
      "19\n"
     ]
    }
   ],
   "source": [
    "age = \"17\"\n",
    "new_age = int(age) + 2      #what happens\n",
    "\n",
    "print( new_age )"
   ]
  },
  {
   "cell_type": "code",
   "execution_count": null,
   "id": "7009daba",
   "metadata": {},
   "outputs": [],
   "source": [
    "age = \"17\"\n",
    "age = int(age)          #overwrites current str(\"17\") ==> 17 (whole-number: int)\n",
    "new_age = age + 2      #reads better HERE!\n",
    "\n",
    "print( new_age )"
   ]
  },
  {
   "cell_type": "code",
   "execution_count": null,
   "id": "725ab918",
   "metadata": {},
   "outputs": [],
   "source": []
  },
  {
   "cell_type": "code",
   "execution_count": null,
   "metadata": {},
   "outputs": [
    {
     "name": "stdout",
     "output_type": "stream",
     "text": [
      "Enjoy! agh!\n"
     ]
    }
   ],
   "source": [
    "age = 18\n",
    "age = int(age)\n",
    "legal_age = 18\n",
    "# go_for_a_pint = age > legal_age   #condition: logic-error\n",
    "pass_ = age >= legal_age    #fix\n",
    "\n",
    "if pass_:\n",
    "    print(\"Enjoy! agh!\")\n",
    "else:\n",
    "    print(\"Sorry you're too young\")\n",
    "\n"
   ]
  },
  {
   "cell_type": "code",
   "execution_count": 34,
   "id": "0479a454",
   "metadata": {},
   "outputs": [
    {
     "name": "stdout",
     "output_type": "stream",
     "text": [
      "<class 'str'> 17\n"
     ]
    }
   ],
   "source": [
    "age = input(\"Enter your age: \")\n",
    "print(type(age), age)"
   ]
  },
  {
   "cell_type": "code",
   "execution_count": 36,
   "id": "c587153a",
   "metadata": {},
   "outputs": [
    {
     "name": "stdout",
     "output_type": "stream",
     "text": [
      "19\n"
     ]
    }
   ],
   "source": [
    "age = int( input(\"Enter your age: \") )         #overwrites current str(\"17\") ==> 17 (whole-number: int)\n",
    "new_age = age + 2           #reads better HERE!\n",
    "\n",
    "print( new_age )"
   ]
  },
  {
   "cell_type": "code",
   "execution_count": 37,
   "id": "77649ff9",
   "metadata": {},
   "outputs": [
    {
     "name": "stdout",
     "output_type": "stream",
     "text": [
      "How goes\n"
     ]
    }
   ],
   "source": [
    "### Printing Strings\n",
    "\n",
    "print(\"How goes\")"
   ]
  },
  {
   "cell_type": "code",
   "execution_count": 38,
   "id": "609f1783",
   "metadata": {},
   "outputs": [
    {
     "ename": "SyntaxError",
     "evalue": "unterminated string literal (detected at line 1) (1120289779.py, line 1)",
     "output_type": "error",
     "traceback": [
      "\u001b[1;36m  Cell \u001b[1;32mIn[38], line 1\u001b[1;36m\u001b[0m\n\u001b[1;33m    poem = \"I wandered lonely as\u001b[0m\n\u001b[1;37m           ^\u001b[0m\n\u001b[1;31mSyntaxError\u001b[0m\u001b[1;31m:\u001b[0m unterminated string literal (detected at line 1)\n"
     ]
    }
   ],
   "source": [
    "poem = \"I wandered lonely as\n",
    "a cloud\"\n",
    "\n",
    "print(poem)"
   ]
  },
  {
   "cell_type": "code",
   "execution_count": 41,
   "id": "65c48ec8",
   "metadata": {},
   "outputs": [
    {
     "name": "stdout",
     "output_type": "stream",
     "text": [
      "I wandered lonely as\n",
      "a cloud\n"
     ]
    }
   ],
   "source": [
    "poem = '''I wandered lonely as\n",
    "a cloud'''\n",
    "\n",
    "print(poem)"
   ]
  },
  {
   "cell_type": "code",
   "execution_count": 42,
   "id": "79035dad",
   "metadata": {},
   "outputs": [],
   "source": [
    "text1 = 'this is text'\n",
    "text2 = \"this is text2\""
   ]
  },
  {
   "cell_type": "code",
   "execution_count": 43,
   "id": "a0e53e82",
   "metadata": {},
   "outputs": [],
   "source": [
    "text2 = \"this is text2 isn't it\" "
   ]
  },
  {
   "cell_type": "code",
   "execution_count": 44,
   "id": "e60ad094",
   "metadata": {},
   "outputs": [
    {
     "ename": "SyntaxError",
     "evalue": "unterminated string literal (detected at line 1) (297646429.py, line 1)",
     "output_type": "error",
     "traceback": [
      "\u001b[1;36m  Cell \u001b[1;32mIn[44], line 1\u001b[1;36m\u001b[0m\n\u001b[1;33m    text2 = 'this is text2 isn't it'\u001b[0m\n\u001b[1;37m                                   ^\u001b[0m\n\u001b[1;31mSyntaxError\u001b[0m\u001b[1;31m:\u001b[0m unterminated string literal (detected at line 1)\n"
     ]
    }
   ],
   "source": [
    "text2 = 'this is text2 isn't it'"
   ]
  },
  {
   "cell_type": "code",
   "execution_count": 47,
   "id": "2761600b",
   "metadata": {},
   "outputs": [],
   "source": [
    "text2  = 'this is text2 isn\\'t it'    #escape the inverted-comma\n",
    "better = \"this is text2 isn't it\"    #"
   ]
  },
  {
   "cell_type": "code",
   "execution_count": 48,
   "id": "0af80951",
   "metadata": {},
   "outputs": [
    {
     "ename": "SyntaxError",
     "evalue": "invalid syntax (3115940388.py, line 1)",
     "output_type": "error",
     "traceback": [
      "\u001b[1;36m  Cell \u001b[1;32mIn[48], line 1\u001b[1;36m\u001b[0m\n\u001b[1;33m    quote = \" Mohammad Ali said: \"I am the greatest\"... \"\u001b[0m\n\u001b[1;37m                                  ^\u001b[0m\n\u001b[1;31mSyntaxError\u001b[0m\u001b[1;31m:\u001b[0m invalid syntax\n"
     ]
    }
   ],
   "source": [
    "quote = \" Mohammad Ali said: \"I am the greatest\"... \""
   ]
  },
  {
   "cell_type": "code",
   "execution_count": 49,
   "id": "614ef6e5",
   "metadata": {},
   "outputs": [],
   "source": [
    "quote = \" Mohammad Ali said: \\\"I am the greatest\\\"... \""
   ]
  },
  {
   "cell_type": "code",
   "execution_count": 50,
   "id": "56a25c81",
   "metadata": {},
   "outputs": [],
   "source": [
    "quote = \"\"\" Mohammad Ali said: \"I am the greatest\"... \"\"\""
   ]
  },
  {
   "cell_type": "code",
   "execution_count": null,
   "id": "c03413c7",
   "metadata": {},
   "outputs": [],
   "source": [
    "poem = '''I wandered lonely as\n",
    "a cloud'''\n",
    "\n",
    "print(poem)\n",
    "\n",
    "#TASK: find two other (different) ways\n",
    "#       to achieve above String split over\n",
    "#       multiple lines"
   ]
  },
  {
   "cell_type": "code",
   "execution_count": 54,
   "id": "8d04d8fb",
   "metadata": {},
   "outputs": [
    {
     "name": "stdout",
     "output_type": "stream",
     "text": [
      "I wandered lonely as\n",
      "a cloud\n"
     ]
    },
    {
     "data": {
      "text/plain": [
       "'I wandered lonely as\\na cloud'"
      ]
     },
     "execution_count": 54,
     "metadata": {},
     "output_type": "execute_result"
    }
   ],
   "source": [
    "## Way01\n",
    "poem = \"\"\"I wandered lonely as\n",
    "a cloud\"\"\"\n",
    "\n",
    "print(poem)\n",
    "poem"
   ]
  },
  {
   "cell_type": "code",
   "execution_count": 55,
   "id": "0f212f73",
   "metadata": {},
   "outputs": [
    {
     "name": "stdout",
     "output_type": "stream",
     "text": [
      " I wandered lonely as\n",
      "    a cloud\n"
     ]
    }
   ],
   "source": [
    "## Way02\n",
    "poem = \\\n",
    "''' I wandered lonely as\n",
    "    a cloud'''\n",
    "\n",
    "print(poem)"
   ]
  },
  {
   "cell_type": "code",
   "execution_count": 62,
   "id": "77cbb29b",
   "metadata": {},
   "outputs": [
    {
     "name": "stdout",
     "output_type": "stream",
     "text": [
      "I wandered lonely as\n",
      "a cloud\n"
     ]
    }
   ],
   "source": [
    "## Alternatively...\n",
    "## alternative01\n",
    "poem = \\\n",
    "(\"I wandered lonely as\"           #no comma-separation\n",
    "\"a cloud\")\n",
    "\n",
    "print(poem)"
   ]
  },
  {
   "cell_type": "code",
   "execution_count": 63,
   "id": "4e2d917f",
   "metadata": {},
   "outputs": [
    {
     "name": "stdout",
     "output_type": "stream",
     "text": [
      "I wandered lonely as a cloud\n",
      "I wandered lonely as a cloud\n"
     ]
    }
   ],
   "source": [
    "## Alternatively...\n",
    "## alternative01\n",
    "poem = \"I wandered lonely as \\\n",
    "a cloud\"\n",
    "\n",
    "equiv = \"I wandered lonely as a cloud\"\n",
    "print(poem)\n",
    "print(equiv)"
   ]
  },
  {
   "cell_type": "code",
   "execution_count": 66,
   "id": "2b72f4ec",
   "metadata": {},
   "outputs": [
    {
     "name": "stdout",
     "output_type": "stream",
     "text": [
      "roses are red\n",
      "violets are blue\n",
      "I love python\n",
      "but not as much as you\n"
     ]
    }
   ],
   "source": [
    "poem = \"roses are red\\nviolets are blue\\nI love python\\nbut not as much as you\"\n",
    "print(poem)"
   ]
  },
  {
   "cell_type": "code",
   "execution_count": 67,
   "id": "a888856b",
   "metadata": {},
   "outputs": [
    {
     "name": "stdout",
     "output_type": "stream",
     "text": [
      "roses are red\n",
      "\tviolets are blue\n",
      "\tI love python\n",
      "\tbut not as much as you\n"
     ]
    }
   ],
   "source": [
    "poem = \"roses are red\\n\\tviolets are blue\\n\\tI love python\\n\\tbut not as much as you\"\n",
    "print(poem)"
   ]
  }
 ],
 "metadata": {
  "kernelspec": {
   "display_name": "Python 3 (ipykernel)",
   "language": "python",
   "name": "python3"
  },
  "language_info": {
   "codemirror_mode": {
    "name": "ipython",
    "version": 3
   },
   "file_extension": ".py",
   "mimetype": "text/x-python",
   "name": "python",
   "nbconvert_exporter": "python",
   "pygments_lexer": "ipython3",
   "version": "3.11.4"
  }
 },
 "nbformat": 4,
 "nbformat_minor": 5
}
