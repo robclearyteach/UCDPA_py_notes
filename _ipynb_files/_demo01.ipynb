{
 "cells": [
  {
   "cell_type": "code",
   "execution_count": null,
   "id": "48ae32f8",
   "metadata": {},
   "outputs": [],
   "source": [
    "# Cell Mode ->Edit [press Enter or click into the cell]\n",
    "# Edit Mode ->Cell [press Esc or click on the margin]\n",
    "\n",
    "#CellMode\n",
    "# A -> new cell above\n",
    "# B -> new cell below\n",
    "# DD-> deletes a cell\n",
    "\n",
    "#ArrowKeys up/down\n",
    "# Shift+up+up.... or Shift+down/down to highligt multiple cells\n"
   ]
  },
  {
   "cell_type": "code",
   "execution_count": null,
   "id": "99041052",
   "metadata": {},
   "outputs": [],
   "source": []
  }
 ],
 "metadata": {
  "kernelspec": {
   "display_name": "Python 3 (ipykernel)",
   "language": "python",
   "name": "python3"
  },
  "language_info": {
   "codemirror_mode": {
    "name": "ipython",
    "version": 3
   },
   "file_extension": ".py",
   "mimetype": "text/x-python",
   "name": "python",
   "nbconvert_exporter": "python",
   "pygments_lexer": "ipython3",
   "version": "3.11.4"
  }
 },
 "nbformat": 4,
 "nbformat_minor": 5
}
