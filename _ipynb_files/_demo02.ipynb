{
 "cells": [
  {
   "cell_type": "code",
   "execution_count": 25,
   "metadata": {},
   "outputs": [
    {
     "name": "stdout",
     "output_type": "stream",
     "text": [
      "Hi Bill, your bill (no pun intended) is €23.2454321\n",
      "Hi Bill, your bill (no pun intended) is €23.2454321\n",
      "Hi Billy boy! your bill (no pun intended) is €23.25\n"
     ]
    }
   ],
   "source": [
    "name = \"Bill\"\n",
    "cost = 23.2454321\n",
    "\n",
    "print(\"Hi \"+name+\", your bill (no pun intended) is €\"+str(cost) )\n",
    "print(\"Hi \",name,\", your bill (no pun intended) is €\",cost, sep='')\n",
    "print(f\"Hi {name+'y boy!'} your bill (no pun intended) is €{cost:.2f}\" )"
   ]
  },
  {
   "cell_type": "code",
   "execution_count": 28,
   "metadata": {},
   "outputs": [
    {
     "name": "stdout",
     "output_type": "stream",
     "text": [
      "  23\n"
     ]
    }
   ],
   "source": [
    "cost = 23\n",
    "cost = format(cost, \"d\" )\n",
    "print(cost)"
   ]
  },
  {
   "cell_type": "code",
   "execution_count": 32,
   "metadata": {},
   "outputs": [
    {
     "name": "stdout",
     "output_type": "stream",
     "text": [
      "The number is:  23.450000 , it's in euro's\n"
     ]
    }
   ],
   "source": [
    "cost = 23.45\n",
    "currency = \"euro's\"\n",
    "print(\"The number is:  %f , it's in %s\" % (cost,currency)  )"
   ]
  },
  {
   "cell_type": "code",
   "execution_count": 33,
   "metadata": {},
   "outputs": [
    {
     "name": "stdout",
     "output_type": "stream",
     "text": [
      "Hi Bill your bill (no pun intended) is €23.2454321\n",
      "Hi Bill your bill (no pun intended) is €23\n",
      "Hi Bill your bill (no pun intended) is €23.245\n"
     ]
    }
   ],
   "source": [
    "name = \"Bill\"\n",
    "cost = 23.2454321\n",
    "\n",
    "print(\"Hi %s your bill (no pun intended) is €%s\" % (name, cost) )\n",
    "print(\"Hi %s your bill (no pun intended) is €%d\" % (name, cost) )\n",
    "print(\"Hi %s your bill (no pun intended) is €%.3f\" % (name, cost) )"
   ]
  },
  {
   "cell_type": "code",
   "execution_count": 35,
   "metadata": {},
   "outputs": [],
   "source": [
    "### Legal names (\"identifiers\")\n",
    "# 4us = \"for us\"   #can't start with a digit\n",
    "_4us  = \"for us\""
   ]
  },
  {
   "cell_type": "code",
   "execution_count": 36,
   "metadata": {},
   "outputs": [],
   "source": [
    "my_name_is_r2d2 = \"r2d2\""
   ]
  },
  {
   "cell_type": "code",
   "execution_count": null,
   "metadata": {},
   "outputs": [],
   "source": [
    "myNameIsR2D2 = \"test\"   #not 'Pythonic': camel-case"
   ]
  },
  {
   "cell_type": "code",
   "execution_count": 44,
   "metadata": {},
   "outputs": [
    {
     "name": "stdout",
     "output_type": "stream",
     "text": [
      "€\n",
      "€\n"
     ]
    }
   ],
   "source": [
    "_4us__money = '\\u20AC' \n",
    "print(_4us__money)\n",
    "\n",
    "us_money = '\\u20AC'\n",
    "print(us_money)\n"
   ]
  },
  {
   "cell_type": "code",
   "execution_count": 45,
   "metadata": {},
   "outputs": [
    {
     "name": "stdout",
     "output_type": "stream",
     "text": [
      "4 6\n",
      "6 4\n"
     ]
    }
   ],
   "source": [
    "left_hand  = 4\n",
    "right_hand = 6\n",
    "print( left_hand, right_hand )\n",
    "\n",
    "temp = left_hand\n",
    "\n",
    "left_hand = right_hand\n",
    "right_hand = temp\n",
    "print( left_hand, right_hand )\n"
   ]
  },
  {
   "cell_type": "code",
   "execution_count": 46,
   "metadata": {},
   "outputs": [
    {
     "name": "stdout",
     "output_type": "stream",
     "text": [
      "4 6\n",
      "6 4\n"
     ]
    }
   ],
   "source": [
    "left_hand  = 4\n",
    "right_hand = 6\n",
    "print( left_hand, right_hand )\n",
    "\n",
    "right_hand, left_hand = left_hand, right_hand\n",
    "\n",
    "print( left_hand, right_hand )"
   ]
  },
  {
   "cell_type": "code",
   "execution_count": 1,
   "metadata": {},
   "outputs": [
    {
     "ename": "SyntaxError",
     "evalue": "invalid syntax (1938887665.py, line 3)",
     "output_type": "error",
     "traceback": [
      "\u001b[1;36m  Cell \u001b[1;32mIn[1], line 3\u001b[1;36m\u001b[0m\n\u001b[1;33m    const PI = 3.14\u001b[0m\n\u001b[1;37m          ^\u001b[0m\n\u001b[1;31mSyntaxError\u001b[0m\u001b[1;31m:\u001b[0m invalid syntax\n"
     ]
    }
   ],
   "source": [
    "# NO 'const' or final in Python\n",
    "#\n",
    "const PI = 3.14  "
   ]
  },
  {
   "cell_type": "code",
   "execution_count": 48,
   "metadata": {},
   "outputs": [
    {
     "name": "stdout",
     "output_type": "stream",
     "text": [
      "3.14\n",
      "4.13\n"
     ]
    }
   ],
   "source": [
    "##upper-case convention to denote as a Constant\n",
    "PI = 3.14           #'supposed to be constant: don't touch'\n",
    "print( PI )\n",
    "\n",
    "PI = 4.13           #someone can change PI\n",
    "print( PI )\n"
   ]
  },
  {
   "cell_type": "code",
   "execution_count": 49,
   "metadata": {},
   "outputs": [
    {
     "name": "stdout",
     "output_type": "stream",
     "text": [
      "PI is always 3.14 now!\n"
     ]
    }
   ],
   "source": [
    "def PI():               #workaround for constants in Python\n",
    "    return 3.14\n",
    "\n",
    "print( f\"PI is always {PI()} now!\")"
   ]
  },
  {
   "cell_type": "code",
   "execution_count": 50,
   "metadata": {},
   "outputs": [
    {
     "name": "stdout",
     "output_type": "stream",
     "text": [
      "1716494930.4238837\n"
     ]
    }
   ],
   "source": [
    "import time\n",
    "now = time.time()\n",
    "print( now )\n",
    "#Want: HH:MM:SS ?"
   ]
  },
  {
   "cell_type": "code",
   "execution_count": 51,
   "metadata": {},
   "outputs": [
    {
     "name": "stdout",
     "output_type": "stream",
     "text": [
      "1716494990.971557\n"
     ]
    }
   ],
   "source": [
    "import time\n",
    "now = time.time()\n",
    "print( now )\n",
    "#Want: HH:MM:SS ?"
   ]
  },
  {
   "cell_type": "code",
   "execution_count": 55,
   "metadata": {},
   "outputs": [
    {
     "data": {
      "text/plain": [
       "6"
      ]
     },
     "execution_count": 55,
     "metadata": {},
     "output_type": "execute_result"
    }
   ],
   "source": [
    "number = 123456\n",
    "\n",
    "x = number%10\n",
    "x"
   ]
  },
  {
   "cell_type": "code",
   "execution_count": 59,
   "metadata": {},
   "outputs": [
    {
     "name": "stdout",
     "output_type": "stream",
     "text": [
      "5\n",
      "4\n"
     ]
    }
   ],
   "source": [
    "number = 123456\n",
    "\n",
    "x = int(number/10)\n",
    "x\n",
    "print( x%10 )\n",
    "x = int(x/10)\n",
    "print( x%10)"
   ]
  },
  {
   "cell_type": "code",
   "execution_count": null,
   "metadata": {},
   "outputs": [],
   "source": [
    "import time\n",
    "now = time.time()\n",
    "print( now )"
   ]
  },
  {
   "cell_type": "code",
   "execution_count": null,
   "metadata": {},
   "outputs": [],
   "source": [
    "### TO DO: fill in the missing code\n",
    "import time\n",
    "\n",
    "# Get the current time in seconds since the epoch\n",
    "now = time.time()\n",
    "now = int(now)  #don't need factions of seconds\n",
    "\n",
    "# Calculate total seconds in a day\n",
    "\n",
    "# Find the number of seconds that have passed today\n",
    "\n",
    "# Calculate the current hour, minute, and second\n",
    "hours   = 0\n",
    "minutes = 0\n",
    "seconds = 0\n",
    "\n",
    "# Print the time in HH:MM:SS format\n",
    "print(f\"{hours:02}:{minutes:02}:{seconds:02}\")"
   ]
  }
 ],
 "metadata": {
  "kernelspec": {
   "display_name": "Python 3",
   "language": "python",
   "name": "python3"
  },
  "language_info": {
   "codemirror_mode": {
    "name": "ipython",
    "version": 3
   },
   "file_extension": ".py",
   "mimetype": "text/x-python",
   "name": "python",
   "nbconvert_exporter": "python",
   "pygments_lexer": "ipython3",
   "version": "3.11.4"
  }
 },
 "nbformat": 4,
 "nbformat_minor": 2
}
