{
 "cells": [
  {
   "cell_type": "code",
   "execution_count": null,
   "metadata": {},
   "outputs": [],
   "source": [
    "seconds = 144\n",
    "#how to...get the number of minutes in 144 seconds\n",
    "# divide by something...\n",
    "minutes = 0\n",
    "print(\"minutes:\", minutes)"
   ]
  },
  {
   "cell_type": "code",
   "execution_count": null,
   "metadata": {},
   "outputs": [],
   "source": [
    "seconds = 144\n",
    "#improve on that: want a whole number like '2' minutes\n",
    "# convert to whole-number\n",
    "minutes = 0\n",
    "print(\"minutes:\", minutes)"
   ]
  },
  {
   "cell_type": "code",
   "execution_count": null,
   "metadata": {},
   "outputs": [],
   "source": [
    "seconds = 144\n",
    "#another way... use a type of division\n",
    "minutes = 0\n",
    "print(\"minutes:\", minutes)"
   ]
  },
  {
   "cell_type": "code",
   "execution_count": null,
   "metadata": {},
   "outputs": [],
   "source": [
    "seconds = 144\n",
    "# 2 minutes: but now\n",
    "# how to get the remaining seconds\n",
    "remaining_seconds = 0\n",
    "print(\"remaining_seconds:\", remaining_seconds)"
   ]
  },
  {
   "cell_type": "code",
   "execution_count": null,
   "metadata": {},
   "outputs": [],
   "source": [
    "#stick the above two parts together\n",
    "seconds = 144\n",
    "minutes = 0\n",
    "remaining_seconds = 0\n",
    "\n",
    "print(f\"{minutes}:{remaining_seconds}\")"
   ]
  },
  {
   "cell_type": "code",
   "execution_count": null,
   "metadata": {},
   "outputs": [],
   "source": [
    "#try re-write the code - using shorter variable names...\n",
    "# overwrite `seconds` when no longer needed\n",
    "# assignment: R.H.S happens first...\n",
    "seconds = 144\n",
    "minutes = 0\n",
    "seconds = 0    #because R.H.S happens first\n",
    "\n",
    "print(f\"{minutes}:{seconds}\")"
   ]
  },
  {
   "cell_type": "code",
   "execution_count": null,
   "metadata": {},
   "outputs": [],
   "source": [
    "#equivalent to...\n",
    "start_seconds = 144\n",
    "minutes = start_seconds // 0\n",
    "seconds = start_seconds % 0    #`seconds` overwritten here to 24\n",
    "\n",
    "print(f\"There are {minutes} minutes and {seconds} seconds the original {start_seconds} seconds\")"
   ]
  },
  {
   "cell_type": "code",
   "execution_count": null,
   "metadata": {},
   "outputs": [],
   "source": []
  },
  {
   "cell_type": "code",
   "execution_count": null,
   "metadata": {},
   "outputs": [],
   "source": []
  },
  {
   "cell_type": "code",
   "execution_count": null,
   "metadata": {},
   "outputs": [],
   "source": [
    "#TASK: €1.44 - how many cents in that...\n",
    "\n",
    "amount = 1.44\n",
    "\n",
    "cents = 0\n",
    "print(f\"There are {cents} cents in €{amount}\")"
   ]
  },
  {
   "cell_type": "code",
   "execution_count": null,
   "metadata": {},
   "outputs": [],
   "source": []
  },
  {
   "cell_type": "code",
   "execution_count": null,
   "metadata": {},
   "outputs": [],
   "source": []
  },
  {
   "cell_type": "code",
   "execution_count": null,
   "metadata": {},
   "outputs": [],
   "source": [
    "amount = 1.44\n",
    "\n",
    "cents = amount * 100\n",
    "\n",
    "fifty_cent = int( 0 )\n",
    "\n",
    "print(f\"There are {fifty_cent} fifty_cents in €{amount}\")"
   ]
  },
  {
   "cell_type": "code",
   "execution_count": null,
   "metadata": {},
   "outputs": [],
   "source": [
    "cents = 164\n",
    "#how to get the 64\n",
    "left_over = 0\n",
    "print(f\"{left_over=}\")"
   ]
  },
  {
   "cell_type": "code",
   "execution_count": null,
   "metadata": {},
   "outputs": [],
   "source": [
    "#give change in euro, and 50 cent and then \n",
    "# state the remainder\n",
    "amount = 2.94\n",
    "cents = amount * 100\n",
    "\n",
    "#euro coin\n",
    "euro_coin = int(cents // 100)\n",
    "left_over = cents % 100\n",
    "#fifty_cent\n",
    "fifty_cent = int(left_over // 50)\n",
    "left_over2 = left_over %  50\n",
    "\n",
    "#remainder\n",
    "ten_cent   = int( left_over2 // 10 )\n",
    "left_over3 = left_over %  10 \n",
    "\n",
    "\n",
    "print(f\"€{amount}: change is: {euro_coin} euros, {fifty_cent} fifties and {ten_cent} tens.\")"
   ]
  },
  {
   "cell_type": "code",
   "execution_count": null,
   "metadata": {},
   "outputs": [],
   "source": [
    "two_digit_number = 34\n",
    "tens  = two_digit_number // 10\n",
    "units = two_digit_number %  10\n",
    "\n",
    "\n",
    "print(f\"In {two_digit_number}: there are {tens} tens and {units} units. \")"
   ]
  },
  {
   "cell_type": "code",
   "execution_count": null,
   "metadata": {},
   "outputs": [],
   "source": [
    "#make it a bigger problem ...\n",
    "four_digit_number = 3234\n",
    "##same problem as the previous - just mightn't look like it\n",
    "thous = four_digit_number // 1000\n",
    "left  = four_digit_number %  1000\n",
    "\n",
    "hunds = left // 100\n",
    "left2 = left %  100\n",
    "\n",
    "tens  = left2 // 10\n",
    "left3 = left2 %  10\n",
    "print(f\"{thous=}, {left=}, {hunds=}, {left2}, {tens=}, {left3=}\")"
   ]
  },
  {
   "cell_type": "code",
   "execution_count": null,
   "metadata": {},
   "outputs": [],
   "source": [
    "#This is equivalent... in time you might prefer this way...\n",
    "# key: \"the R.H.S. happens first\"\n",
    "four_digit_number = 3234\n",
    "\n",
    "thous = four_digit_number // 1000\n",
    "left  = four_digit_number %  1000\n",
    "\n",
    "hunds = left // 100\n",
    "left  = left %  100\n",
    "\n",
    "tens  = left // 10\n",
    "left  = left %  10\n",
    "\n",
    "units = left\n",
    "print(f\"{thous=}, {hunds=}, {tens=}, {units=}, {left=}\")"
   ]
  },
  {
   "cell_type": "code",
   "execution_count": null,
   "metadata": {},
   "outputs": [],
   "source": [
    "import time\n",
    "# help(time.time)\n",
    "# dir(time)\n",
    "time_seconds = 0\n",
    "print( time_seconds )"
   ]
  },
  {
   "cell_type": "code",
   "execution_count": null,
   "metadata": {},
   "outputs": [],
   "source": [
    "from datetime import datetime\n",
    "# help(datetime)\n",
    "# dir(datetime)\n"
   ]
  },
  {
   "cell_type": "code",
   "execution_count": null,
   "metadata": {},
   "outputs": [],
   "source": [
    "#example of a basic timer...\n",
    "import time\n",
    "start_time = time.time()             #set start timer\n",
    "\n",
    "for _ in range(5):\n",
    "    print(\"tick...\")\n",
    "    time.sleep(1)                   #pause for 1 sec (five times)\n",
    "\n",
    "end_time = time.time()               #stop the timer\n",
    "\n",
    "time_taken = end_time - start_time  #calc time elapsed\n",
    "print(f\"time taken: {time_taken}\")"
   ]
  },
  {
   "cell_type": "code",
   "execution_count": null,
   "metadata": {},
   "outputs": [],
   "source": [
    "#TASK: Write code to time this loop\n",
    "# See: time.perf_counter() VS time.time()\n",
    "total_sum = 0\n",
    "for i in range(1, 19900000):\n",
    "    total_sum += i"
   ]
  },
  {
   "cell_type": "code",
   "execution_count": null,
   "metadata": {},
   "outputs": [],
   "source": []
  },
  {
   "cell_type": "code",
   "execution_count": null,
   "metadata": {},
   "outputs": [],
   "source": []
  },
  {
   "cell_type": "code",
   "execution_count": null,
   "metadata": {},
   "outputs": [],
   "source": []
  },
  {
   "cell_type": "code",
   "execution_count": null,
   "metadata": {},
   "outputs": [],
   "source": []
  },
  {
   "cell_type": "code",
   "execution_count": null,
   "metadata": {},
   "outputs": [],
   "source": [
    "#random numbers\n",
    "import random\n",
    "\n",
    "num = random.randint(0, 10)\n",
    "print( num )"
   ]
  },
  {
   "cell_type": "code",
   "execution_count": null,
   "metadata": {},
   "outputs": [],
   "source": [
    "import random\n",
    "\n",
    "num1 = random.randint(0, 10)\n",
    "num2 = random.randint(0, 10)\n",
    "\n",
    "print( f\"what is {num1} minus {num2}?\" )"
   ]
  },
  {
   "cell_type": "code",
   "execution_count": null,
   "metadata": {},
   "outputs": [],
   "source": [
    "#want to have bigger value always first (positive results)\n",
    "import random\n",
    "\n",
    "num1 = random.randint(0, 10)\n",
    "num2 = random.randint(0, 10)\n",
    "\n",
    "if num1 > num2:\n",
    "    bigger, smaller = num1, num2\n",
    "else:\n",
    "    bigger, smaller = num2, num1\n",
    "\n",
    "print( f\"what is {bigger} minus {smaller}?\" )"
   ]
  },
  {
   "cell_type": "code",
   "execution_count": null,
   "metadata": {},
   "outputs": [],
   "source": [
    "#Note: slight issue with doing this...\n",
    "# OK in Python but need to know a few things...\n",
    "\"\"\"\n",
    "if num1 > num2:\n",
    "    bigger, smaller = num1, num2\n",
    "else:\n",
    "    bigger, smaller = num2, num1\n",
    "\"\"\"\n",
    "#see later..."
   ]
  },
  {
   "cell_type": "code",
   "execution_count": null,
   "metadata": {},
   "outputs": [],
   "source": [
    "### Guess a number game\n",
    "\n",
    "#generate a random 'hidden' number\n",
    "\n",
    "# ask user: `pick a number between 1 - 10`\n",
    "\n",
    "#check if `entered` is equal to `hidden`\n",
    "\n",
    "#print result `win` or `loose`\n",
    "\n"
   ]
  },
  {
   "cell_type": "code",
   "execution_count": null,
   "metadata": {},
   "outputs": [],
   "source": [
    "#Suppose known constant values that shouldn't change...\n",
    "KG_PER_POUND = 0.45359237   # Py `Constant`\n",
    "MTR_PER_INCH = 0.0254       # Py `Constant`\n",
    "\n",
    "#BUT..."
   ]
  },
  {
   "cell_type": "code",
   "execution_count": null,
   "metadata": {},
   "outputs": [],
   "source": [
    "#lec03_eg04\n",
    "\"\"\"\n",
    "Body Mass Index (BMI) is a measure of health on weight. \n",
    "It can be calculated by taking your weight in kilograms and \n",
    "dividing by the square of your height in meters. \n",
    "The interpretation of BMI for people 16 years or older is as follows:\n",
    "+-------------+-----------------------+\n",
    "| BMI         | Category              |\n",
    "+-------------+-----------------------+\n",
    "| < 18.5      | Underweight           |\n",
    "| 18.5 - 24.9 | Normal weight         |\n",
    "| 25 - 29.9   | Overweight            |\n",
    "| >= 30       | Weight Issue (Class 1)|\n",
    "+-------------+-----------------------+\n",
    "\"\"\"\n",
    "def KG_PER_POUND():\n",
    "    return 0.45359237   # Constant\n",
    "\n",
    "def MTR_PER_INCH():\n",
    "    return 0.0254       # Constant \n",
    "\n",
    "# weight_lbs = float( input(\"Enter weight in pounds:\"))\n",
    "# height_in  = float( input(\"Enter your height in inches:\") )\n",
    " \n",
    "print(f\"your BMI is: {bmi}: the BMI category states: {msg}\")\n"
   ]
  },
  {
   "cell_type": "code",
   "execution_count": null,
   "metadata": {},
   "outputs": [],
   "source": []
  },
  {
   "cell_type": "code",
   "execution_count": null,
   "metadata": {},
   "outputs": [],
   "source": [
    "#lec03_eg03\n",
    "# Subtraction tutor: suppose want it to ask 5 sums\n",
    "import random\n",
    "\n",
    "num1 = random.randint(0, 10)\n",
    "num2 = random.randint(0, 10)\n",
    "\n",
    "if num1 > num2:\n",
    "    bigger, smaller = num1, num2\n",
    "else:\n",
    "    bigger, smaller = num2, num1\n",
    "\n",
    "print( f\"what is {bigger} minus {smaller}?\" )\n",
    "user_input = int( input(\"what is the answer?\") )\n",
    "correct_answer = bigger-smaller\n",
    "if( user_input == correct_answer):\n",
    "    print(\"Correct! well done\")\n",
    "else: \n",
    "    print(f\"{bigger} minus {smaller} is {correct_answer}: try again!\")"
   ]
  },
  {
   "cell_type": "code",
   "execution_count": null,
   "metadata": {},
   "outputs": [],
   "source": [
    "#Suppose I want a quiz with 5 sums:\n",
    "\n",
    "for _ in range(5):\n",
    "    print(\"do the subtraction code\")"
   ]
  },
  {
   "cell_type": "code",
   "execution_count": null,
   "metadata": {},
   "outputs": [],
   "source": [
    "#Examine just the looping part ...\n",
    "line = input(\"Enter next value or 'done'\")\n",
    "while line != \"done\":                           #stop-value (\"sentinel\")\n",
    "    print(\"you entered: \", line)\n",
    "    line = input(\"Enter next value or 'done'\")\n",
    "\n",
    "print(\"program continues\")"
   ]
  },
  {
   "cell_type": "code",
   "execution_count": null,
   "metadata": {},
   "outputs": [],
   "source": [
    "line = input(\"Enter next value or 'done'\")\n",
    "while True:\n",
    "    if line == \"done\":\n",
    "        break\n",
    "    line = input(\"Enter next value or 'done'\")"
   ]
  },
  {
   "cell_type": "code",
   "execution_count": null,
   "metadata": {},
   "outputs": [],
   "source": [
    "while (line:=input(\"Enter next value or 'done'\")) != \"done\":\n",
    "    print(\"you're not `done` yet! OK...\")"
   ]
  },
  {
   "cell_type": "code",
   "execution_count": null,
   "metadata": {},
   "outputs": [],
   "source": [
    "#lec05_eg06\n",
    "#greatest common denominator\n",
    "def get_smaller_bigger(num1, num2):\n",
    "    \"\"\"\n",
    "    TODO: write code for this:\n",
    "        Take in two num and return a tuple\n",
    "        where the smaller is the first \n",
    "        element of the tuple and the bigger \n",
    "        the second\n",
    "    \"\"\"\n",
    "    return (0,0)\n",
    "\n",
    "num1 = int( input(\"Enter a num for gcd: \") )\n",
    "num2 = int( input(\"Enter another num for gcd: \") )\n",
    "smaller, bigger = get_smaller_bigger(num1, num2)\n",
    "\n",
    "gcd = 0 #start val\n",
    "#code for GCD\n",
    "\n",
    "print(\"GCD is: \", gcd)"
   ]
  }
 ],
 "metadata": {
  "kernelspec": {
   "display_name": "Python 3",
   "language": "python",
   "name": "python3"
  },
  "language_info": {
   "codemirror_mode": {
    "name": "ipython",
    "version": 3
   },
   "file_extension": ".py",
   "mimetype": "text/x-python",
   "name": "python",
   "nbconvert_exporter": "python",
   "pygments_lexer": "ipython3",
   "version": "3.11.4"
  }
 },
 "nbformat": 4,
 "nbformat_minor": 2
}
