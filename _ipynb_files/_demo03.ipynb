{
 "cells": [
  {
   "cell_type": "code",
   "execution_count": 16,
   "metadata": {},
   "outputs": [
    {
     "name": "stdout",
     "output_type": "stream",
     "text": [
      "minutes: 2.4\n"
     ]
    }
   ],
   "source": [
    "seconds = 144\n",
    "#how to...get the number of minutes in 144 seconds\n",
    "# divide by something...\n",
    "minutes = seconds / 60\n",
    "print(\"minutes:\", minutes)"
   ]
  },
  {
   "cell_type": "code",
   "execution_count": 17,
   "metadata": {},
   "outputs": [
    {
     "name": "stdout",
     "output_type": "stream",
     "text": [
      "minutes: 2\n"
     ]
    }
   ],
   "source": [
    "seconds = 144\n",
    "#improve on that: want a whole number like '2' minutes\n",
    "# convert to whole-number\n",
    "minutes = int( seconds / 60 )\n",
    "print(\"minutes:\", minutes)"
   ]
  },
  {
   "cell_type": "code",
   "execution_count": 19,
   "metadata": {},
   "outputs": [
    {
     "name": "stdout",
     "output_type": "stream",
     "text": [
      "minutes: 2\n"
     ]
    }
   ],
   "source": [
    "from math import floor\n",
    "seconds = 144\n",
    "#another way... use a type of division\n",
    "minutes =  floor( seconds / 60 )                #also use `//` (floor division operator)\n",
    "print(\"minutes:\", minutes)"
   ]
  },
  {
   "cell_type": "code",
   "execution_count": 20,
   "metadata": {},
   "outputs": [
    {
     "name": "stdout",
     "output_type": "stream",
     "text": [
      "remaining_seconds: 24\n"
     ]
    }
   ],
   "source": [
    "seconds = 144\n",
    "# 2 minutes: but now\n",
    "# how to get the remaining seconds\n",
    "remaining_seconds = seconds % 60\n",
    "print(\"remaining_seconds:\", remaining_seconds)"
   ]
  },
  {
   "cell_type": "code",
   "execution_count": 21,
   "metadata": {},
   "outputs": [
    {
     "name": "stdout",
     "output_type": "stream",
     "text": [
      "2:24\n"
     ]
    }
   ],
   "source": [
    "#stick the above two parts together\n",
    "seconds = 144\n",
    "minutes = seconds // 60\n",
    "remaining_seconds = seconds % 60\n",
    "\n",
    "print(f\"{minutes}:{remaining_seconds}\")"
   ]
  },
  {
   "cell_type": "code",
   "execution_count": 22,
   "metadata": {},
   "outputs": [
    {
     "name": "stdout",
     "output_type": "stream",
     "text": [
      "2:24\n"
     ]
    }
   ],
   "source": [
    "#try re-write the code - using shorter variable names...\n",
    "# overwrite `seconds` when no longer needed\n",
    "# assignment: R.H.S happens first...\n",
    "seconds = 144\n",
    "minutes = seconds // 60\n",
    "seconds = seconds % 60                 #because R.H.S happens first\n",
    "\n",
    "print(f\"{minutes}:{seconds}\")"
   ]
  },
  {
   "cell_type": "code",
   "execution_count": 23,
   "metadata": {},
   "outputs": [
    {
     "name": "stdout",
     "output_type": "stream",
     "text": [
      "There are 2 minutes and 24 seconds the original 144 seconds\n"
     ]
    }
   ],
   "source": [
    "#equivalent to...\n",
    "start_seconds = 144\n",
    "minutes = start_seconds // 60\n",
    "seconds = start_seconds %  60    #`seconds` overwritten here to 24\n",
    "\n",
    "print(f\"There are {minutes} minutes and {seconds} seconds the original {start_seconds} seconds\")"
   ]
  },
  {
   "cell_type": "code",
   "execution_count": null,
   "metadata": {},
   "outputs": [],
   "source": []
  },
  {
   "cell_type": "code",
   "execution_count": null,
   "metadata": {},
   "outputs": [],
   "source": []
  },
  {
   "cell_type": "code",
   "execution_count": 24,
   "metadata": {},
   "outputs": [
    {
     "name": "stdout",
     "output_type": "stream",
     "text": [
      "There are 144.0 cents in €1.44\n"
     ]
    }
   ],
   "source": [
    "#TASK: €1.44 - how many cents in that...\n",
    "\n",
    "amount = 1.44\n",
    "\n",
    "cents = amount * 100\n",
    "print(f\"There are {cents} cents in €{amount}\")"
   ]
  },
  {
   "cell_type": "code",
   "execution_count": null,
   "metadata": {},
   "outputs": [],
   "source": []
  },
  {
   "cell_type": "code",
   "execution_count": null,
   "metadata": {},
   "outputs": [],
   "source": []
  },
  {
   "cell_type": "code",
   "execution_count": 28,
   "metadata": {},
   "outputs": [
    {
     "name": "stdout",
     "output_type": "stream",
     "text": [
      "There are 2.0 fifty_cent pieces in €1.44\n"
     ]
    }
   ],
   "source": [
    "amount = 1.44\n",
    "\n",
    "cents = amount * 100\n",
    "\n",
    "fifty_cent = cents // 50 \n",
    "\n",
    "print(f\"There are {fifty_cent} fifty_cent pieces in €{amount}\")"
   ]
  },
  {
   "cell_type": "code",
   "execution_count": 30,
   "metadata": {},
   "outputs": [
    {
     "name": "stdout",
     "output_type": "stream",
     "text": [
      "1 euro coins and left_over=64\n"
     ]
    }
   ],
   "source": [
    "cents = 164\n",
    "#Give 1euro coins and change:\n",
    "# how to get the 64\n",
    "euro_coins = cents // 100\n",
    "left_over  = cents %  100\n",
    "print(f\"{euro_coins} euro coins and {left_over=}\")"
   ]
  },
  {
   "cell_type": "code",
   "execution_count": null,
   "metadata": {},
   "outputs": [],
   "source": []
  },
  {
   "cell_type": "code",
   "execution_count": 44,
   "metadata": {},
   "outputs": [
    {
     "name": "stdout",
     "output_type": "stream",
     "text": [
      "2.0 euro coins and 94.0 left over\n",
      "1.0 fifty-cent coins and 44.0 left over\n",
      "2.0 twenty-cent coins and 4.0 left over\n"
     ]
    }
   ],
   "source": [
    "#give change in euro, and 50 cent and then \n",
    "# state the remainder\n",
    "amount = 2.94\n",
    "cents = amount * 100\n",
    "\n",
    "euro_coin = cents // 100\n",
    "left_over = cents  % 100\n",
    "print(f\"{euro_coin} euro coins and {left_over} left over\")\n",
    "\n",
    "fifty_cent = left_over // 50\n",
    "left_over2 = left_over  % 50\n",
    "print(f\"{fifty_cent} fifty-cent coins and {left_over2} left over\")\n",
    "\n",
    "twenty_cent = left_over2 // 20\n",
    "left_over3  = left_over2  % 20\n",
    "print(f\"{twenty_cent} twenty-cent coins and {left_over3} left over\")"
   ]
  },
  {
   "cell_type": "code",
   "execution_count": 45,
   "metadata": {},
   "outputs": [
    {
     "name": "stdout",
     "output_type": "stream",
     "text": [
      "2.0 euro coins and 94.0 left over\n",
      "1.0 fifty-cent coins and 44.0 left over\n",
      "2.0 twenty-cent coins and 4.0 left over\n"
     ]
    }
   ],
   "source": [
    "# Try to eliminate left_over2 and left_over3 above\n",
    "amount = 2.94\n",
    "cents = amount * 100\n",
    "\n",
    "euro_coin = cents // 100\n",
    "left_over = cents  % 100\n",
    "print(f\"{euro_coin} euro coins and {left_over} left over\")\n",
    "\n",
    "fifty_cent = left_over // 50\n",
    "left_over  = left_over  % 50\n",
    "print(f\"{fifty_cent} fifty-cent coins and {left_over} left over\")\n",
    "\n",
    "twenty_cent = left_over // 20\n",
    "left_over   = left_over  % 20\n",
    "print(f\"{twenty_cent} twenty-cent coins and {left_over} left over\")"
   ]
  },
  {
   "cell_type": "code",
   "execution_count": 46,
   "metadata": {},
   "outputs": [
    {
     "name": "stdout",
     "output_type": "stream",
     "text": [
      "2.0 euro coins and 94.0 left over\n",
      "1.0 fifty-cent coins and 44.0 left over\n",
      "2.0 twenty-cent coins and 4.0 left over\n"
     ]
    }
   ],
   "source": [
    "# Try to eliminate left_over above\n",
    "amount = 2.94\n",
    "cents = amount * 100\n",
    "\n",
    "euro_coin = cents // 100\n",
    "cents     = cents  % 100\n",
    "print(f\"{euro_coin} euro coins and {cents} left over\")\n",
    "\n",
    "fifty_cent = cents // 50\n",
    "cents      = cents  % 50\n",
    "print(f\"{fifty_cent} fifty-cent coins and {cents} left over\")\n",
    "\n",
    "twenty_cent = cents // 20\n",
    "cents       = cents  % 20\n",
    "print(f\"{twenty_cent} twenty-cent coins and {cents} left over\")"
   ]
  },
  {
   "cell_type": "code",
   "execution_count": null,
   "metadata": {},
   "outputs": [],
   "source": [
    "# NEXT: try to write a while-loop (maybe a for) to remove repetition above..."
   ]
  },
  {
   "cell_type": "code",
   "execution_count": null,
   "metadata": {},
   "outputs": [],
   "source": []
  },
  {
   "cell_type": "code",
   "execution_count": null,
   "metadata": {},
   "outputs": [],
   "source": []
  },
  {
   "cell_type": "code",
   "execution_count": null,
   "metadata": {},
   "outputs": [],
   "source": [
    "#give change in euro, and 50 cent and then \n",
    "# state the remainder\n",
    "amount = 2.94\n",
    "cents = amount * 100\n",
    "\n",
    "#euro coin\n",
    "euro_coin = int(cents // 100)\n",
    "left_over = cents % 100\n",
    "#fifty_cent\n",
    "fifty_cent = int(left_over // 50)\n",
    "left_over2 = left_over %  50\n",
    "\n",
    "#remainder\n",
    "ten_cent   = int( left_over2 // 10 )\n",
    "left_over3 = left_over %  10 \n",
    "\n",
    "\n",
    "print(f\"€{amount}: change is: {euro_coin} euros, {fifty_cent} fifties and {ten_cent} tens.\")"
   ]
  },
  {
   "cell_type": "code",
   "execution_count": null,
   "metadata": {},
   "outputs": [],
   "source": []
  },
  {
   "cell_type": "code",
   "execution_count": null,
   "metadata": {},
   "outputs": [],
   "source": []
  },
  {
   "cell_type": "code",
   "execution_count": null,
   "metadata": {},
   "outputs": [],
   "source": []
  },
  {
   "cell_type": "code",
   "execution_count": 47,
   "metadata": {},
   "outputs": [
    {
     "name": "stdout",
     "output_type": "stream",
     "text": [
      "In 34: there are 3 tens and 4 units. \n"
     ]
    }
   ],
   "source": [
    "two_digit_number = 34\n",
    "tens  = two_digit_number // 10\n",
    "units = two_digit_number %  10\n",
    "\n",
    "\n",
    "print(f\"In {two_digit_number}: there are {tens} tens and {units} units. \")"
   ]
  },
  {
   "cell_type": "code",
   "execution_count": null,
   "metadata": {},
   "outputs": [],
   "source": [
    "#another way without many variable names...\n",
    "amount = 2.94 \n",
    "euro_coin = (amount * 100) // 100\n",
    "fifty_coin = ((amount - euro_coin) * 100) // 50\n",
    "twenty_coin = (((amount - euro_coin) * 100) % 50) // 20\n",
    "remaining_amount = (amount - euro_coin) \n",
    "\n",
    "\n",
    "print(f\" Euro Coin {euro_coin}, Fifty Coin {fifty_coin}, Twenty Coin {twenty_coin} and Remaining {remaining_amount}\")"
   ]
  },
  {
   "cell_type": "code",
   "execution_count": null,
   "metadata": {},
   "outputs": [],
   "source": [
    "\"\"\" \n",
    "3234\n",
    "    3 thousands\n",
    "    2 hundreds\n",
    "    3 tens\n",
    "    4 units\n",
    "\"\"\""
   ]
  },
  {
   "cell_type": "code",
   "execution_count": 58,
   "metadata": {},
   "outputs": [
    {
     "name": "stdout",
     "output_type": "stream",
     "text": [
      "in 3234 there are 3 thousands, 2 hundreds, 3 tens and 4 units\n"
     ]
    }
   ],
   "source": [
    "#make it a bigger problem ...\n",
    "four_digit_number = 3234\n",
    "##same problem as the previous - just mightn't look like it\n",
    "## how many thou's, hun's, tens, units?\n",
    "\n",
    "thous = four_digit_number // 1000\n",
    "left  = four_digit_number  % 1000\n",
    "\n",
    "hunds = left // 100\n",
    "left  = left  % 100\n",
    "\n",
    "tens  = left // 10\n",
    "left  = left  % 10\n",
    "\n",
    "units = left\n",
    "print(f\"in {four_digit_number} there are {thous} thousands, {hunds} hundreds, {tens} tens and {units} units\")"
   ]
  },
  {
   "cell_type": "code",
   "execution_count": null,
   "metadata": {},
   "outputs": [],
   "source": []
  },
  {
   "cell_type": "code",
   "execution_count": null,
   "metadata": {},
   "outputs": [],
   "source": []
  },
  {
   "cell_type": "code",
   "execution_count": null,
   "metadata": {},
   "outputs": [],
   "source": []
  },
  {
   "cell_type": "code",
   "execution_count": null,
   "metadata": {},
   "outputs": [],
   "source": []
  },
  {
   "cell_type": "code",
   "execution_count": null,
   "metadata": {},
   "outputs": [],
   "source": []
  },
  {
   "cell_type": "code",
   "execution_count": null,
   "metadata": {},
   "outputs": [],
   "source": []
  },
  {
   "cell_type": "code",
   "execution_count": null,
   "metadata": {},
   "outputs": [],
   "source": []
  },
  {
   "cell_type": "code",
   "execution_count": null,
   "metadata": {},
   "outputs": [],
   "source": [
    "#make it a bigger problem ...\n",
    "four_digit_number = 3234\n",
    "##same problem as the previous - just mightn't look like it\n",
    "thous = four_digit_number // 1000\n",
    "left  = four_digit_number %  1000\n",
    "\n",
    "hunds = left // 100\n",
    "left2 = left %  100\n",
    "\n",
    "tens  = left2 // 10\n",
    "left3 = left2 %  10\n",
    "print(f\"{thous=}, {left=}, {hunds=}, {left2}, {tens=}, {left3=}\")"
   ]
  },
  {
   "cell_type": "code",
   "execution_count": null,
   "metadata": {},
   "outputs": [],
   "source": [
    "#This is equivalent... in time you might prefer this way...\n",
    "# key: \"the R.H.S. happens first\"\n",
    "four_digit_number = 3234\n",
    "\n",
    "thous = four_digit_number // 1000\n",
    "left  = four_digit_number %  1000\n",
    "\n",
    "hunds = left // 100\n",
    "left  = left %  100\n",
    "\n",
    "tens  = left // 10\n",
    "left  = left %  10\n",
    "\n",
    "units = left\n",
    "print(f\"{thous=}, {hunds=}, {tens=}, {units=}, {left=}\")"
   ]
  },
  {
   "cell_type": "code",
   "execution_count": null,
   "metadata": {},
   "outputs": [],
   "source": []
  },
  {
   "cell_type": "code",
   "execution_count": null,
   "metadata": {},
   "outputs": [],
   "source": []
  },
  {
   "cell_type": "code",
   "execution_count": null,
   "metadata": {},
   "outputs": [],
   "source": []
  },
  {
   "cell_type": "code",
   "execution_count": null,
   "metadata": {},
   "outputs": [],
   "source": []
  },
  {
   "cell_type": "code",
   "execution_count": null,
   "metadata": {},
   "outputs": [],
   "source": []
  },
  {
   "cell_type": "code",
   "execution_count": null,
   "metadata": {},
   "outputs": [],
   "source": []
  },
  {
   "cell_type": "code",
   "execution_count": 64,
   "metadata": {},
   "outputs": [
    {
     "name": "stdout",
     "output_type": "stream",
     "text": [
      "1717698926.8209546\n"
     ]
    }
   ],
   "source": [
    "import time\n",
    "# help(time.time)\n",
    "# dir(time)\n",
    "time_seconds = time.time()\n",
    "print( time_seconds )"
   ]
  },
  {
   "cell_type": "code",
   "execution_count": 67,
   "metadata": {},
   "outputs": [
    {
     "name": "stdout",
     "output_type": "stream",
     "text": [
      "2024-06-06 19:36:55.993488\n",
      "2024-06-06 19:36:55.994485\n"
     ]
    }
   ],
   "source": [
    "from datetime import datetime\n",
    "# help(datetime)\n",
    "# dir(datetime)\n",
    "print( datetime.today() )\n",
    "print( datetime.now()   )\n"
   ]
  },
  {
   "cell_type": "code",
   "execution_count": 68,
   "metadata": {},
   "outputs": [
    {
     "name": "stdout",
     "output_type": "stream",
     "text": [
      "tick...\n",
      "tick...\n",
      "tick...\n",
      "tick...\n",
      "tick...\n",
      "time taken: 5.007238864898682\n"
     ]
    }
   ],
   "source": [
    "#example of a basic timer...\n",
    "import time\n",
    "start_time = time.time()             #set start timer\n",
    "\n",
    "for _ in range(5):\n",
    "    print(\"tick...\")\n",
    "    time.sleep(1)                   #pause for 1 sec (five times)\n",
    "\n",
    "end_time = time.time()               #stop the timer\n",
    "\n",
    "time_taken = end_time - start_time  #calc time elapsed\n",
    "print(f\"time taken: {time_taken}\")"
   ]
  },
  {
   "cell_type": "code",
   "execution_count": null,
   "metadata": {},
   "outputs": [],
   "source": []
  },
  {
   "cell_type": "code",
   "execution_count": 72,
   "metadata": {},
   "outputs": [
    {
     "name": "stdout",
     "output_type": "stream",
     "text": [
      "Help on built-in function perf_counter in module time:\n",
      "\n",
      "perf_counter(...)\n",
      "    perf_counter() -> float\n",
      "    \n",
      "    Performance counter for benchmarking.\n",
      "\n"
     ]
    }
   ],
   "source": [
    "import time\n",
    "help(time.perf_counter)"
   ]
  },
  {
   "cell_type": "code",
   "execution_count": 73,
   "metadata": {},
   "outputs": [
    {
     "name": "stdout",
     "output_type": "stream",
     "text": [
      "Took 4.134729799930938 seconds to run\n"
     ]
    }
   ],
   "source": [
    "#TASK: Write code to time this loop\n",
    "# See: time.perf_counter() VS time.time()\n",
    "import time\n",
    "start = time.perf_counter()\n",
    "total_sum = 0\n",
    "for i in range(1, 19900000):\n",
    "    total_sum += i\n",
    "end  = time.perf_counter()\n",
    "\n",
    "time_taken = end - start\n",
    "print(f\"Took {time_taken} seconds to run\")"
   ]
  },
  {
   "cell_type": "code",
   "execution_count": null,
   "metadata": {},
   "outputs": [],
   "source": []
  },
  {
   "cell_type": "code",
   "execution_count": null,
   "metadata": {},
   "outputs": [],
   "source": []
  },
  {
   "cell_type": "code",
   "execution_count": null,
   "metadata": {},
   "outputs": [],
   "source": []
  },
  {
   "cell_type": "code",
   "execution_count": null,
   "metadata": {},
   "outputs": [],
   "source": []
  },
  {
   "cell_type": "code",
   "execution_count": 74,
   "metadata": {},
   "outputs": [
    {
     "name": "stdout",
     "output_type": "stream",
     "text": [
      "Help on method randint in module random:\n",
      "\n",
      "randint(a, b) method of random.Random instance\n",
      "    Return random integer in range [a, b], including both end points.\n",
      "\n"
     ]
    }
   ],
   "source": [
    "import random\n",
    "help( random.randint)"
   ]
  },
  {
   "cell_type": "code",
   "execution_count": 76,
   "metadata": {},
   "outputs": [
    {
     "name": "stdout",
     "output_type": "stream",
     "text": [
      "5\n"
     ]
    }
   ],
   "source": [
    "#random numbers\n",
    "import random\n",
    "\n",
    "num = random.randint(0, 10)\n",
    "print( num )"
   ]
  },
  {
   "cell_type": "code",
   "execution_count": 77,
   "metadata": {},
   "outputs": [
    {
     "name": "stdout",
     "output_type": "stream",
     "text": [
      "what is 0 minus 10?\n"
     ]
    }
   ],
   "source": [
    "import random\n",
    "\n",
    "num1 = random.randint(0, 10)\n",
    "num2 = random.randint(0, 10)\n",
    "\n",
    "print( f\"what is {num1} minus {num2}?\" )"
   ]
  },
  {
   "cell_type": "code",
   "execution_count": 80,
   "metadata": {},
   "outputs": [
    {
     "name": "stdout",
     "output_type": "stream",
     "text": [
      "what is 5 minus 2?\n"
     ]
    }
   ],
   "source": [
    "import random\n",
    "\n",
    "num1 = random.randint(0, 10)\n",
    "num2 = random.randint(0, 10)\n",
    "\n",
    "if num1 > num2: \n",
    "    print( f\"what is {num1} minus {num2}?\" )\n",
    "else:\n",
    "    print( f\"what is {num2} minus {num1}?\" )"
   ]
  },
  {
   "cell_type": "code",
   "execution_count": 81,
   "metadata": {},
   "outputs": [
    {
     "name": "stdout",
     "output_type": "stream",
     "text": [
      "5 6\n"
     ]
    }
   ],
   "source": [
    "a = 5\n",
    "b = 6\n",
    "\n",
    "aa, bb = a, b\n",
    "\n",
    "print(aa, bb)"
   ]
  },
  {
   "cell_type": "code",
   "execution_count": 86,
   "metadata": {},
   "outputs": [
    {
     "name": "stdout",
     "output_type": "stream",
     "text": [
      "what is 7 minus 5?\n"
     ]
    }
   ],
   "source": [
    "import random\n",
    "\n",
    "num1 = random.randint(0, 10)\n",
    "num2 = random.randint(0, 10)\n",
    "\n",
    "if num1 > num2: \n",
    "    bigger, smaller = num1, num2\n",
    "else:\n",
    "    bigger, smaller = num2, num1\n",
    "\n",
    "print( f\"what is {bigger} minus {smaller}?\" )"
   ]
  },
  {
   "cell_type": "code",
   "execution_count": 94,
   "metadata": {},
   "outputs": [
    {
     "name": "stdout",
     "output_type": "stream",
     "text": [
      "what is 8 minus 5?\n"
     ]
    }
   ],
   "source": [
    "import random\n",
    "\n",
    "def bigger_smaller_for( a, b):\n",
    "    if num1 > num2: \n",
    "        bigger, smaller = num1, num2\n",
    "    else:\n",
    "        bigger, smaller = num2, num1\n",
    "    return bigger, smaller\n",
    "\n",
    "num1 = random.randint(0, 10)\n",
    "num2 = random.randint(0, 10)\n",
    "\n",
    "bigger, smaller = bigger_smaller_for( num1, num2 )\n",
    "print( f\"what is {bigger} minus {smaller}?\" )"
   ]
  },
  {
   "cell_type": "code",
   "execution_count": null,
   "metadata": {},
   "outputs": [],
   "source": []
  },
  {
   "cell_type": "code",
   "execution_count": null,
   "metadata": {},
   "outputs": [],
   "source": []
  },
  {
   "cell_type": "code",
   "execution_count": null,
   "metadata": {},
   "outputs": [],
   "source": []
  },
  {
   "cell_type": "code",
   "execution_count": null,
   "metadata": {},
   "outputs": [],
   "source": []
  },
  {
   "cell_type": "code",
   "execution_count": null,
   "metadata": {},
   "outputs": [],
   "source": []
  },
  {
   "cell_type": "code",
   "execution_count": null,
   "metadata": {},
   "outputs": [],
   "source": [
    "#want to have bigger value always first (positive results)\n",
    "import random\n",
    "\n",
    "num1 = random.randint(0, 10)\n",
    "num2 = random.randint(0, 10)\n",
    "\n",
    "if num1 > num2:\n",
    "    bigger, smaller = num1, num2\n",
    "else:\n",
    "    bigger, smaller = num2, num1\n",
    "\n",
    "print( f\"what is {bigger} minus {smaller}?\" )"
   ]
  },
  {
   "cell_type": "code",
   "execution_count": null,
   "metadata": {},
   "outputs": [],
   "source": [
    "#Note: slight issue with doing this...\n",
    "# OK in Python but need to know a few things...\n",
    "\"\"\"\n",
    "if num1 > num2:\n",
    "    bigger, smaller = num1, num2\n",
    "else:\n",
    "    bigger, smaller = num2, num1\n",
    "\"\"\"\n",
    "#see later..."
   ]
  },
  {
   "cell_type": "code",
   "execution_count": 101,
   "metadata": {},
   "outputs": [
    {
     "ename": "ImportError",
     "evalue": "cannot import name 'random' from 'math' (unknown location)",
     "output_type": "error",
     "traceback": [
      "\u001b[1;31m---------------------------------------------------------------------------\u001b[0m",
      "\u001b[1;31mImportError\u001b[0m                               Traceback (most recent call last)",
      "Cell \u001b[1;32mIn[101], line 1\u001b[0m\n\u001b[1;32m----> 1\u001b[0m \u001b[38;5;28;01mfrom\u001b[39;00m \u001b[38;5;21;01mmath\u001b[39;00m \u001b[38;5;28;01mimport\u001b[39;00m random\n\u001b[0;32m      3\u001b[0m entered \u001b[38;5;241m=\u001b[39m \u001b[38;5;28minput\u001b[39m (\u001b[38;5;124m\"\u001b[39m\u001b[38;5;124mnumber 1 nd 10:\u001b[39m\u001b[38;5;124m\"\u001b[39m)\n\u001b[0;32m      4\u001b[0m hidden \u001b[38;5;241m=\u001b[39m random\u001b[38;5;241m.\u001b[39mrandint(\u001b[38;5;241m1\u001b[39m, \u001b[38;5;241m10\u001b[39m)\n",
      "\u001b[1;31mImportError\u001b[0m: cannot import name 'random' from 'math' (unknown location)"
     ]
    }
   ],
   "source": [
    "import random\n",
    "\n",
    "entered = input (\"number 1 nd 10:\")\n",
    "hidden = random.randint(1, 10)\n",
    "\n",
    "if entered == hidden: \n",
    "    print(\"win\")\n",
    "else:\n",
    "    print(\"loose\")\n",
    "\n",
    "print(f\" the number entered is {entered},  the hidden is {hidden=}\")"
   ]
  },
  {
   "cell_type": "code",
   "execution_count": 100,
   "metadata": {},
   "outputs": [
    {
     "name": "stdout",
     "output_type": "stream",
     "text": [
      "loose\n"
     ]
    }
   ],
   "source": [
    "### Guess a number game\n",
    "#generate a random 'hidden' number\n",
    "# ask user: `pick a number between 1 - 10`\n",
    "#check if `entered` is equal to `hidden`\n",
    "#print result `win` or `loose`\n",
    "entered = input(\"Enter a number between 1 and 10: \")\n",
    "\n",
    "\n",
    "hidden =  3\n",
    "if entered == hidden:\n",
    "    print(\"win\")\n",
    "else:\n",
    "    print(\"loose\")\n"
   ]
  },
  {
   "cell_type": "code",
   "execution_count": null,
   "metadata": {},
   "outputs": [],
   "source": []
  },
  {
   "cell_type": "code",
   "execution_count": null,
   "metadata": {},
   "outputs": [],
   "source": []
  },
  {
   "cell_type": "code",
   "execution_count": null,
   "metadata": {},
   "outputs": [],
   "source": []
  },
  {
   "cell_type": "code",
   "execution_count": null,
   "metadata": {},
   "outputs": [],
   "source": []
  },
  {
   "cell_type": "code",
   "execution_count": null,
   "metadata": {},
   "outputs": [],
   "source": []
  },
  {
   "cell_type": "code",
   "execution_count": null,
   "metadata": {},
   "outputs": [],
   "source": [
    "#Suppose known constant values that shouldn't change...\n",
    "KG_PER_POUND = 0.45359237   # Py `Constant`\n",
    "MTR_PER_INCH = 0.0254       # Py `Constant`\n",
    "\n",
    "#BUT..."
   ]
  },
  {
   "cell_type": "code",
   "execution_count": null,
   "metadata": {},
   "outputs": [],
   "source": [
    "#lec03_eg04\n",
    "\"\"\"\n",
    "Body Mass Index (BMI) is a measure of health on weight. \n",
    "It can be calculated by taking your weight in kilograms and \n",
    "dividing by the square of your height in meters. \n",
    "The interpretation of BMI for people 16 years or older is as follows:\n",
    "+-------------+-----------------------+\n",
    "| BMI         | Category              |\n",
    "+-------------+-----------------------+\n",
    "| < 18.5      | Underweight           |\n",
    "| 18.5 - 24.9 | Normal weight         |\n",
    "| 25 - 29.9   | Overweight            |\n",
    "| >= 30       | Weight Issue (Class 1)|\n",
    "+-------------+-----------------------+\n",
    "\"\"\"\n",
    "def KG_PER_POUND():\n",
    "    return 0.45359237   # Constant\n",
    "\n",
    "def MTR_PER_INCH():\n",
    "    return 0.0254       # Constant \n",
    "\n",
    "# weight_lbs = float( input(\"Enter weight in pounds:\"))\n",
    "# height_in  = float( input(\"Enter your height in inches:\") )\n",
    " \n",
    "print(f\"your BMI is: {bmi}: the BMI category states: {msg}\")\n"
   ]
  },
  {
   "cell_type": "code",
   "execution_count": null,
   "metadata": {},
   "outputs": [],
   "source": []
  },
  {
   "cell_type": "code",
   "execution_count": null,
   "metadata": {},
   "outputs": [],
   "source": [
    "#lec03_eg03\n",
    "# Subtraction tutor: suppose want it to ask 5 sums\n",
    "import random\n",
    "\n",
    "num1 = random.randint(0, 10)\n",
    "num2 = random.randint(0, 10)\n",
    "\n",
    "if num1 > num2:\n",
    "    bigger, smaller = num1, num2\n",
    "else:\n",
    "    bigger, smaller = num2, num1\n",
    "\n",
    "print( f\"what is {bigger} minus {smaller}?\" )\n",
    "user_input = int( input(\"what is the answer?\") )\n",
    "correct_answer = bigger-smaller\n",
    "if( user_input == correct_answer):\n",
    "    print(\"Correct! well done\")\n",
    "else: \n",
    "    print(f\"{bigger} minus {smaller} is {correct_answer}: try again!\")"
   ]
  },
  {
   "cell_type": "code",
   "execution_count": null,
   "metadata": {},
   "outputs": [],
   "source": [
    "#Suppose I want a quiz with 5 sums:\n",
    "\n",
    "for _ in range(5):\n",
    "    print(\"do the subtraction code\")"
   ]
  },
  {
   "cell_type": "code",
   "execution_count": null,
   "metadata": {},
   "outputs": [],
   "source": [
    "#Examine just the looping part ...\n",
    "line = input(\"Enter next value or 'done'\")\n",
    "while line != \"done\":                           #stop-value (\"sentinel\")\n",
    "    print(\"you entered: \", line)\n",
    "    line = input(\"Enter next value or 'done'\")\n",
    "\n",
    "print(\"program continues\")"
   ]
  },
  {
   "cell_type": "code",
   "execution_count": null,
   "metadata": {},
   "outputs": [],
   "source": [
    "line = input(\"Enter next value or 'done'\")\n",
    "while True:\n",
    "    if line == \"done\":\n",
    "        break\n",
    "    line = input(\"Enter next value or 'done'\")"
   ]
  },
  {
   "cell_type": "code",
   "execution_count": null,
   "metadata": {},
   "outputs": [],
   "source": [
    "while (line:=input(\"Enter next value or 'done'\")) != \"done\":\n",
    "    print(\"you're not `done` yet! OK...\")"
   ]
  },
  {
   "cell_type": "code",
   "execution_count": null,
   "metadata": {},
   "outputs": [],
   "source": [
    "#lec05_eg06\n",
    "#greatest common denominator\n",
    "def get_smaller_bigger(num1, num2):\n",
    "    \"\"\"\n",
    "    TODO: write code for this:\n",
    "        Take in two num and return a tuple\n",
    "        where the smaller is the first \n",
    "        element of the tuple and the bigger \n",
    "        the second\n",
    "    \"\"\"\n",
    "    return (0,0)\n",
    "\n",
    "num1 = int( input(\"Enter a num for gcd: \") )\n",
    "num2 = int( input(\"Enter another num for gcd: \") )\n",
    "smaller, bigger = get_smaller_bigger(num1, num2)\n",
    "\n",
    "gcd = 0 #start val\n",
    "#code for GCD\n",
    "\n",
    "print(\"GCD is: \", gcd)"
   ]
  }
 ],
 "metadata": {
  "kernelspec": {
   "display_name": "Python 3",
   "language": "python",
   "name": "python3"
  },
  "language_info": {
   "codemirror_mode": {
    "name": "ipython",
    "version": 3
   },
   "file_extension": ".py",
   "mimetype": "text/x-python",
   "name": "python",
   "nbconvert_exporter": "python",
   "pygments_lexer": "ipython3",
   "version": "3.11.4"
  }
 },
 "nbformat": 4,
 "nbformat_minor": 2
}
