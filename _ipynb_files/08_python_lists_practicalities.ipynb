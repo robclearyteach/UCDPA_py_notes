{
 "cells": [
  {
   "cell_type": "markdown",
   "metadata": {},
   "source": [
    "### The practicalities of using Lists: a guided tour"
   ]
  },
  {
   "cell_type": "markdown",
   "metadata": {},
   "source": [
    "#### A quick look at list.insert(0)"
   ]
  },
  {
   "cell_type": "code",
   "execution_count": null,
   "metadata": {},
   "outputs": [],
   "source": [
    "list_ = [5,6,7,8]\n",
    "print( list(\"abce\") )"
   ]
  },
  {
   "cell_type": "code",
   "execution_count": null,
   "metadata": {},
   "outputs": [],
   "source": [
    "list_ = [5,6,7,8]\n",
    "\n",
    "print(f\"begin: {list_}\")\n",
    "list_.insert(0, 4)\n",
    "list_.insert(0, 3)\n",
    "print(f\"  end: {list_}\")"
   ]
  },
  {
   "cell_type": "markdown",
   "metadata": {},
   "source": [
    "#### Create a list of of even numbers from 1-20"
   ]
  },
  {
   "cell_type": "code",
   "execution_count": null,
   "metadata": {},
   "outputs": [],
   "source": [
    "# TASK: write a for-loop to create a list and put all\n",
    "# the even numbers from 1-20 inside\n",
    "# Print that list at the end.\n",
    "even_numbers = []\n",
    "\n",
    "for num in range(1, 21):\n",
    "    # Check if the number is even\n",
    "    if num % 2 == 0:\n",
    "        # Add the even number to the list\n",
    "        even_numbers.append(num)\n",
    "\n",
    "print(even_numbers)"
   ]
  },
  {
   "cell_type": "code",
   "execution_count": null,
   "metadata": {},
   "outputs": [],
   "source": []
  },
  {
   "cell_type": "code",
   "execution_count": null,
   "metadata": {},
   "outputs": [],
   "source": []
  },
  {
   "cell_type": "code",
   "execution_count": null,
   "metadata": {},
   "outputs": [],
   "source": [
    "#remove duplicates with set()\n",
    "list_ = [1,2,3,3,4,3]\n",
    "no_dups = set(list_)  \n",
    "list_ = list(no_dups)\n",
    "\n",
    "print(list_)"
   ]
  },
  {
   "cell_type": "code",
   "execution_count": null,
   "metadata": {},
   "outputs": [],
   "source": []
  },
  {
   "cell_type": "code",
   "execution_count": null,
   "metadata": {},
   "outputs": [],
   "source": []
  },
  {
   "cell_type": "code",
   "execution_count": null,
   "metadata": {},
   "outputs": [],
   "source": []
  },
  {
   "cell_type": "markdown",
   "metadata": {},
   "source": [
    "#### Copying Lists:"
   ]
  },
  {
   "cell_type": "code",
   "execution_count": null,
   "metadata": {},
   "outputs": [],
   "source": [
    "#Using the slice operator [:]\n",
    "original_list = [1, 2, 3, 4, 5]\n",
    "copied_list = original_list         #NOT COPYING\n",
    "\n",
    "#QUESTION: If you change 'copied_list' \n",
    "#           will it effect 'original_list'\n",
    "\n",
    "copied_list[0] = 9\n",
    "print( copied_list )   \n",
    "print( original_list ) #both same (OR different)"
   ]
  },
  {
   "cell_type": "code",
   "execution_count": null,
   "metadata": {},
   "outputs": [],
   "source": []
  },
  {
   "cell_type": "code",
   "execution_count": null,
   "metadata": {},
   "outputs": [],
   "source": []
  },
  {
   "cell_type": "code",
   "execution_count": null,
   "metadata": {},
   "outputs": [],
   "source": []
  },
  {
   "cell_type": "code",
   "execution_count": null,
   "metadata": {},
   "outputs": [],
   "source": []
  },
  {
   "cell_type": "code",
   "execution_count": null,
   "metadata": {},
   "outputs": [],
   "source": []
  },
  {
   "cell_type": "code",
   "execution_count": null,
   "metadata": {},
   "outputs": [],
   "source": [
    "#Using the slice operator [:]\n",
    "original_list = [1, 2, 3, 4, 5]\n",
    "copied_list   = original_list[:]\n",
    "\n",
    "#what to print to prove distinct list objects at the end\n",
    "copied_list[0] = 9\n",
    "print( original_list, \"\\n\", copied_list )           #different (copy)\n",
    "print( id(original_list), \"\\n\", id(copied_list) )   #different (copy)\n"
   ]
  },
  {
   "cell_type": "code",
   "execution_count": null,
   "metadata": {},
   "outputs": [],
   "source": []
  },
  {
   "cell_type": "code",
   "execution_count": null,
   "metadata": {},
   "outputs": [],
   "source": []
  },
  {
   "cell_type": "code",
   "execution_count": null,
   "metadata": {},
   "outputs": [],
   "source": []
  },
  {
   "cell_type": "code",
   "execution_count": null,
   "metadata": {},
   "outputs": [],
   "source": [
    "\n",
    "#Using the list() function:\n",
    "original_list = [1, 2, 3, 4, 5]\n",
    "copied_list = list(original_list)\n",
    "\n",
    "print( id(original_list), id(copied_list) )"
   ]
  },
  {
   "cell_type": "code",
   "execution_count": null,
   "metadata": {},
   "outputs": [],
   "source": []
  },
  {
   "cell_type": "code",
   "execution_count": null,
   "metadata": {},
   "outputs": [],
   "source": []
  },
  {
   "cell_type": "code",
   "execution_count": null,
   "metadata": {},
   "outputs": [],
   "source": []
  },
  {
   "cell_type": "code",
   "execution_count": null,
   "metadata": {},
   "outputs": [],
   "source": []
  },
  {
   "cell_type": "code",
   "execution_count": null,
   "metadata": {},
   "outputs": [],
   "source": [
    "#Using the copy() method from the copy module:\n",
    "import copy\n",
    "\n",
    "original_list = [1, 2, 3, 4, 5]\n",
    "copied_list = copy.copy(original_list)\n",
    "print( id(original_list), id(copied_list) )"
   ]
  },
  {
   "cell_type": "code",
   "execution_count": null,
   "metadata": {},
   "outputs": [],
   "source": [
    "import copy\n",
    "\n",
    "original_list = [1, ['a', 'b'], 5]\n",
    "copied_list = copy.copy(original_list)      #copied (\"shallow copy\")\n",
    "\n",
    "copied_list[1][0] = 'z'                     #changed copied\n",
    "\n",
    "print(original_list, copied_list)           #original updated aswell??\n",
    "print( id(original_list), id(copied_list) )\n"
   ]
  },
  {
   "cell_type": "code",
   "execution_count": null,
   "metadata": {},
   "outputs": [],
   "source": []
  },
  {
   "cell_type": "code",
   "execution_count": null,
   "metadata": {},
   "outputs": [],
   "source": []
  },
  {
   "cell_type": "code",
   "execution_count": null,
   "metadata": {},
   "outputs": [],
   "source": []
  },
  {
   "cell_type": "code",
   "execution_count": null,
   "metadata": {},
   "outputs": [],
   "source": [
    "import copy\n",
    "\n",
    "original_list = [1, ['a','b'], 4, 5]\n",
    "deep_copied_list = copy.deepcopy(original_list)  #\"deep copy\"\n",
    "\n",
    "print( id(original_list), id(copied_list) )\n",
    "deep_copied_list[1][0] = 'z'                     #changed copy only\n",
    "\n",
    "print(original_list, deep_copied_list)           #original unchanged\n",
    "print( id(original_list), id(deep_copied_list) )"
   ]
  },
  {
   "cell_type": "code",
   "execution_count": null,
   "metadata": {},
   "outputs": [],
   "source": []
  },
  {
   "cell_type": "code",
   "execution_count": null,
   "metadata": {},
   "outputs": [],
   "source": []
  },
  {
   "cell_type": "code",
   "execution_count": null,
   "metadata": {},
   "outputs": [],
   "source": []
  },
  {
   "cell_type": "code",
   "execution_count": null,
   "metadata": {},
   "outputs": [],
   "source": []
  },
  {
   "cell_type": "code",
   "execution_count": null,
   "metadata": {},
   "outputs": [],
   "source": []
  },
  {
   "cell_type": "markdown",
   "metadata": {},
   "source": [
    "#### passing list's to functions"
   ]
  },
  {
   "cell_type": "code",
   "execution_count": null,
   "metadata": {},
   "outputs": [],
   "source": [
    "def print_list(pass_in_list):\n",
    "    print(id(pass_in_list))\n",
    "    for element in pass_in_list:\n",
    "        print(element)\n",
    "\n",
    "my_list = [3,1,2,6,4,2]\n",
    "\n",
    "print_list( my_list )\n",
    "print_list( [1,2,3,4,5,6] )\n",
    "\n",
    "#TASK: alter the above code to check if\n",
    "#       the same list object inside the\n",
    "#       print_list function"
   ]
  },
  {
   "cell_type": "code",
   "execution_count": null,
   "metadata": {},
   "outputs": [],
   "source": []
  },
  {
   "cell_type": "code",
   "execution_count": null,
   "metadata": {},
   "outputs": [],
   "source": []
  },
  {
   "cell_type": "code",
   "execution_count": null,
   "metadata": {},
   "outputs": [],
   "source": []
  },
  {
   "cell_type": "code",
   "execution_count": null,
   "metadata": {},
   "outputs": [],
   "source": []
  },
  {
   "cell_type": "code",
   "execution_count": null,
   "metadata": {},
   "outputs": [],
   "source": [
    "#TASK: Examine the code first:\n",
    "#       Try to predict the outcome\n",
    "import random\n",
    "def modify_list(list_passed_in):\n",
    "    last_index = len(list_passed_in)-1 \n",
    "    i = random.randint( 0, last_index )\n",
    "    \n",
    "    list_passed_in[i]=\"XXX\"  #changeing the outside list\n",
    "    print(list_passed_in)\n",
    "\n",
    "\n",
    "# Define a list\n",
    "my_list = [3, 1, 2, 6, 4, 2]\n",
    "\n",
    "print(f\"before: {my_list}\")\n",
    "# modify_list(my_list)\n",
    "modify_list( my_list[:] )           #sending a copy outside not changed.\n",
    "print(f\" after: {my_list}\")\n"
   ]
  },
  {
   "cell_type": "code",
   "execution_count": null,
   "metadata": {},
   "outputs": [],
   "source": []
  },
  {
   "cell_type": "code",
   "execution_count": null,
   "metadata": {},
   "outputs": [],
   "source": []
  },
  {
   "cell_type": "code",
   "execution_count": null,
   "metadata": {},
   "outputs": [],
   "source": []
  },
  {
   "cell_type": "markdown",
   "metadata": {},
   "source": [
    "#### Returning a list created inside a function"
   ]
  },
  {
   "cell_type": "code",
   "execution_count": null,
   "metadata": {},
   "outputs": [],
   "source": [
    "# No great point to this functon:\n",
    "#   Better to use in-built list.reverse()\n",
    "# (Below function just for demo)\n",
    "def my_reverse( a_list ): #[1,2,3]\n",
    "    result = []             #create new obj here\n",
    "    for element in a_list:\n",
    "        result.insert(0, element) #[3,2,1]\n",
    "    \n",
    "    return result           #return new obj here\n",
    "\n",
    "\n",
    "list1 = [1, 2, 3, 4, 5, 6]\n",
    "list2 = my_reverse(list1)\n",
    "\n",
    "print( list1, id(list1) )\n",
    "print( list2, id(list2) )"
   ]
  },
  {
   "cell_type": "code",
   "execution_count": null,
   "metadata": {},
   "outputs": [],
   "source": []
  },
  {
   "cell_type": "code",
   "execution_count": null,
   "metadata": {},
   "outputs": [],
   "source": []
  },
  {
   "cell_type": "code",
   "execution_count": null,
   "metadata": {},
   "outputs": [],
   "source": []
  },
  {
   "cell_type": "code",
   "execution_count": null,
   "metadata": {},
   "outputs": [],
   "source": []
  },
  {
   "cell_type": "markdown",
   "metadata": {},
   "source": [
    "#### Issues: list as a default arg"
   ]
  },
  {
   "cell_type": "code",
   "execution_count": null,
   "metadata": {},
   "outputs": [],
   "source": [
    "#TASK: add a line to figure out what is happening here\n",
    "def add(x, lst=[]): #default empty-list\n",
    "    \n",
    "    if x not in lst:\n",
    "        lst.append(x)\n",
    "        \n",
    "    return lst          #returns same list passed-in\n",
    "\n",
    "add(4)\n",
    "add(3)\n"
   ]
  },
  {
   "cell_type": "code",
   "execution_count": null,
   "metadata": {},
   "outputs": [],
   "source": []
  },
  {
   "cell_type": "code",
   "execution_count": null,
   "metadata": {},
   "outputs": [],
   "source": []
  },
  {
   "cell_type": "code",
   "execution_count": null,
   "metadata": {},
   "outputs": [],
   "source": []
  },
  {
   "cell_type": "code",
   "execution_count": null,
   "metadata": {},
   "outputs": [],
   "source": [
    "def add(x, lst=None): #Set to `None` this time\n",
    "    if x not in lst:\n",
    "        lst.append(x)\n",
    "        \n",
    "    return lst\n",
    "\n",
    "add(4)                  #What will happen this time?"
   ]
  },
  {
   "cell_type": "code",
   "execution_count": null,
   "metadata": {},
   "outputs": [],
   "source": []
  },
  {
   "cell_type": "code",
   "execution_count": null,
   "metadata": {},
   "outputs": [],
   "source": []
  },
  {
   "cell_type": "code",
   "execution_count": null,
   "metadata": {},
   "outputs": [],
   "source": []
  },
  {
   "cell_type": "code",
   "execution_count": null,
   "metadata": {},
   "outputs": [],
   "source": []
  },
  {
   "cell_type": "code",
   "execution_count": null,
   "metadata": {},
   "outputs": [],
   "source": []
  },
  {
   "cell_type": "code",
   "execution_count": null,
   "metadata": {},
   "outputs": [],
   "source": [
    "def add(x, lst=None):\n",
    "    if lst == None:\n",
    "        lst=[]\n",
    "    if x not in lst:\n",
    "        lst.append(x)\n",
    "        \n",
    "    return lst\n",
    "\n",
    "add(4)\n",
    "add(3)"
   ]
  },
  {
   "cell_type": "code",
   "execution_count": null,
   "metadata": {},
   "outputs": [],
   "source": [
    "#FURTHER TESTING VERSION 1) add(...,lst=[]) Vs VERSION 2) add(...,lst=None)\n",
    "#Version 1:\n",
    "def add(x, lst=[]):\n",
    "    if x not in lst:\n",
    "        lst.append(x)\n",
    "        \n",
    "    return lst\n",
    "\n",
    "# #Version 2:\n",
    "# def add(x, lst=None):\n",
    "#     if lst == None:\n",
    "#         lst = []\n",
    "#     if not(x in lst):\n",
    "#         lst.append(x)\n",
    "        \n",
    "#     return lst\n",
    "\n",
    "list1 = add(1)\n",
    "print(list1)\n",
    "\n",
    "list2 = add(2)\n",
    "print(list2)\n",
    "\n",
    "list3 = add(3, [11, 12, 13, 14])\n",
    "print(list3)\n",
    "\n",
    "list4 = add(4)\n",
    "print(list4)\n"
   ]
  },
  {
   "cell_type": "code",
   "execution_count": null,
   "metadata": {},
   "outputs": [],
   "source": []
  },
  {
   "cell_type": "code",
   "execution_count": null,
   "metadata": {},
   "outputs": [],
   "source": []
  },
  {
   "cell_type": "code",
   "execution_count": null,
   "metadata": {},
   "outputs": [],
   "source": []
  },
  {
   "cell_type": "code",
   "execution_count": null,
   "metadata": {},
   "outputs": [],
   "source": []
  },
  {
   "cell_type": "code",
   "execution_count": null,
   "metadata": {},
   "outputs": [],
   "source": []
  },
  {
   "cell_type": "markdown",
   "metadata": {},
   "source": [
    "#### A 'matrix' as a \"list of lists\""
   ]
  },
  {
   "cell_type": "code",
   "execution_count": null,
   "metadata": {},
   "outputs": [],
   "source": [
    "matrix = [ [1, 2, 3]\n",
    "          ,[4, 5, 6]\n",
    "          ,[7, 8, 9] ] \n",
    "\n",
    "#TASK: access and print the 5, the 8 and the 9"
   ]
  },
  {
   "cell_type": "code",
   "execution_count": null,
   "metadata": {},
   "outputs": [],
   "source": [
    "print( matrix[1][1] )\n",
    "print( matrix[2][1] ) \n",
    "print( matrix[2][2] ) "
   ]
  },
  {
   "cell_type": "code",
   "execution_count": null,
   "metadata": {},
   "outputs": [],
   "source": []
  },
  {
   "cell_type": "code",
   "execution_count": null,
   "metadata": {},
   "outputs": [],
   "source": []
  },
  {
   "cell_type": "markdown",
   "metadata": {},
   "source": [
    "## More list of lists (examples)"
   ]
  },
  {
   "cell_type": "code",
   "execution_count": null,
   "metadata": {},
   "outputs": [],
   "source": [
    "list_of_lists = [\n",
    "                  [1, 2, 3]\n",
    "                 ,[4, 5, 6]\n",
    "                 ,[7, 8, 9] ]          # Creating a list-of-lists\n",
    "print(list_of_lists)\n",
    "\n",
    "element_0_1 = list_of_lists[2][2]\n",
    "print(element_0_1)"
   ]
  },
  {
   "cell_type": "markdown",
   "metadata": {},
   "source": [
    "> There are many ways to write the following codes in Python.\n",
    "\n",
    "> These examples just give the concepts and presents codes you might come-across"
   ]
  },
  {
   "cell_type": "markdown",
   "metadata": {},
   "source": [
    "### Seeing the list of lists as a matrix (rows and columns)"
   ]
  },
  {
   "cell_type": "code",
   "execution_count": null,
   "metadata": {},
   "outputs": [],
   "source": [
    "#hard-coded 3 x 3 (rows by cols)\n",
    "matrix = [[1, 2, 3], [4, 5, 6], [7, 8, 9]]          \n",
    "for row in range(0, 3): \n",
    "    for col in range(0, 3): \n",
    "        # print(matrix[row][col], end = \" \")  \n",
    "        print(f\"col: {row=}, {col=}\")\n",
    "    print() # Print a newline\n",
    "\n"
   ]
  },
  {
   "cell_type": "code",
   "execution_count": null,
   "metadata": {},
   "outputs": [],
   "source": [
    "#More Flexible (rows by cols)\n",
    "matrix = [  [1, 2, ]\n",
    "          , [4, 5, 6, 6]\n",
    "          , [7, 8, 9, 0, 1, 2]     ]          \n",
    "for row in range(0, len(matrix)): \n",
    "    for col in range(0, len(matrix[row])):  #cater for \"ragged array\"\n",
    "        print(matrix[row][col], end = \" \")  \n",
    "    print() # Print a newline"
   ]
  },
  {
   "cell_type": "markdown",
   "metadata": {},
   "source": [
    "### Initializing a list of lists with input values"
   ]
  },
  {
   "cell_type": "code",
   "execution_count": null,
   "metadata": {},
   "outputs": [],
   "source": [
    "# Note: Recommend: If running cell\n",
    "#       Enter 3x3 at the beginning (something small)\n",
    "#       for number_of_rows/number_of_columns\n",
    "\n",
    "matrix = [] # Create an empty list\n",
    "number_of_rows = eval(input(\"Enter the number of rows: \"))\n",
    "number_of_cols = eval(input(\"Enter the number of cols: \"))\n",
    "\n",
    "for row in range(0, number_of_rows): \n",
    "    matrix.append([]) # Add an empty new row \n",
    "    for column in range(0, number_of_cols): \n",
    "        value = eval(input(\"Enter an element and press Enter: \"))\n",
    "        matrix[row].append(value) \n",
    "\n",
    "print(matrix)  \n"
   ]
  },
  {
   "cell_type": "markdown",
   "metadata": {},
   "source": [
    "### Initializing a list of lists with random values"
   ]
  },
  {
   "cell_type": "code",
   "execution_count": null,
   "metadata": {},
   "outputs": [],
   "source": [
    "# Note: again here, recommend choose 3x3 if running the code\n",
    "#       to test it.\n",
    "\n",
    "import random\n",
    "matrix = [] # Create an empty list\n",
    "number_of_rows = eval(input(\"Enter the number of rows: \"))\n",
    "number_of_cols = eval(input(\"Enter the number of cols: \"))\n",
    "\n",
    "for row in range(0, number_of_rows): \n",
    "    matrix.append([]) # Add an empty new row \n",
    "    for column in range(0, number_of_cols): \n",
    "        matrix[row].append(random.randrange(0, 100)) \n",
    "\n",
    "print(matrix)  \n"
   ]
  },
  {
   "cell_type": "code",
   "execution_count": null,
   "metadata": {},
   "outputs": [],
   "source": []
  },
  {
   "cell_type": "markdown",
   "metadata": {},
   "source": [
    "### Summing the values in a matrix (common use-cases)\n"
   ]
  },
  {
   "cell_type": "code",
   "execution_count": null,
   "metadata": {},
   "outputs": [],
   "source": [
    "matrix = [[1, 2, 3], [4, 5, 6], [7, 8, 9]] \n",
    "\n",
    "\n",
    "sum_ = 0\n",
    "for row in range(0, len(matrix)): \n",
    "    for column in range(0, len(matrix[row])): \n",
    "        sum_ += matrix[row][column]\n",
    "\n",
    "print(f\"sum_ is {sum_}\") # Print the sum_  \n"
   ]
  },
  {
   "cell_type": "markdown",
   "metadata": {},
   "source": [
    "#### Care: variable-names like `sum`\n",
    "```md\n",
    "       If calling the variable above `sum` (e.g. without the `_`)\n",
    "       it will override the built-in `sum()` function that we\n",
    "       want to use later \n",
    "```"
   ]
  },
  {
   "cell_type": "code",
   "execution_count": null,
   "metadata": {},
   "outputs": [],
   "source": [
    "## e.g. see below error (run in a .py)\n",
    "# sum = 0\n",
    "# try:\n",
    "#     sum( 2, 2 )\n",
    "# except TypeError as e:\n",
    "#     print( \"sum not working??\")\n",
    "\n",
    "# import builtins\n",
    "# sum = builtins.sum\n",
    "# sum( 2, 2 )"
   ]
  },
  {
   "cell_type": "markdown",
   "metadata": {},
   "source": [
    "### Summing the columns only (for example) "
   ]
  },
  {
   "cell_type": "code",
   "execution_count": null,
   "metadata": {},
   "outputs": [],
   "source": [
    "## Below is just *one-way* to achieve a sum of each column\n",
    "\n",
    "matrix = [[1, 2, 3], [4, 5, 6], [7, 8, 9]] \n",
    "\n",
    "for column in range(0, len(matrix[0])): \n",
    "    total = 0\n",
    "    for row in range(0, len(matrix)): \n",
    "        total += matrix[row][column]\n",
    "    print(f\"Sum for column {column} is {total}\")\n"
   ]
  },
  {
   "cell_type": "markdown",
   "metadata": {},
   "source": [
    "### Index of the row with the max sum (for example)"
   ]
  },
  {
   "cell_type": "code",
   "execution_count": null,
   "metadata": {},
   "outputs": [],
   "source": [
    "matrix = [\n",
    "    [1, 2, 3],\n",
    "    [7, 8, 9],\n",
    "    [4, 5, 6],\n",
    "    \n",
    "]\n",
    "\n",
    "index_of_row_with_max_sum = 0               #start with zero\n",
    "row_sum = sum(matrix[0])                    # sum of row\n",
    "for index_ in range(1, len(matrix)):         #range(1,...) from next\n",
    "    this_row = matrix[index_]\n",
    "    if sum(this_row) > row_sum:\n",
    "        row_sum = sum(this_row)\n",
    "        index_of_row_with_max_sum = index_\n",
    "\n",
    "print(f\"Index of the Row with max sum: {index_of_row_with_max_sum}\")\n"
   ]
  },
  {
   "cell_type": "markdown",
   "metadata": {},
   "source": [
    "### Random shuffling a matrices values (for example)"
   ]
  },
  {
   "cell_type": "code",
   "execution_count": null,
   "metadata": {},
   "outputs": [],
   "source": [
    "import random\n",
    "matrix = [[1, 2, 3], [4, 5, 6], [7, 8, 9]]  \n",
    "\n",
    "for row in range(0, len(matrix)):\n",
    "  \tfor column in range(0, len(matrix[row])): \n",
    "         i = random.randrange(0, len(matrix))\n",
    "         j = random.randrange(0, len(matrix[row]))\n",
    "         # Swap matrix[row][column] with matrix[i][j]\n",
    "         matrix[row][column], matrix[i][j] = \\\n",
    "             matrix[i][j], matrix[row][column]\n",
    "\n",
    "print(matrix)    \n"
   ]
  },
  {
   "cell_type": "code",
   "execution_count": null,
   "metadata": {},
   "outputs": [],
   "source": []
  },
  {
   "cell_type": "code",
   "execution_count": null,
   "metadata": {},
   "outputs": [],
   "source": []
  },
  {
   "cell_type": "code",
   "execution_count": null,
   "metadata": {},
   "outputs": [],
   "source": []
  },
  {
   "cell_type": "code",
   "execution_count": null,
   "metadata": {},
   "outputs": [],
   "source": []
  },
  {
   "cell_type": "code",
   "execution_count": null,
   "metadata": {},
   "outputs": [],
   "source": []
  },
  {
   "cell_type": "code",
   "execution_count": null,
   "metadata": {},
   "outputs": [],
   "source": []
  },
  {
   "cell_type": "code",
   "execution_count": null,
   "metadata": {},
   "outputs": [],
   "source": [
    "# TASK:\n",
    "# Write code to randomly create a matrix (2-d list)\n",
    "# based on the following start-point: \n",
    "import random\n",
    "rows = 3            #just giving an idea...\n",
    "cols = 3\n",
    "\n",
    "                    #just giving another idea\n",
    "test_list = []\n",
    "test_list.append( random.randint(0, 100))\n",
    "test_list.append( random.randint(0, 100))\n",
    "test_list.append( random.randint(0, 100))\n",
    "\n",
    "print(test_list)\n",
    "\n"
   ]
  }
 ],
 "metadata": {
  "kernelspec": {
   "display_name": "Python 3",
   "language": "python",
   "name": "python3"
  },
  "language_info": {
   "codemirror_mode": {
    "name": "ipython",
    "version": 3
   },
   "file_extension": ".py",
   "mimetype": "text/x-python",
   "name": "python",
   "nbconvert_exporter": "python",
   "pygments_lexer": "ipython3",
   "version": "3.11.4"
  }
 },
 "nbformat": 4,
 "nbformat_minor": 2
}
