{
 "cells": [
  {
   "cell_type": "code",
   "execution_count": null,
   "metadata": {},
   "outputs": [],
   "source": [
    "#Exceptions basics..."
   ]
  },
  {
   "cell_type": "code",
   "execution_count": null,
   "metadata": {},
   "outputs": [],
   "source": []
  },
  {
   "cell_type": "code",
   "execution_count": null,
   "metadata": {},
   "outputs": [],
   "source": [
    "#Some common errors...\n",
    "# E.g. a ValueError is when trying to take the root of a negative number:\n",
    "import math\n",
    "\n",
    "math.sqrt(-100)"
   ]
  },
  {
   "cell_type": "code",
   "execution_count": null,
   "metadata": {},
   "outputs": [],
   "source": [
    "#  ZeroDivisionError in the very common case of dividing by zero:\n",
    "n = int( input(\"Enter a number to divide by: \") )#type a zero\n",
    "3 / n"
   ]
  },
  {
   "cell_type": "code",
   "execution_count": null,
   "metadata": {},
   "outputs": [],
   "source": [
    "# TypeError operant :int and :str\n",
    "2 + \"3\""
   ]
  },
  {
   "cell_type": "code",
   "execution_count": null,
   "metadata": {},
   "outputs": [],
   "source": [
    "# Exception handeling 1 - a try: block\n",
    "try:\n",
    "    number1 = int(input(\"Enter a number: \"))\n",
    "    number2 = int(input(\"Enter another number: \"))\n",
    "    result = number1 * number2\n",
    "    print(\"Result:\", result)\n",
    "\n",
    "except ValueError:                        # an except only:\n",
    "    print(\"numbers need to be integer!\")\n",
    "     \n",
    "\n",
    "print(\"program continues\")"
   ]
  },
  {
   "cell_type": "code",
   "execution_count": null,
   "metadata": {},
   "outputs": [],
   "source": [
    "try:\n",
    "    number1 = int(input(\"Enter a number: \"))\n",
    "    number2 = int(input(\"Enter another number: \"))\n",
    "    result = number1 * number2\n",
    "    print(\"Result:\", result)\n",
    "\n",
    "except ValueError as e:                   # using 'as' e\n",
    "    print(\"numbers need to be integer!\", e)\n",
    "     \n",
    "\n",
    "print(\"program continues\")"
   ]
  },
  {
   "cell_type": "code",
   "execution_count": null,
   "metadata": {},
   "outputs": [],
   "source": [
    "#Divison this time\n",
    "# adding a \"handler\" for ZeroDivision case\n",
    "try:\n",
    "    number1 = int(input(\"Enter a number: \"))\n",
    "    number2 = int(input(\"Enter another number: \"))\n",
    "    result = number1 / number2\n",
    "    print(\"Result:\", result)\n",
    "\n",
    "except ValueError as e:                   # using 'as' e\n",
    "    print(\"numbers need to be integer!\", e)\n",
    "except ZeroDivisionError as e:            # using 'as' e\n",
    "    print(\"numbers need to be integer!\", e)\n",
    "\n",
    "print(\"program continues\")"
   ]
  },
  {
   "cell_type": "code",
   "execution_count": null,
   "metadata": {},
   "outputs": [],
   "source": [
    "my_dict = {\"one\":\"uno\" , \"two\" : \"dos\"}\n",
    "\n",
    "try:\n",
    "    value = my_dict[\"three\"]\n",
    "    \n",
    "except KeyError as e:\n",
    "    print(f'KeyError : {e} is not a valid key in {my_dict}')\n",
    "\n",
    "print(\"program continues\")"
   ]
  },
  {
   "cell_type": "code",
   "execution_count": null,
   "metadata": {},
   "outputs": [],
   "source": [
    "\n",
    "def search_list(a_list, target):\n",
    "    try:\n",
    "        index = a_list.index(target)\n",
    "        return f\"Element {target} found at index {index}\"\n",
    "    except ValueError:\n",
    "        return ValueError(f\"Element {target} is not found in the list\")\n",
    "# Ttest    \n",
    "a_list = [1,2,3,4,5]\n",
    "print(search_in_list(a_list,3))\n",
    "print(search_in_list(a_list,10))"
   ]
  },
  {
   "cell_type": "code",
   "execution_count": null,
   "metadata": {},
   "outputs": [],
   "source": [
    "# age example:\n",
    "response = input(\"Please enter your age: \")\n",
    "\n",
    "try: \n",
    "    age = int(response)\n",
    "    print(f\"Next year you'll be {age + 1} years old\")   # If an exception was raised, this would not run\n",
    "except ValueError:                                      # Goes to matching except block \n",
    "    print(f\"Your response '{response}' was not a valid number\")\n",
    "\n",
    "print(f\"program continues: age does not exist: {age}\")"
   ]
  },
  {
   "cell_type": "code",
   "execution_count": null,
   "metadata": {},
   "outputs": [],
   "source": [
    "#Example of \"handling\"\n",
    "response = None\n",
    "while True:\n",
    "    try: \n",
    "        response = int(input(\"Please enter your age: \"))\n",
    "        break  # Only reach this 'break' if above line doesn't throw an exception\n",
    "    except ValueError:\n",
    "        print(\"Entered age not valid: whole number (e.g. 4, 21 etc.) needed\")\n",
    "\n",
    "\n",
    "print(f\"Next year you'll be {response + 1} years old\")  "
   ]
  },
  {
   "cell_type": "markdown",
   "metadata": {},
   "source": [
    "# The built-in exception hierarchy\n",
    "\n",
    "Python has a very large amount of such built-in Exception classes which usually suffice.\n",
    "Find a suitable on e and pick what describes your problem:\n",
    " ([Full documentation](https://docs.python.org/3/library/exceptions.html#exception-hierarchy)):"
   ]
  }
 ],
 "metadata": {
  "kernelspec": {
   "display_name": "Python 3",
   "language": "python",
   "name": "python3"
  },
  "language_info": {
   "codemirror_mode": {
    "name": "ipython",
    "version": 3
   },
   "file_extension": ".py",
   "mimetype": "text/x-python",
   "name": "python",
   "nbconvert_exporter": "python",
   "pygments_lexer": "ipython3",
   "version": "3.11.4"
  }
 },
 "nbformat": 4,
 "nbformat_minor": 2
}
