{
 "cells": [
  {
   "cell_type": "markdown",
   "metadata": {},
   "source": [
    "# Dict (Dictionary)\n",
    "\n",
    "Similar to actual dictionaries\n",
    "\n",
    "Dictionaries can be thought of as being composed of two lists combined – a list of keys and a list values:\n",
    "\n",
    "|   keys  |    values   |\n",
    "|:-------:|:-----------:|\n",
    "|   one   |     uno     |\n",
    "|   two   |     dos     |\n",
    "|  three  |    tres     |\n",
    "|  four   |   cuatro    |\n",
    "|  five   |   cinco     |\n"
   ]
  },
  {
   "cell_type": "code",
   "execution_count": null,
   "metadata": {},
   "outputs": [],
   "source": [
    "# Declare a list with English number words\n",
    "numbers = [\"one\", \"two\", \"three\", \"four\", \"five\"]\n",
    "\n",
    "# Declare a dictionary mapping English numbers to Spanish numbers\n",
    "spanish_numbers = {\n",
    "    \"one\": \"uno\",\n",
    "    \"two\": \"dos\",\n",
    "    \"three\": \"tres\",\n",
    "    \"four\": \"cuatro\",\n",
    "    \"five\": \"cinco\"\n",
    "}\n",
    "\n",
    "# Print the spanish_numbers_dict\n",
    "\n",
    "# Print the spanish for one\n"
   ]
  },
  {
   "cell_type": "code",
   "execution_count": null,
   "metadata": {},
   "outputs": [],
   "source": [
    "numbers = [\"one\", \"two\", \"three\", \"four\", \"five\"]\n",
    "print( numbers[0] )"
   ]
  },
  {
   "cell_type": "code",
   "execution_count": null,
   "metadata": {},
   "outputs": [],
   "source": []
  },
  {
   "cell_type": "code",
   "execution_count": null,
   "metadata": {},
   "outputs": [],
   "source": []
  },
  {
   "cell_type": "code",
   "execution_count": null,
   "metadata": {},
   "outputs": [],
   "source": []
  },
  {
   "cell_type": "code",
   "execution_count": null,
   "metadata": {},
   "outputs": [],
   "source": [
    "#  Dict: keys, values and items\n",
    "spanish_numbers = {\n",
    "    \"one\": \"uno\",\n",
    "    \"two\": \"dos\",\n",
    "    \"three\": \"tres\",\n",
    "    \"four\": \"cuatro\",\n",
    "    \"five\": \"cinco\"\n",
    "}\n",
    "\n",
    "print( spanish_numbers.keys() )"
   ]
  },
  {
   "cell_type": "code",
   "execution_count": null,
   "metadata": {},
   "outputs": [],
   "source": [
    "print( spanish_numbers.values() )"
   ]
  },
  {
   "cell_type": "code",
   "execution_count": null,
   "metadata": {},
   "outputs": [],
   "source": [
    "print( spanish_numbers.items() )"
   ]
  },
  {
   "cell_type": "code",
   "execution_count": null,
   "metadata": {},
   "outputs": [],
   "source": []
  },
  {
   "cell_type": "code",
   "execution_count": null,
   "metadata": {},
   "outputs": [],
   "source": []
  },
  {
   "cell_type": "code",
   "execution_count": null,
   "metadata": {},
   "outputs": [],
   "source": []
  },
  {
   "cell_type": "code",
   "execution_count": null,
   "metadata": {},
   "outputs": [],
   "source": []
  },
  {
   "cell_type": "code",
   "execution_count": null,
   "metadata": {},
   "outputs": [],
   "source": []
  },
  {
   "cell_type": "code",
   "execution_count": null,
   "metadata": {},
   "outputs": [],
   "source": [
    "# We can add new values by just assigning to them\n",
    "# NOTE: if the key already exists, the value will be overwritten\n",
    "spanish_numbers = {\n",
    "    \"one\": \"uno\",\n",
    "    \"two\": \"dos\",\n",
    "    \"three\": \"tres\",\n",
    "    \"four\": \"cuatro\",\n",
    "    \"five\": \"cinco\"\n",
    "}\n",
    "\n",
    "print(f\"before: {spanish_numbers}\")\n",
    "spanish_numbers[\"two\"] = \"dos actualizado\"      \n",
    "print(f\" after: {spanish_numbers}\")"
   ]
  },
  {
   "cell_type": "code",
   "execution_count": null,
   "metadata": {},
   "outputs": [],
   "source": []
  },
  {
   "cell_type": "code",
   "execution_count": null,
   "metadata": {},
   "outputs": [],
   "source": []
  },
  {
   "cell_type": "code",
   "execution_count": null,
   "metadata": {},
   "outputs": [],
   "source": []
  },
  {
   "cell_type": "code",
   "execution_count": null,
   "metadata": {},
   "outputs": [],
   "source": []
  },
  {
   "cell_type": "code",
   "execution_count": null,
   "metadata": {},
   "outputs": [],
   "source": []
  },
  {
   "cell_type": "code",
   "execution_count": null,
   "metadata": {},
   "outputs": [],
   "source": [
    "spanish_numbers = {\n",
    "    \"one\": \"uno\",\n",
    "    \"two\": \"dos\",\n",
    "    \"three\": \"tres\",\n",
    "    \"four\": \"cuatro\",\n",
    "    \"five\": \"cinco\"\n",
    "}\n",
    "\n",
    "print(f\"before: {spanish_numbers}\")\n",
    "spanish_numbers[\"six\"] = \"seis\"                 \n",
    "print(f\" after: {spanish_numbers}\")\n"
   ]
  },
  {
   "cell_type": "code",
   "execution_count": null,
   "metadata": {},
   "outputs": [],
   "source": []
  },
  {
   "cell_type": "code",
   "execution_count": null,
   "metadata": {},
   "outputs": [],
   "source": []
  },
  {
   "cell_type": "code",
   "execution_count": null,
   "metadata": {},
   "outputs": [],
   "source": []
  },
  {
   "cell_type": "code",
   "execution_count": null,
   "metadata": {},
   "outputs": [],
   "source": []
  },
  {
   "cell_type": "code",
   "execution_count": null,
   "metadata": {},
   "outputs": [],
   "source": []
  },
  {
   "cell_type": "code",
   "execution_count": null,
   "metadata": {},
   "outputs": [],
   "source": []
  },
  {
   "cell_type": "code",
   "execution_count": null,
   "metadata": {},
   "outputs": [],
   "source": [
    "spanish_numbers = {\n",
    "    \"one\": \"uno\",\n",
    "    \"two\": \"dos\",\n",
    "    \"three\": \"tres\",\n",
    "    \"four\": \"cuatro\",\n",
    "    \"five\": \"cinco\"\n",
    "}\n",
    "\n",
    "print(f\"before: {spanish_numbers}\")\n",
    "removed_value = spanish_numbers.pop(\"four\")     \n",
    "print(f\" after: {spanish_numbers}\")\n"
   ]
  },
  {
   "cell_type": "code",
   "execution_count": null,
   "metadata": {},
   "outputs": [],
   "source": [
    "print(removed_value)"
   ]
  },
  {
   "cell_type": "code",
   "execution_count": null,
   "metadata": {},
   "outputs": [],
   "source": []
  },
  {
   "cell_type": "code",
   "execution_count": null,
   "metadata": {},
   "outputs": [],
   "source": []
  },
  {
   "cell_type": "code",
   "execution_count": null,
   "metadata": {},
   "outputs": [],
   "source": []
  },
  {
   "cell_type": "code",
   "execution_count": null,
   "metadata": {},
   "outputs": [],
   "source": []
  },
  {
   "cell_type": "markdown",
   "metadata": {},
   "source": [
    "# Dictionary properties:\n",
    "\n",
    "- Values are mapped to keys\n",
    "- Values are accessed by their corresponding key\n",
    "- Key are unique and are immutable\n",
    "- Multiple keys can have the same values, values can be anything (including mutable types like lists) \n",
    "- Values cannot exist without a key"
   ]
  },
  {
   "cell_type": "code",
   "execution_count": null,
   "metadata": {},
   "outputs": [],
   "source": [
    "my_dict = {}\n",
    "\n",
    "a_list = [1,2,3]\n",
    "a_list.remove(2)   \n",
    "print(a_list)"
   ]
  },
  {
   "cell_type": "code",
   "execution_count": null,
   "metadata": {},
   "outputs": [],
   "source": [
    "my_dict = {}\n",
    "a_list = [1,2,3]\n",
    "\n",
    "my_dict[ a_list ] = \"one,two,three\"\n"
   ]
  },
  {
   "cell_type": "code",
   "execution_count": null,
   "metadata": {},
   "outputs": [],
   "source": []
  },
  {
   "cell_type": "code",
   "execution_count": null,
   "metadata": {},
   "outputs": [],
   "source": []
  },
  {
   "cell_type": "code",
   "execution_count": null,
   "metadata": {},
   "outputs": [],
   "source": []
  },
  {
   "cell_type": "code",
   "execution_count": null,
   "metadata": {},
   "outputs": [],
   "source": []
  },
  {
   "cell_type": "code",
   "execution_count": null,
   "metadata": {},
   "outputs": [],
   "source": [
    "# Note that trying to access a key that doesn't exist will raise an error:\n",
    "# spanish_numbers[\"eight\"]  # raises KeyError\n",
    "spanish_numbers = {\n",
    "    \"one\": \"uno\",\n",
    "    \"two\": \"dos\",\n",
    "    \"three\": \"tres\",\n",
    "    \"four\": \"cuatro\",\n",
    "    \"five\": \"cinco\"\n",
    "}\n",
    "\n",
    "# test = spanish_numbers[\"eight\"]   #uncomment and see error"
   ]
  },
  {
   "cell_type": "code",
   "execution_count": null,
   "metadata": {},
   "outputs": [],
   "source": [
    "# get('key') to prevent a KeyError....\n",
    "spanish_numbers = {\n",
    "    \"one\": \"uno\",\n",
    "    \"two\": \"dos\",\n",
    "    \"three\": \"tres\",\n",
    "    \"four\": \"cuatro\",\n",
    "    \"five\": \"cinco\"\n",
    "}\n",
    "\n",
    "# get('key')\n"
   ]
  },
  {
   "cell_type": "code",
   "execution_count": null,
   "metadata": {},
   "outputs": [],
   "source": [
    "#get('key', 'default'): default-value: value you want back in case it doesn't exist\n"
   ]
  },
  {
   "cell_type": "code",
   "execution_count": null,
   "metadata": {},
   "outputs": [],
   "source": []
  },
  {
   "cell_type": "code",
   "execution_count": null,
   "metadata": {},
   "outputs": [],
   "source": []
  },
  {
   "cell_type": "code",
   "execution_count": null,
   "metadata": {},
   "outputs": [],
   "source": [
    "# The dict `.get()` method can be used to prevent a key error\n",
    "#   by providing a default value in the case the key doesn't exist\n",
    "\n",
    "check = \"eight\"\n",
    "returned = spanish_numbers.get(\"eight\", \"unknown\") #no KeyError (crash)\n",
    "print( returned )"
   ]
  },
  {
   "cell_type": "code",
   "execution_count": null,
   "metadata": {},
   "outputs": [],
   "source": []
  },
  {
   "cell_type": "code",
   "execution_count": null,
   "metadata": {},
   "outputs": [],
   "source": []
  },
  {
   "cell_type": "code",
   "execution_count": null,
   "metadata": {},
   "outputs": [],
   "source": []
  },
  {
   "cell_type": "code",
   "execution_count": null,
   "metadata": {},
   "outputs": [],
   "source": []
  },
  {
   "cell_type": "code",
   "execution_count": null,
   "metadata": {},
   "outputs": [],
   "source": []
  },
  {
   "cell_type": "code",
   "execution_count": null,
   "metadata": {},
   "outputs": [],
   "source": []
  },
  {
   "cell_type": "code",
   "execution_count": null,
   "metadata": {},
   "outputs": [],
   "source": [
    "# If we use the `.get()` method without a default value ( it defaults to None)\n",
    "print(spanish_numbers.get(\"eight\"))\n"
   ]
  },
  {
   "cell_type": "markdown",
   "metadata": {},
   "source": [
    "#### creating dictionaries... example Lunar New Year"
   ]
  },
  {
   "cell_type": "code",
   "execution_count": null,
   "metadata": {},
   "outputs": [],
   "source": [
    "#Example:\n",
    "# e.g. two same length lists\n",
    "years = [2024, 2025, 2026, 2027, 2028, 2029, 2030, 2031, 2032, 2033, 2034, 2035]\n",
    "animals = ['Dragon', 'Snake', 'Horse', 'Goat', 'Monkey', 'Rooster', 'Dog', 'Pig', 'Rat', 'Ox', 'Tiger', 'Rabbit']\n",
    "\n",
    "# print( len(years), len(animals))  # will print 12, 12 (e.g. same length)\n",
    "\n",
    "\n",
    "# create a dict of lunar new years: year=>animal\n",
    "# _one_ way...\n",
    "\n",
    "animal_calendar = {}                 #create dict\n",
    "\n",
    "for i in range(len(years)):         #loop to fill\n",
    "    year    = years[i]\n",
    "    animal  = animals[i]\n",
    "\n",
    "    animal_calendar[year] = animal\n",
    "\n",
    "print(animal_calendar)"
   ]
  },
  {
   "cell_type": "code",
   "execution_count": null,
   "metadata": {},
   "outputs": [],
   "source": [
    "# it works...\n",
    "print (\"2023: the year of the : \", animal_calendar[2023])\n",
    "print (\"2028: the year of the : \", animal_calendar[2028])"
   ]
  },
  {
   "cell_type": "code",
   "execution_count": null,
   "metadata": {},
   "outputs": [],
   "source": []
  },
  {
   "cell_type": "code",
   "execution_count": null,
   "metadata": {},
   "outputs": [],
   "source": [
    "#another way:\n",
    "# part 1: zip\n",
    "years   = [2023, 2024, 2025, 2026, 2027, 2028, 2029, 2030, 2031, 2032, 2033, 2034]\n",
    "animals = ['Rabbit', 'Dragon','Snake','Horse', 'Goat', 'Monkey', 'Rooster', 'Dog', 'Pig', 'Rat', 'Ox', 'Tiger']\n",
    "\n",
    "# recap zip() function\n",
    "\n",
    "#zip\n",
    "\n",
    "#loop over zipped"
   ]
  },
  {
   "cell_type": "code",
   "execution_count": null,
   "metadata": {},
   "outputs": [],
   "source": [
    "#part 2: dict()\n",
    "print( type( {} ) )  #type of an empty dict"
   ]
  },
  {
   "cell_type": "code",
   "execution_count": null,
   "metadata": {},
   "outputs": [],
   "source": [
    "# exploring dict type with \n",
    "#  dir() and help()\n"
   ]
  },
  {
   "cell_type": "code",
   "execution_count": null,
   "metadata": {},
   "outputs": [],
   "source": [
    "my_dict = dict()\n",
    "print( my_dict, type(my_dict) )"
   ]
  },
  {
   "cell_type": "code",
   "execution_count": null,
   "metadata": {},
   "outputs": [],
   "source": [
    "# Using above...\n",
    "years   = [2023, 2024, 2025, 2026, 2027, 2028, 2029, 2030, 2031, 2032, 2033, 2034]\n",
    "animals = ['Rabbit', 'Dragon','Snake','Horse', 'Goat', 'Monkey', 'Rooster', 'Dog', 'Pig', 'Rat', 'Ox', 'Tiger']\n",
    "\n",
    "# using dict() and zip() combined\n"
   ]
  },
  {
   "cell_type": "code",
   "execution_count": null,
   "metadata": {},
   "outputs": [],
   "source": []
  },
  {
   "cell_type": "code",
   "execution_count": null,
   "metadata": {},
   "outputs": [],
   "source": []
  },
  {
   "cell_type": "code",
   "execution_count": null,
   "metadata": {},
   "outputs": [],
   "source": []
  },
  {
   "cell_type": "code",
   "execution_count": null,
   "metadata": {},
   "outputs": [],
   "source": []
  },
  {
   "cell_type": "code",
   "execution_count": null,
   "metadata": {},
   "outputs": [],
   "source": [
    "#the .update( :dict )\n",
    "animal_calendar = {2023: 'Rabbit', 2024: 'Dragon', 2025: 'Snake', 2026: 'Horse'} \n",
    "print(f\"before: {animal_calendar=}\")\n",
    "animal_calendar.update( {2027: 'Goat', 2028: 'Monkey', 2029: 'Rooster', 2030: 'Dog'} )\n",
    "print(f\" after: {animal_calendar=}\")"
   ]
  },
  {
   "cell_type": "code",
   "execution_count": null,
   "metadata": {},
   "outputs": [],
   "source": [
    "#the .update() - adding an entry with a single dict-item as a dict itself\n",
    "\n",
    "animal_calendar = {2023: 'Rabbit', 2024: 'Dragon', 2025: 'Snake', 2026: 'Horse'} \n",
    "animal_calendar.update( {2035 : 'Rabbit'} )\n",
    "\n",
    "print(animal_calendar)"
   ]
  },
  {
   "cell_type": "code",
   "execution_count": null,
   "metadata": {},
   "outputs": [],
   "source": []
  },
  {
   "cell_type": "code",
   "execution_count": null,
   "metadata": {},
   "outputs": [],
   "source": []
  },
  {
   "cell_type": "code",
   "execution_count": null,
   "metadata": {},
   "outputs": [],
   "source": [
    "# Example of .pop( ) on a Lunar New Year dict\n",
    "#\n",
    "animal_calendar = {2023: 'Rabbit', 2024: 'Dragon', 2025: 'Snake', 2026: 'Horse'} \n",
    "print(f\"before: {animal_calendar=}\")\n",
    "animal_calendar[ 2022 ] = 'Salmon'\n",
    "print(f\" after bad insert: {animal_calendar=}\")\n",
    "\n",
    "# print(\"\\n\\n\",'*'*50)\n",
    "# print(\"removing: joke value\")\n",
    "returned = animal_calendar.pop(2022)\n",
    "print(f\" after pop: {animal_calendar=}\")\n",
    "print ( returned )\n",
    "\n",
    "\n",
    "#TASK: \n",
    "#What else can we do:\n",
    "# dir(dict) # uncomment, run and explore with help(dict.popitem), for example"
   ]
  },
  {
   "cell_type": "code",
   "execution_count": null,
   "metadata": {},
   "outputs": [],
   "source": []
  },
  {
   "cell_type": "code",
   "execution_count": null,
   "metadata": {},
   "outputs": [],
   "source": [
    "# about dict and popitem()\n",
    "animal_calendar = {2023: 'Rabbit', 2024: 'Dragon', 2025: 'Snake', 2026: 'Horse'} \n",
    "\n",
    "print(len(animal_calendar))\n",
    "\n",
    "print( animal_calendar.popitem() )\n",
    "print( animal_calendar.popitem() )\n",
    "\n",
    "## See below link: for interest/knowledge: from Python 3.7\n",
    "##https://stackoverflow.com/questions/60848/how-do-you-retrieve-items-from-a-dictionary-in-the-order-that-theyre-inserted\n"
   ]
  },
  {
   "cell_type": "code",
   "execution_count": null,
   "metadata": {},
   "outputs": [],
   "source": []
  },
  {
   "cell_type": "code",
   "execution_count": null,
   "metadata": {},
   "outputs": [],
   "source": []
  },
  {
   "cell_type": "code",
   "execution_count": null,
   "metadata": {},
   "outputs": [],
   "source": []
  },
  {
   "cell_type": "code",
   "execution_count": null,
   "metadata": {},
   "outputs": [],
   "source": [
    "#A nicer print than the default with\n",
    "# for key, value ... items()\n",
    "\n",
    "lunar_new_year = {2023: 'Rabbit', 2024: 'Dragon', 2025: 'Snake', 2026: 'Horse'} \n",
    "\n",
    "for key, value in lunar_new_year.items():\n",
    "    print(f\"{key}: {value}\")\n",
    "\n",
    "#compare to print( dict ) output"
   ]
  },
  {
   "cell_type": "code",
   "execution_count": null,
   "metadata": {},
   "outputs": [],
   "source": []
  },
  {
   "cell_type": "code",
   "execution_count": null,
   "metadata": {},
   "outputs": [],
   "source": []
  },
  {
   "cell_type": "code",
   "execution_count": null,
   "metadata": {},
   "outputs": [],
   "source": []
  },
  {
   "cell_type": "code",
   "execution_count": null,
   "metadata": {},
   "outputs": [],
   "source": []
  },
  {
   "cell_type": "code",
   "execution_count": null,
   "metadata": {},
   "outputs": [],
   "source": []
  },
  {
   "cell_type": "code",
   "execution_count": null,
   "metadata": {},
   "outputs": [],
   "source": []
  },
  {
   "cell_type": "code",
   "execution_count": null,
   "metadata": {},
   "outputs": [],
   "source": []
  },
  {
   "cell_type": "code",
   "execution_count": null,
   "metadata": {},
   "outputs": [],
   "source": [
    "#What else can we do:\n",
    "# dir(dict) # uncomment, run and explore with help(dict.fromkeys), for example\n",
    "dir(dict)\n",
    "help(dict.fromkeys)"
   ]
  },
  {
   "cell_type": "code",
   "execution_count": null,
   "metadata": {},
   "outputs": [],
   "source": [
    "# Example: part1: string\n",
    "import string\n",
    "# dir(string)\n",
    "print( string.ascii_lowercase )"
   ]
  },
  {
   "cell_type": "code",
   "execution_count": null,
   "metadata": {},
   "outputs": [],
   "source": [
    "# Example: part2: dict.fromkeys()\n",
    "a_list = [1,2,3]\n",
    "result = dict.fromkeys(a_list, 0)\n",
    "print(result)"
   ]
  },
  {
   "cell_type": "code",
   "execution_count": null,
   "metadata": {},
   "outputs": [],
   "source": [
    "# TASK:\n",
    "# Example: count of all letters in a text\n",
    "import string\n",
    "\n",
    "#create a dict with \n",
    "#   a) all letters of alphabet as keys\n",
    "#   b) values set to zero for each\n",
    "\n",
    "# sample text\n",
    "text = \"abba ace\"\n",
    "\n",
    "#use the dict to store a count of\n",
    "#   all letters in the text\n",
    "\n"
   ]
  },
  {
   "cell_type": "code",
   "execution_count": null,
   "metadata": {},
   "outputs": [],
   "source": []
  },
  {
   "cell_type": "code",
   "execution_count": null,
   "metadata": {},
   "outputs": [],
   "source": []
  },
  {
   "cell_type": "code",
   "execution_count": null,
   "metadata": {},
   "outputs": [],
   "source": []
  },
  {
   "cell_type": "code",
   "execution_count": null,
   "metadata": {},
   "outputs": [],
   "source": []
  },
  {
   "cell_type": "code",
   "execution_count": null,
   "metadata": {},
   "outputs": [],
   "source": []
  },
  {
   "cell_type": "code",
   "execution_count": null,
   "metadata": {},
   "outputs": [],
   "source": []
  },
  {
   "cell_type": "code",
   "execution_count": null,
   "metadata": {},
   "outputs": [],
   "source": [
    "#CHALLENGE:\n",
    "# Imagine dict of questions/answers\n",
    "\"\"\" \n",
    "{\n",
    "        questions:\n",
    "            \"question\" : \"answer\",\n",
    "            \"question\" : \"answer\",\n",
    "        invalidQuestions: \n",
    "            \"question\" : \"answer\",\n",
    "            \"question\" : \"answer\",      \n",
    "    }\n",
    "\"\"\"\n",
    "\n",
    "question_bank = {\n",
    "             \"questions\": { \"q1\":\"q1answer\",   \"q2\":\"q2answer\" }\n",
    "    ,\"invalid_questions\": {\"eq1\":\"eq1answer\", \"eq2\":\"eq2answer\" }\n",
    "}\n",
    "\n",
    "\n",
    "# how to add to questions / invalid-questions..."
   ]
  },
  {
   "cell_type": "code",
   "execution_count": null,
   "metadata": {},
   "outputs": [],
   "source": []
  },
  {
   "cell_type": "markdown",
   "metadata": {},
   "source": [
    "# Sets\n",
    "Sets are like lists, but where the order doesn't matter.\n",
    "\n",
    "Without order, we cannot index or slice a set at all.\n",
    "\n",
    "This also means there cannot be duplicates - adding the same value a second time will be ignored."
   ]
  },
  {
   "cell_type": "code",
   "execution_count": null,
   "metadata": {},
   "outputs": [],
   "source": [
    "nums = [1, 3, 5, 2, 3, 5, 1, 6]\n",
    "num_set = set(nums)\n",
    "print(num_set)"
   ]
  },
  {
   "cell_type": "code",
   "execution_count": null,
   "metadata": {},
   "outputs": [],
   "source": [
    "#another way using '{' and '}'"
   ]
  },
  {
   "cell_type": "code",
   "execution_count": null,
   "metadata": {},
   "outputs": [],
   "source": [
    "#try indexing..."
   ]
  },
  {
   "cell_type": "code",
   "execution_count": null,
   "metadata": {},
   "outputs": [],
   "source": [
    "# dir(set)\n",
    "# help(set.remove)\n",
    "# help(set.pop)"
   ]
  },
  {
   "cell_type": "code",
   "execution_count": null,
   "metadata": {},
   "outputs": [],
   "source": [
    "# what does remove return\n",
    "\n"
   ]
  },
  {
   "cell_type": "code",
   "execution_count": null,
   "metadata": {},
   "outputs": [],
   "source": [
    "#what does pop return\n",
    "\n"
   ]
  },
  {
   "cell_type": "code",
   "execution_count": null,
   "metadata": {},
   "outputs": [],
   "source": []
  },
  {
   "cell_type": "code",
   "execution_count": 20,
   "metadata": {},
   "outputs": [
    {
     "name": "stdout",
     "output_type": "stream",
     "text": [
      "1\n",
      "2\n",
      "3\n",
      "5\n",
      "6\n"
     ]
    }
   ],
   "source": [
    "nums = [1, 3, 5, 2, 3, 5, 1, 6]\n",
    "num_set = set(nums)\n",
    "\n",
    "\n",
    "while len(num_set) > 0:\n",
    "    popped = num_set.pop()\n",
    "    print(popped)\n"
   ]
  },
  {
   "cell_type": "code",
   "execution_count": null,
   "metadata": {},
   "outputs": [],
   "source": []
  },
  {
   "cell_type": "code",
   "execution_count": null,
   "metadata": {},
   "outputs": [],
   "source": []
  },
  {
   "cell_type": "code",
   "execution_count": null,
   "metadata": {},
   "outputs": [],
   "source": []
  },
  {
   "cell_type": "code",
   "execution_count": null,
   "metadata": {},
   "outputs": [],
   "source": []
  },
  {
   "cell_type": "code",
   "execution_count": null,
   "metadata": {},
   "outputs": [],
   "source": []
  },
  {
   "cell_type": "code",
   "execution_count": null,
   "metadata": {},
   "outputs": [],
   "source": []
  },
  {
   "cell_type": "code",
   "execution_count": null,
   "metadata": {},
   "outputs": [],
   "source": [
    "some_text = \"Under the shade of the willow tree.\"\n",
    "set_text = set(some_text)\n",
    "print( set_text )"
   ]
  },
  {
   "cell_type": "code",
   "execution_count": null,
   "metadata": {},
   "outputs": [],
   "source": []
  },
  {
   "cell_type": "code",
   "execution_count": null,
   "metadata": {},
   "outputs": [],
   "source": []
  },
  {
   "cell_type": "code",
   "execution_count": null,
   "metadata": {},
   "outputs": [],
   "source": []
  },
  {
   "cell_type": "code",
   "execution_count": null,
   "metadata": {},
   "outputs": [],
   "source": []
  },
  {
   "cell_type": "code",
   "execution_count": null,
   "metadata": {},
   "outputs": [],
   "source": []
  },
  {
   "cell_type": "code",
   "execution_count": null,
   "metadata": {},
   "outputs": [],
   "source": [
    "# We create sets similarly to lists, but with curly braces (just like dicts):\n",
    "fruits = {\"apple\", \"banana\", \"apricot\"}\n",
    "\n",
    "# We can add an item with `.add()`:\n",
    "fruits.add(\"mango\")\n",
    "print(fruits)\n",
    "\n"
   ]
  },
  {
   "cell_type": "code",
   "execution_count": null,
   "metadata": {},
   "outputs": [],
   "source": [
    "# Quiz - what would happen if we repeat this?\n",
    "print(fruits)\n",
    "fruits.add(\"mango\")\n",
    "print(fruits)"
   ]
  },
  {
   "cell_type": "code",
   "execution_count": null,
   "metadata": {},
   "outputs": [],
   "source": []
  },
  {
   "cell_type": "code",
   "execution_count": null,
   "metadata": {},
   "outputs": [],
   "source": []
  },
  {
   "cell_type": "code",
   "execution_count": null,
   "metadata": {},
   "outputs": [],
   "source": []
  },
  {
   "cell_type": "code",
   "execution_count": null,
   "metadata": {},
   "outputs": [],
   "source": []
  },
  {
   "cell_type": "code",
   "execution_count": null,
   "metadata": {},
   "outputs": [],
   "source": []
  },
  {
   "cell_type": "code",
   "execution_count": null,
   "metadata": {},
   "outputs": [],
   "source": []
  },
  {
   "cell_type": "code",
   "execution_count": null,
   "metadata": {},
   "outputs": [],
   "source": [
    "# We can remove an item with `.remove()`\n",
    "fruits = {\"apple\", \"banana\", \"apricot\", \"mango\"}\n",
    "\n",
    "fruits.remove(\"mango\")\n",
    "# print( fruits.remove(\"mango\") )  #returns None\n",
    "\n",
    "print(fruits)\n",
    "\n"
   ]
  },
  {
   "cell_type": "code",
   "execution_count": null,
   "metadata": {},
   "outputs": [],
   "source": []
  },
  {
   "cell_type": "code",
   "execution_count": null,
   "metadata": {},
   "outputs": [],
   "source": []
  },
  {
   "cell_type": "code",
   "execution_count": null,
   "metadata": {},
   "outputs": [],
   "source": []
  },
  {
   "cell_type": "markdown",
   "metadata": {},
   "source": [
    "#### `.remove()` VS `.discard()` "
   ]
  },
  {
   "cell_type": "code",
   "execution_count": null,
   "metadata": {},
   "outputs": [],
   "source": [
    "#Compare .remove()\n",
    "fruits = {\"apple\", \"banana\", \"apricot\"}\n",
    "# fruits.remove(\"mango\")\n"
   ]
  },
  {
   "cell_type": "code",
   "execution_count": null,
   "metadata": {},
   "outputs": [],
   "source": [
    "# with .discard() \n",
    "fruits = {\"apple\", \"banana\", \"apricot\"}\n",
    "fruits.discard(\"mango\") #no key error"
   ]
  },
  {
   "cell_type": "code",
   "execution_count": 21,
   "metadata": {},
   "outputs": [
    {
     "name": "stdout",
     "output_type": "stream",
     "text": [
      "Help on method_descriptor:\n",
      "\n",
      "discard(...)\n",
      "    Remove an element from a set if it is a member.\n",
      "    \n",
      "    Unlike set.remove(), the discard() method does not raise\n",
      "    an exception when an element is missing from the set.\n",
      "\n"
     ]
    }
   ],
   "source": [
    "# do a help(set.discard) and a help(set.remove)\n",
    "# help(set.discard)\n",
    "# help(set.remove)"
   ]
  },
  {
   "cell_type": "code",
   "execution_count": null,
   "metadata": {},
   "outputs": [],
   "source": []
  },
  {
   "cell_type": "code",
   "execution_count": null,
   "metadata": {},
   "outputs": [],
   "source": []
  },
  {
   "cell_type": "code",
   "execution_count": null,
   "metadata": {},
   "outputs": [],
   "source": []
  },
  {
   "cell_type": "markdown",
   "metadata": {},
   "source": [
    "#### set membership with `in`"
   ]
  },
  {
   "cell_type": "code",
   "execution_count": null,
   "metadata": {},
   "outputs": [],
   "source": [
    "# 'membership' of a set with `in`\n",
    "# a set: 'fruits'\n",
    "fruits = {\"apple\", \"orange\", \"banana\", \"grape\"}\n",
    "\n",
    "# Check if \"apple\" and \"cucumber\" are in the set\n",
    "print(   \"apple\" in fruits)     # True\n",
    "print(\"cucumber\" in fruits)     # False\n"
   ]
  },
  {
   "cell_type": "code",
   "execution_count": null,
   "metadata": {},
   "outputs": [],
   "source": []
  },
  {
   "cell_type": "code",
   "execution_count": null,
   "metadata": {},
   "outputs": [],
   "source": []
  },
  {
   "cell_type": "code",
   "execution_count": null,
   "metadata": {},
   "outputs": [],
   "source": []
  },
  {
   "cell_type": "code",
   "execution_count": null,
   "metadata": {},
   "outputs": [],
   "source": []
  },
  {
   "cell_type": "markdown",
   "metadata": {},
   "source": [
    "#### set `update()` with another set or iterable"
   ]
  },
  {
   "cell_type": "code",
   "execution_count": null,
   "metadata": {},
   "outputs": [],
   "source": [
    "x = {1,2,3,4}\n",
    "y = {2,4,6,8}\n",
    "print(\".update() updates the current set adding <no-duplicates> \")\n",
    "x.update(y)\n",
    "print(x)"
   ]
  },
  {
   "cell_type": "code",
   "execution_count": null,
   "metadata": {},
   "outputs": [],
   "source": [
    "# Also works with any other iterable.\n",
    "x = {1,2,3,4}\n",
    "x.update(\"abcd\")\n",
    "print(x)"
   ]
  },
  {
   "cell_type": "code",
   "execution_count": null,
   "metadata": {},
   "outputs": [],
   "source": []
  },
  {
   "cell_type": "code",
   "execution_count": null,
   "metadata": {},
   "outputs": [],
   "source": []
  },
  {
   "cell_type": "code",
   "execution_count": null,
   "metadata": {},
   "outputs": [],
   "source": []
  },
  {
   "cell_type": "markdown",
   "metadata": {},
   "source": [
    "#### union and intersection with `|` and `&`\n",
    "> but do a `dir(set)` also"
   ]
  },
  {
   "cell_type": "code",
   "execution_count": null,
   "metadata": {},
   "outputs": [],
   "source": [
    "# Sets in Python are modelled after sets in maths, and support the union and intersection operations:\n",
    "small_integers = {1, 2, 3, 4}\n",
    "even_integers  = {2, 4, 6, 8}\n",
    "\n",
    "union = small_integers | even_integers  # Note the pipe symbol\n",
    "print(union)  # The union is the set of elements in EITHER of the two original sets\n",
    "\n",
    "intersection = small_integers & even_integers  # Note the ampersand (and) symbol\n",
    "print(intersection)  # The intersection is the set of elements in BOTh of the two original sets"
   ]
  },
  {
   "cell_type": "code",
   "execution_count": null,
   "metadata": {},
   "outputs": [],
   "source": [
    "# dir(set)"
   ]
  },
  {
   "cell_type": "code",
   "execution_count": null,
   "metadata": {},
   "outputs": [],
   "source": [
    "#What else can we do:\n",
    "# dir(set) # uncomment, run and explore with help(set.update), for example"
   ]
  },
  {
   "cell_type": "code",
   "execution_count": null,
   "metadata": {},
   "outputs": [],
   "source": []
  },
  {
   "cell_type": "code",
   "execution_count": null,
   "metadata": {},
   "outputs": [],
   "source": []
  },
  {
   "cell_type": "code",
   "execution_count": null,
   "metadata": {},
   "outputs": [],
   "source": []
  },
  {
   "cell_type": "code",
   "execution_count": null,
   "metadata": {},
   "outputs": [],
   "source": []
  },
  {
   "cell_type": "code",
   "execution_count": null,
   "metadata": {},
   "outputs": [],
   "source": []
  }
 ],
 "metadata": {
  "kernelspec": {
   "display_name": "Python 3",
   "language": "python",
   "name": "python3"
  },
  "language_info": {
   "codemirror_mode": {
    "name": "ipython",
    "version": 3
   },
   "file_extension": ".py",
   "mimetype": "text/x-python",
   "name": "python",
   "nbconvert_exporter": "python",
   "pygments_lexer": "ipython3",
   "version": "3.11.4"
  }
 },
 "nbformat": 4,
 "nbformat_minor": 2
}
